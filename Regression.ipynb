{
 "cells": [
  {
   "cell_type": "code",
   "execution_count": 1,
   "metadata": {},
   "outputs": [],
   "source": [
    "try:\n",
    "  import google.colab\n",
    "  IN_COLAB = True\n",
    "except:\n",
    "  IN_COLAB = False\n",
    "\n",
    "if IN_COLAB :\n",
    "    from google.colab import drive\n",
    "    drive.mount('/content/drive')\n",
    "    \n",
    "if IN_COLAB :\n",
    "  Dataset_path = \"/content/drive/MyDrive/Colab Notebooks/DataSets/\"\n",
    "else :\n",
    "  Dataset_path = \"./DataSets/\"\n",
    "\n",
    "ml_path = Dataset_path + \"ml-latest/\""
   ]
  },
  {
   "cell_type": "code",
   "execution_count": 3,
   "metadata": {},
   "outputs": [],
   "source": [
    "import pandas as pd\n",
    "import numpy as np \n",
    "import matplotlib.pyplot as plt\n",
    "import sklearn\n",
    "\n",
    "from sklearn.model_selection import train_test_split\n",
    "from sklearn.metrics import mean_squared_error\n",
    "from math import sqrt\n",
    "\n",
    "from sklearn.linear_model import LogisticRegression\n",
    "from sklearn.linear_model import PoissonRegressor\n",
    "from sklearn.linear_model import LinearRegression\n",
    "\n",
    "from sklearn.metrics import mean_squared_error,mean_absolute_error"
   ]
  },
  {
   "cell_type": "code",
   "execution_count": 4,
   "metadata": {},
   "outputs": [],
   "source": [
    "Movies_metadata = pd.read_csv(Dataset_path+\"Movies_metadata.csv\")\n",
    "Movies_Info = pd.read_csv(Dataset_path+\"MoviesInfo.csv\")"
   ]
  },
  {
   "cell_type": "code",
   "execution_count": 5,
   "metadata": {},
   "outputs": [
    {
     "data": {
      "text/plain": [
       "Index(['budget', 'usa_gross_income', 'worlwide_gross_income', 'metascore',\n",
       "       'reviews_from_users', 'reviews_from_critics', 'director_r', 'votes',\n",
       "       'genres', 'mean_vote', 'original_title', 'date_published', 'duration',\n",
       "       'genre', 'production_company', 'actors', 'avg_vote', 'movieId',\n",
       "       'description', 'language', 'country', 'total_votes', 'title', 'year',\n",
       "       'imdb_title_id', 'writer', 'EU', 'AS', 'NA', 'AF', 'AN', 'SA', 'OC',\n",
       "       'idk', 'English', 'French', 'Italian', 'German', 'Spanish', 'Russian',\n",
       "       'Other', 'Comedy', 'Romance', 'Drama', 'Adventure', 'Children',\n",
       "       'Action', 'Horror', 'Animation', 'Crime', 'Thriller', 'Mystery',\n",
       "       'Sci-Fi', 'Fantasy', 'IMAX', 'Documentary', 'War', 'Musical', 'Western',\n",
       "       'Film-Noir', '(no genres listed)'],\n",
       "      dtype='object')"
      ]
     },
     "execution_count": 5,
     "metadata": {},
     "output_type": "execute_result"
    }
   ],
   "source": [
    "Movies_metadata.columns"
   ]
  },
  {
   "cell_type": "code",
   "execution_count": 6,
   "metadata": {},
   "outputs": [],
   "source": [
    "newdata =  Movies_metadata.drop(['genre', 'production_company', 'actors', 'avg_vote',\n",
    "       'description', 'language', 'country', 'total_votes', 'title',\n",
    "       'imdb_title_id', 'writer','original_title' , 'genres','votes', 'date_published' , 'mean_vote'],axis=1)\n",
    "newdata = pd.merge(newdata,Movies_Info[['movieId' , 'mean_vote']] )"
   ]
  },
  {
   "cell_type": "code",
   "execution_count": 7,
   "metadata": {
    "scrolled": false
   },
   "outputs": [
    {
     "data": {
      "text/plain": [
       "count    39470.000000\n",
       "mean         6.341269\n",
       "std          1.021569\n",
       "min          1.700000\n",
       "25%          5.800000\n",
       "50%          6.500000\n",
       "75%          7.100000\n",
       "max          9.400000\n",
       "Name: mean_vote, dtype: float64"
      ]
     },
     "execution_count": 7,
     "metadata": {},
     "output_type": "execute_result"
    }
   ],
   "source": [
    "newdata['mean_vote'].describe()"
   ]
  },
  {
   "cell_type": "code",
   "execution_count": 8,
   "metadata": {},
   "outputs": [],
   "source": [
    "pd.options.mode.chained_assignment = None\n",
    "\n",
    "newdata['mean_vote_class'] = 0\n",
    "newdata['mean_vote_class'][newdata['mean_vote']>=6.5] = 1\n",
    "newdata['mean_vote_class'][newdata['mean_vote']<6.5] = 0"
   ]
  },
  {
   "cell_type": "code",
   "execution_count": 9,
   "metadata": {},
   "outputs": [
    {
     "data": {
      "image/png": "[encoded data removed]",
      "text/plain": [
       "<Figure size 432x288 with 1 Axes>"
      ]
     },
     "metadata": {
      "needs_background": "light"
     },
     "output_type": "display_data"
    }
   ],
   "source": [
    "plt.hist(newdata['mean_vote_class'])\n",
    "plt.show()"
   ]
  },
  {
   "cell_type": "code",
   "execution_count": 10,
   "metadata": {},
   "outputs": [
    {
     "data": {
      "text/plain": [
       "array([0.20117544, 0.17365936, 0.09447669, 0.08128914])"
      ]
     },
     "execution_count": 10,
     "metadata": {},
     "output_type": "execute_result"
    }
   ],
   "source": [
    "#from sklearn.decomposition import PCA\n",
    "#pca01 = PCA(n_components = 4)\n",
    "#principlecomp_train = pca01.fit_transform(newdata.drop(['movieId','mean_vote','mean_vote_class'],axis=1))\n",
    "#pca01.explained_variance_ratio_"
   ]
  },
  {
   "cell_type": "code",
   "execution_count": null,
   "metadata": {},
   "outputs": [],
   "source": []
  },
  {
   "cell_type": "markdown",
   "metadata": {},
   "source": [
    "### Regression on  mean_vote_class"
   ]
  },
  {
   "cell_type": "code",
   "execution_count": 11,
   "metadata": {},
   "outputs": [],
   "source": [
    "target = newdata['mean_vote_class'] \n",
    "predictors = newdata.drop(['mean_vote','mean_vote_class','movieId'],axis=1)\n",
    "\n",
    "X_train, X_test, y_train, y_test = train_test_split(predictors, target, test_size=0.30, random_state=40)"
   ]
  },
  {
   "cell_type": "code",
   "execution_count": 12,
   "metadata": {},
   "outputs": [
    {
     "name": "stderr",
     "output_type": "stream",
     "text": [
      "C:\\Users\\PJ\\anaconda3\\lib\\site-packages\\sklearn\\linear_model\\_logistic.py:762: ConvergenceWarning: lbfgs failed to converge (status=1):\n",
      "STOP: TOTAL NO. of ITERATIONS REACHED LIMIT.\n",
      "\n",
      "Increase the number of iterations (max_iter) or scale the data as shown in:\n",
      "    https://scikit-learn.org/stable/modules/preprocessing.html\n",
      "Please also refer to the documentation for alternative solver options:\n",
      "    https://scikit-learn.org/stable/modules/linear_model.html#logistic-regression\n",
      "  n_iter_i = _check_optimize_result(\n"
     ]
    }
   ],
   "source": [
    "model01 = LogisticRegression().fit(X_train,y_train)"
   ]
  },
  {
   "cell_type": "code",
   "execution_count": 13,
   "metadata": {},
   "outputs": [],
   "source": [
    "y_pred01 = model01.predict(X_test)"
   ]
  },
  {
   "cell_type": "code",
   "execution_count": 14,
   "metadata": {},
   "outputs": [
    {
     "name": "stdout",
     "output_type": "stream",
     "text": [
      "MSE: 0.24119584494552826\n",
      "MAE: 0.24119584494552826\n",
      "RMSE: 0.49111693612166163\n"
     ]
    }
   ],
   "source": [
    "print('MSE:',mean_squared_error(y_test, y_pred01))\n",
    "print('MAE:',mean_absolute_error(y_test, y_pred01))\n",
    "print('RMSE:',np.sqrt(mean_squared_error(y_test,y_pred01)))"
   ]
  },
  {
   "cell_type": "code",
   "execution_count": null,
   "metadata": {},
   "outputs": [],
   "source": []
  },
  {
   "cell_type": "markdown",
   "metadata": {},
   "source": [
    "### Regression on  mean_vote"
   ]
  },
  {
   "cell_type": "code",
   "execution_count": 15,
   "metadata": {},
   "outputs": [],
   "source": [
    "target = newdata['mean_vote'] \n",
    "predictors = newdata.drop(['mean_vote','mean_vote_class','movieId'],axis=1)\n",
    "\n",
    "X_train, X_test, y_train, y_test = train_test_split(predictors, target, test_size=0.30, random_state=40)"
   ]
  },
  {
   "cell_type": "markdown",
   "metadata": {},
   "source": [
    "### Poisson Regression"
   ]
  },
  {
   "cell_type": "code",
   "execution_count": 16,
   "metadata": {},
   "outputs": [],
   "source": [
    "model02 = PoissonRegressor().fit(X_train, y_train)"
   ]
  },
  {
   "cell_type": "code",
   "execution_count": 17,
   "metadata": {},
   "outputs": [],
   "source": [
    "y_pred02 = model02.predict(X_test)"
   ]
  },
  {
   "cell_type": "code",
   "execution_count": 18,
   "metadata": {},
   "outputs": [
    {
     "name": "stdout",
     "output_type": "stream",
     "text": [
      "MSE: 0.48511489852241113\n",
      "MAE: 0.5403645715051025\n",
      "RMSE: 0.6965019013056685\n"
     ]
    }
   ],
   "source": [
    "print('MSE:',mean_squared_error(y_test, y_pred02))\n",
    "print('MAE:',mean_absolute_error(y_test, y_pred02))\n",
    "print('RMSE:',np.sqrt(mean_squared_error(y_test,y_pred02)))"
   ]
  },
  {
   "cell_type": "code",
   "execution_count": null,
   "metadata": {},
   "outputs": [],
   "source": []
  },
  {
   "cell_type": "markdown",
   "metadata": {},
   "source": [
    "### Linear Regression"
   ]
  },
  {
   "cell_type": "code",
   "execution_count": 19,
   "metadata": {},
   "outputs": [],
   "source": [
    "model03 = LinearRegression().fit(X_train, y_train)"
   ]
  },
  {
   "cell_type": "code",
   "execution_count": 20,
   "metadata": {},
   "outputs": [],
   "source": [
    "y_pred03 = model03.predict(X_test)"
   ]
  },
  {
   "cell_type": "code",
   "execution_count": 21,
   "metadata": {},
   "outputs": [
    {
     "name": "stdout",
     "output_type": "stream",
     "text": [
      "MSE: 0.44350748301866033\n",
      "MAE: 0.5134234725564997\n",
      "RMSE: 0.665963574843745\n"
     ]
    }
   ],
   "source": [
    "print('MSE:',mean_squared_error(y_test, y_pred03))\n",
    "print('MAE:',mean_absolute_error(y_test, y_pred03))\n",
    "print('RMSE:',np.sqrt(mean_squared_error(y_test,y_pred03)))"
   ]
  },
  {
   "cell_type": "code",
   "execution_count": null,
   "metadata": {},
   "outputs": [],
   "source": []
  },
  {
   "cell_type": "markdown",
   "metadata": {},
   "source": [
    "### Generate Recommendation"
   ]
  },
  {
   "cell_type": "code",
   "execution_count": 26,
   "metadata": {},
   "outputs": [],
   "source": [
    "import difflib\n",
    "import random\n",
    "\n",
    "def get_Movie_info(Movie_id):\n",
    "    \n",
    "    \"\"\"\n",
    "    Returns some basic information about a Movie given the Movie id and the metadata dataframe.\n",
    "    \"\"\"\n",
    "    \n",
    "    Movie_info = Movies_metadata[Movies_metadata['movieId'] == int(Movie_id)][['movieId', 'genres', \n",
    "                                                            'title', 'original_title', 'year', 'duration']]\n",
    "    return Movie_info\n",
    "\n",
    "\n",
    "def generate_recommendation(model,movieid):\n",
    "    frames = pd.DataFrame()\n",
    "    \n",
    "    for i in movieid:\n",
    "        mask = newdata[newdata.movieId.isin([i])]\n",
    "        mvote = mask['mean_vote']\n",
    "        mask = mask.drop(['mean_vote','mean_vote_class','movieId'],axis=1)\n",
    "        rating = model.predict(mask)\n",
    "        tmp = get_Movie_info(i)\n",
    "        tmp['mean_vote'] = mvote\n",
    "        tmp['pred_mean'] = rating\n",
    "        frames = frames.append(tmp, ignore_index=True)\n",
    "    return frames\n",
    "#.sort_values('rating', ascending=False)"
   ]
  },
  {
   "cell_type": "code",
   "execution_count": 27,
   "metadata": {},
   "outputs": [
    {
     "data": {
      "text/html": [
       "<div>\n",
       "<style scoped>\n",
       "    .dataframe tbody tr th:only-of-type {\n",
       "        vertical-align: middle;\n",
       "    }\n",
       "\n",
       "    .dataframe tbody tr th {\n",
       "        vertical-align: top;\n",
       "    }\n",
       "\n",
       "    .dataframe thead th {\n",
       "        text-align: right;\n",
       "    }\n",
       "</style>\n",
       "<table border=\"1\" class=\"dataframe\">\n",
       "  <thead>\n",
       "    <tr style=\"text-align: right;\">\n",
       "      <th></th>\n",
       "      <th>movieId</th>\n",
       "      <th>genres</th>\n",
       "      <th>title</th>\n",
       "      <th>original_title</th>\n",
       "      <th>year</th>\n",
       "      <th>duration</th>\n",
       "      <th>mean_vote</th>\n",
       "      <th>pred_mean</th>\n",
       "    </tr>\n",
       "  </thead>\n",
       "  <tbody>\n",
       "    <tr>\n",
       "      <th>0</th>\n",
       "      <td>4</td>\n",
       "      <td>Comedy|Drama|Romance</td>\n",
       "      <td>Donne</td>\n",
       "      <td>Waiting to Exhale</td>\n",
       "      <td>0.194197</td>\n",
       "      <td>1.101678</td>\n",
       "      <td>6.2</td>\n",
       "      <td>1</td>\n",
       "    </tr>\n",
       "    <tr>\n",
       "      <th>1</th>\n",
       "      <td>7</td>\n",
       "      <td>Comedy|Romance</td>\n",
       "      <td>Sabrina</td>\n",
       "      <td>Sabrina</td>\n",
       "      <td>0.194197</td>\n",
       "      <td>1.243510</td>\n",
       "      <td>6.5</td>\n",
       "      <td>0</td>\n",
       "    </tr>\n",
       "    <tr>\n",
       "      <th>2</th>\n",
       "      <td>9</td>\n",
       "      <td>Action</td>\n",
       "      <td>A rischio della vita</td>\n",
       "      <td>Sudden Death</td>\n",
       "      <td>0.194197</td>\n",
       "      <td>0.487071</td>\n",
       "      <td>5.9</td>\n",
       "      <td>0</td>\n",
       "    </tr>\n",
       "    <tr>\n",
       "      <th>3</th>\n",
       "      <td>193843</td>\n",
       "      <td>Action|Drama|Thriller</td>\n",
       "      <td>Raazi</td>\n",
       "      <td>Raazi</td>\n",
       "      <td>1.124696</td>\n",
       "      <td>1.763561</td>\n",
       "      <td>7.8</td>\n",
       "      <td>1</td>\n",
       "    </tr>\n",
       "    <tr>\n",
       "      <th>4</th>\n",
       "      <td>193878</td>\n",
       "      <td>Comedy</td>\n",
       "      <td>Les tribulations d'une caissière</td>\n",
       "      <td>Les tribulations d'une caissière</td>\n",
       "      <td>0.841501</td>\n",
       "      <td>0.061575</td>\n",
       "      <td>5.4</td>\n",
       "      <td>0</td>\n",
       "    </tr>\n",
       "  </tbody>\n",
       "</table>\n",
       "</div>"
      ],
      "text/plain": [
       "   movieId                 genres                             title  \\\n",
       "0        4   Comedy|Drama|Romance                             Donne   \n",
       "1        7         Comedy|Romance                           Sabrina   \n",
       "2        9                 Action              A rischio della vita   \n",
       "3   193843  Action|Drama|Thriller                             Raazi   \n",
       "4   193878                 Comedy  Les tribulations d'une caissière   \n",
       "\n",
       "                     original_title      year  duration  mean_vote  pred_mean  \n",
       "0                 Waiting to Exhale  0.194197  1.101678        6.2          1  \n",
       "1                           Sabrina  0.194197  1.243510        6.5          0  \n",
       "2                      Sudden Death  0.194197  0.487071        5.9          0  \n",
       "3                             Raazi  1.124696  1.763561        7.8          1  \n",
       "4  Les tribulations d'une caissière  0.841501  0.061575        5.4          0  "
      ]
     },
     "execution_count": 27,
     "metadata": {},
     "output_type": "execute_result"
    }
   ],
   "source": [
    "generate_recommendation(model01,[4,7,9,193843,193878])"
   ]
  },
  {
   "cell_type": "code",
   "execution_count": 28,
   "metadata": {},
   "outputs": [
    {
     "data": {
      "text/html": [
       "<div>\n",
       "<style scoped>\n",
       "    .dataframe tbody tr th:only-of-type {\n",
       "        vertical-align: middle;\n",
       "    }\n",
       "\n",
       "    .dataframe tbody tr th {\n",
       "        vertical-align: top;\n",
       "    }\n",
       "\n",
       "    .dataframe thead th {\n",
       "        text-align: right;\n",
       "    }\n",
       "</style>\n",
       "<table border=\"1\" class=\"dataframe\">\n",
       "  <thead>\n",
       "    <tr style=\"text-align: right;\">\n",
       "      <th></th>\n",
       "      <th>movieId</th>\n",
       "      <th>genres</th>\n",
       "      <th>title</th>\n",
       "      <th>original_title</th>\n",
       "      <th>year</th>\n",
       "      <th>duration</th>\n",
       "      <th>mean_vote</th>\n",
       "      <th>pred_mean</th>\n",
       "    </tr>\n",
       "  </thead>\n",
       "  <tbody>\n",
       "    <tr>\n",
       "      <th>0</th>\n",
       "      <td>4</td>\n",
       "      <td>Comedy|Drama|Romance</td>\n",
       "      <td>Donne</td>\n",
       "      <td>Waiting to Exhale</td>\n",
       "      <td>0.194197</td>\n",
       "      <td>1.101678</td>\n",
       "      <td>6.2</td>\n",
       "      <td>6.660060</td>\n",
       "    </tr>\n",
       "    <tr>\n",
       "      <th>1</th>\n",
       "      <td>7</td>\n",
       "      <td>Comedy|Romance</td>\n",
       "      <td>Sabrina</td>\n",
       "      <td>Sabrina</td>\n",
       "      <td>0.194197</td>\n",
       "      <td>1.243510</td>\n",
       "      <td>6.5</td>\n",
       "      <td>6.521109</td>\n",
       "    </tr>\n",
       "    <tr>\n",
       "      <th>2</th>\n",
       "      <td>9</td>\n",
       "      <td>Action</td>\n",
       "      <td>A rischio della vita</td>\n",
       "      <td>Sudden Death</td>\n",
       "      <td>0.194197</td>\n",
       "      <td>0.487071</td>\n",
       "      <td>5.9</td>\n",
       "      <td>6.497379</td>\n",
       "    </tr>\n",
       "    <tr>\n",
       "      <th>3</th>\n",
       "      <td>193843</td>\n",
       "      <td>Action|Drama|Thriller</td>\n",
       "      <td>Raazi</td>\n",
       "      <td>Raazi</td>\n",
       "      <td>1.124696</td>\n",
       "      <td>1.763561</td>\n",
       "      <td>7.8</td>\n",
       "      <td>8.181444</td>\n",
       "    </tr>\n",
       "    <tr>\n",
       "      <th>4</th>\n",
       "      <td>193878</td>\n",
       "      <td>Comedy</td>\n",
       "      <td>Les tribulations d'une caissière</td>\n",
       "      <td>Les tribulations d'une caissière</td>\n",
       "      <td>0.841501</td>\n",
       "      <td>0.061575</td>\n",
       "      <td>5.4</td>\n",
       "      <td>6.293528</td>\n",
       "    </tr>\n",
       "  </tbody>\n",
       "</table>\n",
       "</div>"
      ],
      "text/plain": [
       "   movieId                 genres                             title  \\\n",
       "0        4   Comedy|Drama|Romance                             Donne   \n",
       "1        7         Comedy|Romance                           Sabrina   \n",
       "2        9                 Action              A rischio della vita   \n",
       "3   193843  Action|Drama|Thriller                             Raazi   \n",
       "4   193878                 Comedy  Les tribulations d'une caissière   \n",
       "\n",
       "                     original_title      year  duration  mean_vote  pred_mean  \n",
       "0                 Waiting to Exhale  0.194197  1.101678        6.2   6.660060  \n",
       "1                           Sabrina  0.194197  1.243510        6.5   6.521109  \n",
       "2                      Sudden Death  0.194197  0.487071        5.9   6.497379  \n",
       "3                             Raazi  1.124696  1.763561        7.8   8.181444  \n",
       "4  Les tribulations d'une caissière  0.841501  0.061575        5.4   6.293528  "
      ]
     },
     "execution_count": 28,
     "metadata": {},
     "output_type": "execute_result"
    }
   ],
   "source": [
    "generate_recommendation(model02,[4,7,9,193843,193878])"
   ]
  },
  {
   "cell_type": "code",
   "execution_count": 29,
   "metadata": {},
   "outputs": [
    {
     "data": {
      "text/html": [
       "<div>\n",
       "<style scoped>\n",
       "    .dataframe tbody tr th:only-of-type {\n",
       "        vertical-align: middle;\n",
       "    }\n",
       "\n",
       "    .dataframe tbody tr th {\n",
       "        vertical-align: top;\n",
       "    }\n",
       "\n",
       "    .dataframe thead th {\n",
       "        text-align: right;\n",
       "    }\n",
       "</style>\n",
       "<table border=\"1\" class=\"dataframe\">\n",
       "  <thead>\n",
       "    <tr style=\"text-align: right;\">\n",
       "      <th></th>\n",
       "      <th>movieId</th>\n",
       "      <th>genres</th>\n",
       "      <th>title</th>\n",
       "      <th>original_title</th>\n",
       "      <th>year</th>\n",
       "      <th>duration</th>\n",
       "      <th>mean_vote</th>\n",
       "      <th>pred_mean</th>\n",
       "    </tr>\n",
       "  </thead>\n",
       "  <tbody>\n",
       "    <tr>\n",
       "      <th>0</th>\n",
       "      <td>4</td>\n",
       "      <td>Comedy|Drama|Romance</td>\n",
       "      <td>Donne</td>\n",
       "      <td>Waiting to Exhale</td>\n",
       "      <td>0.194197</td>\n",
       "      <td>1.101678</td>\n",
       "      <td>6.2</td>\n",
       "      <td>6.544101</td>\n",
       "    </tr>\n",
       "    <tr>\n",
       "      <th>1</th>\n",
       "      <td>7</td>\n",
       "      <td>Comedy|Romance</td>\n",
       "      <td>Sabrina</td>\n",
       "      <td>Sabrina</td>\n",
       "      <td>0.194197</td>\n",
       "      <td>1.243510</td>\n",
       "      <td>6.5</td>\n",
       "      <td>6.393449</td>\n",
       "    </tr>\n",
       "    <tr>\n",
       "      <th>2</th>\n",
       "      <td>9</td>\n",
       "      <td>Action</td>\n",
       "      <td>A rischio della vita</td>\n",
       "      <td>Sudden Death</td>\n",
       "      <td>0.194197</td>\n",
       "      <td>0.487071</td>\n",
       "      <td>5.9</td>\n",
       "      <td>6.351709</td>\n",
       "    </tr>\n",
       "    <tr>\n",
       "      <th>3</th>\n",
       "      <td>193843</td>\n",
       "      <td>Action|Drama|Thriller</td>\n",
       "      <td>Raazi</td>\n",
       "      <td>Raazi</td>\n",
       "      <td>1.124696</td>\n",
       "      <td>1.763561</td>\n",
       "      <td>7.8</td>\n",
       "      <td>8.098255</td>\n",
       "    </tr>\n",
       "    <tr>\n",
       "      <th>4</th>\n",
       "      <td>193878</td>\n",
       "      <td>Comedy</td>\n",
       "      <td>Les tribulations d'une caissière</td>\n",
       "      <td>Les tribulations d'une caissière</td>\n",
       "      <td>0.841501</td>\n",
       "      <td>0.061575</td>\n",
       "      <td>5.4</td>\n",
       "      <td>6.275775</td>\n",
       "    </tr>\n",
       "  </tbody>\n",
       "</table>\n",
       "</div>"
      ],
      "text/plain": [
       "   movieId                 genres                             title  \\\n",
       "0        4   Comedy|Drama|Romance                             Donne   \n",
       "1        7         Comedy|Romance                           Sabrina   \n",
       "2        9                 Action              A rischio della vita   \n",
       "3   193843  Action|Drama|Thriller                             Raazi   \n",
       "4   193878                 Comedy  Les tribulations d'une caissière   \n",
       "\n",
       "                     original_title      year  duration  mean_vote  pred_mean  \n",
       "0                 Waiting to Exhale  0.194197  1.101678        6.2   6.544101  \n",
       "1                           Sabrina  0.194197  1.243510        6.5   6.393449  \n",
       "2                      Sudden Death  0.194197  0.487071        5.9   6.351709  \n",
       "3                             Raazi  1.124696  1.763561        7.8   8.098255  \n",
       "4  Les tribulations d'une caissière  0.841501  0.061575        5.4   6.275775  "
      ]
     },
     "execution_count": 29,
     "metadata": {},
     "output_type": "execute_result"
    }
   ],
   "source": [
    "generate_recommendation(model03,[4,7,9,193843,193878])"
   ]
  },
  {
   "cell_type": "code",
   "execution_count": null,
   "metadata": {},
   "outputs": [],
   "source": []
  },
  {
   "cell_type": "code",
   "execution_count": null,
   "metadata": {},
   "outputs": [],
   "source": []
  },
  {
   "cell_type": "code",
   "execution_count": null,
   "metadata": {},
   "outputs": [],
   "source": []
  }
 ],
 "metadata": {
  "kernelspec": {
   "display_name": "Python 3",
   "language": "python",
   "name": "python3"
  },
  "language_info": {
   "codemirror_mode": {
    "name": "ipython",
    "version": 3
   },
   "file_extension": ".py",
   "mimetype": "text/x-python",
   "name": "python",
   "nbconvert_exporter": "python",
   "pygments_lexer": "ipython3",
   "version": "3.8.3"
  }
 },
 "nbformat": 4,
 "nbformat_minor": 4
}
