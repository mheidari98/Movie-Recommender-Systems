{
 "cells": [
  {
   "cell_type": "code",
   "execution_count": 19,
   "metadata": {},
   "outputs": [],
   "source": [
    "import pandas as pd\n",
    "import numpy as np \n",
    "import matplotlib.pyplot as plt\n",
    "import sklearn\n",
    "\n",
    "from sklearn.model_selection import train_test_split\n",
    "from sklearn.metrics import mean_squared_error\n",
    "from math import sqrt\n",
    "\n",
    "from sklearn.linear_model import LogisticRegression\n",
    "from sklearn.linear_model import PoissonRegressor\n",
    "from sklearn.linear_model import LinearRegression\n",
    "\n",
    "from sklearn.metrics import mean_squared_error,mean_absolute_error"
   ]
  },
  {
   "cell_type": "code",
   "execution_count": 2,
   "metadata": {},
   "outputs": [],
   "source": [
    "Dataset_path = \"./DataSets/\"\n",
    "Movies_metadata = pd.read_csv(Dataset_path+\"MoviesInfo.csv\")\n",
    "ratings = pd.read_csv(Dataset_path+\"ml-latest/ratings.csv\")"
   ]
  },
  {
   "cell_type": "code",
   "execution_count": 3,
   "metadata": {},
   "outputs": [
    {
     "name": "stdout",
     "output_type": "stream",
     "text": [
      "<class 'pandas.core.frame.DataFrame'>\n",
      "RangeIndex: 41896 entries, 0 to 41895\n",
      "Data columns (total 26 columns):\n",
      " #   Column                 Non-Null Count  Dtype  \n",
      "---  ------                 --------------  -----  \n",
      " 0   movieId                41896 non-null  int64  \n",
      " 1   genres                 41896 non-null  object \n",
      " 2   imdb_title_id          41896 non-null  object \n",
      " 3   title                  41896 non-null  object \n",
      " 4   original_title         41896 non-null  object \n",
      " 5   year                   41896 non-null  int64  \n",
      " 6   date_published         41896 non-null  object \n",
      " 7   genre                  41896 non-null  object \n",
      " 8   duration               41896 non-null  int64  \n",
      " 9   country                41890 non-null  object \n",
      " 10  language               41648 non-null  object \n",
      " 11  director               41886 non-null  object \n",
      " 12  writer                 41621 non-null  object \n",
      " 13  production_company     40944 non-null  object \n",
      " 14  actors                 41877 non-null  object \n",
      " 15  description            41589 non-null  object \n",
      " 16  avg_vote               41896 non-null  float64\n",
      " 17  votes                  41896 non-null  int64  \n",
      " 18  budget                 15453 non-null  object \n",
      " 19  usa_gross_income       13291 non-null  object \n",
      " 20  worlwide_gross_income  19887 non-null  object \n",
      " 21  metascore              11596 non-null  float64\n",
      " 22  reviews_from_users     40728 non-null  float64\n",
      " 23  reviews_from_critics   40120 non-null  float64\n",
      " 24  mean_vote              41896 non-null  float64\n",
      " 25  total_votes            41896 non-null  int64  \n",
      "dtypes: float64(5), int64(5), object(16)\n",
      "memory usage: 8.3+ MB\n"
     ]
    }
   ],
   "source": [
    "Movies_metadata.info()"
   ]
  },
  {
   "cell_type": "code",
   "execution_count": 4,
   "metadata": {},
   "outputs": [
    {
     "data": {
      "text/plain": [
       "count    41896.000000\n",
       "mean         6.379342\n",
       "std          1.036597\n",
       "min          1.300000\n",
       "25%          5.800000\n",
       "50%          6.500000\n",
       "75%          7.100000\n",
       "max          9.400000\n",
       "Name: mean_vote, dtype: float64"
      ]
     },
     "execution_count": 4,
     "metadata": {},
     "output_type": "execute_result"
    }
   ],
   "source": [
    "Movies_metadata['mean_vote'].describe()"
   ]
  },
  {
   "cell_type": "code",
   "execution_count": 5,
   "metadata": {},
   "outputs": [
    {
     "name": "stdout",
     "output_type": "stream",
     "text": [
      "<class 'pandas.core.frame.DataFrame'>\n",
      "RangeIndex: 41896 entries, 0 to 41895\n",
      "Data columns (total 16 columns):\n",
      " #   Column                 Non-Null Count  Dtype \n",
      "---  ------                 --------------  ----- \n",
      " 0   genres                 41896 non-null  object\n",
      " 1   imdb_title_id          41896 non-null  object\n",
      " 2   title                  41896 non-null  object\n",
      " 3   original_title         41896 non-null  object\n",
      " 4   date_published         41896 non-null  object\n",
      " 5   genre                  41896 non-null  object\n",
      " 6   country                41890 non-null  object\n",
      " 7   language               41648 non-null  object\n",
      " 8   director               41886 non-null  object\n",
      " 9   writer                 41621 non-null  object\n",
      " 10  production_company     40944 non-null  object\n",
      " 11  actors                 41877 non-null  object\n",
      " 12  description            41589 non-null  object\n",
      " 13  budget                 15453 non-null  object\n",
      " 14  usa_gross_income       13291 non-null  object\n",
      " 15  worlwide_gross_income  19887 non-null  object\n",
      "dtypes: object(16)\n",
      "memory usage: 5.1+ MB\n"
     ]
    }
   ],
   "source": [
    "obj_Movies_metadata = Movies_metadata.select_dtypes(include=['object']).copy()\n",
    "obj_Movies_metadata.info()"
   ]
  },
  {
   "cell_type": "code",
   "execution_count": 6,
   "metadata": {},
   "outputs": [],
   "source": [
    "myobj = ['country','language','director','production_company']\n",
    "\n",
    "for i in myobj:\n",
    "    obj_Movies_metadata[i] = obj_Movies_metadata[i].astype('category')\n",
    "    Movies_metadata[i] = obj_Movies_metadata[i].cat.codes\n"
   ]
  },
  {
   "cell_type": "code",
   "execution_count": 7,
   "metadata": {},
   "outputs": [
    {
     "name": "stdout",
     "output_type": "stream",
     "text": [
      "<class 'pandas.core.frame.DataFrame'>\n",
      "RangeIndex: 41896 entries, 0 to 41895\n",
      "Data columns (total 26 columns):\n",
      " #   Column                 Non-Null Count  Dtype  \n",
      "---  ------                 --------------  -----  \n",
      " 0   movieId                41896 non-null  int64  \n",
      " 1   genres                 41896 non-null  object \n",
      " 2   imdb_title_id          41896 non-null  object \n",
      " 3   title                  41896 non-null  object \n",
      " 4   original_title         41896 non-null  object \n",
      " 5   year                   41896 non-null  int64  \n",
      " 6   date_published         41896 non-null  object \n",
      " 7   genre                  41896 non-null  object \n",
      " 8   duration               41896 non-null  int64  \n",
      " 9   country                41896 non-null  int16  \n",
      " 10  language               41896 non-null  int16  \n",
      " 11  director               41896 non-null  int16  \n",
      " 12  writer                 41896 non-null  object \n",
      " 13  production_company     41896 non-null  int16  \n",
      " 14  actors                 41896 non-null  object \n",
      " 15  description            41896 non-null  object \n",
      " 16  avg_vote               41896 non-null  float64\n",
      " 17  votes                  41896 non-null  int64  \n",
      " 18  budget                 41896 non-null  object \n",
      " 19  usa_gross_income       41896 non-null  object \n",
      " 20  worlwide_gross_income  41896 non-null  object \n",
      " 21  metascore              41896 non-null  float64\n",
      " 22  reviews_from_users     41896 non-null  float64\n",
      " 23  reviews_from_critics   41896 non-null  float64\n",
      " 24  mean_vote              41896 non-null  float64\n",
      " 25  total_votes            41896 non-null  int64  \n",
      "dtypes: float64(5), int16(4), int64(5), object(12)\n",
      "memory usage: 7.4+ MB\n"
     ]
    }
   ],
   "source": [
    "Movies_metadata = Movies_metadata.fillna(100000)\n",
    "Movies_metadata.info()"
   ]
  },
  {
   "cell_type": "code",
   "execution_count": 8,
   "metadata": {},
   "outputs": [],
   "source": [
    "data =  Movies_metadata[['movieId','year','duration','metascore','reviews_from_users','reviews_from_critics'\n",
    "                              ,'country','language','director','production_company','mean_vote']]"
   ]
  },
  {
   "cell_type": "code",
   "execution_count": 9,
   "metadata": {},
   "outputs": [
    {
     "name": "stdout",
     "output_type": "stream",
     "text": [
      "<class 'pandas.core.frame.DataFrame'>\n",
      "Int64Index: 38725 entries, 0 to 41894\n",
      "Data columns (total 11 columns):\n",
      " #   Column                Non-Null Count  Dtype  \n",
      "---  ------                --------------  -----  \n",
      " 0   year                  38725 non-null  float64\n",
      " 1   duration              38725 non-null  float64\n",
      " 2   metascore             38725 non-null  float64\n",
      " 3   reviews_from_users    38725 non-null  float64\n",
      " 4   reviews_from_critics  38725 non-null  float64\n",
      " 5   country               38725 non-null  float64\n",
      " 6   language              38725 non-null  float64\n",
      " 7   director              38725 non-null  float64\n",
      " 8   production_company    38725 non-null  float64\n",
      " 9   mean_vote             38725 non-null  float64\n",
      " 10  movieId               38725 non-null  int64  \n",
      "dtypes: float64(10), int64(1)\n",
      "memory usage: 3.5 MB\n"
     ]
    }
   ],
   "source": [
    "from sklearn.preprocessing import StandardScaler\n",
    "\n",
    "scaler = StandardScaler()\n",
    "scaled = scaler.fit_transform(data.drop(['movieId','mean_vote'],axis=1))\n",
    "data_norm = pd.DataFrame(scaled,columns=(data.drop(['movieId','mean_vote'],axis=1).columns))\n",
    "data_norm= data_norm.join(data['mean_vote'])\n",
    "data_norm= data_norm.join(data['movieId'])\n",
    "\n",
    "\n",
    "from scipy import stats\n",
    "z_scores = stats.zscore(data_norm.drop(['movieId','mean_vote'],axis=1))\n",
    "abs_z_scores = np.abs(z_scores)\n",
    "filtered_entries = (abs_z_scores < 3).all(axis=1)\n",
    "newdata = data_norm[filtered_entries]\n",
    "\n",
    "newdata.info()"
   ]
  },
  {
   "cell_type": "code",
   "execution_count": 10,
   "metadata": {},
   "outputs": [],
   "source": [
    "pd.options.mode.chained_assignment = None\n",
    "\n",
    "newdata['mean_vote_class'] = 0\n",
    "newdata['mean_vote_class'][newdata['mean_vote']>=6.5] = 1\n",
    "newdata['mean_vote_class'][newdata['mean_vote']<6.5] = 0"
   ]
  },
  {
   "cell_type": "code",
   "execution_count": 11,
   "metadata": {},
   "outputs": [
    {
     "data": {
      "image/png": "[encoded data removed]",
      "text/plain": [
       "<Figure size 432x288 with 1 Axes>"
      ]
     },
     "metadata": {
      "needs_background": "light"
     },
     "output_type": "display_data"
    }
   ],
   "source": [
    "plt.hist(newdata['mean_vote_class'])\n",
    "plt.show()"
   ]
  },
  {
   "cell_type": "code",
   "execution_count": null,
   "metadata": {},
   "outputs": [],
   "source": []
  },
  {
   "cell_type": "markdown",
   "metadata": {},
   "source": [
    "### Regression on  mean_vote_class"
   ]
  },
  {
   "cell_type": "code",
   "execution_count": 22,
   "metadata": {},
   "outputs": [],
   "source": [
    "target = newdata['mean_vote_class'] \n",
    "predictors = newdata.drop(['mean_vote','mean_vote_class','movieId'],axis=1)\n",
    "\n",
    "X_train, X_test, y_train, y_test = train_test_split(predictors, target, test_size=0.30, random_state=40)"
   ]
  },
  {
   "cell_type": "code",
   "execution_count": 23,
   "metadata": {},
   "outputs": [],
   "source": [
    "model01 = LogisticRegression().fit(X_train,y_train)"
   ]
  },
  {
   "cell_type": "code",
   "execution_count": 25,
   "metadata": {},
   "outputs": [],
   "source": [
    "y_pred01 = model01.predict(X_test)"
   ]
  },
  {
   "cell_type": "code",
   "execution_count": 26,
   "metadata": {},
   "outputs": [
    {
     "name": "stdout",
     "output_type": "stream",
     "text": [
      "MSE: 0.3212256842830091\n",
      "MAE: 0.3212256842830091\n",
      "RMSE: 0.5667677516258394\n"
     ]
    }
   ],
   "source": [
    "print('MSE:',mean_squared_error(y_test, y_pred01))\n",
    "print('MAE:',mean_absolute_error(y_test, y_pred01))\n",
    "print('RMSE:',np.sqrt(mean_squared_error(y_test,y_pred01)))"
   ]
  },
  {
   "cell_type": "code",
   "execution_count": null,
   "metadata": {},
   "outputs": [],
   "source": []
  },
  {
   "cell_type": "markdown",
   "metadata": {},
   "source": [
    "### Regression on  mean_vote"
   ]
  },
  {
   "cell_type": "code",
   "execution_count": 27,
   "metadata": {},
   "outputs": [],
   "source": [
    "target = newdata['mean_vote'] \n",
    "predictors = newdata.drop(['mean_vote','mean_vote_class','movieId'],axis=1)\n",
    "\n",
    "X_train, X_test, y_train, y_test = train_test_split(predictors, target, test_size=0.30, random_state=40)"
   ]
  },
  {
   "cell_type": "markdown",
   "metadata": {},
   "source": [
    "### Poisson Regression"
   ]
  },
  {
   "cell_type": "code",
   "execution_count": 28,
   "metadata": {},
   "outputs": [],
   "source": [
    "model02 = PoissonRegressor().fit(X_train, y_train)"
   ]
  },
  {
   "cell_type": "code",
   "execution_count": 29,
   "metadata": {},
   "outputs": [],
   "source": [
    "y_pred02 = model02.predict(X_test)"
   ]
  },
  {
   "cell_type": "code",
   "execution_count": 30,
   "metadata": {},
   "outputs": [
    {
     "name": "stdout",
     "output_type": "stream",
     "text": [
      "MSE: 0.8101307760735601\n",
      "MAE: 0.6916354065451815\n",
      "RMSE: 0.9000726504419296\n"
     ]
    }
   ],
   "source": [
    "print('MSE:',mean_squared_error(y_test, y_pred02))\n",
    "print('MAE:',mean_absolute_error(y_test, y_pred02))\n",
    "print('RMSE:',np.sqrt(mean_squared_error(y_test,y_pred02)))"
   ]
  },
  {
   "cell_type": "code",
   "execution_count": null,
   "metadata": {},
   "outputs": [],
   "source": []
  },
  {
   "cell_type": "markdown",
   "metadata": {},
   "source": [
    "### Linear Regression"
   ]
  },
  {
   "cell_type": "code",
   "execution_count": 32,
   "metadata": {},
   "outputs": [],
   "source": [
    "model03 = LinearRegression().fit(X_train, y_train)"
   ]
  },
  {
   "cell_type": "code",
   "execution_count": 33,
   "metadata": {},
   "outputs": [],
   "source": [
    "y_pred03 = model03.predict(X_test)"
   ]
  },
  {
   "cell_type": "code",
   "execution_count": 34,
   "metadata": {},
   "outputs": [
    {
     "name": "stdout",
     "output_type": "stream",
     "text": [
      "MSE: 0.7835591273010358\n",
      "MAE: 0.6785797345499395\n",
      "RMSE: 0.8851887523579566\n"
     ]
    }
   ],
   "source": [
    "print('MSE:',mean_squared_error(y_test, y_pred03))\n",
    "print('MAE:',mean_absolute_error(y_test, y_pred03))\n",
    "print('RMSE:',np.sqrt(mean_squared_error(y_test,y_pred03)))"
   ]
  },
  {
   "cell_type": "code",
   "execution_count": null,
   "metadata": {},
   "outputs": [],
   "source": []
  }
 ],
 "metadata": {
  "kernelspec": {
   "display_name": "Python 3",
   "language": "python",
   "name": "python3"
  },
  "language_info": {
   "codemirror_mode": {
    "name": "ipython",
    "version": 3
   },
   "file_extension": ".py",
   "mimetype": "text/x-python",
   "name": "python",
   "nbconvert_exporter": "python",
   "pygments_lexer": "ipython3",
   "version": "3.8.3"
  }
 },
 "nbformat": 4,
 "nbformat_minor": 4
}
