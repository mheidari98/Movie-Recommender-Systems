{
 "cells": [
  {
   "cell_type": "markdown",
   "id": "engaged-bones",
   "metadata": {
    "colab_type": "text",
    "id": "view-in-github"
   },
   "source": [
    "<a href=\"https://colab.research.google.com/github/mheidari98/Movie-Recommender-Systems/blob/main/Association_Rules.ipynb\" target=\"_parent\"><img src=\"https://colab.research.google.com/assets/colab-badge.svg\" alt=\"Open In Colab\"/></a>"
   ]
  },
  {
   "cell_type": "code",
   "execution_count": null,
   "id": "judicial-ranch",
   "metadata": {},
   "outputs": [],
   "source": []
  },
  {
   "cell_type": "code",
   "execution_count": 1,
   "id": "metallic-party",
   "metadata": {
    "id": "metallic-party"
   },
   "outputs": [],
   "source": [
    "try:\n",
    "  import google.colab\n",
    "  IN_COLAB = True\n",
    "except:\n",
    "  IN_COLAB = False\n",
    "\n",
    "if IN_COLAB :\n",
    "    from google.colab import drive\n",
    "    drive.mount('/content/drive')\n",
    "\n",
    "if IN_COLAB :\n",
    "  Dataset_path = \"/content/drive/MyDrive/Colab Notebooks/DataSets/\"\n",
    "else :\n",
    "  Dataset_path = \"./DataSets/\"\n",
    "\n",
    "ml_path = Dataset_path + \"ml-latest/\""
   ]
  },
  {
   "cell_type": "markdown",
   "id": "coordinate-toner",
   "metadata": {},
   "source": [
    "## Installing required libraries"
   ]
  },
  {
   "cell_type": "code",
   "execution_count": 2,
   "id": "million-mountain",
   "metadata": {},
   "outputs": [],
   "source": [
    "if IN_COLAB :\n",
    "    !pip3 install jenkspy"
   ]
  },
  {
   "cell_type": "code",
   "execution_count": 3,
   "id": "parental-roberts",
   "metadata": {},
   "outputs": [],
   "source": [
    "## Imports"
   ]
  },
  {
   "cell_type": "code",
   "execution_count": 4,
   "id": "impaired-semiconductor",
   "metadata": {
    "colab": {
     "base_uri": "https://localhost:8080/"
    },
    "id": "impaired-semiconductor",
    "outputId": "ede15ecb-b0e6-4130-80de-0d5c8c8c158b"
   },
   "outputs": [],
   "source": [
    "# %matplotlib notebook\n",
    "\n",
    "# Imports\n",
    "import numpy as np\n",
    "import pandas as pd\n",
    "import matplotlib.pyplot as plt\n",
    "import seaborn as sns\n",
    "from scipy import stats\n",
    "from xgboost import XGBRegressor\n",
    "\n",
    "import os\n",
    "import pickle\n",
    "import wordcloud as wc\n",
    "import scipy.sparse as sparse\n",
    "import xgboost as xgb\n",
    "import random\n",
    "import statsmodels.tools.tools as stattools\n",
    "from itertools import combinations\n",
    "\n",
    "import sklearn\n",
    "from sklearn import tree\n",
    "from sklearn.model_selection import KFold,train_test_split\n",
    "from sklearn.base import BaseEstimator,TransformerMixin\n",
    "from sklearn.tree import DecisionTreeClassifier, export_graphviz\n",
    "from sklearn.impute import SimpleImputer\n",
    "from sklearn.feature_extraction import DictVectorizer\n",
    "from sklearn.compose import ColumnTransformer\n",
    "from sklearn.pipeline import Pipeline\n",
    "from sklearn.preprocessing import OneHotEncoder"
   ]
  },
  {
   "cell_type": "markdown",
   "id": "failing-preview",
   "metadata": {},
   "source": [
    "## load datasets"
   ]
  },
  {
   "cell_type": "code",
   "execution_count": 5,
   "id": "bigger-powder",
   "metadata": {
    "id": "bigger-powder"
   },
   "outputs": [],
   "source": [
    "ratings = pd.read_csv( Dataset_path + \"ratings_2004_75p.csv\")"
   ]
  },
  {
   "cell_type": "code",
   "execution_count": 6,
   "id": "suspended-bottom",
   "metadata": {
    "colab": {
     "base_uri": "https://localhost:8080/"
    },
    "id": "suspended-bottom",
    "outputId": "cb2bea21-9e82-4287-9389-8e025cf01714"
   },
   "outputs": [
    {
     "name": "stdout",
     "output_type": "stream",
     "text": [
      "<class 'pandas.core.frame.DataFrame'>\n",
      "RangeIndex: 4668900 entries, 0 to 4668899\n",
      "Data columns (total 4 columns):\n",
      " #   Column     Dtype  \n",
      "---  ------     -----  \n",
      " 0   userId     int64  \n",
      " 1   movieId    int64  \n",
      " 2   rating     float64\n",
      " 3   timestamp  int64  \n",
      "dtypes: float64(1), int64(3)\n",
      "memory usage: 142.5 MB\n"
     ]
    }
   ],
   "source": [
    "ratings.info()"
   ]
  },
  {
   "cell_type": "code",
   "execution_count": null,
   "id": "structural-float",
   "metadata": {
    "id": "structural-float"
   },
   "outputs": [],
   "source": []
  },
  {
   "cell_type": "markdown",
   "id": "portable-reference",
   "metadata": {
    "id": "portable-reference"
   },
   "source": [
    "### just keep rating that user and movie are upper than threshhold"
   ]
  },
  {
   "cell_type": "code",
   "execution_count": 7,
   "id": "starting-accounting",
   "metadata": {
    "colab": {
     "base_uri": "https://localhost:8080/"
    },
    "id": "starting-accounting",
    "outputId": "84d2bf3a-1a93-4021-d2cb-22bcb4b745c0"
   },
   "outputs": [
    {
     "name": "stdout",
     "output_type": "stream",
     "text": [
      "The original data frame shape:\t(4668900, 4)\n",
      "The new data frame shape:\t(4019581, 4)\n"
     ]
    }
   ],
   "source": [
    "min_movie_ratings = 20\n",
    "filter_Movies = ratings['movieId'].value_counts() > min_movie_ratings\n",
    "filter_Movies = filter_Movies[filter_Movies].index.tolist()\n",
    "\n",
    "min_user_ratings = 20\n",
    "filter_users = ratings['userId'].value_counts() > min_user_ratings\n",
    "filter_users = filter_users[filter_users].index.tolist()\n",
    "\n",
    "print('The original data frame shape:\\t{}'.format(ratings.shape))\n",
    "ratings = ratings[(ratings['movieId'].isin(filter_Movies)) & (ratings['userId'].isin(filter_users))]\n",
    "print('The new data frame shape:\\t{}'.format(ratings.shape))"
   ]
  },
  {
   "cell_type": "code",
   "execution_count": null,
   "id": "dominican-reform",
   "metadata": {
    "id": "dominican-reform"
   },
   "outputs": [],
   "source": []
  },
  {
   "cell_type": "code",
   "execution_count": 8,
   "id": "dental-integral",
   "metadata": {
    "colab": {
     "base_uri": "https://localhost:8080/"
    },
    "id": "dental-integral",
    "outputId": "af5b1120-51bb-4827-9564-d14fd6c12160"
   },
   "outputs": [
    {
     "data": {
      "text/plain": [
       "5353"
      ]
     },
     "execution_count": 8,
     "metadata": {},
     "output_type": "execute_result"
    }
   ],
   "source": [
    "colName = ratings.movieId.unique()\n",
    "colCount = len( colName )\n",
    "colCount"
   ]
  },
  {
   "cell_type": "code",
   "execution_count": 9,
   "id": "received-statement",
   "metadata": {
    "colab": {
     "base_uri": "https://localhost:8080/"
    },
    "id": "received-statement",
    "outputId": "d98963cd-e8b0-4390-ba28-aad8b5778571"
   },
   "outputs": [
    {
     "data": {
      "text/plain": [
       "49162"
      ]
     },
     "execution_count": 9,
     "metadata": {},
     "output_type": "execute_result"
    }
   ],
   "source": [
    "rowName = ratings.userId.unique()\n",
    "rowCount = len( rowName )\n",
    "rowCount"
   ]
  },
  {
   "cell_type": "code",
   "execution_count": 10,
   "id": "religious-viking",
   "metadata": {
    "id": "religious-viking"
   },
   "outputs": [],
   "source": [
    "# del df"
   ]
  },
  {
   "cell_type": "code",
   "execution_count": 11,
   "id": "possible-spokesman",
   "metadata": {},
   "outputs": [
    {
     "name": "stdout",
     "output_type": "stream",
     "text": [
      "Wall time: 1min 29s\n"
     ]
    }
   ],
   "source": [
    "%%time\n",
    "df = pd.crosstab(ratings.userId, ratings.movieId)"
   ]
  },
  {
   "cell_type": "code",
   "execution_count": 12,
   "id": "portuguese-caribbean",
   "metadata": {},
   "outputs": [],
   "source": [
    "# df = pd.DataFrame(np.zeros((rowCount, colCount)),index=rowName , columns=colName)\n",
    "# df.info()\n",
    "\n",
    "\n",
    "# %%time #==> 5min\n",
    "# for uid in df_new.userId.unique():\n",
    "#     iids = df_new[df_new.userId == uid].movieId.unique()\n",
    "#     for iid in iids:\n",
    "#         df.loc[ uid ,  iid ] = 1\n",
    "\n",
    "\n",
    "# %%time #==> 12min\n",
    "# for i in range(len(df_new)):\n",
    "#     df.loc[ df_new.iloc[i].userId ,  df_new.iloc[i].movieId ] = 1"
   ]
  },
  {
   "cell_type": "code",
   "execution_count": 13,
   "id": "bulgarian-vaccine",
   "metadata": {
    "id": "bulgarian-vaccine"
   },
   "outputs": [
    {
     "data": {
      "text/html": [
       "<div>\n",
       "<style scoped>\n",
       "    .dataframe tbody tr th:only-of-type {\n",
       "        vertical-align: middle;\n",
       "    }\n",
       "\n",
       "    .dataframe tbody tr th {\n",
       "        vertical-align: top;\n",
       "    }\n",
       "\n",
       "    .dataframe thead th {\n",
       "        text-align: right;\n",
       "    }\n",
       "</style>\n",
       "<table border=\"1\" class=\"dataframe\">\n",
       "  <thead>\n",
       "    <tr style=\"text-align: right;\">\n",
       "      <th>movieId</th>\n",
       "      <th>1</th>\n",
       "      <th>2</th>\n",
       "      <th>3</th>\n",
       "      <th>4</th>\n",
       "      <th>5</th>\n",
       "      <th>6</th>\n",
       "      <th>7</th>\n",
       "      <th>8</th>\n",
       "      <th>9</th>\n",
       "      <th>10</th>\n",
       "      <th>...</th>\n",
       "      <th>8973</th>\n",
       "      <th>8981</th>\n",
       "      <th>8983</th>\n",
       "      <th>8984</th>\n",
       "      <th>8998</th>\n",
       "      <th>8999</th>\n",
       "      <th>9018</th>\n",
       "      <th>27706</th>\n",
       "      <th>30812</th>\n",
       "      <th>30825</th>\n",
       "    </tr>\n",
       "    <tr>\n",
       "      <th>userId</th>\n",
       "      <th></th>\n",
       "      <th></th>\n",
       "      <th></th>\n",
       "      <th></th>\n",
       "      <th></th>\n",
       "      <th></th>\n",
       "      <th></th>\n",
       "      <th></th>\n",
       "      <th></th>\n",
       "      <th></th>\n",
       "      <th></th>\n",
       "      <th></th>\n",
       "      <th></th>\n",
       "      <th></th>\n",
       "      <th></th>\n",
       "      <th></th>\n",
       "      <th></th>\n",
       "      <th></th>\n",
       "      <th></th>\n",
       "      <th></th>\n",
       "      <th></th>\n",
       "    </tr>\n",
       "  </thead>\n",
       "  <tbody>\n",
       "    <tr>\n",
       "      <th>6</th>\n",
       "      <td>0</td>\n",
       "      <td>0</td>\n",
       "      <td>0</td>\n",
       "      <td>0</td>\n",
       "      <td>0</td>\n",
       "      <td>0</td>\n",
       "      <td>0</td>\n",
       "      <td>0</td>\n",
       "      <td>0</td>\n",
       "      <td>1</td>\n",
       "      <td>...</td>\n",
       "      <td>0</td>\n",
       "      <td>0</td>\n",
       "      <td>0</td>\n",
       "      <td>0</td>\n",
       "      <td>0</td>\n",
       "      <td>0</td>\n",
       "      <td>0</td>\n",
       "      <td>0</td>\n",
       "      <td>0</td>\n",
       "      <td>0</td>\n",
       "    </tr>\n",
       "    <tr>\n",
       "      <th>10</th>\n",
       "      <td>1</td>\n",
       "      <td>0</td>\n",
       "      <td>0</td>\n",
       "      <td>0</td>\n",
       "      <td>0</td>\n",
       "      <td>0</td>\n",
       "      <td>0</td>\n",
       "      <td>0</td>\n",
       "      <td>0</td>\n",
       "      <td>0</td>\n",
       "      <td>...</td>\n",
       "      <td>0</td>\n",
       "      <td>0</td>\n",
       "      <td>0</td>\n",
       "      <td>0</td>\n",
       "      <td>0</td>\n",
       "      <td>0</td>\n",
       "      <td>0</td>\n",
       "      <td>0</td>\n",
       "      <td>0</td>\n",
       "      <td>0</td>\n",
       "    </tr>\n",
       "    <tr>\n",
       "      <th>18</th>\n",
       "      <td>0</td>\n",
       "      <td>0</td>\n",
       "      <td>0</td>\n",
       "      <td>0</td>\n",
       "      <td>0</td>\n",
       "      <td>0</td>\n",
       "      <td>0</td>\n",
       "      <td>0</td>\n",
       "      <td>0</td>\n",
       "      <td>0</td>\n",
       "      <td>...</td>\n",
       "      <td>0</td>\n",
       "      <td>0</td>\n",
       "      <td>0</td>\n",
       "      <td>0</td>\n",
       "      <td>0</td>\n",
       "      <td>0</td>\n",
       "      <td>0</td>\n",
       "      <td>0</td>\n",
       "      <td>0</td>\n",
       "      <td>0</td>\n",
       "    </tr>\n",
       "    <tr>\n",
       "      <th>19</th>\n",
       "      <td>0</td>\n",
       "      <td>0</td>\n",
       "      <td>1</td>\n",
       "      <td>0</td>\n",
       "      <td>0</td>\n",
       "      <td>1</td>\n",
       "      <td>0</td>\n",
       "      <td>0</td>\n",
       "      <td>1</td>\n",
       "      <td>1</td>\n",
       "      <td>...</td>\n",
       "      <td>0</td>\n",
       "      <td>0</td>\n",
       "      <td>0</td>\n",
       "      <td>0</td>\n",
       "      <td>0</td>\n",
       "      <td>0</td>\n",
       "      <td>0</td>\n",
       "      <td>0</td>\n",
       "      <td>0</td>\n",
       "      <td>0</td>\n",
       "    </tr>\n",
       "    <tr>\n",
       "      <th>31</th>\n",
       "      <td>1</td>\n",
       "      <td>0</td>\n",
       "      <td>0</td>\n",
       "      <td>0</td>\n",
       "      <td>0</td>\n",
       "      <td>0</td>\n",
       "      <td>0</td>\n",
       "      <td>0</td>\n",
       "      <td>0</td>\n",
       "      <td>0</td>\n",
       "      <td>...</td>\n",
       "      <td>0</td>\n",
       "      <td>0</td>\n",
       "      <td>0</td>\n",
       "      <td>0</td>\n",
       "      <td>0</td>\n",
       "      <td>0</td>\n",
       "      <td>0</td>\n",
       "      <td>0</td>\n",
       "      <td>0</td>\n",
       "      <td>0</td>\n",
       "    </tr>\n",
       "    <tr>\n",
       "      <th>...</th>\n",
       "      <td>...</td>\n",
       "      <td>...</td>\n",
       "      <td>...</td>\n",
       "      <td>...</td>\n",
       "      <td>...</td>\n",
       "      <td>...</td>\n",
       "      <td>...</td>\n",
       "      <td>...</td>\n",
       "      <td>...</td>\n",
       "      <td>...</td>\n",
       "      <td>...</td>\n",
       "      <td>...</td>\n",
       "      <td>...</td>\n",
       "      <td>...</td>\n",
       "      <td>...</td>\n",
       "      <td>...</td>\n",
       "      <td>...</td>\n",
       "      <td>...</td>\n",
       "      <td>...</td>\n",
       "      <td>...</td>\n",
       "      <td>...</td>\n",
       "    </tr>\n",
       "    <tr>\n",
       "      <th>283208</th>\n",
       "      <td>1</td>\n",
       "      <td>0</td>\n",
       "      <td>0</td>\n",
       "      <td>0</td>\n",
       "      <td>0</td>\n",
       "      <td>0</td>\n",
       "      <td>0</td>\n",
       "      <td>0</td>\n",
       "      <td>0</td>\n",
       "      <td>0</td>\n",
       "      <td>...</td>\n",
       "      <td>0</td>\n",
       "      <td>0</td>\n",
       "      <td>0</td>\n",
       "      <td>0</td>\n",
       "      <td>0</td>\n",
       "      <td>0</td>\n",
       "      <td>0</td>\n",
       "      <td>0</td>\n",
       "      <td>0</td>\n",
       "      <td>0</td>\n",
       "    </tr>\n",
       "    <tr>\n",
       "      <th>283215</th>\n",
       "      <td>0</td>\n",
       "      <td>0</td>\n",
       "      <td>1</td>\n",
       "      <td>0</td>\n",
       "      <td>1</td>\n",
       "      <td>0</td>\n",
       "      <td>1</td>\n",
       "      <td>0</td>\n",
       "      <td>0</td>\n",
       "      <td>0</td>\n",
       "      <td>...</td>\n",
       "      <td>0</td>\n",
       "      <td>0</td>\n",
       "      <td>0</td>\n",
       "      <td>0</td>\n",
       "      <td>0</td>\n",
       "      <td>0</td>\n",
       "      <td>0</td>\n",
       "      <td>0</td>\n",
       "      <td>0</td>\n",
       "      <td>0</td>\n",
       "    </tr>\n",
       "    <tr>\n",
       "      <th>283218</th>\n",
       "      <td>0</td>\n",
       "      <td>0</td>\n",
       "      <td>0</td>\n",
       "      <td>0</td>\n",
       "      <td>0</td>\n",
       "      <td>0</td>\n",
       "      <td>0</td>\n",
       "      <td>0</td>\n",
       "      <td>0</td>\n",
       "      <td>0</td>\n",
       "      <td>...</td>\n",
       "      <td>0</td>\n",
       "      <td>0</td>\n",
       "      <td>0</td>\n",
       "      <td>0</td>\n",
       "      <td>0</td>\n",
       "      <td>0</td>\n",
       "      <td>0</td>\n",
       "      <td>0</td>\n",
       "      <td>0</td>\n",
       "      <td>0</td>\n",
       "    </tr>\n",
       "    <tr>\n",
       "      <th>283222</th>\n",
       "      <td>0</td>\n",
       "      <td>0</td>\n",
       "      <td>0</td>\n",
       "      <td>0</td>\n",
       "      <td>0</td>\n",
       "      <td>0</td>\n",
       "      <td>0</td>\n",
       "      <td>0</td>\n",
       "      <td>0</td>\n",
       "      <td>0</td>\n",
       "      <td>...</td>\n",
       "      <td>0</td>\n",
       "      <td>0</td>\n",
       "      <td>0</td>\n",
       "      <td>0</td>\n",
       "      <td>0</td>\n",
       "      <td>0</td>\n",
       "      <td>0</td>\n",
       "      <td>0</td>\n",
       "      <td>0</td>\n",
       "      <td>0</td>\n",
       "    </tr>\n",
       "    <tr>\n",
       "      <th>283224</th>\n",
       "      <td>0</td>\n",
       "      <td>0</td>\n",
       "      <td>1</td>\n",
       "      <td>0</td>\n",
       "      <td>0</td>\n",
       "      <td>0</td>\n",
       "      <td>0</td>\n",
       "      <td>0</td>\n",
       "      <td>0</td>\n",
       "      <td>0</td>\n",
       "      <td>...</td>\n",
       "      <td>0</td>\n",
       "      <td>0</td>\n",
       "      <td>0</td>\n",
       "      <td>0</td>\n",
       "      <td>0</td>\n",
       "      <td>0</td>\n",
       "      <td>0</td>\n",
       "      <td>0</td>\n",
       "      <td>0</td>\n",
       "      <td>0</td>\n",
       "    </tr>\n",
       "  </tbody>\n",
       "</table>\n",
       "<p>49162 rows × 5353 columns</p>\n",
       "</div>"
      ],
      "text/plain": [
       "movieId  1      2      3      4      5      6      7      8      9      10     \\\n",
       "userId                                                                          \n",
       "6            0      0      0      0      0      0      0      0      0      1   \n",
       "10           1      0      0      0      0      0      0      0      0      0   \n",
       "18           0      0      0      0      0      0      0      0      0      0   \n",
       "19           0      0      1      0      0      1      0      0      1      1   \n",
       "31           1      0      0      0      0      0      0      0      0      0   \n",
       "...        ...    ...    ...    ...    ...    ...    ...    ...    ...    ...   \n",
       "283208       1      0      0      0      0      0      0      0      0      0   \n",
       "283215       0      0      1      0      1      0      1      0      0      0   \n",
       "283218       0      0      0      0      0      0      0      0      0      0   \n",
       "283222       0      0      0      0      0      0      0      0      0      0   \n",
       "283224       0      0      1      0      0      0      0      0      0      0   \n",
       "\n",
       "movieId  ...  8973   8981   8983   8984   8998   8999   9018   27706  30812  \\\n",
       "userId   ...                                                                  \n",
       "6        ...      0      0      0      0      0      0      0      0      0   \n",
       "10       ...      0      0      0      0      0      0      0      0      0   \n",
       "18       ...      0      0      0      0      0      0      0      0      0   \n",
       "19       ...      0      0      0      0      0      0      0      0      0   \n",
       "31       ...      0      0      0      0      0      0      0      0      0   \n",
       "...      ...    ...    ...    ...    ...    ...    ...    ...    ...    ...   \n",
       "283208   ...      0      0      0      0      0      0      0      0      0   \n",
       "283215   ...      0      0      0      0      0      0      0      0      0   \n",
       "283218   ...      0      0      0      0      0      0      0      0      0   \n",
       "283222   ...      0      0      0      0      0      0      0      0      0   \n",
       "283224   ...      0      0      0      0      0      0      0      0      0   \n",
       "\n",
       "movieId  30825  \n",
       "userId          \n",
       "6            0  \n",
       "10           0  \n",
       "18           0  \n",
       "19           0  \n",
       "31           0  \n",
       "...        ...  \n",
       "283208       0  \n",
       "283215       0  \n",
       "283218       0  \n",
       "283222       0  \n",
       "283224       0  \n",
       "\n",
       "[49162 rows x 5353 columns]"
      ]
     },
     "execution_count": 13,
     "metadata": {},
     "output_type": "execute_result"
    }
   ],
   "source": [
    "df"
   ]
  },
  {
   "cell_type": "code",
   "execution_count": 14,
   "id": "native-simpson",
   "metadata": {},
   "outputs": [
    {
     "name": "stdout",
     "output_type": "stream",
     "text": [
      "<class 'pandas.core.frame.DataFrame'>\n",
      "Int64Index: 49162 entries, 6 to 283224\n",
      "Columns: 5353 entries, 1 to 30825\n",
      "dtypes: int64(5353)\n",
      "memory usage: 2.0 GB\n"
     ]
    }
   ],
   "source": [
    "df.info()"
   ]
  },
  {
   "cell_type": "code",
   "execution_count": null,
   "id": "adjacent-bridge",
   "metadata": {},
   "outputs": [],
   "source": []
  },
  {
   "cell_type": "markdown",
   "id": "Jkh96DnaiUjt",
   "metadata": {
    "id": "Jkh96DnaiUjt"
   },
   "source": [
    "## save to file"
   ]
  },
  {
   "cell_type": "code",
   "execution_count": 15,
   "id": "sticky-energy",
   "metadata": {
    "id": "sticky-energy"
   },
   "outputs": [],
   "source": [
    "df.to_csv(Dataset_path +'AssociationRules.csv', index=False)\n",
    "del df"
   ]
  },
  {
   "cell_type": "code",
   "execution_count": null,
   "id": "3RP8w2HriRt2",
   "metadata": {
    "id": "3RP8w2HriRt2"
   },
   "outputs": [],
   "source": []
  },
  {
   "cell_type": "markdown",
   "id": "5q48mDFIiYdE",
   "metadata": {
    "id": "5q48mDFIiYdE"
   },
   "source": [
    "## read from file"
   ]
  },
  {
   "cell_type": "code",
   "execution_count": 16,
   "id": "9SVyT6sQmHjV",
   "metadata": {
    "id": "9SVyT6sQmHjV"
   },
   "outputs": [],
   "source": [
    "movies = pd.read_csv( ml_path + \"movies.csv\")"
   ]
  },
  {
   "cell_type": "code",
   "execution_count": 17,
   "id": "bright-distributor",
   "metadata": {
    "id": "bright-distributor"
   },
   "outputs": [],
   "source": [
    "df = pd.read_csv( Dataset_path + \"AssociationRules.csv\")"
   ]
  },
  {
   "cell_type": "code",
   "execution_count": 18,
   "id": "understanding-bishop",
   "metadata": {
    "colab": {
     "base_uri": "https://localhost:8080/"
    },
    "id": "understanding-bishop",
    "outputId": "aabf6a8d-5f1a-4f7e-90f9-9cb0e40a2aaf"
   },
   "outputs": [
    {
     "name": "stdout",
     "output_type": "stream",
     "text": [
      "<class 'pandas.core.frame.DataFrame'>\n",
      "RangeIndex: 49162 entries, 0 to 49161\n",
      "Columns: 5353 entries, 1 to 30825\n",
      "dtypes: int64(5353)\n",
      "memory usage: 2.0 GB\n"
     ]
    }
   ],
   "source": [
    "df.info()"
   ]
  },
  {
   "cell_type": "code",
   "execution_count": 19,
   "id": "personal-opinion",
   "metadata": {},
   "outputs": [
    {
     "data": {
      "text/html": [
       "<div>\n",
       "<style scoped>\n",
       "    .dataframe tbody tr th:only-of-type {\n",
       "        vertical-align: middle;\n",
       "    }\n",
       "\n",
       "    .dataframe tbody tr th {\n",
       "        vertical-align: top;\n",
       "    }\n",
       "\n",
       "    .dataframe thead th {\n",
       "        text-align: right;\n",
       "    }\n",
       "</style>\n",
       "<table border=\"1\" class=\"dataframe\">\n",
       "  <thead>\n",
       "    <tr style=\"text-align: right;\">\n",
       "      <th></th>\n",
       "      <th>1</th>\n",
       "      <th>2</th>\n",
       "      <th>3</th>\n",
       "      <th>4</th>\n",
       "      <th>5</th>\n",
       "      <th>6</th>\n",
       "      <th>7</th>\n",
       "      <th>8</th>\n",
       "      <th>9</th>\n",
       "      <th>10</th>\n",
       "      <th>...</th>\n",
       "      <th>8973</th>\n",
       "      <th>8981</th>\n",
       "      <th>8983</th>\n",
       "      <th>8984</th>\n",
       "      <th>8998</th>\n",
       "      <th>8999</th>\n",
       "      <th>9018</th>\n",
       "      <th>27706</th>\n",
       "      <th>30812</th>\n",
       "      <th>30825</th>\n",
       "    </tr>\n",
       "  </thead>\n",
       "  <tbody>\n",
       "    <tr>\n",
       "      <th>0</th>\n",
       "      <td>0</td>\n",
       "      <td>0</td>\n",
       "      <td>0</td>\n",
       "      <td>0</td>\n",
       "      <td>0</td>\n",
       "      <td>0</td>\n",
       "      <td>0</td>\n",
       "      <td>0</td>\n",
       "      <td>0</td>\n",
       "      <td>1</td>\n",
       "      <td>...</td>\n",
       "      <td>0</td>\n",
       "      <td>0</td>\n",
       "      <td>0</td>\n",
       "      <td>0</td>\n",
       "      <td>0</td>\n",
       "      <td>0</td>\n",
       "      <td>0</td>\n",
       "      <td>0</td>\n",
       "      <td>0</td>\n",
       "      <td>0</td>\n",
       "    </tr>\n",
       "    <tr>\n",
       "      <th>1</th>\n",
       "      <td>1</td>\n",
       "      <td>0</td>\n",
       "      <td>0</td>\n",
       "      <td>0</td>\n",
       "      <td>0</td>\n",
       "      <td>0</td>\n",
       "      <td>0</td>\n",
       "      <td>0</td>\n",
       "      <td>0</td>\n",
       "      <td>0</td>\n",
       "      <td>...</td>\n",
       "      <td>0</td>\n",
       "      <td>0</td>\n",
       "      <td>0</td>\n",
       "      <td>0</td>\n",
       "      <td>0</td>\n",
       "      <td>0</td>\n",
       "      <td>0</td>\n",
       "      <td>0</td>\n",
       "      <td>0</td>\n",
       "      <td>0</td>\n",
       "    </tr>\n",
       "    <tr>\n",
       "      <th>2</th>\n",
       "      <td>0</td>\n",
       "      <td>0</td>\n",
       "      <td>0</td>\n",
       "      <td>0</td>\n",
       "      <td>0</td>\n",
       "      <td>0</td>\n",
       "      <td>0</td>\n",
       "      <td>0</td>\n",
       "      <td>0</td>\n",
       "      <td>0</td>\n",
       "      <td>...</td>\n",
       "      <td>0</td>\n",
       "      <td>0</td>\n",
       "      <td>0</td>\n",
       "      <td>0</td>\n",
       "      <td>0</td>\n",
       "      <td>0</td>\n",
       "      <td>0</td>\n",
       "      <td>0</td>\n",
       "      <td>0</td>\n",
       "      <td>0</td>\n",
       "    </tr>\n",
       "    <tr>\n",
       "      <th>3</th>\n",
       "      <td>0</td>\n",
       "      <td>0</td>\n",
       "      <td>1</td>\n",
       "      <td>0</td>\n",
       "      <td>0</td>\n",
       "      <td>1</td>\n",
       "      <td>0</td>\n",
       "      <td>0</td>\n",
       "      <td>1</td>\n",
       "      <td>1</td>\n",
       "      <td>...</td>\n",
       "      <td>0</td>\n",
       "      <td>0</td>\n",
       "      <td>0</td>\n",
       "      <td>0</td>\n",
       "      <td>0</td>\n",
       "      <td>0</td>\n",
       "      <td>0</td>\n",
       "      <td>0</td>\n",
       "      <td>0</td>\n",
       "      <td>0</td>\n",
       "    </tr>\n",
       "    <tr>\n",
       "      <th>4</th>\n",
       "      <td>1</td>\n",
       "      <td>0</td>\n",
       "      <td>0</td>\n",
       "      <td>0</td>\n",
       "      <td>0</td>\n",
       "      <td>0</td>\n",
       "      <td>0</td>\n",
       "      <td>0</td>\n",
       "      <td>0</td>\n",
       "      <td>0</td>\n",
       "      <td>...</td>\n",
       "      <td>0</td>\n",
       "      <td>0</td>\n",
       "      <td>0</td>\n",
       "      <td>0</td>\n",
       "      <td>0</td>\n",
       "      <td>0</td>\n",
       "      <td>0</td>\n",
       "      <td>0</td>\n",
       "      <td>0</td>\n",
       "      <td>0</td>\n",
       "    </tr>\n",
       "  </tbody>\n",
       "</table>\n",
       "<p>5 rows × 5353 columns</p>\n",
       "</div>"
      ],
      "text/plain": [
       "   1  2  3  4  5  6  7  8  9  10  ...  8973  8981  8983  8984  8998  8999  \\\n",
       "0  0  0  0  0  0  0  0  0  0   1  ...     0     0     0     0     0     0   \n",
       "1  1  0  0  0  0  0  0  0  0   0  ...     0     0     0     0     0     0   \n",
       "2  0  0  0  0  0  0  0  0  0   0  ...     0     0     0     0     0     0   \n",
       "3  0  0  1  0  0  1  0  0  1   1  ...     0     0     0     0     0     0   \n",
       "4  1  0  0  0  0  0  0  0  0   0  ...     0     0     0     0     0     0   \n",
       "\n",
       "   9018  27706  30812  30825  \n",
       "0     0      0      0      0  \n",
       "1     0      0      0      0  \n",
       "2     0      0      0      0  \n",
       "3     0      0      0      0  \n",
       "4     0      0      0      0  \n",
       "\n",
       "[5 rows x 5353 columns]"
      ]
     },
     "execution_count": 19,
     "metadata": {},
     "output_type": "execute_result"
    }
   ],
   "source": [
    "df.head()"
   ]
  },
  {
   "cell_type": "code",
   "execution_count": 20,
   "id": "ultimate-elements",
   "metadata": {
    "id": "ultimate-elements"
   },
   "outputs": [],
   "source": [
    "# columnsdf = pd.DataFrame( df.columns, columns=['movieId'] )\n",
    "# columnsdf.movieId = columnsdf.movieId.astype('int64')\n",
    "# df.columns = pd.merge( columnsdf, movies , how='inner' ).title.values"
   ]
  },
  {
   "cell_type": "code",
   "execution_count": null,
   "id": "thousand-orchestra",
   "metadata": {
    "id": "thousand-orchestra"
   },
   "outputs": [],
   "source": []
  },
  {
   "cell_type": "code",
   "execution_count": 21,
   "id": "electric-image",
   "metadata": {
    "colab": {
     "base_uri": "https://localhost:8080/"
    },
    "id": "electric-image",
    "outputId": "a5aac0b2-7810-44bc-dd7f-e9860b43e459"
   },
   "outputs": [],
   "source": [
    "if IN_COLAB :\n",
    "  !pip install mlxtend --upgrade"
   ]
  },
  {
   "cell_type": "code",
   "execution_count": 22,
   "id": "lucky-season",
   "metadata": {
    "id": "lucky-season"
   },
   "outputs": [],
   "source": [
    "from mlxtend.frequent_patterns import apriori, fpgrowth, association_rules"
   ]
  },
  {
   "cell_type": "code",
   "execution_count": 23,
   "id": "complicated-stability",
   "metadata": {
    "id": "complicated-stability"
   },
   "outputs": [],
   "source": [
    "# frq_items_apriori = apriori(df, min_support = 0.1, use_colnames = True)\n",
    "# frq_items_apriori.sort_values(by=['support'], inplace=True)\n",
    "# frq_items_apriori"
   ]
  },
  {
   "cell_type": "code",
   "execution_count": 32,
   "id": "headed-samuel",
   "metadata": {
    "colab": {
     "base_uri": "https://localhost:8080/",
     "height": 424
    },
    "id": "headed-samuel",
    "outputId": "973ce723-fe88-45d2-da49-a975c2daff61"
   },
   "outputs": [
    {
     "name": "stdout",
     "output_type": "stream",
     "text": [
      "Wall time: 17min 39s\n"
     ]
    }
   ],
   "source": [
    "%%time\n",
    "frq_items_fpgrowth = fpgrowth(df, min_support = 0.025, use_colnames = True)"
   ]
  },
  {
   "cell_type": "code",
   "execution_count": 33,
   "id": "objective-exclusion",
   "metadata": {},
   "outputs": [],
   "source": [
    "frq_items_fpgrowth.sort_values(by=['support'], inplace=True, ascending=False)"
   ]
  },
  {
   "cell_type": "code",
   "execution_count": 34,
   "id": "grave-glass",
   "metadata": {},
   "outputs": [
    {
     "data": {
      "text/html": [
       "<div>\n",
       "<style scoped>\n",
       "    .dataframe tbody tr th:only-of-type {\n",
       "        vertical-align: middle;\n",
       "    }\n",
       "\n",
       "    .dataframe tbody tr th {\n",
       "        vertical-align: top;\n",
       "    }\n",
       "\n",
       "    .dataframe thead th {\n",
       "        text-align: right;\n",
       "    }\n",
       "</style>\n",
       "<table border=\"1\" class=\"dataframe\">\n",
       "  <thead>\n",
       "    <tr style=\"text-align: right;\">\n",
       "      <th></th>\n",
       "      <th>support</th>\n",
       "      <th>itemsets</th>\n",
       "    </tr>\n",
       "  </thead>\n",
       "  <tbody>\n",
       "    <tr>\n",
       "      <th>0</th>\n",
       "      <td>0.444001</td>\n",
       "      <td>(593)</td>\n",
       "    </tr>\n",
       "    <tr>\n",
       "      <th>1</th>\n",
       "      <td>0.424413</td>\n",
       "      <td>(318)</td>\n",
       "    </tr>\n",
       "    <tr>\n",
       "      <th>2</th>\n",
       "      <td>0.420345</td>\n",
       "      <td>(296)</td>\n",
       "    </tr>\n",
       "    <tr>\n",
       "      <th>22</th>\n",
       "      <td>0.383813</td>\n",
       "      <td>(527)</td>\n",
       "    </tr>\n",
       "    <tr>\n",
       "      <th>67</th>\n",
       "      <td>0.381473</td>\n",
       "      <td>(356)</td>\n",
       "    </tr>\n",
       "    <tr>\n",
       "      <th>...</th>\n",
       "      <td>...</td>\n",
       "      <td>...</td>\n",
       "    </tr>\n",
       "    <tr>\n",
       "      <th>687990</th>\n",
       "      <td>0.025019</td>\n",
       "      <td>(1196, 1221, 858, 1214, 1210, 1291)</td>\n",
       "    </tr>\n",
       "    <tr>\n",
       "      <th>311216</th>\n",
       "      <td>0.025019</td>\n",
       "      <td>(1, 457, 527, 733)</td>\n",
       "    </tr>\n",
       "    <tr>\n",
       "      <th>454279</th>\n",
       "      <td>0.025019</td>\n",
       "      <td>(595, 364, 150, 587, 480)</td>\n",
       "    </tr>\n",
       "    <tr>\n",
       "      <th>303511</th>\n",
       "      <td>0.025019</td>\n",
       "      <td>(1196, 260, 1265, 912, 593)</td>\n",
       "    </tr>\n",
       "    <tr>\n",
       "      <th>308911</th>\n",
       "      <td>0.025019</td>\n",
       "      <td>(1198, 1196, 733, 318, 260, 593)</td>\n",
       "    </tr>\n",
       "  </tbody>\n",
       "</table>\n",
       "<p>731035 rows × 2 columns</p>\n",
       "</div>"
      ],
      "text/plain": [
       "         support                             itemsets\n",
       "0       0.444001                                (593)\n",
       "1       0.424413                                (318)\n",
       "2       0.420345                                (296)\n",
       "22      0.383813                                (527)\n",
       "67      0.381473                                (356)\n",
       "...          ...                                  ...\n",
       "687990  0.025019  (1196, 1221, 858, 1214, 1210, 1291)\n",
       "311216  0.025019                   (1, 457, 527, 733)\n",
       "454279  0.025019            (595, 364, 150, 587, 480)\n",
       "303511  0.025019          (1196, 260, 1265, 912, 593)\n",
       "308911  0.025019     (1198, 1196, 733, 318, 260, 593)\n",
       "\n",
       "[731035 rows x 2 columns]"
      ]
     },
     "execution_count": 34,
     "metadata": {},
     "output_type": "execute_result"
    }
   ],
   "source": [
    "frq_items_fpgrowth"
   ]
  },
  {
   "cell_type": "code",
   "execution_count": null,
   "id": "promising-error",
   "metadata": {
    "colab": {
     "base_uri": "https://localhost:8080/",
     "height": 736
    },
    "id": "promising-error",
    "outputId": "6ccae8e2-24e8-457d-824f-4ca7abb720b1"
   },
   "outputs": [],
   "source": [
    "%%time\n",
    "rules = association_rules(frq_items_fpgrowth, metric =\"lift\", min_threshold = 1)"
   ]
  },
  {
   "cell_type": "code",
   "execution_count": null,
   "id": "patient-snake",
   "metadata": {},
   "outputs": [],
   "source": [
    "rules"
   ]
  },
  {
   "cell_type": "code",
   "execution_count": null,
   "id": "executive-rabbit",
   "metadata": {},
   "outputs": [],
   "source": []
  },
  {
   "cell_type": "code",
   "execution_count": 29,
   "id": "forced-bridges",
   "metadata": {},
   "outputs": [],
   "source": [
    "# https://stackoverflow.com/questions/1482308\n",
    "from itertools import chain, combinations\n",
    "def powerset(iterable):\n",
    "    allSubList = []\n",
    "    for r in range(1,len(iterable)+1):\n",
    "        allSubList += [*combinations(iterable, r)]\n",
    "    return allSubList"
   ]
  },
  {
   "cell_type": "code",
   "execution_count": 30,
   "id": "whole-progress",
   "metadata": {},
   "outputs": [],
   "source": [
    "def recommender(rules, ratings, movie_metadata, uid):\n",
    "    finalIndex = set()\n",
    "    \n",
    "    seen = set( ratings[ratings.userId == uid].movieId.unique() )\n",
    "    \n",
    "    for index, row in rules.iterrows():\n",
    "        if set(map(int, row['antecedents'])).issubset(seen) and (not set(map(int, row['consequents'])).issubset(seen)) :\n",
    "            finalIndex.add(index)\n",
    "            \n",
    "\n",
    "    df = rules.loc[finalIndex].sort_values(by=['support'], ascending=False).iloc[:5]\n",
    "\n",
    "    lst = list(chain( *df['consequents'].values.tolist() ) )\n",
    "    items = set().union(*lst)\n",
    "    \n",
    "    return  movie_metadata[ movie_metadata.movieId.isin( list(map(int, items)) ) ]"
   ]
  },
  {
   "cell_type": "code",
   "execution_count": 31,
   "id": "starting-caution",
   "metadata": {},
   "outputs": [
    {
     "data": {
      "text/html": [
       "<div>\n",
       "<style scoped>\n",
       "    .dataframe tbody tr th:only-of-type {\n",
       "        vertical-align: middle;\n",
       "    }\n",
       "\n",
       "    .dataframe tbody tr th {\n",
       "        vertical-align: top;\n",
       "    }\n",
       "\n",
       "    .dataframe thead th {\n",
       "        text-align: right;\n",
       "    }\n",
       "</style>\n",
       "<table border=\"1\" class=\"dataframe\">\n",
       "  <thead>\n",
       "    <tr style=\"text-align: right;\">\n",
       "      <th></th>\n",
       "      <th>movieId</th>\n",
       "      <th>title</th>\n",
       "      <th>genres</th>\n",
       "    </tr>\n",
       "  </thead>\n",
       "  <tbody>\n",
       "    <tr>\n",
       "      <th>0</th>\n",
       "      <td>1</td>\n",
       "      <td>Toy Story (1995)</td>\n",
       "      <td>Adventure|Animation|Children|Comedy|Fantasy</td>\n",
       "    </tr>\n",
       "    <tr>\n",
       "      <th>1</th>\n",
       "      <td>2</td>\n",
       "      <td>Jumanji (1995)</td>\n",
       "      <td>Adventure|Children|Fantasy</td>\n",
       "    </tr>\n",
       "    <tr>\n",
       "      <th>2</th>\n",
       "      <td>3</td>\n",
       "      <td>Grumpier Old Men (1995)</td>\n",
       "      <td>Comedy|Romance</td>\n",
       "    </tr>\n",
       "    <tr>\n",
       "      <th>4</th>\n",
       "      <td>5</td>\n",
       "      <td>Father of the Bride Part II (1995)</td>\n",
       "      <td>Comedy</td>\n",
       "    </tr>\n",
       "    <tr>\n",
       "      <th>5</th>\n",
       "      <td>6</td>\n",
       "      <td>Heat (1995)</td>\n",
       "      <td>Action|Crime|Thriller</td>\n",
       "    </tr>\n",
       "    <tr>\n",
       "      <th>7</th>\n",
       "      <td>8</td>\n",
       "      <td>Tom and Huck (1995)</td>\n",
       "      <td>Adventure|Children</td>\n",
       "    </tr>\n",
       "    <tr>\n",
       "      <th>8</th>\n",
       "      <td>9</td>\n",
       "      <td>Sudden Death (1995)</td>\n",
       "      <td>Action</td>\n",
       "    </tr>\n",
       "  </tbody>\n",
       "</table>\n",
       "</div>"
      ],
      "text/plain": [
       "   movieId                               title  \\\n",
       "0        1                    Toy Story (1995)   \n",
       "1        2                      Jumanji (1995)   \n",
       "2        3             Grumpier Old Men (1995)   \n",
       "4        5  Father of the Bride Part II (1995)   \n",
       "5        6                         Heat (1995)   \n",
       "7        8                 Tom and Huck (1995)   \n",
       "8        9                 Sudden Death (1995)   \n",
       "\n",
       "                                        genres  \n",
       "0  Adventure|Animation|Children|Comedy|Fantasy  \n",
       "1                   Adventure|Children|Fantasy  \n",
       "2                               Comedy|Romance  \n",
       "4                                       Comedy  \n",
       "5                        Action|Crime|Thriller  \n",
       "7                           Adventure|Children  \n",
       "8                                       Action  "
      ]
     },
     "execution_count": 31,
     "metadata": {},
     "output_type": "execute_result"
    }
   ],
   "source": [
    "recommender(rules, ratings, movies, 6)"
   ]
  },
  {
   "cell_type": "code",
   "execution_count": null,
   "id": "devoted-scroll",
   "metadata": {},
   "outputs": [],
   "source": []
  },
  {
   "cell_type": "code",
   "execution_count": null,
   "id": "instrumental-theater",
   "metadata": {},
   "outputs": [],
   "source": []
  }
 ],
 "metadata": {
  "colab": {
   "include_colab_link": true,
   "name": "Association_Rules.ipynb",
   "provenance": []
  },
  "kernelspec": {
   "display_name": ".FDM2021",
   "language": "python",
   "name": ".fdm2021"
  },
  "language_info": {
   "codemirror_mode": {
    "name": "ipython",
    "version": 3
   },
   "file_extension": ".py",
   "mimetype": "text/x-python",
   "name": "python",
   "nbconvert_exporter": "python",
   "pygments_lexer": "ipython3",
   "version": "3.9.2"
  }
 },
 "nbformat": 4,
 "nbformat_minor": 5
}
