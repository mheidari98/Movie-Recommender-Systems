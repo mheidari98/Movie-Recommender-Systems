{
  "nbformat": 4,
  "nbformat_minor": 5,
  "metadata": {
    "kernelspec": {
      "name": "python3",
      "display_name": "Python 3"
    },
    "colab": {
      "name": "SurPRISE_Recommender.ipynb",
      "provenance": [],
      "include_colab_link": true
    },
    "language_info": {
      "name": "python"
    }
  },
  "cells": [
    {
      "cell_type": "markdown",
      "metadata": {
        "id": "view-in-github",
        "colab_type": "text"
      },
      "source": [
        "<a href=\"https://colab.research.google.com/github/mheidari98/Movie-Recommender-Systems/blob/main/SurPRISE_Recommender.ipynb\" target=\"_parent\"><img src=\"https://colab.research.google.com/assets/colab-badge.svg\" alt=\"Open In Colab\"/></a>"
      ]
    },
    {
      "cell_type": "code",
      "metadata": {
        "id": "vulnerable-dallas"
      },
      "source": [
        ""
      ],
      "id": "vulnerable-dallas",
      "execution_count": null,
      "outputs": []
    },
    {
      "cell_type": "code",
      "metadata": {
        "id": "administrative-cathedral",
        "outputId": "f06d0437-c7a6-44d7-f31a-76818c2da4cd",
        "colab": {
          "base_uri": "https://localhost:8080/"
        }
      },
      "source": [
        "from google.colab import drive\n",
        "drive.mount('/content/drive')"
      ],
      "id": "administrative-cathedral",
      "execution_count": 1,
      "outputs": [
        {
          "output_type": "stream",
          "text": [
            "Mounted at /content/drive\n"
          ],
          "name": "stdout"
        }
      ]
    },
    {
      "cell_type": "code",
      "metadata": {
        "id": "tested-muslim"
      },
      "source": [
        "try:\n",
        "  import google.colab\n",
        "  IN_COLAB = True\n",
        "except:\n",
        "  IN_COLAB = False"
      ],
      "id": "tested-muslim",
      "execution_count": 2,
      "outputs": []
    },
    {
      "cell_type": "code",
      "metadata": {
        "id": "lKYCs0M5nwuP",
        "outputId": "efd37857-2791-4447-8122-8b8ea860b893",
        "colab": {
          "base_uri": "https://localhost:8080/"
        }
      },
      "source": [
        "if IN_COLAB :\n",
        "  !pip install surprise"
      ],
      "id": "lKYCs0M5nwuP",
      "execution_count": 3,
      "outputs": [
        {
          "output_type": "stream",
          "text": [
            "Collecting surprise\n",
            "  Downloading https://files.pythonhosted.org/packages/61/de/e5cba8682201fcf9c3719a6fdda95693468ed061945493dea2dd37c5618b/surprise-0.1-py2.py3-none-any.whl\n",
            "Collecting scikit-surprise\n",
            "\u001b[?25l  Downloading https://files.pythonhosted.org/packages/97/37/5d334adaf5ddd65da99fc65f6507e0e4599d092ba048f4302fe8775619e8/scikit-surprise-1.1.1.tar.gz (11.8MB)\n",
            "\u001b[K     |████████████████████████████████| 11.8MB 250kB/s \n",
            "\u001b[?25hRequirement already satisfied: joblib>=0.11 in /usr/local/lib/python3.7/dist-packages (from scikit-surprise->surprise) (1.0.1)\n",
            "Requirement already satisfied: numpy>=1.11.2 in /usr/local/lib/python3.7/dist-packages (from scikit-surprise->surprise) (1.19.5)\n",
            "Requirement already satisfied: scipy>=1.0.0 in /usr/local/lib/python3.7/dist-packages (from scikit-surprise->surprise) (1.4.1)\n",
            "Requirement already satisfied: six>=1.10.0 in /usr/local/lib/python3.7/dist-packages (from scikit-surprise->surprise) (1.15.0)\n",
            "Building wheels for collected packages: scikit-surprise\n",
            "  Building wheel for scikit-surprise (setup.py) ... \u001b[?25l\u001b[?25hdone\n",
            "  Created wheel for scikit-surprise: filename=scikit_surprise-1.1.1-cp37-cp37m-linux_x86_64.whl size=1617622 sha256=9b21a97e43bc0a8b1af67900ad06a505f987d4346c47eff069cff6fd61541d19\n",
            "  Stored in directory: /root/.cache/pip/wheels/78/9c/3d/41b419c9d2aff5b6e2b4c0fc8d25c538202834058f9ed110d0\n",
            "Successfully built scikit-surprise\n",
            "Installing collected packages: scikit-surprise, surprise\n",
            "Successfully installed scikit-surprise-1.1.1 surprise-0.1\n"
          ],
          "name": "stdout"
        }
      ]
    },
    {
      "cell_type": "code",
      "metadata": {
        "id": "destroyed-burner",
        "outputId": "33216375-6e11-4ecf-f21f-57df7a23379a",
        "colab": {
          "base_uri": "https://localhost:8080/"
        }
      },
      "source": [
        "# %matplotlib notebook\n",
        "\n",
        "# Imports\n",
        "from __future__ import (absolute_import, division, print_function,\n",
        "                        unicode_literals)\n",
        "\n",
        "import numpy as np\n",
        "import pandas as pd\n",
        "import matplotlib.pyplot as plt\n",
        "import seaborn as sns\n",
        "from scipy import stats\n",
        "from xgboost import XGBRegressor\n",
        "\n",
        "import os\n",
        "import pickle\n",
        "import wordcloud as wc\n",
        "import scipy.sparse as sparse\n",
        "import xgboost as xgb\n",
        "import random\n",
        "import statsmodels.tools.tools as stattools\n",
        "from itertools import combinations\n",
        "\n",
        "import sklearn\n",
        "from sklearn import tree\n",
        "from sklearn.model_selection import KFold,train_test_split\n",
        "from sklearn.base import BaseEstimator,TransformerMixin\n",
        "from sklearn.tree import DecisionTreeClassifier, export_graphviz\n",
        "from sklearn.impute import SimpleImputer\n",
        "from sklearn.feature_extraction import DictVectorizer\n",
        "from sklearn.compose import ColumnTransformer\n",
        "from sklearn.pipeline import Pipeline\n",
        "from sklearn.preprocessing import OneHotEncoder\n",
        "\n",
        "import surprise\n",
        "from surprise import Reader, Dataset\n",
        "from surprise import SVD, SVDpp, SlopeOne, NMF, NormalPredictor, KNNBaseline, KNNBasic, KNNWithMeans, KNNWithZScore, BaselineOnly, CoClustering, accuracy  \n",
        "from surprise.model_selection import cross_validate, train_test_split, GridSearchCV"
      ],
      "id": "destroyed-burner",
      "execution_count": 4,
      "outputs": [
        {
          "output_type": "stream",
          "text": [
            "/usr/local/lib/python3.7/dist-packages/statsmodels/tools/_testing.py:19: FutureWarning: pandas.util.testing is deprecated. Use the functions in the public API at pandas.testing instead.\n",
            "  import pandas.util.testing as tm\n"
          ],
          "name": "stderr"
        }
      ]
    },
    {
      "cell_type": "code",
      "metadata": {
        "id": "young-cologne"
      },
      "source": [
        "if IN_COLAB :\n",
        "  Dataset_path = \"/content/drive/MyDrive/Colab Notebooks/DataSets/\"\n",
        "else :\n",
        "  Dataset_path = \"./DataSets/\"\n",
        "\n",
        "ml_path = Dataset_path + \"ml-latest/\""
      ],
      "id": "young-cologne",
      "execution_count": 5,
      "outputs": []
    },
    {
      "cell_type": "code",
      "metadata": {
        "id": "Me53QcL-onVz"
      },
      "source": [
        ""
      ],
      "id": "Me53QcL-onVz",
      "execution_count": null,
      "outputs": []
    },
    {
      "cell_type": "code",
      "metadata": {
        "id": "infrared-strategy"
      },
      "source": [
        "ratings = pd.read_csv( ml_path + \"ratings.csv\")\n",
        "\n",
        "Movies_metadata = pd.read_csv(Dataset_path+\"MoviesInfo.csv\")"
      ],
      "id": "infrared-strategy",
      "execution_count": 6,
      "outputs": []
    },
    {
      "cell_type": "code",
      "metadata": {
        "id": "little-collect",
        "outputId": "6360f1ec-7ac3-4c11-ee02-163b18d7e45c",
        "colab": {
          "base_uri": "https://localhost:8080/"
        }
      },
      "source": [
        "ratings.info()"
      ],
      "id": "little-collect",
      "execution_count": 7,
      "outputs": [
        {
          "output_type": "stream",
          "text": [
            "<class 'pandas.core.frame.DataFrame'>\n",
            "RangeIndex: 27753444 entries, 0 to 27753443\n",
            "Data columns (total 4 columns):\n",
            " #   Column     Dtype  \n",
            "---  ------     -----  \n",
            " 0   userId     int64  \n",
            " 1   movieId    int64  \n",
            " 2   rating     float64\n",
            " 3   timestamp  int64  \n",
            "dtypes: float64(1), int64(3)\n",
            "memory usage: 847.0 MB\n"
          ],
          "name": "stdout"
        }
      ]
    },
    {
      "cell_type": "code",
      "metadata": {
        "id": "elder-possibility"
      },
      "source": [
        ""
      ],
      "id": "elder-possibility",
      "execution_count": 7,
      "outputs": []
    },
    {
      "cell_type": "markdown",
      "metadata": {
        "id": "beneficial-positive"
      },
      "source": [
        "### just keep rating year between 1995, 2001"
      ],
      "id": "beneficial-positive"
    },
    {
      "cell_type": "code",
      "metadata": {
        "id": "underlying-gardening"
      },
      "source": [
        "from datetime import datetime\n",
        "\n",
        "# strftime('%Y-%m-%d %H:%M:%S')\n",
        "ratings['year_rated'] = ratings['timestamp'].apply(lambda x: int( datetime.fromtimestamp( x ).strftime('%Y') ) )"
      ],
      "id": "underlying-gardening",
      "execution_count": 8,
      "outputs": []
    },
    {
      "cell_type": "code",
      "metadata": {
        "id": "ofPVjJc3ozLO"
      },
      "source": [
        "ratings = ratings[ ratings['year_rated'].between(1995, 2001)].copy()\n",
        "\n",
        "ratings.reset_index(drop=True, inplace=True)"
      ],
      "id": "ofPVjJc3ozLO",
      "execution_count": null,
      "outputs": []
    },
    {
      "cell_type": "code",
      "metadata": {
        "id": "stopped-designer",
        "outputId": "868480bb-6c21-43b0-a6c7-c0b6796ac0b0",
        "colab": {
          "base_uri": "https://localhost:8080/"
        }
      },
      "source": [
        "print( f\"number of Ratings : { ratings.shape[0] }\")\n",
        "print( f\"number of movies : { ratings.groupby('movieId').count().shape[0] }\")\n",
        "print( f\"number of users : { ratings.groupby('userId').count().shape[0] }\")\n",
        "print( f\"range of rating : ( { np.min( ratings.groupby('rating').count().index )}, {np.max( ratings.groupby('rating').count().index )})  \")"
      ],
      "id": "stopped-designer",
      "execution_count": 9,
      "outputs": [
        {
          "output_type": "stream",
          "text": [
            "number of Ratings : 7331243\n",
            "number of movies : 4938\n",
            "number of users : 103838\n",
            "range of rating : ( 1.0, 5.0)  \n"
          ],
          "name": "stdout"
        }
      ]
    },
    {
      "cell_type": "code",
      "metadata": {
        "id": "apparent-salon"
      },
      "source": [
        ""
      ],
      "id": "apparent-salon",
      "execution_count": 9,
      "outputs": []
    },
    {
      "cell_type": "markdown",
      "metadata": {
        "id": "numeric-performance"
      },
      "source": [
        "### just keep rating that user and movie are upper than threshhold"
      ],
      "id": "numeric-performance"
    },
    {
      "cell_type": "code",
      "metadata": {
        "id": "racial-justice",
        "outputId": "c2942588-7fc0-44bf-f871-d18a044fc260",
        "colab": {
          "base_uri": "https://localhost:8080/"
        }
      },
      "source": [
        "min_movie_ratings = 20\n",
        "filter_Movies = ratings['movieId'].value_counts() > min_movie_ratings\n",
        "filter_Movies = filter_Movies[filter_Movies].index.tolist()\n",
        "\n",
        "min_user_ratings = 20\n",
        "filter_users = ratings['userId'].value_counts() > min_user_ratings\n",
        "filter_users = filter_users[filter_users].index.tolist()\n",
        "\n",
        "df_new = ratings[(ratings['movieId'].isin(filter_Movies)) & (ratings['userId'].isin(filter_users))]\n",
        "print('The original data frame shape:\\t{}'.format(ratings.shape))\n",
        "print('The new data frame shape:\\t{}'.format(df_new.shape))"
      ],
      "id": "racial-justice",
      "execution_count": 10,
      "outputs": [
        {
          "output_type": "stream",
          "text": [
            "The original data frame shape:\t(7331243, 5)\n",
            "The new data frame shape:\t(6922806, 5)\n"
          ],
          "name": "stdout"
        }
      ]
    },
    {
      "cell_type": "code",
      "metadata": {
        "id": "expected-helping"
      },
      "source": [
        ""
      ],
      "id": "expected-helping",
      "execution_count": 10,
      "outputs": []
    },
    {
      "cell_type": "code",
      "metadata": {
        "id": "joint-princess",
        "outputId": "d9a45ec8-9995-4acd-f3d0-28804a801318",
        "colab": {
          "base_uri": "https://localhost:8080/"
        }
      },
      "source": [
        "print( f\"number of movies : { df_new.groupby('movieId').count().shape[0] }\")\n",
        "print( f\"number of users : { df_new.groupby('userId').count().shape[0] }\")\n",
        "print( f\"range of rating : ( { np.min( df_new.groupby('rating').count().index )}, {np.max( df_new.groupby('rating').count().index )})  \")"
      ],
      "id": "joint-princess",
      "execution_count": 11,
      "outputs": [
        {
          "output_type": "stream",
          "text": [
            "number of movies : 4393\n",
            "number of users : 64145\n",
            "range of rating : ( 1.0, 5.0)  \n"
          ],
          "name": "stdout"
        }
      ]
    },
    {
      "cell_type": "code",
      "metadata": {
        "id": "emerging-dating"
      },
      "source": [
        ""
      ],
      "id": "emerging-dating",
      "execution_count": 11,
      "outputs": []
    },
    {
      "cell_type": "markdown",
      "metadata": {
        "id": "FCvjnatAn9oT"
      },
      "source": [
        "### save to file"
      ],
      "id": "FCvjnatAn9oT"
    },
    {
      "cell_type": "code",
      "metadata": {
        "id": "Blre90NQn-Tz"
      },
      "source": [
        "df_new.to_csv(Dataset_path +'SurPRISE_Recommender.csv', index=False)\n",
        "del df_new"
      ],
      "id": "Blre90NQn-Tz",
      "execution_count": 12,
      "outputs": []
    },
    {
      "cell_type": "code",
      "metadata": {
        "id": "2PRLa_EMoA6U"
      },
      "source": [
        ""
      ],
      "id": "2PRLa_EMoA6U",
      "execution_count": 12,
      "outputs": []
    },
    {
      "cell_type": "markdown",
      "metadata": {
        "id": "3YNmoja_oCpq"
      },
      "source": [
        "### read from file"
      ],
      "id": "3YNmoja_oCpq"
    },
    {
      "cell_type": "code",
      "metadata": {
        "id": "5njyEYPRoDPX"
      },
      "source": [
        "df = pd.read_csv( Dataset_path + \"SurPRISE_Recommender.csv\")"
      ],
      "id": "5njyEYPRoDPX",
      "execution_count": null,
      "outputs": []
    },
    {
      "cell_type": "code",
      "metadata": {
        "id": "NS00IjLyoD3z"
      },
      "source": [
        "df.info()"
      ],
      "id": "NS00IjLyoD3z",
      "execution_count": null,
      "outputs": []
    },
    {
      "cell_type": "code",
      "metadata": {
        "id": "C1Zg9klUoZOc"
      },
      "source": [
        ""
      ],
      "id": "C1Zg9klUoZOc",
      "execution_count": null,
      "outputs": []
    },
    {
      "cell_type": "markdown",
      "metadata": {
        "id": "hundred-price"
      },
      "source": [
        "## initialize data"
      ],
      "id": "hundred-price"
    },
    {
      "cell_type": "code",
      "metadata": {
        "id": "crucial-ratio"
      },
      "source": [
        "reader = Reader(rating_scale=(1., 5.))\n",
        "data = Dataset.load_from_df(df[['userId', 'movieId', 'rating']], reader)\n",
        "trainset, testset = train_test_split(data, test_size=0.25)"
      ],
      "id": "crucial-ratio",
      "execution_count": null,
      "outputs": []
    },
    {
      "cell_type": "code",
      "metadata": {
        "id": "rental-count"
      },
      "source": [
        ""
      ],
      "id": "rental-count",
      "execution_count": null,
      "outputs": []
    },
    {
      "cell_type": "code",
      "metadata": {
        "id": "automotive-intention"
      },
      "source": [
        ""
      ],
      "id": "automotive-intention",
      "execution_count": null,
      "outputs": []
    },
    {
      "cell_type": "code",
      "metadata": {
        "id": "ongoing-springer"
      },
      "source": [
        "benchmark = []\n",
        "# Iterate over all algorithms\n",
        "for algorithm in [SVD(), SVDpp(), SlopeOne(), NMF(), NormalPredictor(), KNNBaseline(), KNNBasic(), KNNWithMeans(), KNNWithZScore(), BaselineOnly(), CoClustering()]:\n",
        "    # Perform cross validation\n",
        "    results = cross_validate(algorithm, data, measures=['RMSE'], cv=5, verbose=False)\n",
        "    \n",
        "    # Get results & append algorithm name\n",
        "    tmp = pd.DataFrame.from_dict(results).mean(axis=0)\n",
        "    tmp = tmp.append(pd.Series([str(algorithm).split(' ')[0].split('.')[-1]], index=['Algorithm']))\n",
        "    benchmark.append(tmp)\n",
        "    \n",
        "pd.DataFrame(benchmark).set_index('Algorithm').sort_values('test_rmse')  "
      ],
      "id": "ongoing-springer",
      "execution_count": null,
      "outputs": []
    },
    {
      "cell_type": "code",
      "metadata": {
        "id": "hairy-width"
      },
      "source": [
        ""
      ],
      "id": "hairy-width",
      "execution_count": null,
      "outputs": []
    },
    {
      "cell_type": "code",
      "metadata": {
        "id": "unauthorized-messenger"
      },
      "source": [
        ""
      ],
      "id": "unauthorized-messenger",
      "execution_count": null,
      "outputs": []
    },
    {
      "cell_type": "code",
      "metadata": {
        "id": "proof-greenhouse"
      },
      "source": [
        ""
      ],
      "id": "proof-greenhouse",
      "execution_count": null,
      "outputs": []
    },
    {
      "cell_type": "markdown",
      "metadata": {
        "id": "bronze-passion"
      },
      "source": [
        "### User-user Collaborative Filtering\n",
        "https://surprise.readthedocs.io/en/stable/knn_inspired.html"
      ],
      "id": "bronze-passion"
    },
    {
      "cell_type": "code",
      "metadata": {
        "id": "entitled-valve"
      },
      "source": [
        "# Use user_based true/false to switch between user-based or item-based collaborative filtering\n",
        "algo = KNNWithMeans(k=50, sim_options={'name': 'pearson_baseline', 'user_based': True})\n",
        "algo.fit(trainset)"
      ],
      "id": "entitled-valve",
      "execution_count": null,
      "outputs": []
    },
    {
      "cell_type": "code",
      "metadata": {
        "id": "fifth-anniversary"
      },
      "source": [
        "# we can now query for specific predicions\n",
        "uid = str(10)  # raw user id\n",
        "iid = str(10)  # raw item id\n",
        "\n",
        "# get a prediction for specific users and items.\n",
        "pred = algo.predict(uid, iid, r_ui=4, verbose=True)"
      ],
      "id": "fifth-anniversary",
      "execution_count": null,
      "outputs": []
    },
    {
      "cell_type": "code",
      "metadata": {
        "id": "injured-actor"
      },
      "source": [
        "# run the trained model against the testset\n",
        "# get RMSE\n",
        "print(\"User-based Model : Test Set\")\n",
        "test_pred = algo.test(testset)\n",
        "accuracy.rmse(test_pred, verbose=True)\n",
        "\n",
        "# if you wanted to evaluate on the trainset\n",
        "print(\"User-based Model : Training Set\")\n",
        "train_pred = algo.test(trainset.build_testset())\n",
        "accuracy.rmse(train_pred)"
      ],
      "id": "injured-actor",
      "execution_count": null,
      "outputs": []
    },
    {
      "cell_type": "code",
      "metadata": {
        "id": "champion-consolidation"
      },
      "source": [
        ""
      ],
      "id": "champion-consolidation",
      "execution_count": null,
      "outputs": []
    },
    {
      "cell_type": "markdown",
      "metadata": {
        "id": "applied-spare"
      },
      "source": [
        "### Item-Item Collaborative Filtering"
      ],
      "id": "applied-spare"
    },
    {
      "cell_type": "code",
      "metadata": {
        "id": "characteristic-thanks"
      },
      "source": [
        "# Use user_based true/false to switch between user-based or item-based collaborative filtering\n",
        "algo = KNNWithMeans(k=50, sim_options={'name': 'pearson_baseline', 'user_based': False})\n",
        "algo.fit(trainset)"
      ],
      "id": "characteristic-thanks",
      "execution_count": null,
      "outputs": []
    },
    {
      "cell_type": "code",
      "metadata": {
        "id": "unauthorized-glenn"
      },
      "source": [
        "# run the trained model against the testset\n",
        "# get RMSE\n",
        "print(\"Item-based Model : Test Set\")\n",
        "test_pred = algo.test(testset)\n",
        "accuracy.rmse(test_pred, verbose=True)\n",
        "\n",
        "# if you wanted to evaluate on the trainset\n",
        "print(\"Item-based Model : Training Set\")\n",
        "train_pred = algo.test(trainset.build_testset())\n",
        "accuracy.rmse(train_pred)"
      ],
      "id": "unauthorized-glenn",
      "execution_count": null,
      "outputs": []
    },
    {
      "cell_type": "code",
      "metadata": {
        "id": "published-height"
      },
      "source": [
        ""
      ],
      "id": "published-height",
      "execution_count": null,
      "outputs": []
    },
    {
      "cell_type": "markdown",
      "metadata": {
        "id": "covered-shanghai"
      },
      "source": [
        "### Matrix Factorization"
      ],
      "id": "covered-shanghai"
    },
    {
      "cell_type": "code",
      "metadata": {
        "id": "ongoing-hindu"
      },
      "source": [
        "# —– SVD —– #\n",
        "\n",
        "param_grid = {'n_factors': [110, 120, 140, 160], \n",
        "              'n_epochs': [90, 100, 110], \n",
        "              'lr_all': [0.001, 0.003, 0.005, 0.008],\n",
        "              'reg_all': [0.08, 0.1, 0.15] }\n",
        "\n",
        "gs = GridSearchCV(SVD, param_grid, measures=['rmse', 'mae'], cv=3)\n",
        "gs.fit(data)\n",
        "algo = gs.best_estimator['rmse']\n",
        "print(gs.best_score['rmse'])\n",
        "print(gs.best_params['rmse'])\n",
        "cross_validate(algo, data, measures=['RMSE', 'MAE'], cv=5, verbose=True)"
      ],
      "id": "ongoing-hindu",
      "execution_count": null,
      "outputs": []
    },
    {
      "cell_type": "code",
      "metadata": {
        "id": "dependent-supplement"
      },
      "source": [
        ""
      ],
      "id": "dependent-supplement",
      "execution_count": null,
      "outputs": []
    },
    {
      "cell_type": "code",
      "metadata": {
        "id": "supposed-therapist"
      },
      "source": [
        ""
      ],
      "id": "supposed-therapist",
      "execution_count": null,
      "outputs": []
    },
    {
      "cell_type": "code",
      "metadata": {
        "id": "EbHcr3K5n3nz"
      },
      "source": [
        ""
      ],
      "id": "EbHcr3K5n3nz",
      "execution_count": null,
      "outputs": []
    },
    {
      "cell_type": "markdown",
      "metadata": {
        "id": "Bd4eIdm6n5EI"
      },
      "source": [
        "### Out Engine"
      ],
      "id": "Bd4eIdm6n5EI"
    },
    {
      "cell_type": "code",
      "metadata": {
        "id": "rubber-moses"
      },
      "source": [
        "# Use the new parameters with the train data\n",
        "svd = SVD(n_factors=160, n_epochs=100, lr_all=0.005, reg_all=0.1)\n",
        "svd.fit(trainset)\n",
        "test_pred = svd.test(testset)\n",
        "print(\"SVD : Test Set\")\n",
        "accuracy.rmse(test_pred, verbose=True)"
      ],
      "id": "rubber-moses",
      "execution_count": null,
      "outputs": []
    },
    {
      "cell_type": "code",
      "metadata": {
        "id": "straight-desert"
      },
      "source": [
        ""
      ],
      "id": "straight-desert",
      "execution_count": null,
      "outputs": []
    },
    {
      "cell_type": "code",
      "metadata": {
        "id": "interesting-dominican"
      },
      "source": [
        "import difflib\n",
        "import random\n",
        "\n",
        "def get_Movie_info(Movie_id, metadata):\n",
        "    \n",
        "    \"\"\"\n",
        "    Returns some basic information about a Movie given the Movie id and the metadata dataframe.\n",
        "    \"\"\"\n",
        "    \n",
        "    Movie_info = metadata[metadata['movieId'] == Movie_id][['movieId', 'genres', \n",
        "                                                            'title', 'original_title', 'year', 'duration']]\n",
        "    return Movie_info.to_dict(orient='records')\n",
        "\n",
        "def generate_recommendation(user_id, model, metadata, thresh=4):\n",
        "    \n",
        "    \"\"\"\n",
        "    Generates a Movie recommendation for a user based on a rating threshold. Only\n",
        "    Movies with a predicted rating at or above the threshold will be recommended\n",
        "    \"\"\"\n",
        "    \n",
        "    Movies_ID = ratings.movieId.unique().tolist()\n",
        "    random.shuffle(Movies_ID)\n",
        "    \n",
        "    for Movie_ID in Movies_ID:\n",
        "        rating = model.predict(uid=user_id, iid=Movie_ID).est\n",
        "        if rating >= thresh:\n",
        "            return get_Movie_info(Movie_ID, metadata) , rating"
      ],
      "id": "interesting-dominican",
      "execution_count": null,
      "outputs": []
    },
    {
      "cell_type": "code",
      "metadata": {
        "id": "advised-scholarship"
      },
      "source": [
        "generate_recommendation(51737, svd, Movies_metadata)"
      ],
      "id": "advised-scholarship",
      "execution_count": null,
      "outputs": []
    },
    {
      "cell_type": "code",
      "metadata": {
        "id": "ultimate-spiritual"
      },
      "source": [
        ""
      ],
      "id": "ultimate-spiritual",
      "execution_count": null,
      "outputs": []
    },
    {
      "cell_type": "code",
      "metadata": {
        "id": "based-arbitration"
      },
      "source": [
        "from sklearn.manifold import TSNE\n",
        "\n",
        "tsne = TSNE(n_components=2, n_iter=500, verbose=3, random_state=1)\n",
        "\n",
        "Movies_embedding = tsne.fit_transform(svd.qi)\n",
        "\n",
        "projection = pd.DataFrame(columns=['x', 'y'], data=Movies_embedding)\n",
        "\n",
        "projection['title'] = Movies_metadata['original_title']"
      ],
      "id": "based-arbitration",
      "execution_count": null,
      "outputs": []
    },
    {
      "cell_type": "code",
      "metadata": {
        "id": "specified-blast"
      },
      "source": [
        "import plotly.express as px\n",
        "\n",
        "fig = px.scatter(\n",
        "    projection, x='x', y='y'\n",
        ")\n",
        "fig.show()"
      ],
      "id": "specified-blast",
      "execution_count": null,
      "outputs": []
    },
    {
      "cell_type": "code",
      "metadata": {
        "id": "governing-cabinet"
      },
      "source": [
        "import datapane as dp\n",
        "\n",
        "def plot_Movies(Movies_ID, plot_name):\n",
        "    \n",
        "    Movie_indices = []\n",
        "    for Movie in Movies_ID:\n",
        "        Movie_indices.append( Movies_ID.index(Movie) )\n",
        "        \n",
        "    Movies_vector_df = projection.iloc[ Movie_indices ]\n",
        "    \n",
        "    fig = px.scatter(\n",
        "    Movies_vector_df, x='x', y='y', text='title',\n",
        "    )\n",
        "    fig.show()"
      ],
      "id": "governing-cabinet",
      "execution_count": null,
      "outputs": []
    },
    {
      "cell_type": "code",
      "metadata": {
        "id": "original-ancient"
      },
      "source": [
        "Movies_ID = ratings.movieId.unique().tolist()\n",
        "\n",
        "plot_Movies(Movies_ID, plot_name='Movies_embedding')"
      ],
      "id": "original-ancient",
      "execution_count": null,
      "outputs": []
    },
    {
      "cell_type": "code",
      "metadata": {
        "id": "possible-complexity"
      },
      "source": [
        ""
      ],
      "id": "possible-complexity",
      "execution_count": null,
      "outputs": []
    }
  ]
}