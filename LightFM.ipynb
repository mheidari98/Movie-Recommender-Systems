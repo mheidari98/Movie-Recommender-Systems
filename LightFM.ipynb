{
 "cells": [
  {
   "cell_type": "markdown",
   "metadata": {
    "colab_type": "text",
    "id": "view-in-github"
   },
   "source": [
    "<a href=\"https://colab.research.google.com/github/mheidari98/Movie-Recommender-Systems/blob/main/LightFM.ipynb\" target=\"_parent\"><img src=\"https://colab.research.google.com/assets/colab-badge.svg\" alt=\"Open In Colab\"/></a>"
   ]
  },
  {
   "cell_type": "markdown",
   "metadata": {
    "colab": {
     "base_uri": "https://localhost:8080/"
    },
    "id": "B0NsAXOQY0bL",
    "outputId": "22294ebe-5012-44ad-bfda-600b9c8d2c06"
   },
   "source": [
    "from google.colab import drive\n",
    "drive.mount('/content/gdrive')"
   ]
  },
  {
   "cell_type": "markdown",
   "metadata": {
    "colab": {
     "base_uri": "https://localhost:8080/"
    },
    "id": "0DqjNZs_dMHz",
    "outputId": "0f72bafd-37d4-4ba9-ead0-39d1711dccce"
   },
   "source": [
    "!pip install lightfm"
   ]
  },
  {
   "cell_type": "code",
   "execution_count": 32,
   "metadata": {
    "id": "DE959Lssa_78"
   },
   "outputs": [],
   "source": [
    "from lightfm import LightFM\n",
    "from lightfm.cross_validation import random_train_test_split\n",
    "from lightfm.evaluation import auc_score, precision_at_k, recall_at_k, reciprocal_rank\n",
    "from lightfm.data import Dataset\n",
    "from lightfm.datasets import fetch_movielens\n",
    "from sklearn.model_selection import train_test_split\n",
    "import time\n",
    "import matplotlib\n",
    "import matplotlib.pyplot as plt\n",
    "import numpy as np\n",
    "import pandas as pd\n"
   ]
  },
  {
   "cell_type": "code",
   "execution_count": 33,
   "metadata": {
    "id": "gftbBVGrapkA"
   },
   "outputs": [],
   "source": [
    "Dataset_path = \"./DataSets/\"\n",
    "Movies_metadata = pd.read_csv(Dataset_path+\"MoviesInfo.csv\")\n",
    "ratings = pd.read_csv( Dataset_path + \"ml-latest/ratings.csv\")"
   ]
  },
  {
   "cell_type": "markdown",
   "metadata": {},
   "source": [
    "### Ratings"
   ]
  },
  {
   "cell_type": "code",
   "execution_count": 34,
   "metadata": {
    "colab": {
     "base_uri": "https://localhost:8080/"
    },
    "id": "byAqoSmwzkAp",
    "outputId": "5b11063c-ec2b-4407-8d4e-051919ff9ef2"
   },
   "outputs": [
    {
     "name": "stdout",
     "output_type": "stream",
     "text": [
      "<class 'pandas.core.frame.DataFrame'>\n",
      "RangeIndex: 27753444 entries, 0 to 27753443\n",
      "Data columns (total 4 columns):\n",
      " #   Column     Dtype  \n",
      "---  ------     -----  \n",
      " 0   userId     int64  \n",
      " 1   movieId    int64  \n",
      " 2   rating     float64\n",
      " 3   timestamp  int64  \n",
      "dtypes: float64(1), int64(3)\n",
      "memory usage: 847.0 MB\n"
     ]
    }
   ],
   "source": [
    "ratings.info()"
   ]
  },
  {
   "cell_type": "markdown",
   "metadata": {},
   "source": [
    "### just keep rating year between 1995, 2001"
   ]
  },
  {
   "cell_type": "code",
   "execution_count": 35,
   "metadata": {},
   "outputs": [],
   "source": [
    "from datetime import datetime\n",
    "\n",
    "# strftime('%Y-%m-%d %H:%M:%S')\n",
    "ratings['year_rated'] = ratings['timestamp'].apply(lambda x: int( datetime.fromtimestamp( x ).strftime('%Y') ) )\n",
    "\n",
    "ratings = ratings[ ratings['year_rated'].between(1995, 2001)].copy()\n",
    "\n",
    "ratings.reset_index(drop=True, inplace=True)"
   ]
  },
  {
   "cell_type": "code",
   "execution_count": 36,
   "metadata": {},
   "outputs": [
    {
     "name": "stdout",
     "output_type": "stream",
     "text": [
      "number of Ratings : 7329482\n",
      "number of movies : 4937\n",
      "number of users : 103827\n",
      "range of rating : ( 1.0, 5.0)  \n"
     ]
    }
   ],
   "source": [
    "print( f\"number of Ratings : { ratings.shape[0] }\")\n",
    "print( f\"number of movies : { ratings.groupby('movieId').count().shape[0] }\")\n",
    "print( f\"number of users : { ratings.groupby('userId').count().shape[0] }\")\n",
    "print( f\"range of rating : ( { np.min( ratings.groupby('rating').count().index )}, {np.max( ratings.groupby('rating').count().index )})  \")"
   ]
  },
  {
   "cell_type": "markdown",
   "metadata": {},
   "source": [
    "### just keep rating upper than median of user ratings"
   ]
  },
  {
   "cell_type": "code",
   "execution_count": 37,
   "metadata": {},
   "outputs": [],
   "source": [
    "ratingGroupByUserId = ratings.groupby(['userId'])\n",
    "\n",
    "# ratingThreshHold = ratingGroupByUserId.apply(lambda grp: grp.rating.median() )  #=> MemoryError: Unable to allocate 98.2 GiB for an array with shape (283228, 46554) and data type float64\n",
    "ratingThreshHold = ratingGroupByUserId.apply(lambda grp: np.percentile(grp.rating, 75) )\n",
    "\n",
    "ratingThreshHold = ratingThreshHold.to_frame().reset_index()\n",
    "\n",
    "tmpp = pd.merge( ratings, ratingThreshHold , how='inner' )\n",
    "\n",
    "CleanedRatings = tmpp[ tmpp['rating']>=tmpp[0] ].reset_index()[ ['userId', 'movieId', 'rating', 'timestamp']]"
   ]
  },
  {
   "cell_type": "code",
   "execution_count": 38,
   "metadata": {},
   "outputs": [
    {
     "name": "stdout",
     "output_type": "stream",
     "text": [
      "number of Ratings : 3363219\n",
      "number of movies : 4839\n",
      "number of users : 103827\n",
      "range of rating : ( 1.0, 5.0)  \n"
     ]
    }
   ],
   "source": [
    "print( f\"number of Ratings : { CleanedRatings.shape[0] }\")\n",
    "print( f\"number of movies : { CleanedRatings.groupby('movieId').count().shape[0] }\")\n",
    "print( f\"number of users : { CleanedRatings.groupby('userId').count().shape[0] }\")\n",
    "print( f\"range of rating : ( { np.min( CleanedRatings.groupby('rating').count().index )}, {np.max( CleanedRatings.groupby('rating').count().index )})  \")"
   ]
  },
  {
   "cell_type": "markdown",
   "metadata": {},
   "source": [
    "### LightFM "
   ]
  },
  {
   "cell_type": "code",
   "execution_count": 41,
   "metadata": {},
   "outputs": [],
   "source": [
    "#del ratings['year_rated']\n",
    "#del ratings['timestamp']\n"
   ]
  },
  {
   "cell_type": "code",
   "execution_count": 42,
   "metadata": {
    "colab": {
     "base_uri": "https://localhost:8080/"
    },
    "id": "7TQU3vV_atCU",
    "outputId": "ffd93efb-886b-4b27-8eae-76f65862ee40"
   },
   "outputs": [
    {
     "name": "stdout",
     "output_type": "stream",
     "text": [
      "<103827x4937 sparse matrix of type '<class 'numpy.int32'>'\n",
      "\twith 7329482 stored elements in COOrdinate format>\n"
     ]
    }
   ],
   "source": [
    "data = Dataset()\n",
    "data.fit(ratings.userId.unique(), ratings.movieId.unique(),ratings.rating.unique())\n",
    "interactions, weights = data.build_interactions([tuple(i) for i in ratings.values])\n",
    "print(repr(interactions))"
   ]
  },
  {
   "cell_type": "code",
   "execution_count": 43,
   "metadata": {
    "colab": {
     "base_uri": "https://localhost:8080/"
    },
    "id": "k9asP32EqQU3",
    "outputId": "7cf88286-33a5-48dc-c6a8-4fbae58f01e2"
   },
   "outputs": [
    {
     "data": {
      "text/plain": [
       "(103827, 4937)"
      ]
     },
     "execution_count": 43,
     "metadata": {},
     "output_type": "execute_result"
    }
   ],
   "source": [
    "interactions.shape"
   ]
  },
  {
   "cell_type": "code",
   "execution_count": 44,
   "metadata": {
    "id": "IUB-_fD44nQg"
   },
   "outputs": [],
   "source": [
    "train,test = random_train_test_split(interactions,test_percentage=0.2)"
   ]
  },
  {
   "cell_type": "markdown",
   "metadata": {},
   "source": [
    "### Warp"
   ]
  },
  {
   "cell_type": "code",
   "execution_count": 45,
   "metadata": {},
   "outputs": [],
   "source": [
    "model = LightFM(loss='warp',\n",
    "                random_state=2016,\n",
    "                learning_rate=0.90,\n",
    "                no_components=150,\n",
    "                user_alpha=0.000005)"
   ]
  },
  {
   "cell_type": "code",
   "execution_count": 58,
   "metadata": {
    "id": "nPY3drgfb8nH"
   },
   "outputs": [
    {
     "name": "stderr",
     "output_type": "stream",
     "text": [
      "Epoch: 100%|██████████| 10/10 [43:53<00:00, 263.36s/it]\n"
     ]
    }
   ],
   "source": [
    "model = model.fit(train,\n",
    "                  epochs=10,\n",
    "                  num_threads=16, verbose=True)"
   ]
  },
  {
   "cell_type": "code",
   "execution_count": 59,
   "metadata": {
    "colab": {
     "base_uri": "https://localhost:8080/"
    },
    "id": "YQJ3JSXTTfvy",
    "outputId": "0f407086-8bf1-4cf8-9821-36a98c071968"
   },
   "outputs": [
    {
     "name": "stdout",
     "output_type": "stream",
     "text": [
      "Precision: train 0.00, test 0.00.\n"
     ]
    }
   ],
   "source": [
    "train_precision = precision_at_k(model, train, k=10).mean()\n",
    "test_precision = precision_at_k(model, test, k=10).mean()\n",
    "print('Precision: train %.2f, test %.2f.' % (train_precision, test_precision))\n"
   ]
  },
  {
   "cell_type": "code",
   "execution_count": 60,
   "metadata": {
    "colab": {
     "base_uri": "https://localhost:8080/"
    },
    "id": "YAnTaGBaTmBs",
    "outputId": "dc27732c-3088-4f1a-93cf-0567fdc129df"
   },
   "outputs": [
    {
     "name": "stdout",
     "output_type": "stream",
     "text": [
      "recall: train 0.00, test 0.00.\n"
     ]
    }
   ],
   "source": [
    "train_recall = recall_at_k(model,train, k=10).mean()\n",
    "test_recall = recall_at_k(model,test, k=10).mean()\n",
    "print('recall: train %.2f, test %.2f.' % (train_recall, test_recall))"
   ]
  },
  {
   "cell_type": "code",
   "execution_count": 61,
   "metadata": {
    "colab": {
     "base_uri": "https://localhost:8080/"
    },
    "id": "n-8FggfbTnNS",
    "outputId": "4ba3afa4-c09d-4ab7-bebe-ce0cb8480eca"
   },
   "outputs": [
    {
     "name": "stdout",
     "output_type": "stream",
     "text": [
      "auc_score: train 0.52, test 0.50.\n"
     ]
    }
   ],
   "source": [
    "train_aucscore = auc_score(model, train).mean()\n",
    "test_aucscore = auc_score(model, test).mean()\n",
    "print('auc_score: train %.2f, test %.2f.' % (train_aucscore, test_aucscore))"
   ]
  },
  {
   "cell_type": "code",
   "execution_count": 62,
   "metadata": {
    "colab": {
     "base_uri": "https://localhost:8080/"
    },
    "id": "LQn3lplMTrfP",
    "outputId": "5b67fd25-4e3c-4e1d-fa7e-8b04f7c8500a"
   },
   "outputs": [
    {
     "name": "stdout",
     "output_type": "stream",
     "text": [
      "reciprocal_rank: train 0.02, test 0.01.\n"
     ]
    }
   ],
   "source": [
    "train_reciprocal = reciprocal_rank(model, train).mean()\n",
    "test_reciprocal = reciprocal_rank(model,test).mean()\n",
    "print('reciprocal_rank: train %.2f, test %.2f.' % (train_reciprocal, test_reciprocal))"
   ]
  },
  {
   "cell_type": "markdown",
   "metadata": {
    "id": "naEhB-IE6eav"
   },
   "source": [
    "### Bpr"
   ]
  },
  {
   "cell_type": "code",
   "execution_count": 66,
   "metadata": {},
   "outputs": [],
   "source": [
    "model = LightFM(loss='bpr',\n",
    "                random_state=2016,\n",
    "                learning_rate=0.90,\n",
    "                no_components=150,\n",
    "                user_alpha=0.000005)"
   ]
  },
  {
   "cell_type": "code",
   "execution_count": 67,
   "metadata": {},
   "outputs": [
    {
     "name": "stderr",
     "output_type": "stream",
     "text": [
      "Epoch: 100%|██████████| 10/10 [37:45<00:00, 226.51s/it]\n"
     ]
    }
   ],
   "source": [
    "model = model.fit(train,\n",
    "                  epochs=10,\n",
    "                  num_threads=16, verbose=True)"
   ]
  },
  {
   "cell_type": "code",
   "execution_count": 70,
   "metadata": {},
   "outputs": [
    {
     "name": "stdout",
     "output_type": "stream",
     "text": [
      "Precision: train 0.01, test 0.00.\n"
     ]
    }
   ],
   "source": [
    "train_precision = precision_at_k(model, train, k=10).mean()\n",
    "test_precision = precision_at_k(model, test, k=10).mean()\n",
    "print('Precision: train %.2f, test %.2f.' % (train_precision, test_precision))"
   ]
  },
  {
   "cell_type": "code",
   "execution_count": 71,
   "metadata": {},
   "outputs": [
    {
     "name": "stdout",
     "output_type": "stream",
     "text": [
      "recall: train 0.01, test 0.00.\n"
     ]
    }
   ],
   "source": [
    "train_recall = recall_at_k(model,train, k=10).mean()\n",
    "test_recall = recall_at_k(model,test, k=10).mean()\n",
    "print('recall: train %.2f, test %.2f.' % (train_recall, test_recall))"
   ]
  },
  {
   "cell_type": "code",
   "execution_count": 72,
   "metadata": {},
   "outputs": [
    {
     "name": "stdout",
     "output_type": "stream",
     "text": [
      "auc_score: train 0.93, test 0.89.\n"
     ]
    }
   ],
   "source": [
    "train_aucscore = auc_score(model, train).mean()\n",
    "test_aucscore = auc_score(model, test).mean()\n",
    "print('auc_score: train %.2f, test %.2f.' % (train_aucscore, test_aucscore))"
   ]
  },
  {
   "cell_type": "code",
   "execution_count": 73,
   "metadata": {},
   "outputs": [
    {
     "name": "stdout",
     "output_type": "stream",
     "text": [
      "reciprocal_rank: train 0.05, test 0.01.\n"
     ]
    }
   ],
   "source": [
    "train_reciprocal = reciprocal_rank(model, train).mean()\n",
    "test_reciprocal = reciprocal_rank(model,test).mean()\n",
    "print('reciprocal_rank: train %.2f, test %.2f.' % (train_reciprocal, test_reciprocal))"
   ]
  },
  {
   "cell_type": "code",
   "execution_count": null,
   "metadata": {},
   "outputs": [],
   "source": []
  }
 ],
 "metadata": {
  "colab": {
   "authorship_tag": "ABX9TyOwlFxxveIDg9M2cKH6OBmd",
   "collapsed_sections": [
    "Z2Ns3aBeaYHr"
   ],
   "include_colab_link": true,
   "name": "LightFM.ipynb",
   "provenance": []
  },
  "kernelspec": {
   "display_name": "Python 3",
   "language": "python",
   "name": "python3"
  },
  "language_info": {
   "codemirror_mode": {
    "name": "ipython",
    "version": 3
   },
   "file_extension": ".py",
   "mimetype": "text/x-python",
   "name": "python",
   "nbconvert_exporter": "python",
   "pygments_lexer": "ipython3",
   "version": "3.8.3"
  }
 },
 "nbformat": 4,
 "nbformat_minor": 1
}
