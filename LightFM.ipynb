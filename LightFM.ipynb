{
 "cells": [
  {
   "cell_type": "markdown",
   "metadata": {
    "colab_type": "text",
    "id": "view-in-github"
   },
   "source": [
    "<a href=\"https://colab.research.google.com/github/mheidari98/Movie-Recommender-Systems/blob/main/LightFM.ipynb\" target=\"_parent\"><img src=\"https://colab.research.google.com/assets/colab-badge.svg\" alt=\"Open In Colab\"/></a>"
   ]
  },
  {
   "cell_type": "markdown",
   "metadata": {
    "colab": {
     "base_uri": "https://localhost:8080/"
    },
    "id": "B0NsAXOQY0bL",
    "outputId": "22294ebe-5012-44ad-bfda-600b9c8d2c06"
   },
   "source": [
    "from google.colab import drive\n",
    "drive.mount('/content/gdrive')"
   ]
  },
  {
   "cell_type": "markdown",
   "metadata": {
    "colab": {
     "base_uri": "https://localhost:8080/"
    },
    "id": "0DqjNZs_dMHz",
    "outputId": "0f72bafd-37d4-4ba9-ead0-39d1711dccce"
   },
   "source": [
    "!pip install lightfm"
   ]
  },
  {
   "cell_type": "code",
   "execution_count": 11,
   "metadata": {
    "id": "DE959Lssa_78"
   },
   "outputs": [],
   "source": [
    "from lightfm import LightFM\n",
    "from lightfm.cross_validation import random_train_test_split\n",
    "from lightfm.evaluation import auc_score, precision_at_k, recall_at_k, reciprocal_rank\n",
    "from lightfm.data import Dataset\n",
    "from sklearn.model_selection import train_test_split\n",
    "import matplotlib.pyplot as plt\n",
    "import numpy as np\n",
    "import pandas as pd\n",
    "from datetime import datetime, timedelta\n",
    "from scipy.sparse import csr_matrix \n",
    "from scipy.sparse import coo_matrix \n",
    "import time\n",
    "from lightfm.evaluation import auc_score\n",
    "import pickle\n",
    "import re\n",
    "from sklearn.metrics import mean_squared_error,mean_absolute_error\n"
   ]
  },
  {
   "cell_type": "code",
   "execution_count": 16,
   "metadata": {
    "id": "gftbBVGrapkA"
   },
   "outputs": [],
   "source": [
    "Dataset_path = \"./DataSets/\"\n",
    "Movies_metadata = pd.read_csv(Dataset_path+\"MoviesInfo.csv\")\n",
    "ratings_1996 = pd.read_csv(Dataset_path+\"ratings_1996.csv\")\n",
    "ratings = pd.read_csv( Dataset_path + \"ml-latest/ratings.csv\")"
   ]
  },
  {
   "cell_type": "code",
   "execution_count": 18,
   "metadata": {},
   "outputs": [
    {
     "data": {
      "text/plain": [
       "(1612004, 4)"
      ]
     },
     "execution_count": 18,
     "metadata": {},
     "output_type": "execute_result"
    }
   ],
   "source": [
    "counts1 = ratings_1996['userId'].value_counts()\n",
    "ratings_1996 = ratings_1996[ratings_1996['userId'].isin(counts1[counts1 >= 20].index)]\n",
    "counts = ratings_1996['rating'].value_counts()\n",
    "ratings_1996 = ratings_1996[ratings_1996['rating'].isin(counts[counts >= 20].index)]\n",
    "ratings_1996.shape"
   ]
  },
  {
   "cell_type": "code",
   "execution_count": null,
   "metadata": {},
   "outputs": [],
   "source": []
  },
  {
   "cell_type": "markdown",
   "metadata": {},
   "source": [
    "### LightFM "
   ]
  },
  {
   "cell_type": "code",
   "execution_count": 20,
   "metadata": {},
   "outputs": [],
   "source": [
    "del ratings_1996['timestamp']\n",
    "#del ratings_2001['timestamp']\n"
   ]
  },
  {
   "cell_type": "code",
   "execution_count": 22,
   "metadata": {
    "colab": {
     "base_uri": "https://localhost:8080/"
    },
    "id": "7TQU3vV_atCU",
    "outputId": "ffd93efb-886b-4b27-8eae-76f65862ee40"
   },
   "outputs": [
    {
     "name": "stdout",
     "output_type": "stream",
     "text": [
      "(25817, 1391)\n"
     ]
    },
    {
     "data": {
      "text/html": [
       "<div>\n",
       "<style scoped>\n",
       "    .dataframe tbody tr th:only-of-type {\n",
       "        vertical-align: middle;\n",
       "    }\n",
       "\n",
       "    .dataframe tbody tr th {\n",
       "        vertical-align: top;\n",
       "    }\n",
       "\n",
       "    .dataframe thead th {\n",
       "        text-align: right;\n",
       "    }\n",
       "</style>\n",
       "<table border=\"1\" class=\"dataframe\">\n",
       "  <thead>\n",
       "    <tr style=\"text-align: right;\">\n",
       "      <th>movieId</th>\n",
       "      <th>1</th>\n",
       "      <th>2</th>\n",
       "      <th>3</th>\n",
       "      <th>4</th>\n",
       "      <th>5</th>\n",
       "      <th>6</th>\n",
       "      <th>7</th>\n",
       "      <th>8</th>\n",
       "      <th>9</th>\n",
       "      <th>10</th>\n",
       "      <th>...</th>\n",
       "      <th>3265</th>\n",
       "      <th>3266</th>\n",
       "      <th>4006</th>\n",
       "      <th>4424</th>\n",
       "      <th>4970</th>\n",
       "      <th>5060</th>\n",
       "      <th>6531</th>\n",
       "      <th>6677</th>\n",
       "      <th>6918</th>\n",
       "      <th>8739</th>\n",
       "    </tr>\n",
       "    <tr>\n",
       "      <th>userId</th>\n",
       "      <th></th>\n",
       "      <th></th>\n",
       "      <th></th>\n",
       "      <th></th>\n",
       "      <th></th>\n",
       "      <th></th>\n",
       "      <th></th>\n",
       "      <th></th>\n",
       "      <th></th>\n",
       "      <th></th>\n",
       "      <th></th>\n",
       "      <th></th>\n",
       "      <th></th>\n",
       "      <th></th>\n",
       "      <th></th>\n",
       "      <th></th>\n",
       "      <th></th>\n",
       "      <th></th>\n",
       "      <th></th>\n",
       "      <th></th>\n",
       "      <th></th>\n",
       "    </tr>\n",
       "  </thead>\n",
       "  <tbody>\n",
       "    <tr>\n",
       "      <th>6</th>\n",
       "      <td>0</td>\n",
       "      <td>0</td>\n",
       "      <td>0</td>\n",
       "      <td>0</td>\n",
       "      <td>0</td>\n",
       "      <td>0</td>\n",
       "      <td>0</td>\n",
       "      <td>0</td>\n",
       "      <td>0</td>\n",
       "      <td>4</td>\n",
       "      <td>...</td>\n",
       "      <td>0</td>\n",
       "      <td>0</td>\n",
       "      <td>0</td>\n",
       "      <td>0</td>\n",
       "      <td>0</td>\n",
       "      <td>0</td>\n",
       "      <td>0</td>\n",
       "      <td>0</td>\n",
       "      <td>0</td>\n",
       "      <td>0</td>\n",
       "    </tr>\n",
       "    <tr>\n",
       "      <th>16</th>\n",
       "      <td>0</td>\n",
       "      <td>0</td>\n",
       "      <td>0</td>\n",
       "      <td>0</td>\n",
       "      <td>0</td>\n",
       "      <td>0</td>\n",
       "      <td>0</td>\n",
       "      <td>0</td>\n",
       "      <td>0</td>\n",
       "      <td>0</td>\n",
       "      <td>...</td>\n",
       "      <td>0</td>\n",
       "      <td>0</td>\n",
       "      <td>0</td>\n",
       "      <td>0</td>\n",
       "      <td>0</td>\n",
       "      <td>0</td>\n",
       "      <td>0</td>\n",
       "      <td>0</td>\n",
       "      <td>0</td>\n",
       "      <td>0</td>\n",
       "    </tr>\n",
       "    <tr>\n",
       "      <th>18</th>\n",
       "      <td>0</td>\n",
       "      <td>0</td>\n",
       "      <td>0</td>\n",
       "      <td>0</td>\n",
       "      <td>0</td>\n",
       "      <td>3</td>\n",
       "      <td>0</td>\n",
       "      <td>0</td>\n",
       "      <td>0</td>\n",
       "      <td>3</td>\n",
       "      <td>...</td>\n",
       "      <td>0</td>\n",
       "      <td>0</td>\n",
       "      <td>0</td>\n",
       "      <td>0</td>\n",
       "      <td>0</td>\n",
       "      <td>0</td>\n",
       "      <td>0</td>\n",
       "      <td>0</td>\n",
       "      <td>0</td>\n",
       "      <td>0</td>\n",
       "    </tr>\n",
       "    <tr>\n",
       "      <th>19</th>\n",
       "      <td>0</td>\n",
       "      <td>0</td>\n",
       "      <td>4</td>\n",
       "      <td>0</td>\n",
       "      <td>0</td>\n",
       "      <td>4</td>\n",
       "      <td>0</td>\n",
       "      <td>0</td>\n",
       "      <td>4</td>\n",
       "      <td>4</td>\n",
       "      <td>...</td>\n",
       "      <td>0</td>\n",
       "      <td>0</td>\n",
       "      <td>0</td>\n",
       "      <td>0</td>\n",
       "      <td>0</td>\n",
       "      <td>0</td>\n",
       "      <td>0</td>\n",
       "      <td>0</td>\n",
       "      <td>0</td>\n",
       "      <td>0</td>\n",
       "    </tr>\n",
       "    <tr>\n",
       "      <th>58</th>\n",
       "      <td>4</td>\n",
       "      <td>0</td>\n",
       "      <td>0</td>\n",
       "      <td>0</td>\n",
       "      <td>0</td>\n",
       "      <td>0</td>\n",
       "      <td>0</td>\n",
       "      <td>0</td>\n",
       "      <td>0</td>\n",
       "      <td>0</td>\n",
       "      <td>...</td>\n",
       "      <td>0</td>\n",
       "      <td>0</td>\n",
       "      <td>0</td>\n",
       "      <td>0</td>\n",
       "      <td>0</td>\n",
       "      <td>0</td>\n",
       "      <td>0</td>\n",
       "      <td>0</td>\n",
       "      <td>0</td>\n",
       "      <td>0</td>\n",
       "    </tr>\n",
       "  </tbody>\n",
       "</table>\n",
       "<p>5 rows × 1391 columns</p>\n",
       "</div>"
      ],
      "text/plain": [
       "movieId  1     2     3     4     5     6     7     8     9     10    ...  \\\n",
       "userId                                                               ...   \n",
       "6           0     0     0     0     0     0     0     0     0     4  ...   \n",
       "16          0     0     0     0     0     0     0     0     0     0  ...   \n",
       "18          0     0     0     0     0     3     0     0     0     3  ...   \n",
       "19          0     0     4     0     0     4     0     0     4     4  ...   \n",
       "58          4     0     0     0     0     0     0     0     0     0  ...   \n",
       "\n",
       "movieId  3265  3266  4006  4424  4970  5060  6531  6677  6918  8739  \n",
       "userId                                                               \n",
       "6           0     0     0     0     0     0     0     0     0     0  \n",
       "16          0     0     0     0     0     0     0     0     0     0  \n",
       "18          0     0     0     0     0     0     0     0     0     0  \n",
       "19          0     0     0     0     0     0     0     0     0     0  \n",
       "58          0     0     0     0     0     0     0     0     0     0  \n",
       "\n",
       "[5 rows x 1391 columns]"
      ]
     },
     "execution_count": 22,
     "metadata": {},
     "output_type": "execute_result"
    }
   ],
   "source": [
    "#Generating ratings matrix from ratings table\n",
    "ratings_matrix = ratings_1996.pivot(index='userId', columns='movieId', values='rating')\n",
    "userID = ratings_matrix.index\n",
    "movieId = ratings_matrix.columns\n",
    "ratings_matrix.fillna(0, inplace = True)\n",
    "ratings_matrix = ratings_matrix.astype(np.int32)\n",
    "print(ratings_matrix.shape)\n",
    "ratings_matrix.head()"
   ]
  },
  {
   "cell_type": "code",
   "execution_count": 23,
   "metadata": {
    "id": "IUB-_fD44nQg"
   },
   "outputs": [],
   "source": [
    "def _shuffle(uids, iids, data, random_state):\n",
    "\n",
    "    shuffle_indices = np.arange(len(uids))\n",
    "    random_state.shuffle(shuffle_indices)\n",
    "\n",
    "    return (uids[shuffle_indices],\n",
    "            iids[shuffle_indices],\n",
    "            data[shuffle_indices])\n",
    "\n",
    "def random_train_test_split(interactions_df, test_percentage=0.25,random_state=None):\n",
    "\n",
    "    interactions = csr_matrix(interactions_df.values)\n",
    "    if random_state is None:\n",
    "        random_state = np.random.RandomState()\n",
    "\n",
    "    interactions = interactions.tocoo()\n",
    "\n",
    "    shape = interactions.shape\n",
    "    uids, iids, data = (interactions.row,\n",
    "                        interactions.col,\n",
    "                        interactions.data)\n",
    "\n",
    "    uids, iids, data = _shuffle(uids, iids, data, random_state)\n",
    "\n",
    "    cutoff = int((1.0 - test_percentage) * len(uids))\n",
    "\n",
    "    train_idx = slice(None, cutoff)\n",
    "    test_idx = slice(cutoff, None)\n",
    "\n",
    "    train = coo_matrix((data[train_idx],\n",
    "                           (uids[train_idx],\n",
    "                            iids[train_idx])),\n",
    "                          shape=shape,\n",
    "                          dtype=interactions.dtype)\n",
    "    test = coo_matrix((data[test_idx],\n",
    "                          (uids[test_idx],\n",
    "                           iids[test_idx])),\n",
    "                         shape=shape,\n",
    "                         dtype=interactions.dtype)\n",
    "\n",
    "    return train, test\n"
   ]
  },
  {
   "cell_type": "code",
   "execution_count": 24,
   "metadata": {},
   "outputs": [],
   "source": [
    "train,test = random_train_test_split(ratings_matrix)"
   ]
  },
  {
   "cell_type": "code",
   "execution_count": null,
   "metadata": {},
   "outputs": [],
   "source": []
  },
  {
   "cell_type": "markdown",
   "metadata": {},
   "source": [
    "### Warp"
   ]
  },
  {
   "cell_type": "code",
   "execution_count": 25,
   "metadata": {},
   "outputs": [],
   "source": [
    "model01 = LightFM(loss='warp',\n",
    "                learning_rate=0.90,\n",
    "                no_components=150,\n",
    "                user_alpha=0.000005)"
   ]
  },
  {
   "cell_type": "code",
   "execution_count": 26,
   "metadata": {
    "id": "nPY3drgfb8nH"
   },
   "outputs": [
    {
     "name": "stderr",
     "output_type": "stream",
     "text": [
      "Epoch: 100%|██████████| 10/10 [17:06<00:00, 102.66s/it]"
     ]
    },
    {
     "name": "stdout",
     "output_type": "stream",
     "text": [
      "--- Run time:  17.120810202757518 mins ---\n"
     ]
    },
    {
     "name": "stderr",
     "output_type": "stream",
     "text": [
      "\n"
     ]
    }
   ],
   "source": [
    "start_time = time.time()\n",
    "\n",
    "model01 = model01.fit(train,\n",
    "                  epochs=10,\n",
    "                  num_threads=16, verbose=True)\n",
    "\n",
    "print(\"--- Run time:  {} mins ---\".format((time.time() - start_time)/60))"
   ]
  },
  {
   "cell_type": "code",
   "execution_count": 27,
   "metadata": {
    "colab": {
     "base_uri": "https://localhost:8080/"
    },
    "id": "YQJ3JSXTTfvy",
    "outputId": "0f407086-8bf1-4cf8-9821-36a98c071968"
   },
   "outputs": [
    {
     "name": "stdout",
     "output_type": "stream",
     "text": [
      "Precision: train 0.01, test 0.00.\n"
     ]
    }
   ],
   "source": [
    "train_precision = precision_at_k(model01, train, k=10).mean()\n",
    "test_precision = precision_at_k(model01, test, k=10).mean()\n",
    "print('Precision: train %.2f, test %.2f.' % (train_precision, test_precision))\n"
   ]
  },
  {
   "cell_type": "code",
   "execution_count": 28,
   "metadata": {
    "colab": {
     "base_uri": "https://localhost:8080/"
    },
    "id": "n-8FggfbTnNS",
    "outputId": "4ba3afa4-c09d-4ab7-bebe-ce0cb8480eca"
   },
   "outputs": [
    {
     "name": "stdout",
     "output_type": "stream",
     "text": [
      "auc_score: train 0.51, test 0.50.\n"
     ]
    }
   ],
   "source": [
    "train_aucscore = auc_score(model01, train).mean()\n",
    "test_aucscore = auc_score(model01, test).mean()\n",
    "print('auc_score: train %.2f, test %.2f.' % (train_aucscore, test_aucscore))"
   ]
  },
  {
   "cell_type": "code",
   "execution_count": 29,
   "metadata": {},
   "outputs": [],
   "source": [
    "pred01 = model01.predict_rank(test)"
   ]
  },
  {
   "cell_type": "code",
   "execution_count": 30,
   "metadata": {},
   "outputs": [
    {
     "name": "stdout",
     "output_type": "stream",
     "text": [
      "MSE: 6252.733343131509\n",
      "MAE: 7.721877288876718\n",
      "RMSE: 79.07422679439559\n"
     ]
    }
   ],
   "source": [
    "print('MSE:',mean_squared_error(test.toarray(), pred01.toarray()))\n",
    "print('MAE:',mean_absolute_error(test.toarray(), pred01.toarray()))\n",
    "print('RMSE:',np.sqrt(mean_squared_error(test.toarray(), pred01.toarray())))"
   ]
  },
  {
   "cell_type": "code",
   "execution_count": null,
   "metadata": {},
   "outputs": [],
   "source": []
  },
  {
   "cell_type": "markdown",
   "metadata": {
    "id": "naEhB-IE6eav"
   },
   "source": [
    "### Bpr"
   ]
  },
  {
   "cell_type": "code",
   "execution_count": 31,
   "metadata": {},
   "outputs": [],
   "source": [
    "model02 = LightFM(loss='bpr',\n",
    "                learning_rate=0.90,\n",
    "                no_components=150,\n",
    "                user_alpha=0.000005)"
   ]
  },
  {
   "cell_type": "code",
   "execution_count": 32,
   "metadata": {},
   "outputs": [
    {
     "name": "stderr",
     "output_type": "stream",
     "text": [
      "Epoch: 100%|██████████| 10/10 [07:36<00:00, 45.61s/it]\n"
     ]
    }
   ],
   "source": [
    "model02 = model02.fit(train,\n",
    "                  epochs=10,\n",
    "                  num_threads=16, verbose=True)"
   ]
  },
  {
   "cell_type": "code",
   "execution_count": 33,
   "metadata": {},
   "outputs": [
    {
     "name": "stdout",
     "output_type": "stream",
     "text": [
      "Precision: train 0.49, test 0.00.\n"
     ]
    }
   ],
   "source": [
    "train_precision = precision_at_k(model02, train, k=10).mean()\n",
    "test_precision = precision_at_k(model02, test, k=10).mean()\n",
    "print('Precision: train %.2f, test %.2f.' % (train_precision, test_precision))"
   ]
  },
  {
   "cell_type": "code",
   "execution_count": 34,
   "metadata": {},
   "outputs": [
    {
     "name": "stdout",
     "output_type": "stream",
     "text": [
      "auc_score: train 0.97, test 0.90.\n"
     ]
    }
   ],
   "source": [
    "train_aucscore = auc_score(model02, train).mean()\n",
    "test_aucscore = auc_score(model02, test).mean()\n",
    "print('auc_score: train %.2f, test %.2f.' % (train_aucscore, test_aucscore))"
   ]
  },
  {
   "cell_type": "code",
   "execution_count": 35,
   "metadata": {},
   "outputs": [],
   "source": [
    "pred02 = model02.predict_rank(test)"
   ]
  },
  {
   "cell_type": "code",
   "execution_count": 36,
   "metadata": {},
   "outputs": [
    {
     "name": "stdout",
     "output_type": "stream",
     "text": [
      "MSE: 783.56256129139\n",
      "MAE: 2.113510964902083\n",
      "RMSE: 27.99218750457688\n"
     ]
    }
   ],
   "source": [
    "print('MSE:',mean_squared_error(test.toarray(), pred02.toarray()))\n",
    "print('MAE:',mean_absolute_error(test.toarray(), pred02.toarray()))\n",
    "print('RMSE:',np.sqrt(mean_squared_error(test.toarray(), pred02.toarray())))"
   ]
  },
  {
   "cell_type": "code",
   "execution_count": null,
   "metadata": {},
   "outputs": [],
   "source": []
  },
  {
   "cell_type": "code",
   "execution_count": null,
   "metadata": {},
   "outputs": [],
   "source": []
  }
 ],
 "metadata": {
  "colab": {
   "authorship_tag": "ABX9TyOwlFxxveIDg9M2cKH6OBmd",
   "collapsed_sections": [
    "Z2Ns3aBeaYHr"
   ],
   "include_colab_link": true,
   "name": "LightFM.ipynb",
   "provenance": []
  },
  "kernelspec": {
   "display_name": "Python 3",
   "language": "python",
   "name": "python3"
  }
 },
 "nbformat": 4,
 "nbformat_minor": 1
}
