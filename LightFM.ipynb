{
 "cells": [
  {
   "cell_type": "markdown",
   "metadata": {
    "colab_type": "text",
    "id": "view-in-github"
   },
   "source": [
    "<a href=\"https://colab.research.google.com/github/mheidari98/Movie-Recommender-Systems/blob/main/LightFM.ipynb\" target=\"_parent\"><img src=\"https://colab.research.google.com/assets/colab-badge.svg\" alt=\"Open In Colab\"/></a>"
   ]
  },
  {
   "cell_type": "markdown",
   "metadata": {
    "colab": {
     "base_uri": "https://localhost:8080/"
    },
    "id": "B0NsAXOQY0bL",
    "outputId": "22294ebe-5012-44ad-bfda-600b9c8d2c06"
   },
   "source": [
    "from google.colab import drive\n",
    "drive.mount('/content/gdrive')"
   ]
  },
  {
   "cell_type": "markdown",
   "metadata": {
    "colab": {
     "base_uri": "https://localhost:8080/"
    },
    "id": "0DqjNZs_dMHz",
    "outputId": "0f72bafd-37d4-4ba9-ead0-39d1711dccce"
   },
   "source": [
    "!pip install lightfm"
   ]
  },
  {
   "cell_type": "code",
   "execution_count": null,
   "metadata": {
    "id": "DE959Lssa_78"
   },
   "outputs": [],
   "source": [
    "from lightfm import LightFM\n",
    "from lightfm.cross_validation import random_train_test_split\n",
    "from lightfm.evaluation import auc_score, precision_at_k, recall_at_k, reciprocal_rank\n",
    "from lightfm.data import Dataset\n",
    "from lightfm.datasets import fetch_movielens\n",
    "from sklearn.model_selection import train_test_split\n",
    "import time\n",
    "import matplotlib\n",
    "import matplotlib.pyplot as plt\n",
    "import numpy as np\n",
    "import pandas as pd\n"
   ]
  },
  {
   "cell_type": "markdown",
   "metadata": {
    "id": "Z2Ns3aBeaYHr"
   },
   "source": [
    "#On 100k Dataset"
   ]
  },
  {
   "cell_type": "code",
   "execution_count": null,
   "metadata": {
    "colab": {
     "base_uri": "https://localhost:8080/"
    },
    "id": "ZnhilMS_bABd",
    "outputId": "325c4473-cd77-493b-b2de-e076dc0c55b3"
   },
   "outputs": [
    {
     "data": {
      "text/plain": [
       "{'item_feature_labels': array(['Toy Story (1995)', 'GoldenEye (1995)', 'Four Rooms (1995)', ...,\n",
       "        'Sliding Doors (1998)', 'You So Crazy (1994)',\n",
       "        'Scream of Stone (Schrei aus Stein) (1991)'], dtype=object),\n",
       " 'item_features': <1682x1682 sparse matrix of type '<class 'numpy.float32'>'\n",
       " \twith 1682 stored elements in Compressed Sparse Row format>,\n",
       " 'item_labels': array(['Toy Story (1995)', 'GoldenEye (1995)', 'Four Rooms (1995)', ...,\n",
       "        'Sliding Doors (1998)', 'You So Crazy (1994)',\n",
       "        'Scream of Stone (Schrei aus Stein) (1991)'], dtype=object),\n",
       " 'test': <943x1682 sparse matrix of type '<class 'numpy.int32'>'\n",
       " \twith 9430 stored elements in COOrdinate format>,\n",
       " 'train': <943x1682 sparse matrix of type '<class 'numpy.int32'>'\n",
       " \twith 90570 stored elements in COOrdinate format>}"
      ]
     },
     "execution_count": 55,
     "metadata": {
      "tags": []
     },
     "output_type": "execute_result"
    }
   ],
   "source": [
    "data = fetch_movielens(min_rating = 0.5)\n",
    "data"
   ]
  },
  {
   "cell_type": "code",
   "execution_count": null,
   "metadata": {
    "colab": {
     "base_uri": "https://localhost:8080/"
    },
    "id": "QyGyv90Hsy6B",
    "outputId": "bb3ca2e2-3447-4155-a5cb-c688f4313088"
   },
   "outputs": [
    {
     "name": "stdout",
     "output_type": "stream",
     "text": [
      "<943x1682 sparse matrix of type '<class 'numpy.int32'>'\n",
      "\twith 90570 stored elements in COOrdinate format>\n",
      "<943x1682 sparse matrix of type '<class 'numpy.int32'>'\n",
      "\twith 9430 stored elements in COOrdinate format>\n"
     ]
    }
   ],
   "source": [
    "print(repr(data['train']))\n",
    "print(repr(data['test']))\n"
   ]
  },
  {
   "cell_type": "code",
   "execution_count": null,
   "metadata": {
    "colab": {
     "base_uri": "https://localhost:8080/"
    },
    "id": "IZkcH8YrsRwU",
    "outputId": "ad6140af-9edd-479e-843e-3a590e3e739b"
   },
   "outputs": [
    {
     "data": {
      "text/plain": [
       "<lightfm.lightfm.LightFM at 0x7f15ff6e3650>"
      ]
     },
     "execution_count": 57,
     "metadata": {
      "tags": []
     },
     "output_type": "execute_result"
    }
   ],
   "source": [
    "model = LightFM(loss = 'warp')\n",
    "model.fit(data['train'], epochs=30, num_threads=2)\n"
   ]
  },
  {
   "cell_type": "code",
   "execution_count": null,
   "metadata": {
    "colab": {
     "base_uri": "https://localhost:8080/"
    },
    "id": "V3GHdGu-uuvy",
    "outputId": "d958f574-64a1-4fc4-8aa2-42ca5979c975"
   },
   "outputs": [
    {
     "name": "stdout",
     "output_type": "stream",
     "text": [
      "User 3\n",
      "   --Known Movies:\n",
      "        Seven (Se7en) (1995)\n",
      "        Indiana Jones and the Last Crusade (1989)\n",
      "        Contact (1997)\n",
      "   --Recommended Movies:\n",
      "        Contact (1997)\n",
      "        Air Force One (1997)\n",
      "        Liar Liar (1997)\n",
      "User 45\n",
      "   --Known Movies:\n",
      "        Twelve Monkeys (1995)\n",
      "        Star Wars (1977)\n",
      "        Welcome to the Dollhouse (1995)\n",
      "   --Recommended Movies:\n",
      "        English Patient, The (1996)\n",
      "        Contact (1997)\n",
      "        Scream (1996)\n",
      "User 450\n",
      "   --Known Movies:\n",
      "        Kolya (1996)\n",
      "        Devil's Own, The (1997)\n",
      "        Contact (1997)\n",
      "   --Recommended Movies:\n",
      "        Dante's Peak (1997)\n",
      "        Edge, The (1997)\n",
      "        Saint, The (1997)\n"
     ]
    }
   ],
   "source": [
    "def sample_recommendation(model, data, user_ids):\n",
    "    n_users, n_items = data['train'].shape\n",
    "    for user_id in user_ids:\n",
    "        known_positives = data['item_labels'][data['train'].tocsr()[user_id].indices]\n",
    "        scores = model.predict(user_id, np.arange(n_items))\n",
    "        top_items = data['item_labels'][np.argsort(-scores)]\n",
    "\n",
    "        #print out the results\n",
    "        print(\"User %s\" % user_id)\n",
    "        print(\"   --Known Movies:\")\n",
    "\n",
    "        for x in known_positives[:3]:\n",
    "            print(\"        %s\" % x)\n",
    "\n",
    "        print(\"   --Recommended Movies:\")\n",
    "\n",
    "        for x in top_items[:3]:\n",
    "            print(\"        %s\" % x)\n",
    "\n",
    "sample_recommendation(model, data, [3,45,450])\n"
   ]
  },
  {
   "cell_type": "code",
   "execution_count": null,
   "metadata": {
    "colab": {
     "base_uri": "https://localhost:8080/"
    },
    "id": "Ib1pD77YttqF",
    "outputId": "694ced48-0551-4d56-f48a-e3364ed20bd5"
   },
   "outputs": [
    {
     "data": {
      "text/plain": [
       "0.119406156"
      ]
     },
     "execution_count": 65,
     "metadata": {
      "tags": []
     },
     "output_type": "execute_result"
    }
   ],
   "source": [
    "precision = precision_at_k(model, data['test'], k=5).mean()\n",
    "precision"
   ]
  },
  {
   "cell_type": "code",
   "execution_count": null,
   "metadata": {
    "colab": {
     "base_uri": "https://localhost:8080/"
    },
    "id": "c7sDFBTbxQxK",
    "outputId": "d6bba686-9af8-4557-95dd-49334c2a631c"
   },
   "outputs": [
    {
     "data": {
      "text/plain": [
       "0.05970307529162248"
      ]
     },
     "execution_count": 60,
     "metadata": {
      "tags": []
     },
     "output_type": "execute_result"
    }
   ],
   "source": [
    "recall = recall_at_k(model, data['test'], k=5).mean()\n",
    "recall"
   ]
  },
  {
   "cell_type": "code",
   "execution_count": null,
   "metadata": {
    "colab": {
     "base_uri": "https://localhost:8080/"
    },
    "id": "WIupxHZVxo-9",
    "outputId": "3fcbdc8b-c36b-4b5d-cc5f-e428aa454326"
   },
   "outputs": [
    {
     "data": {
      "text/plain": [
       "0.9091304"
      ]
     },
     "execution_count": 66,
     "metadata": {
      "tags": []
     },
     "output_type": "execute_result"
    }
   ],
   "source": [
    "aucscore = auc_score(model, data['test']).mean()\n",
    "aucscore"
   ]
  },
  {
   "cell_type": "code",
   "execution_count": null,
   "metadata": {
    "colab": {
     "base_uri": "https://localhost:8080/"
    },
    "id": "ZCdfu_i3yioF",
    "outputId": "e0a28020-7c02-42bd-fa47-031a408ec340"
   },
   "outputs": [
    {
     "data": {
      "text/plain": [
       "0.26614708"
      ]
     },
     "execution_count": 67,
     "metadata": {
      "tags": []
     },
     "output_type": "execute_result"
    }
   ],
   "source": [
    "reciprocal = reciprocal_rank(model, data['test']).mean()\n",
    "reciprocal"
   ]
  },
  {
   "cell_type": "markdown",
   "metadata": {
    "id": "_rjE3QWmaiZJ"
   },
   "source": [
    "#on Origin DataSet"
   ]
  },
  {
   "cell_type": "code",
   "execution_count": null,
   "metadata": {
    "id": "gftbBVGrapkA"
   },
   "outputs": [],
   "source": [
    "Dataset_path = \"gdrive/MyDrive/Colab Notebooks/DataSet/\"\n",
    "Movies_metadata = pd.read_csv(Dataset_path+\"MoviesInfo.csv\")\n",
    "ratings = pd.read_csv(Dataset_path+\"CleanedRatings.csv\")"
   ]
  },
  {
   "cell_type": "code",
   "execution_count": null,
   "metadata": {
    "colab": {
     "base_uri": "https://localhost:8080/"
    },
    "id": "byAqoSmwzkAp",
    "outputId": "5b11063c-ec2b-4407-8d4e-051919ff9ef2"
   },
   "outputs": [
    {
     "data": {
      "text/plain": [
       "(156849, 3)"
      ]
     },
     "execution_count": 4,
     "metadata": {
      "tags": []
     },
     "output_type": "execute_result"
    }
   ],
   "source": [
    "ratings.shape"
   ]
  },
  {
   "cell_type": "code",
   "execution_count": null,
   "metadata": {
    "colab": {
     "base_uri": "https://localhost:8080/"
    },
    "id": "7TQU3vV_atCU",
    "outputId": "ffd93efb-886b-4b27-8eae-76f65862ee40"
   },
   "outputs": [
    {
     "name": "stdout",
     "output_type": "stream",
     "text": [
      "<5691x56 sparse matrix of type '<class 'numpy.int32'>'\n",
      "\twith 156849 stored elements in COOrdinate format>\n"
     ]
    }
   ],
   "source": [
    "data = Dataset()\n",
    "data.fit(ratings.userId.unique(), ratings.movieId.unique(),ratings.rating.unique())\n",
    "interactions, weights = data.build_interactions([tuple(i) for i in ratings.values])\n",
    "print(repr(interactions))"
   ]
  },
  {
   "cell_type": "code",
   "execution_count": null,
   "metadata": {
    "colab": {
     "base_uri": "https://localhost:8080/"
    },
    "id": "k9asP32EqQU3",
    "outputId": "7cf88286-33a5-48dc-c6a8-4fbae58f01e2"
   },
   "outputs": [
    {
     "data": {
      "text/plain": [
       "(5691, 56)"
      ]
     },
     "execution_count": 86,
     "metadata": {
      "tags": []
     },
     "output_type": "execute_result"
    }
   ],
   "source": [
    "interactions.shape"
   ]
  },
  {
   "cell_type": "code",
   "execution_count": null,
   "metadata": {
    "id": "IUB-_fD44nQg"
   },
   "outputs": [],
   "source": [
    "train,test = random_train_test_split(interactions,test_percentage=0.2,)"
   ]
  },
  {
   "cell_type": "code",
   "execution_count": null,
   "metadata": {
    "id": "nPY3drgfb8nH"
   },
   "outputs": [],
   "source": [
    "model = LightFM(loss='warp',\n",
    "                random_state=2016,\n",
    "                learning_rate=0.90,\n",
    "                no_components=150,\n",
    "                user_alpha=0.000005)\n",
    "\n",
    "model = model.fit(train,\n",
    "                  epochs=100,\n",
    "                  num_threads=16, verbose=False)"
   ]
  },
  {
   "cell_type": "code",
   "execution_count": null,
   "metadata": {
    "colab": {
     "base_uri": "https://localhost:8080/"
    },
    "id": "YQJ3JSXTTfvy",
    "outputId": "0f407086-8bf1-4cf8-9821-36a98c071968"
   },
   "outputs": [
    {
     "name": "stdout",
     "output_type": "stream",
     "text": [
      "Precision: train 0.66, test 0.06.\n"
     ]
    }
   ],
   "source": [
    "train_precision = precision_at_k(model, train, k=10).mean()\n",
    "test_precision = precision_at_k(model, test, k=10).mean()\n",
    "print('Precision: train %.2f, test %.2f.' % (train_precision, test_precision))\n"
   ]
  },
  {
   "cell_type": "code",
   "execution_count": null,
   "metadata": {
    "colab": {
     "base_uri": "https://localhost:8080/"
    },
    "id": "YAnTaGBaTmBs",
    "outputId": "dc27732c-3088-4f1a-93cf-0567fdc129df"
   },
   "outputs": [
    {
     "name": "stdout",
     "output_type": "stream",
     "text": [
      "recall: train 0.24, test 0.12.\n"
     ]
    }
   ],
   "source": [
    "train_recall = recall_at_k(model,train, k=10).mean()\n",
    "test_recall = recall_at_k(model,test, k=10).mean()\n",
    "print('recall: train %.2f, test %.2f.' % (train_recall, test_recall))"
   ]
  },
  {
   "cell_type": "code",
   "execution_count": null,
   "metadata": {
    "colab": {
     "base_uri": "https://localhost:8080/"
    },
    "id": "n-8FggfbTnNS",
    "outputId": "4ba3afa4-c09d-4ab7-bebe-ce0cb8480eca"
   },
   "outputs": [
    {
     "name": "stdout",
     "output_type": "stream",
     "text": [
      "auc_score: train 0.63, test 0.46.\n"
     ]
    }
   ],
   "source": [
    "train_aucscore = auc_score(model, train).mean()\n",
    "test_aucscore = auc_score(model, test).mean()\n",
    "print('auc_score: train %.2f, test %.2f.' % (train_aucscore, test_aucscore))"
   ]
  },
  {
   "cell_type": "code",
   "execution_count": null,
   "metadata": {
    "colab": {
     "base_uri": "https://localhost:8080/"
    },
    "id": "LQn3lplMTrfP",
    "outputId": "5b67fd25-4e3c-4e1d-fa7e-8b04f7c8500a"
   },
   "outputs": [
    {
     "name": "stdout",
     "output_type": "stream",
     "text": [
      "reciprocal_rank: train 0.68, test 0.19.\n"
     ]
    }
   ],
   "source": [
    "train_reciprocal = reciprocal_rank(model, train).mean()\n",
    "test_reciprocal = reciprocal_rank(model,test).mean()\n",
    "print('reciprocal_rank: train %.2f, test %.2f.' % (train_reciprocal, test_reciprocal))"
   ]
  },
  {
   "cell_type": "markdown",
   "metadata": {
    "id": "naEhB-IE6eav"
   },
   "source": [
    "#compare"
   ]
  },
  {
   "cell_type": "code",
   "execution_count": null,
   "metadata": {
    "id": "-wCBW4wKcObP"
   },
   "outputs": [],
   "source": [
    "alpha = 1e-05\n",
    "epochs = 70\n",
    "num_components = 32\n",
    "\n",
    "warp_model = LightFM(no_components=num_components,\n",
    "                    loss='warp',\n",
    "                    learning_schedule='adagrad',\n",
    "                    max_sampled=100,\n",
    "                    user_alpha=alpha,\n",
    "                    item_alpha=alpha)\n",
    "\n",
    "bpr_model = LightFM(no_components=num_components,\n",
    "                    loss='bpr',\n",
    "                    learning_schedule='adagrad',\n",
    "                    user_alpha=alpha,\n",
    "                    item_alpha=alpha)\n"
   ]
  },
  {
   "cell_type": "code",
   "execution_count": null,
   "metadata": {
    "id": "e5GUGfO9fiaS"
   },
   "outputs": [],
   "source": [
    "warp_duration = []\n",
    "bpr_duration = []\n",
    "warp_auc = []\n",
    "bpr_auc = []\n",
    "\n",
    "for epoch in range(epochs):\n",
    "    start = time.time()\n",
    "    warp_model.fit_partial(train, epochs=1)\n",
    "    warp_duration.append(time.time() - start)\n",
    "    warp_auc.append(auc_score(warp_model, test, train_interactions=train).mean())\n",
    "\n",
    "for epoch in range(epochs):\n",
    "    start = time.time()\n",
    "    bpr_model.fit_partial(train, epochs=1)\n",
    "    bpr_duration.append(time.time() - start)\n",
    "    bpr_auc.append(auc_score(bpr_model, test, train_interactions=train).mean())"
   ]
  },
  {
   "cell_type": "code",
   "execution_count": null,
   "metadata": {
    "colab": {
     "base_uri": "https://localhost:8080/",
     "height": 265
    },
    "id": "N3e-pQqW5F-1",
    "outputId": "14ea17e5-026b-4107-9e01-fb56fa31bbe2"
   },
   "outputs": [
    {
     "data": {
      "image/png": "[encoded data removed]",
      "text/plain": [
       "<Figure size 432x288 with 1 Axes>"
      ]
     },
     "metadata": {
      "needs_background": "light",
      "tags": []
     },
     "output_type": "display_data"
    }
   ],
   "source": [
    "x = np.arange(epochs)\n",
    "plt.plot(x, np.array(warp_auc))\n",
    "plt.plot(x, np.array(bpr_auc))\n",
    "plt.legend(['WARP AUC', 'BPR AUC'], loc='upper right')\n",
    "plt.show()"
   ]
  },
  {
   "cell_type": "code",
   "execution_count": null,
   "metadata": {
    "colab": {
     "base_uri": "https://localhost:8080/",
     "height": 269
    },
    "id": "tfGZzDAy17iY",
    "outputId": "55f4e3a8-2b27-4c93-e9ce-35bdea19f339"
   },
   "outputs": [
    {
     "data": {
      "image/png": "[encoded data removed]",
      "text/plain": [
       "<Figure size 432x288 with 1 Axes>"
      ]
     },
     "metadata": {
      "needs_background": "light",
      "tags": []
     },
     "output_type": "display_data"
    }
   ],
   "source": [
    "x = np.arange(epochs)\n",
    "plt.plot(x, np.array(warp_duration))\n",
    "plt.plot(x, np.array(bpr_duration))\n",
    "plt.legend(['WARP duration', 'BPR duration'], loc='upper right')\n",
    "plt.show()"
   ]
  },
  {
   "cell_type": "code",
   "execution_count": null,
   "metadata": {
    "id": "2dAD1LAjficq"
   },
   "outputs": [],
   "source": []
  }
 ],
 "metadata": {
  "colab": {
   "authorship_tag": "ABX9TyOwlFxxveIDg9M2cKH6OBmd",
   "collapsed_sections": [
    "Z2Ns3aBeaYHr"
   ],
   "include_colab_link": true,
   "name": "LightFM.ipynb",
   "provenance": []
  },
  "kernelspec": {
   "display_name": "Python 3",
   "language": "python",
   "name": "python3"
  },
  "language_info": {
   "codemirror_mode": {
    "name": "ipython",
    "version": 3
   },
   "file_extension": ".py",
   "mimetype": "text/x-python",
   "name": "python",
   "nbconvert_exporter": "python",
   "pygments_lexer": "ipython3",
   "version": "3.8.3"
  }
 },
 "nbformat": 4,
 "nbformat_minor": 1
}
