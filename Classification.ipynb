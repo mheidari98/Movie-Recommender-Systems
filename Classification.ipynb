{
 "cells": [
  {
   "cell_type": "markdown",
   "metadata": {},
   "source": [
    "from google.colab import drive\n",
    "drive.mount('/content/drive')"
   ]
  },
  {
   "cell_type": "code",
   "execution_count": 75,
   "metadata": {},
   "outputs": [],
   "source": [
    "import pandas as pd\n",
    "import numpy as np \n",
    "import matplotlib.pyplot as plt\n",
    "import sklearn\n",
    "\n",
    "from sklearn.model_selection import train_test_split\n",
    "from sklearn.metrics import mean_squared_error\n",
    "from math import sqrt\n",
    "\n",
    "import tensorflow.keras\n",
    "from tensorflow.keras.models import Sequential\n",
    "from tensorflow.keras.layers import Dense\n",
    "from tensorflow.keras.utils import to_categorical \n"
   ]
  },
  {
   "cell_type": "code",
   "execution_count": 76,
   "metadata": {},
   "outputs": [],
   "source": [
    "Dataset_path = \"./DataSets/\"\n",
    "Movies_metadata = pd.read_csv(Dataset_path+\"MoviesInfo.csv\")\n",
    "ratings = pd.read_csv(Dataset_path+\"ml-latest/ratings.csv\")\n",
    "Cleaned_ratings = pd.read_csv(Dataset_path+\"CleanedRatings.csv\")"
   ]
  },
  {
   "cell_type": "code",
   "execution_count": 60,
   "metadata": {},
   "outputs": [
    {
     "name": "stdout",
     "output_type": "stream",
     "text": [
      "<class 'pandas.core.frame.DataFrame'>\n",
      "RangeIndex: 27753444 entries, 0 to 27753443\n",
      "Data columns (total 4 columns):\n",
      " #   Column     Dtype  \n",
      "---  ------     -----  \n",
      " 0   userId     int64  \n",
      " 1   movieId    int64  \n",
      " 2   rating     float64\n",
      " 3   timestamp  int64  \n",
      "dtypes: float64(1), int64(3)\n",
      "memory usage: 847.0 MB\n"
     ]
    }
   ],
   "source": [
    "ratings.info()"
   ]
  },
  {
   "cell_type": "code",
   "execution_count": 66,
   "metadata": {},
   "outputs": [],
   "source": [
    "#ratings = ratings[ratings['rating']>4]\n",
    "target = Cleaned_ratings['rating'] \n",
    "predictors = Cleaned_ratings.drop(['rating'],axis=1)"
   ]
  },
  {
   "cell_type": "code",
   "execution_count": 67,
   "metadata": {},
   "outputs": [],
   "source": [
    "X_train, X_test, y_train, y_test = train_test_split(predictors, target, test_size=0.30, random_state=40)\n"
   ]
  },
  {
   "cell_type": "code",
   "execution_count": 68,
   "metadata": {},
   "outputs": [],
   "source": [
    "model = Sequential()\n",
    "model.add(Dense(12, input_dim=2, activation='relu'))\n",
    "model.add(Dense(8, activation='relu'))\n",
    "model.add(Dense(1, activation='sigmoid'))\n",
    "\n",
    "model.compile(loss='binary_crossentropy', optimizer='adam', metrics=['accuracy'])\n"
   ]
  },
  {
   "cell_type": "code",
   "execution_count": 69,
   "metadata": {},
   "outputs": [
    {
     "name": "stdout",
     "output_type": "stream",
     "text": [
      "Epoch 1/20\n",
      "12002/12002 [==============================] - 23s 2ms/step - loss: -17034982400.0000 - accuracy: 0.0415\n",
      "Epoch 2/20\n",
      "12002/12002 [==============================] - ETA: 0s - loss: -181727428608.0000 - accuracy: 0.04 - 21s 2ms/step - loss: -181910994944.0000 - accuracy: 0.0415\n",
      "Epoch 3/20\n",
      "12002/12002 [==============================] - 22s 2ms/step - loss: -663685627904.0000 - accuracy: 0.0415\n",
      "Epoch 4/20\n",
      "12002/12002 [==============================] - 21s 2ms/step - loss: -1620396474368.0000 - accuracy: 0.0415\n",
      "Epoch 5/20\n",
      "12002/12002 [==============================] - 21s 2ms/step - loss: -3203715301376.0000 - accuracy: 0.0415\n",
      "Epoch 6/20\n",
      "12002/12002 [==============================] - 21s 2ms/step - loss: -5562709311488.0000 - accuracy: 0.0415\n",
      "Epoch 7/20\n",
      "12002/12002 [==============================] - 21s 2ms/step - loss: -8850526699520.0000 - accuracy: 0.0415\n",
      "Epoch 8/20\n",
      "12002/12002 [==============================] - 21s 2ms/step - loss: -13221187551232.0000 - accuracy: 0.0415\n",
      "Epoch 9/20\n",
      "12002/12002 [==============================] - 21s 2ms/step - loss: -18818185297920.0000 - accuracy: 0.0415\n",
      "Epoch 10/20\n",
      "12002/12002 [==============================] - 22s 2ms/step - loss: -25796722819072.0000 - accuracy: 0.0415\n",
      "Epoch 11/20\n",
      "12002/12002 [==============================] - 21s 2ms/step - loss: -34295766843392.0000 - accuracy: 0.0415\n",
      "Epoch 12/20\n",
      "12002/12002 [==============================] - 21s 2ms/step - loss: -44476085043200.0000 - accuracy: 0.0415\n",
      "Epoch 13/20\n",
      "12002/12002 [==============================] - 22s 2ms/step - loss: -56463888220160.0000 - accuracy: 0.0415\n",
      "Epoch 14/20\n",
      "12002/12002 [==============================] - 21s 2ms/step - loss: -70444426199040.0000 - accuracy: 0.0415\n",
      "Epoch 15/20\n",
      "12002/12002 [==============================] - 21s 2ms/step - loss: -86540680167424.0000 - accuracy: 0.0415\n",
      "Epoch 16/20\n",
      "12002/12002 [==============================] - 22s 2ms/step - loss: -104891020214272.0000 - accuracy: 0.0415\n",
      "Epoch 17/20\n",
      "12002/12002 [==============================] - 21s 2ms/step - loss: -125651768049664.0000 - accuracy: 0.0415\n",
      "Epoch 18/20\n",
      "12002/12002 [==============================] - 21s 2ms/step - loss: -149015735828480.0000 - accuracy: 0.0415\n",
      "Epoch 19/20\n",
      "12002/12002 [==============================] - 23s 2ms/step - loss: -175067799486464.0000 - accuracy: 0.0415\n",
      "Epoch 20/20\n",
      "12002/12002 [==============================] - 23s 2ms/step - loss: -203916541165568.0000 - accuracy: 0.0415\n"
     ]
    },
    {
     "data": {
      "text/plain": [
       "<tensorflow.python.keras.callbacks.History at 0x23193cfac70>"
      ]
     },
     "execution_count": 69,
     "metadata": {},
     "output_type": "execute_result"
    }
   ],
   "source": [
    "model.fit(X_train, y_train, epochs=20, batch_size=10)\n"
   ]
  },
  {
   "cell_type": "code",
   "execution_count": 71,
   "metadata": {},
   "outputs": [
    {
     "name": "stdout",
     "output_type": "stream",
     "text": [
      "Accuracy on training data: 0.041493430733680725% \n",
      " Error on training data: 0.9585065692663193\n",
      "Accuracy on test data: 0.03967883810400963% \n",
      " Error on test data: 0.9603211618959904\n"
     ]
    }
   ],
   "source": [
    "pred_train= model.predict(X_train)\n",
    "scores1 = model.evaluate(X_train, y_train, verbose=0)\n",
    "print('Accuracy on training data: {}% \\n Error on training data: {}'.format(scores1[1], 1 - scores1[1]))   \n",
    " \n",
    "pred_test= model.predict(X_test)\n",
    "scores2 = model.evaluate(X_test, y_test, verbose=0)\n",
    "print('Accuracy on test data: {}% \\n Error on test data: {}'.format(scores2[1], 1 - scores2[1]))    "
   ]
  },
  {
   "cell_type": "code",
   "execution_count": null,
   "metadata": {},
   "outputs": [],
   "source": []
  }
 ],
 "metadata": {
  "kernelspec": {
   "display_name": "Python 3",
   "language": "python",
   "name": "python3"
  },
  "language_info": {
   "codemirror_mode": {
    "name": "ipython",
    "version": 3
   },
   "file_extension": ".py",
   "mimetype": "text/x-python",
   "name": "python",
   "nbconvert_exporter": "python",
   "pygments_lexer": "ipython3",
   "version": "3.8.3"
  }
 },
 "nbformat": 4,
 "nbformat_minor": 4
}
