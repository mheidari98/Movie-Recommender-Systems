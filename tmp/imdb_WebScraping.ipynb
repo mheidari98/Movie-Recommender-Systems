{
 "cells": [
  {
   "cell_type": "code",
   "execution_count": null,
   "id": "upper-netherlands",
   "metadata": {},
   "outputs": [],
   "source": []
  },
  {
   "cell_type": "code",
   "execution_count": 1,
   "id": "circular-drill",
   "metadata": {},
   "outputs": [],
   "source": [
    "import re\n",
    "import requests\n",
    "from bs4 import BeautifulSoup\n",
    "from selenium import webdriver\n",
    "from selenium.webdriver.common.keys import Keys\n",
    "import time\n",
    "import os\n",
    "from pathlib import Path\n",
    "import urllib.request\n",
    "import pandas as pd\n",
    "import numpy as np"
   ]
  },
  {
   "cell_type": "code",
   "execution_count": 2,
   "id": "undefined-february",
   "metadata": {},
   "outputs": [],
   "source": [
    "url = \"https://www.imdb.com/title/tt0435761\""
   ]
  },
  {
   "cell_type": "code",
   "execution_count": null,
   "id": "understood-williams",
   "metadata": {},
   "outputs": [],
   "source": []
  },
  {
   "cell_type": "code",
   "execution_count": 3,
   "id": "catholic-guest",
   "metadata": {},
   "outputs": [],
   "source": [
    "columnsName = ['movieId', 'genres', 'imdbId', 'imdb_title_id', 'title',\n",
    "       'original_title', 'year', 'date_published', 'genre', 'duration',\n",
    "       'country', 'language', 'director', 'writer', 'production_company',\n",
    "       'actors', 'description', 'avg_vote', 'votes', 'budget',\n",
    "       'usa_gross_income', 'worlwide_gross_income', 'metascore',\n",
    "       'reviews_from_users', 'reviews_from_critics']\n",
    "\n",
    "df = pd.DataFrame(columns=columnsName)"
   ]
  },
  {
   "cell_type": "code",
   "execution_count": null,
   "id": "complimentary-windows",
   "metadata": {},
   "outputs": [],
   "source": []
  },
  {
   "cell_type": "code",
   "execution_count": 4,
   "id": "identified-blink",
   "metadata": {},
   "outputs": [],
   "source": [
    "# r = requests.get(url, allow_redirects=True)\n",
    "# html_doc = r.text"
   ]
  },
  {
   "cell_type": "code",
   "execution_count": 5,
   "id": "supported-thousand",
   "metadata": {},
   "outputs": [],
   "source": [
    "def initialize_webdriver(url):\n",
    "    options = webdriver.ChromeOptions()\n",
    "    # options.add_argument(\"--enable-javascript\")\n",
    "    options.headless = True\n",
    "\n",
    "    driver = webdriver.Chrome('./chromedriver.exe', options=options) # geckodriver.exe\n",
    "    driver.implicitly_wait(10)\n",
    "    driver.get(url) \n",
    "\n",
    "    # this is just to ensure that the page is loaded\n",
    "    time.sleep(12) \n",
    "    \n",
    "    \n",
    "#     #### For Scroll infinite in page    \n",
    "#     SCROLL_PAUSE_TIME = 0.5\n",
    "#     # Get scroll height\n",
    "#     last_height = driver.execute_script(\"return document.body.scrollHeight\")\n",
    "#     while True:\n",
    "#         # Scroll down to bottom\n",
    "#         driver.execute_script(\"window.scrollTo(0, document.body.scrollHeight);\")\n",
    "#         # Wait to load page\n",
    "#         time.sleep(SCROLL_PAUSE_TIME)\n",
    "#         # Calculate new scroll height and compare with last scroll height\n",
    "#         new_height = driver.execute_script(\"return document.body.scrollHeight\")\n",
    "#         if new_height == last_height:\n",
    "#             break\n",
    "#         last_height = new_height\n",
    "        \n",
    "    html_doc = driver.page_source\n",
    "\n",
    "    driver.close()\n",
    "\n",
    "    return html_doc"
   ]
  },
  {
   "cell_type": "code",
   "execution_count": 6,
   "id": "based-nickel",
   "metadata": {},
   "outputs": [],
   "source": [
    "html_doc = initialize_webdriver(url)"
   ]
  },
  {
   "cell_type": "code",
   "execution_count": 7,
   "id": "sized-textbook",
   "metadata": {},
   "outputs": [],
   "source": [
    "# # https://www.crummy.com/software/BeautifulSoup/bs4/doc/#installing-a-parser\n",
    "\n",
    "soup = BeautifulSoup(html_doc, 'html5lib')  # 'html5lib' , 'html.parser'  'lxml'\n",
    "\n",
    "# print(soup.prettify())"
   ]
  },
  {
   "cell_type": "code",
   "execution_count": 8,
   "id": "disciplinary-leone",
   "metadata": {},
   "outputs": [],
   "source": [
    "string = soup.find('div', class_='title_wrapper').h1.text\n",
    "pattern = \"(.*)\\xa0\\((\\d+)\\)\"\n",
    "\n",
    "match = re.search( pattern , string) \n",
    "\n",
    "df.loc[0,'title'] = match.group(1)\n",
    "df.loc[0,'year'] = match.group(2)"
   ]
  },
  {
   "cell_type": "code",
   "execution_count": 9,
   "id": "integrated-attraction",
   "metadata": {},
   "outputs": [],
   "source": [
    "string = soup.find('div', class_='ratingValue').strong.get('title')\n",
    "pattern = \"(\\d*\\.?\\d*) based on (\\d*\\,?\\d*)\"\n",
    "\n",
    "match = re.search( pattern , string) \n",
    "\n",
    "df.loc[0,'avg_vote'] = match.group(1)  # ratingValue\n",
    "df.loc[0,'votes'] = match.group(2)  # ratingCount"
   ]
  },
  {
   "cell_type": "code",
   "execution_count": 10,
   "id": "handmade-serial",
   "metadata": {},
   "outputs": [],
   "source": [
    "df.loc[0,'duration'] = soup.find('div', class_='title_wrapper').time.text.strip()"
   ]
  },
  {
   "cell_type": "code",
   "execution_count": 11,
   "id": "surprised-arlington",
   "metadata": {},
   "outputs": [],
   "source": [
    "# df['genre'] = '|'.join( genre.text.strip() for genre in soup.find_all('div', class_='see-more inline canwrap')[1].find_all('a') )\n",
    "df.loc[0,'genre'] = '|'.join( genre.text.strip() for genre in soup.find('div', class_='title_wrapper').find_all('a')[1:-1] )"
   ]
  },
  {
   "cell_type": "code",
   "execution_count": 12,
   "id": "third-kingdom",
   "metadata": {},
   "outputs": [],
   "source": [
    "df.loc[0,'date_published'] = soup.find('div', class_='title_wrapper').find_all('a')[-1].text.strip()  # Release_Date"
   ]
  },
  {
   "cell_type": "code",
   "execution_count": 13,
   "id": "criminal-navigation",
   "metadata": {},
   "outputs": [],
   "source": [
    "df.loc[0,'metascore'] = soup.find('div', class_='metacriticScore score_favorable titleReviewBarSubItem').text.strip()"
   ]
  },
  {
   "cell_type": "code",
   "execution_count": 14,
   "id": "lyric-comment",
   "metadata": {},
   "outputs": [],
   "source": [
    "df.loc[0,'description'] = soup.find('div', class_='inline canwrap').text.strip()  # Storyline\n",
    "df.loc[0,'description'] = soup.find_all('div', class_='summary_text')[0].text.strip() # summary"
   ]
  },
  {
   "cell_type": "code",
   "execution_count": 15,
   "id": "armed-automation",
   "metadata": {},
   "outputs": [],
   "source": [
    "df.loc[0,'reviews_from_users'] = soup.find('div', class_='titleReviewBarItem titleReviewbarItemBorder').find_all('a')[0].text # '926 user'\n",
    "df.loc[0,'reviews_from_critics'] = soup.find('div', class_='titleReviewBarItem titleReviewbarItemBorder').find_all('a')[1].text  # '481 critic'"
   ]
  },
  {
   "cell_type": "code",
   "execution_count": 16,
   "id": "numerous-manor",
   "metadata": {},
   "outputs": [],
   "source": [
    "df.loc[0,'director'] = soup.find_all('div', class_='credit_summary_item')[0].a.text"
   ]
  },
  {
   "cell_type": "code",
   "execution_count": 17,
   "id": "invisible-employer",
   "metadata": {},
   "outputs": [
    {
     "data": {
      "text/plain": [
       "[<a href=\"/name/nm0005124/?ref_=tt_ov_wr\">John Lasseter</a>,\n",
       " <a href=\"/name/nm0004056/?ref_=tt_ov_wr\">Andrew Stanton</a>,\n",
       " <a href=\"fullcredits?ref_=tt_ov_wr#writers/\">2 more credits</a>]"
      ]
     },
     "execution_count": 17,
     "metadata": {},
     "output_type": "execute_result"
    }
   ],
   "source": [
    "# df['writer'] = \n",
    "soup.find_all('div', class_='credit_summary_item')[1].find_all('a')"
   ]
  },
  {
   "cell_type": "code",
   "execution_count": 18,
   "id": "forward-survivor",
   "metadata": {},
   "outputs": [
    {
     "data": {
      "text/plain": [
       "[<a href=\"/name/nm0000158/?ref_=tt_ov_st_sm\">Tom Hanks</a>,\n",
       " <a href=\"/name/nm0000741/?ref_=tt_ov_st_sm\">Tim Allen</a>,\n",
       " <a href=\"/name/nm0000349/?ref_=tt_ov_st_sm\">Joan Cusack</a>,\n",
       " <a href=\"fullcredits/?ref_=tt_ov_st_sm\">See full cast &amp; crew</a>]"
      ]
     },
     "execution_count": 18,
     "metadata": {},
     "output_type": "execute_result"
    }
   ],
   "source": [
    "# df['actors'] = \n",
    "soup.find_all('div', class_='credit_summary_item')[2].find_all('a')"
   ]
  },
  {
   "cell_type": "code",
   "execution_count": null,
   "id": "rising-handbook",
   "metadata": {},
   "outputs": [],
   "source": []
  },
  {
   "cell_type": "code",
   "execution_count": 19,
   "id": "outer-gambling",
   "metadata": {},
   "outputs": [],
   "source": [
    "# for item in soup.find_all('div', class_='txt-block') :\n",
    "#     try : \n",
    "#         h4text = item.h4.text\n",
    "#         print(h4text)   \n",
    "#         try : \n",
    "#             val = item.a.text\n",
    "#             print(\"\\t1)\", val)\n",
    "#         except Exception as e:\n",
    "#             val = item.text\n",
    "#             print(\"\\t2)\", val)\n",
    "        \n",
    "#     except Exception as e:\n",
    "#         print(f\"\\tERROR: {e}\")"
   ]
  },
  {
   "cell_type": "code",
   "execution_count": null,
   "id": "limiting-excellence",
   "metadata": {},
   "outputs": [],
   "source": []
  },
  {
   "cell_type": "code",
   "execution_count": 20,
   "id": "universal-diagram",
   "metadata": {},
   "outputs": [],
   "source": [
    "for item in soup.find_all('div', class_='txt-block') :\n",
    "    try : \n",
    "        h4text = item.h4.text\n",
    "        \n",
    "        if \"Country\" in h4text :\n",
    "            df.loc[0,'country'] = item.a.text\n",
    "\n",
    "        if \"Language\" in h4text :\n",
    "            df.loc[0,'language'] = item.a.text\n",
    "            \n",
    "        if \"Release Date\" in h4text :\n",
    "            df.loc[0,'date_published'] = re.search( 'Release Date: (.*)\\n' , item.text).group(1)\n",
    "\n",
    "        if \"Budget\" in h4text :\n",
    "            df.loc[0,'budget'] = re.search( 'Budget:(.*)\\n' , item.text).group(1)   # '$200,000,000'\n",
    "            \n",
    "        if \"Gross USA:\" in h4text :\n",
    "            df.loc[0,'usa_gross_income'] = re.search( 'Gross USA: (.*)' , item.text.strip() ).group(1)  # '$415,004,880'\n",
    "\n",
    "        if \"Cumulative Worldwide Gross:\" in h4text :\n",
    "            df.loc[0,'worlwide_gross_income'] = re.search( 'Cumulative Worldwide Gross: (.*)' , item.text.strip() ).group(1)  # '$1,066,970,811'\n",
    "            \n",
    "        if \"Runtime:\" in h4text :\n",
    "            df.loc[0,'duration'] = re.search( 'Runtime:\\n(\\d*)' , item.text.strip() ).group(1)   # '103'\n",
    "            \n",
    "        if \"Production Co:\" in h4text :\n",
    "            break\n",
    "            df.loc[0,'production_company'] = re.search( 'Production Co:\\n (.*) ' , item.text.strip() ).group(1)\n",
    "        \n",
    "        \n",
    "    except Exception as e:\n",
    "        print(f\"\\tERROR: {e}\")"
   ]
  },
  {
   "cell_type": "code",
   "execution_count": null,
   "id": "comfortable-clinic",
   "metadata": {},
   "outputs": [],
   "source": []
  },
  {
   "cell_type": "code",
   "execution_count": null,
   "id": "exceptional-diesel",
   "metadata": {},
   "outputs": [],
   "source": []
  },
  {
   "cell_type": "code",
   "execution_count": 21,
   "id": "urban-firmware",
   "metadata": {},
   "outputs": [],
   "source": [
    "html_doc = initialize_webdriver(url + '/releaseinfo')\n",
    "soup = BeautifulSoup(html_doc, 'html5lib')  # 'html5lib' , 'html.parser'  'lxml'"
   ]
  },
  {
   "cell_type": "code",
   "execution_count": 22,
   "id": "equipped-badge",
   "metadata": {},
   "outputs": [],
   "source": [
    "for item in soup.find_all('tr', class_='ipl-zebra-list__item aka-item') :\n",
    "    if \"original title\" in item.td.text :\n",
    "        df.loc[0,'original_title'] = item.find_all(\"td\")[1].text "
   ]
  },
  {
   "cell_type": "code",
   "execution_count": null,
   "id": "technological-indicator",
   "metadata": {},
   "outputs": [],
   "source": []
  },
  {
   "cell_type": "code",
   "execution_count": 24,
   "id": "small-arrow",
   "metadata": {},
   "outputs": [
    {
     "data": {
      "text/plain": [
       "movieId                                                                NaN\n",
       "genres                                                                 NaN\n",
       "imdbId                                                                 NaN\n",
       "imdb_title_id                                                          NaN\n",
       "title                                                          Toy Story 3\n",
       "original_title                                                 Toy Story 3\n",
       "year                                                                  2010\n",
       "date_published                                          18 June 2010 (USA)\n",
       "genre                                           Animation|Adventure|Comedy\n",
       "duration                                                          1h 43min\n",
       "country                                                                USA\n",
       "language                                                           English\n",
       "director                                                       Lee Unkrich\n",
       "writer                                                                 NaN\n",
       "production_company                                                     NaN\n",
       "actors                                                                 NaN\n",
       "description              The toys are mistakenly delivered to a day-car...\n",
       "avg_vote                                                               8.2\n",
       "votes                                                              771,581\n",
       "budget                                                        $200,000,000\n",
       "usa_gross_income                                              $415,004,880\n",
       "worlwide_gross_income                                       $1,066,970,811\n",
       "metascore                                                               92\n",
       "reviews_from_users                                                926 user\n",
       "reviews_from_critics                                            481 critic\n",
       "Name: 0, dtype: object"
      ]
     },
     "execution_count": 24,
     "metadata": {},
     "output_type": "execute_result"
    }
   ],
   "source": [
    "df.loc[0]"
   ]
  },
  {
   "cell_type": "code",
   "execution_count": null,
   "id": "auburn-universal",
   "metadata": {},
   "outputs": [],
   "source": []
  }
 ],
 "metadata": {
  "kernelspec": {
   "display_name": "Python 3",
   "language": "python",
   "name": "python3"
  },
  "language_info": {
   "codemirror_mode": {
    "name": "ipython",
    "version": 3
   },
   "file_extension": ".py",
   "mimetype": "text/x-python",
   "name": "python",
   "nbconvert_exporter": "python",
   "pygments_lexer": "ipython3",
   "version": "3.9.2"
  }
 },
 "nbformat": 4,
 "nbformat_minor": 5
}
