{
 "cells": [
  {
   "cell_type": "code",
   "execution_count": 1,
   "id": "pending-sector",
   "metadata": {},
   "outputs": [],
   "source": [
    "try:\n",
    "  import google.colab\n",
    "  IN_COLAB = True\n",
    "except:\n",
    "  IN_COLAB = False\n",
    "\n",
    "if IN_COLAB :\n",
    "    from google.colab import drive\n",
    "    drive.mount('/content/drive')\n",
    "\n",
    "if IN_COLAB :\n",
    "  Dataset_path = \"/content/drive/MyDrive/Colab Notebooks/DataSets/\"\n",
    "else :\n",
    "  Dataset_path = \"../DataSets/\""
   ]
  },
  {
   "cell_type": "code",
   "execution_count": 2,
   "id": "numeric-angola",
   "metadata": {},
   "outputs": [],
   "source": [
    "if IN_COLAB :\n",
    "    !pip3 install jenkspy"
   ]
  },
  {
   "cell_type": "code",
   "execution_count": 3,
   "id": "supposed-qatar",
   "metadata": {},
   "outputs": [],
   "source": [
    "# Imports\n",
    "import numpy as np\n",
    "import pandas as pd\n",
    "import re\n",
    "import requests\n",
    "from bs4 import BeautifulSoup"
   ]
  },
  {
   "cell_type": "code",
   "execution_count": 4,
   "id": "opponent-active",
   "metadata": {},
   "outputs": [],
   "source": [
    "df = pd.DataFrame(columns=['Country', 'Continent'])"
   ]
  },
  {
   "cell_type": "code",
   "execution_count": 5,
   "id": "proud-review",
   "metadata": {},
   "outputs": [],
   "source": [
    "r = requests.get(\"http://www.geonames.org/countries/\")"
   ]
  },
  {
   "cell_type": "code",
   "execution_count": 6,
   "id": "simple-current",
   "metadata": {},
   "outputs": [],
   "source": [
    "html_doc = r.text"
   ]
  },
  {
   "cell_type": "code",
   "execution_count": 7,
   "id": "bizarre-bread",
   "metadata": {},
   "outputs": [],
   "source": [
    "soup = BeautifulSoup( html_doc , 'lxml')"
   ]
  },
  {
   "cell_type": "code",
   "execution_count": 8,
   "id": "broadband-discount",
   "metadata": {},
   "outputs": [],
   "source": [
    "table = soup.find('table', class_='restable sortable')"
   ]
  },
  {
   "cell_type": "code",
   "execution_count": 9,
   "id": "modular-verse",
   "metadata": {},
   "outputs": [],
   "source": [
    "rows = table.find_all(\"tr\")"
   ]
  },
  {
   "cell_type": "markdown",
   "id": "ideal-struggle",
   "metadata": {},
   "source": [
    "https://stackoverflow.com/questions/10715965"
   ]
  },
  {
   "cell_type": "code",
   "execution_count": 10,
   "id": "difficult-mumbai",
   "metadata": {},
   "outputs": [],
   "source": [
    "i = 0\n",
    "for r in rows:\n",
    "    datas = r.find_all('td')\n",
    "    if not datas :\n",
    "        continue\n",
    "    df.loc[i] = [ datas[4].text, datas[8].text]\n",
    "    i +=1"
   ]
  },
  {
   "cell_type": "code",
   "execution_count": 11,
   "id": "alternate-mention",
   "metadata": {},
   "outputs": [],
   "source": [
    "# https://www.google.com/search?q={Country}+Continent\n",
    "df.loc[df.index.max() + 1] = ['Burma', 'AS']\n",
    "df.loc[df.index.max() + 1] = ['Cape Verde', 'AF']\n",
    "df.loc[df.index.max() + 1] = ['Czech Republic', 'EU']\n",
    "df.loc[df.index.max() + 1] = ['Czechoslovakia', 'EU']\n",
    "df.loc[df.index.max() + 1] = ['Côte d\\'Ivoire', 'AF']\n",
    "df.loc[df.index.max() + 1] = ['East Germany', 'EU']\n",
    "df.loc[df.index.max() + 1] = ['Federal Republic of Yugoslavia', 'EU']\n",
    "df.loc[df.index.max() + 1] = ['Holy See (Vatican City State)', 'EU']\n",
    "df.loc[df.index.max() + 1] = ['Isle Of Man', 'EU']\n",
    "df.loc[df.index.max() + 1] = ['Korea', 'AS']\n",
    "df.loc[df.index.max() + 1] = ['North Vietnam', 'AS']\n",
    "df.loc[df.index.max() + 1] = ['Republic of North Macedonia', 'EU']\n",
    "df.loc[df.index.max() + 1] = ['Reunion', 'AF']\n",
    "df.loc[df.index.max() + 1] = ['Soviet Union', 'EU']\n",
    "df.loc[df.index.max() + 1] = ['Svalbard And Jan Mayen', 'EU']\n",
    "df.loc[df.index.max() + 1] = ['Swaziland', 'AF']\n",
    "df.loc[df.index.max() + 1] = ['The Democratic Republic Of Congo', 'AF']\n",
    "df.loc[df.index.max() + 1] = ['UK', 'EU']\n",
    "df.loc[df.index.max() + 1] = ['USA', 'NA']\n",
    "df.loc[df.index.max() + 1] = ['West Germany', 'EU']\n",
    "df.loc[df.index.max() + 1] = ['Yugoslavia', 'EU']\n",
    "df.loc[df.index.max() + 1] = ['Zaire', 'AF']\n",
    "df.loc[df.index.max() + 1] = ['No Country', 'idk']"
   ]
  },
  {
   "cell_type": "code",
   "execution_count": null,
   "id": "waiting-pressing",
   "metadata": {},
   "outputs": [],
   "source": [
    "# 'EU', Europe\n",
    "# 'AS', Asia\n",
    "# 'NA', north Americas\n",
    "# 'AF', Africa\n",
    "# 'AN', Antarctica\n",
    "# 'SA', south Americas\n",
    "# 'OC', Oceania"
   ]
  },
  {
   "cell_type": "code",
   "execution_count": 12,
   "id": "hindu-progressive",
   "metadata": {},
   "outputs": [
    {
     "data": {
      "text/html": [
       "<div>\n",
       "<style scoped>\n",
       "    .dataframe tbody tr th:only-of-type {\n",
       "        vertical-align: middle;\n",
       "    }\n",
       "\n",
       "    .dataframe tbody tr th {\n",
       "        vertical-align: top;\n",
       "    }\n",
       "\n",
       "    .dataframe thead th {\n",
       "        text-align: right;\n",
       "    }\n",
       "</style>\n",
       "<table border=\"1\" class=\"dataframe\">\n",
       "  <thead>\n",
       "    <tr style=\"text-align: right;\">\n",
       "      <th></th>\n",
       "      <th>Country</th>\n",
       "      <th>Continent</th>\n",
       "    </tr>\n",
       "  </thead>\n",
       "  <tbody>\n",
       "    <tr>\n",
       "      <th>0</th>\n",
       "      <td>Andorra</td>\n",
       "      <td>EU</td>\n",
       "    </tr>\n",
       "    <tr>\n",
       "      <th>1</th>\n",
       "      <td>United Arab Emirates</td>\n",
       "      <td>AS</td>\n",
       "    </tr>\n",
       "    <tr>\n",
       "      <th>2</th>\n",
       "      <td>Afghanistan</td>\n",
       "      <td>AS</td>\n",
       "    </tr>\n",
       "    <tr>\n",
       "      <th>3</th>\n",
       "      <td>Antigua and Barbuda</td>\n",
       "      <td>NA</td>\n",
       "    </tr>\n",
       "    <tr>\n",
       "      <th>4</th>\n",
       "      <td>Anguilla</td>\n",
       "      <td>NA</td>\n",
       "    </tr>\n",
       "    <tr>\n",
       "      <th>...</th>\n",
       "      <td>...</td>\n",
       "      <td>...</td>\n",
       "    </tr>\n",
       "    <tr>\n",
       "      <th>270</th>\n",
       "      <td>USA</td>\n",
       "      <td>NA</td>\n",
       "    </tr>\n",
       "    <tr>\n",
       "      <th>271</th>\n",
       "      <td>West Germany</td>\n",
       "      <td>EU</td>\n",
       "    </tr>\n",
       "    <tr>\n",
       "      <th>272</th>\n",
       "      <td>Yugoslavia</td>\n",
       "      <td>EU</td>\n",
       "    </tr>\n",
       "    <tr>\n",
       "      <th>273</th>\n",
       "      <td>Zaire</td>\n",
       "      <td>AF</td>\n",
       "    </tr>\n",
       "    <tr>\n",
       "      <th>274</th>\n",
       "      <td>No Country</td>\n",
       "      <td>idk</td>\n",
       "    </tr>\n",
       "  </tbody>\n",
       "</table>\n",
       "<p>275 rows × 2 columns</p>\n",
       "</div>"
      ],
      "text/plain": [
       "                  Country Continent\n",
       "0                 Andorra        EU\n",
       "1    United Arab Emirates        AS\n",
       "2             Afghanistan        AS\n",
       "3     Antigua and Barbuda        NA\n",
       "4                Anguilla        NA\n",
       "..                    ...       ...\n",
       "270                   USA        NA\n",
       "271          West Germany        EU\n",
       "272            Yugoslavia        EU\n",
       "273                 Zaire        AF\n",
       "274            No Country       idk\n",
       "\n",
       "[275 rows x 2 columns]"
      ]
     },
     "execution_count": 12,
     "metadata": {},
     "output_type": "execute_result"
    }
   ],
   "source": [
    "df"
   ]
  },
  {
   "cell_type": "code",
   "execution_count": 13,
   "id": "personalized-paper",
   "metadata": {},
   "outputs": [],
   "source": [
    "df.to_csv(Dataset_path +'Country2Continent.csv', index=False)"
   ]
  },
  {
   "cell_type": "code",
   "execution_count": null,
   "id": "based-poster",
   "metadata": {},
   "outputs": [],
   "source": []
  }
 ],
 "metadata": {
  "kernelspec": {
   "display_name": ".FDM2021",
   "language": "python",
   "name": ".fdm2021"
  },
  "language_info": {
   "codemirror_mode": {
    "name": "ipython",
    "version": 3
   },
   "file_extension": ".py",
   "mimetype": "text/x-python",
   "name": "python",
   "nbconvert_exporter": "python",
   "pygments_lexer": "ipython3",
   "version": "3.9.2"
  }
 },
 "nbformat": 4,
 "nbformat_minor": 5
}
