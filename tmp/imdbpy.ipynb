{
 "cells": [
  {
   "cell_type": "markdown",
   "id": "federal-brick",
   "metadata": {},
   "source": [
    "## References\n",
    "- https://github.com/alberanid/imdbpy\n",
    "- https://imdbpy.readthedocs.io/en/latest/\n",
    "- https://imdbpy.github.io/"
   ]
  },
  {
   "cell_type": "markdown",
   "id": "specialized-lemon",
   "metadata": {},
   "source": [
    "## Installation"
   ]
  },
  {
   "cell_type": "markdown",
   "id": "joined-kingston",
   "metadata": {},
   "source": [
    "pip install imdbpy"
   ]
  },
  {
   "cell_type": "code",
   "execution_count": 1,
   "id": "transsexual-leadership",
   "metadata": {},
   "outputs": [],
   "source": [
    "from imdb import IMDb"
   ]
  },
  {
   "cell_type": "code",
   "execution_count": 2,
   "id": "significant-manhattan",
   "metadata": {},
   "outputs": [],
   "source": [
    "# create an instance of the IMDb class\n",
    "ia = IMDb()"
   ]
  },
  {
   "cell_type": "code",
   "execution_count": 3,
   "id": "ruled-beast",
   "metadata": {},
   "outputs": [],
   "source": [
    "func = lambda x : x[2:]\n",
    "\n",
    "# get a movie\n",
    "movie = ia.get_movie( func(\"tt0114117\") )"
   ]
  },
  {
   "cell_type": "code",
   "execution_count": 4,
   "id": "thousand-party",
   "metadata": {},
   "outputs": [
    {
     "name": "stdout",
     "output_type": "stream",
     "text": [
      "Directors:\n",
      "\tRoger Michell\n",
      "Genres:\n",
      "\tDrama\n"
     ]
    }
   ],
   "source": [
    "# print the names of the directors of the movie\n",
    "print('Directors:')\n",
    "for director in movie['directors']:\n",
    "    print( f\"\\t{director['name']}\")\n",
    "\n",
    "# print the genres of the movie\n",
    "print('Genres:')\n",
    "for genre in movie['genres']:\n",
    "    print(f\"\\t{genre}\")"
   ]
  },
  {
   "cell_type": "code",
   "execution_count": 5,
   "id": "incorporated-marketing",
   "metadata": {},
   "outputs": [
    {
     "name": "stdout",
     "output_type": "stream",
     "text": [
      "0000154 Mel Gibson\n",
      "2153167 Mel Gibson\n",
      "12550288 Mel Gibson\n",
      "3323885 Adam Taylor\n",
      "0317112 Mel Gibson\n",
      "2800055 Mel Gibson\n",
      "3742421 Melina Mari Bryant   nickname\n",
      "0316945 Donal Gibson\n",
      "0316878 Cal Gibson\n",
      "0317195 Terel Gibson\n",
      "4047961 Noel Gibson\n",
      "2106809 Raquel Gibson\n",
      "3912400 Jamel Gibson\n",
      "0316950 E.L. Gibson\n",
      "12479102 Gel Gibson\n",
      "6928816 Christel Gibson\n",
      "2798174 Daniel Gibson\n",
      "2988370 Mal Gibson\n",
      "7454542 L. Gibson\n",
      "12274391 Daniel Gibson\n"
     ]
    }
   ],
   "source": [
    "# search for a person name\n",
    "people = ia.search_person('Mel Gibson')\n",
    "for person in people:\n",
    "   print(person.personID, person['name'])"
   ]
  },
  {
   "cell_type": "code",
   "execution_count": 6,
   "id": "ahead-eleven",
   "metadata": {},
   "outputs": [
    {
     "name": "stdout",
     "output_type": "stream",
     "text": [
      "['akas', 'art department', 'art directors', 'aspect ratio', 'assistant directors', 'box office', 'camera department', 'canonical episode title', 'canonical series title', 'canonical title', 'cast', 'casting department', 'certificates', 'cinematographers', 'color info', 'composers', 'costume departmen', 'costume designers', 'countries', 'country codes', 'cover url', 'director', 'directors', 'distributors', 'editorial department', 'editors', 'episode', 'episode of', 'episode title', 'full-size cover url', 'genres', 'imdbID', 'kind', 'language codes', 'languages', 'localized title', 'location management', 'long imdb canonical title', 'long imdb episode title', 'long imdb title', 'make up department', 'miscellaneous', 'music department', 'next episode', 'number of episodes', 'original air date', 'other companies', 'plot', 'plot outline', 'previous episode', 'producers', 'production companies', 'production designers', 'rating', 'runtimes', 'script department', 'season', 'series title', 'smart canonical episode title', 'smart canonical series title', 'smart canonical title', 'smart long imdb canonical title', 'sound department', 'sound mix', 'special effects', 'stunts', 'title', 'transportation department', 'visual effects', 'votes', 'writer', 'writers', 'year']\n"
     ]
    }
   ],
   "source": [
    "# show all information that are currently available for a movie\n",
    "print(sorted(movie.keys()))"
   ]
  },
  {
   "cell_type": "code",
   "execution_count": 7,
   "id": "cubic-basket",
   "metadata": {},
   "outputs": [],
   "source": [
    "x = movie.keys()\n",
    "\n",
    "y = ['movieId', 'genres', 'imdbId', 'imdb_title_id', 'title',\n",
    "       'original_title', 'year', 'date_published', 'genre', 'duration',\n",
    "       'country', 'language', 'director', 'writer', 'production_company',\n",
    "       'actors', 'description', 'avg_vote', 'votes', 'budget',\n",
    "       'usa_gross_income', 'worlwide_gross_income', 'metascore',\n",
    "       'reviews_from_users', 'reviews_from_critics']"
   ]
  },
  {
   "cell_type": "code",
   "execution_count": 8,
   "id": "tough-fabric",
   "metadata": {},
   "outputs": [
    {
     "name": "stdout",
     "output_type": "stream",
     "text": [
      "movie['localized title'] Persuasion\n",
      "\n",
      "movie['cast'] [<Person id:0740500[http] name:_Amanda Root_>, <Person id:0001354[http] name:_Ciarán Hinds_>, <Person id:0281453[http] name:_Susan Fleetwood_>, <Person id:0714874[http] name:_Corin Redgrave_>, <Person id:0789716[http] name:_Fiona Shaw_>, <Person id:0940892[http] name:_John Woodvine_>, <Person id:0629498[http] name:_Phoebe Nicholls_>, <Person id:0922335[http] name:_Samuel West_>, <Person id:0860724[http] name:_Sophie Thompson_>, <Person id:0180498[http] name:_Judy Cornwell_>, <Person id:0750971[http] name:_Simon Russell Beale_>, <Person id:0212772[http] name:_Felicity Dean_>, <Person id:0358772[http] name:_Roger Hammond_>, <Person id:0731074[http] name:_Emma Roberts_>, <Person id:0358200[http] name:_Victoria Hamilton_>, <Person id:0322563[http] name:_Robert Glenister_>, <Person id:0564500[http] name:_Richard McCabe_>, <Person id:0772255[http] name:_Helen Schlesinger_>, <Person id:0939771[http] name:_Jane Wood_>, <Person id:0172059[http] name:_David Collings_>, <Person id:1714148[http] name:_Darlene Johnson_>, <Person id:0269657[http] name:_Cinnamon Faye_>, <Person id:0561840[http] name:_Isaac Maxwell-Hunt_>, <Person id:0515754[http] name:_Roger Llewellyn_>, <Person id:0313602[http] name:_Sally George_>, <Person id:0010314[http] name:_David Acton_>, <Person id:0043293[http] name:_Justin Avoth_>, <Person id:0416712[http] name:_Lonnie James_>, <Person id:11477313[http] name:_Lonnie James_>, <Person id:0914393[http] name:_Roger Watkins_>, <Person id:11477314[http] name:_Roger Watkins_>, <Person id:0687314[http] name:_David Plimmer_>, <Person id:0107508[http] name:_Richard Brenner_>, <Person id:0570311[http] name:_Bill McGuirk_>, <Person id:0716351[http] name:_Niall Refoy_>, <Person id:0795144[http] name:_Ken Shorter_>, <Person id:0449853[http] name:_Dermot Kerrigan_>, <Person id:0726602[http] name:_Tom Rigby_>, <Person id:11477315[http] name:_Tom Rigby_>, <Person id:0932798[http] name:_Alex Wilman_>, <Person id:0543426[http] name:_Rosa Mannion_>]\n",
      "\n",
      "movie['genres'] ['Drama']\n",
      "\n",
      "movie['runtimes'] ['107']\n",
      "\n",
      "movie['countries'] ['United Kingdom', 'United States', 'France']\n",
      "\n",
      "movie['country codes'] ['gb', 'us', 'fr']\n",
      "\n",
      "movie['language codes'] ['en']\n",
      "\n",
      "movie['color info'] ['Color']\n",
      "\n",
      "movie['aspect ratio'] 1.85 : 1\n",
      "\n",
      "movie['sound mix'] ['Dolby Digital']\n",
      "\n",
      "movie['box office'] {'Budget': 'GBP1,000,000 (estimated)'}\n",
      "\n",
      "movie['certificates'] ['Australia:G', 'Canada:PG', 'Finland:S', 'Germany:6', 'Iceland:L', 'Portugal:M/12', 'Singapore:PG', 'Spain:T', 'Sweden:Btl', 'United States:PG']\n",
      "\n",
      "movie['original air date'] 16 Apr 1995\n",
      "\n",
      "movie['number of episodes'] 165\n",
      "\n",
      "movie['previous episode'] 0196697\n",
      "\n",
      "movie['next episode'] 0112733\n",
      "\n",
      "movie['rating'] 7.7\n",
      "\n",
      "movie['votes'] 10069\n",
      "\n",
      "movie['cover url'] https://m.media-amazon.com/images/M/MV5BMTc5NzAwNDAyN15BMl5BanBnXkFtZTYwMjYzMDc5._V1_SY150_CR1,0,101,150_.jpg\n",
      "\n",
      "movie['imdbID'] 0114117\n",
      "\n",
      "movie['plot outline'] Eight years ago, Anne Elliot rejected Frederick Wentworth, the man she loved, out of a sense of duty and obedience. Now an ignored and faded spinster, she follows her financially stricken family from their home, only to be reintroduced to the now successful and wealthy Captain Frederick Wentworth. With their roles reversed and Captain Wentworth the eligible and wealthy bachelor, Anne navigates the scheming society that still tries to keep them apart.\n",
      "\n",
      "movie['languages'] ['English']\n",
      "\n",
      "movie['title'] Persuasion\n",
      "\n",
      "movie['year'] 1995\n",
      "\n",
      "movie['kind'] episode\n",
      "\n",
      "movie['directors'] [<Person id:0585011[http] name:_Roger Michell_>]\n",
      "\n",
      "movie['writers'] [<Person id:0000807[http] name:_Jane Austen_>, <Person id:None[http] name:_None_>, <Person id:0213116[http] name:_Nick Dear_>]\n",
      "\n",
      "movie['producers'] [<Person id:0247871[http] name:_Rebecca Eaton_>, <Person id:0264480[http] name:_George Faber_>, <Person id:0277974[http] name:_Fiona Finlay_>, <Person id:0371309[http] name:_Margot Hayhoe_>]\n",
      "\n",
      "movie['composers'] [<Person id:0760255[http] name:_Jeremy Sams_>]\n",
      "\n",
      "movie['cinematographers'] [<Person id:0198459[http] name:_John Daly_>]\n",
      "\n",
      "movie['editors'] [<Person id:0262935[http] name:_Kate Evans_>]\n",
      "\n",
      "movie['editorial department'] [<Person id:0110691[http] name:_Sally Brocklehurst_>]\n",
      "\n",
      "movie['production designers'] [<Person id:3561956[http] name:_William Dudley_>]\n",
      "\n",
      "movie['art directors'] [<Person id:0911690[http] name:_Linda Ward_>]\n",
      "\n",
      "movie['costume designers'] [<Person id:0126107[http] name:_Alexandra Byrne_>]\n",
      "\n",
      "movie['make up department'] [<Person id:0082256[http] name:_Kay Bilk_>, <Person id:0144114[http] name:_Joanna Casserly_>, <Person id:0172665[http] name:_Sally Collins_>, <Person id:0817252[http] name:_Jean Speak_>]\n",
      "\n",
      "movie['assistant directors'] [<Person id:0050567[http] name:_Nicki Ballantyne_>, <Person id:1471376[http] name:_Julie Edwards_>, <Person id:0325368[http] name:_Roger Goldby_>, <Person id:0362098[http] name:_Jo Harden_>, <Person id:0852288[http] name:_Donald Taylor_>]\n",
      "\n",
      "movie['art department'] [<Person id:0084058[http] name:_Graham Bishop_>, <Person id:0151929[http] name:_Dave Channon_>, <Person id:0244341[http] name:_John Durrant_>, <Person id:0341706[http] name:_Laurie Griffiths_>, <Person id:0588785[http] name:_Laurie Miller_>, <Person id:1242287[http] name:_Denise Slattery_>, <Person id:0843045[http] name:_Brian Sykes_>]\n",
      "\n",
      "movie['sound department'] [<Person id:0187765[http] name:_Lee Crichlow_>, <Person id:0255491[http] name:_Terry Elms_>, <Person id:0332231[http] name:_Mik Gough_>, <Person id:0621400[http] name:_Michael Narduzzo_>, <Person id:0635756[http] name:_Ben Norrington_>]\n",
      "\n",
      "movie['special effects'] [<Person id:0721645[http] name:_Chris Reynolds_>]\n",
      "\n",
      "movie['visual effects'] [<Person id:0331309[http] name:_Colin Gorry_>, <Person id:0570139[http] name:_Paul McGuinness_>]\n",
      "\n",
      "movie['stunts'] [<Person id:0129724[http] name:_Helen Caldwell_>]\n",
      "\n",
      "movie['camera department'] [<Person id:1427624[http] name:_Hugh Adams_>, <Person id:0036514[http] name:_John Arnold_>, <Person id:1354583[http] name:_Chris Capstick_>, <Person id:1357919[http] name:_Carlo Chinca_>, <Person id:0285233[http] name:_Stephen Foote_>, <Person id:0402354[http] name:_Bob Hunt_>, <Person id:0485876[http] name:_Paul Lang_>, <Person id:0676104[http] name:_Jan Pester_>, <Person id:0715392[http] name:_Dick Reed_>, <Person id:0851966[http] name:_Andrew Taylor_>, <Person id:1354117[http] name:_Mark Taylor_>, <Person id:0908871[http] name:_Steve Wallace_>]\n",
      "\n",
      "movie['casting department'] [<Person id:0102775[http] name:_Siobhan Bracke_>]\n",
      "\n",
      "movie['costume departmen'] [<Person id:1357910[http] name:_Maggie Bone_>, <Person id:1223123[http] name:_George Brent_>, <Person id:0519190[http] name:_Sharon Long_>, <Person id:1026843[http] name:_Debbie Scott_>]\n",
      "\n",
      "movie['location management'] [<Person id:0391905[http] name:_Julian Holmes_>, <Person id:0783646[http] name:_Jayne Selwyn-Roberts_>]\n",
      "\n",
      "movie['music department'] [<Person id:1014521[http] name:_Nicholas Bucknall_>, <Person id:3547158[http] name:_Michael Haslam_>, <Person id:1354168[http] name:_Howard Jones_>, <Person id:3006058[http] name:_Rebecca Jones_>, <Person id:3548541[http] name:_Pierre Jubert_>, <Person id:1103499[http] name:_Neil McLaren_>, <Person id:3549326[http] name:_Danielle Perrett_>, <Person id:0680954[http] name:_Tony Philpot_>, <Person id:0760255[http] name:_Jeremy Sams_>, <Person id:3549500[http] name:_Susan Tomes_>]\n",
      "\n",
      "movie['script department'] [<Person id:0086214[http] name:_Charlotte Blair_>, <Person id:0915721[http] name:_Catherine Wearing_>]\n",
      "\n",
      "movie['transportation department'] [<Person id:2083468[http] name:_Ian Yea_>]\n",
      "\n",
      "movie['miscellaneous'] [<Person id:0021976[http] name:_Paul Almond_>, <Person id:0110892[http] name:_Debbie Brodie_>, <Person id:1357926[http] name:_Margaret Confoy_>, <Person id:0370324[http] name:_Jane Hawley_>, <Person id:1358077[http] name:_Alf Potter_>, <Person id:0734650[http] name:_Monica Rodger_>, <Person id:0827256[http] name:_Geraldine Stephenson_>, <Person id:0323376[http] name:_Victor Glynn_>]\n",
      "\n",
      "movie['akas'] ['Jane Austens Verführung (Germany)', 'Verführung (Germany)', 'Persuasión (Spain)', 'Persuasão (Brazil)', 'Epirroes (Greece)']\n",
      "\n",
      "movie['season'] 11\n",
      "\n",
      "movie['episode'] 3\n",
      "\n",
      "movie['writer'] [<Person id:0000807[http] name:_Jane Austen_>, <Person id:0213116[http] name:_Nick Dear_>]\n",
      "\n",
      "movie['director'] [<Person id:0585011[http] name:_Roger Michell_>]\n",
      "\n",
      "movie['episode of'] Screen Two\n",
      "\n",
      "movie['production companies'] [<Company id:0103694[http] name:_BBC Films_>, <Company id:0042599[http] name:_Millésime Productions_>, <Company id:0041824[http] name:_WGBH_>, <Company id:0011107[http] name:_France 2 (FR2)_>, <Company id:0294698[http] name:_BBC tv_>]\n",
      "\n",
      "movie['distributors'] [<Company id:0043107[http] name:_British Broadcasting Corporation (BBC)_>, <Company id:0014453[http] name:_Sony Pictures Classics_>, <Company id:0114992[http] name:_BBC Video_>, <Company id:0063990[http] name:_Columbia TriStar Home Video_>, <Company id:0057443[http] name:_Columbia TriStar Films de España_>, <Company id:0002359[http] name:_New Vision Films_>, <Company id:0020389[http] name:_Prooptiki_>, <Company id:0002663[http] name:_Warner Bros._>, <Company id:0113335[http] name:_A-Film Home Entertainment_>, <Company id:0546168[http] name:_Apple TV+_>, <Company id:0006126[http] name:_Audio Visual Enterprises_>, <Company id:0063990[http] name:_Columbia TriStar Home Video_>, <Company id:0001850[http] name:_Columbia TriStar_>, <Company id:0322088[http] name:_KSM_>, <Company id:0039462[http] name:_Public Broadcasting Service (PBS)_>, <Company id:0190332[http] name:_RCV Home Entertainment_>, <Company id:0087306[http] name:_Sony Pictures Video_>, <Company id:0077674[http] name:_Warner Home Video_>]\n",
      "\n",
      "movie['other companies'] [<Company id:0019283[http] name:_The Music Studio_>, <Company id:0164952[http] name:_Wood Hall Catering_>, <Company id:0155932[http] name:_Cine-Europe_>, <Company id:0105304[http] name:_ARRI Lighting Rental_>, <Company id:0105096[http] name:_General Screen Enterprises_>, <Company id:0209526[http] name:_Exxon Mobil_>]\n",
      "\n",
      "movie['plot'] ['Eight years ago, Anne Elliot rejected Frederick Wentworth, the man she loved, out of a sense of duty and obedience. Now an ignored and faded spinster, she follows her financially stricken family from their home, only to be reintroduced to the now successful and wealthy Captain Frederick Wentworth. With their roles reversed and Captain Wentworth the eligible and wealthy bachelor, Anne navigates the scheming society that still tries to keep them apart.', \"Eight years earlier, Anne Elliot, the daughter of a financially troubled aristocratic family, was persuaded to break off her engagement to Frederick Wentworth, a young seaman, who, though promising, had poor family connections. When her father rents out the family estate to Admiral Croft, Anne is thrown into company with Frederick, because his sister is Mrs. Croft. Frederick is now a rich and successful Captain, and a highly eligible bachelor. Whom will he marry? One of Anne's sister's husband's sisters? Or will he and Anne rekindle the old flame?::John Oswalt <jao@jao.com>\", \"In 1814 England, 27-year old Anne Elliot lives an oppressive life with her father, Sir Walter Elliot of Kellynch Hall, and her elder sister Elizabeth, both of whom are incurable snobs. Eight and a half years ago, Anne been persuaded to refuse an offer of marriage from the man she loved, a young naval officer of no position or fortune. Now, after the Napoleonic wars, Captain Wentworth has gained both rank and money, and chance has thrown them together again. Anne finds herself confronted with thoughts of might-have-been as she watches Wentworth court her brother-in-law's sister, Louisa. But an accident causes Wentworth to realize whom he truly cares for, and he follows Anne to Bath. But her cousin William (the heir to Kellynch Hall) is also pursuing her and is rumored to be engaged to Anne. And she must overcome this last obstacle before she can persuade Captain Wentworth as to the true nature of her affections.::Kathy Li\"]\n",
      "\n",
      "movie['canonical title'] Persuasion\n",
      "\n",
      "movie['long imdb title'] \"Screen Two\" Persuasion (1995)\n",
      "\n",
      "movie['long imdb canonical title'] \"Screen Two\" Persuasion (1995)\n",
      "\n",
      "movie['smart canonical title'] Persuasion\n",
      "\n",
      "movie['smart long imdb canonical title'] \"Screen Two\" Persuasion (1995)\n",
      "\n",
      "movie['long imdb episode title'] \"Screen Two\" Persuasion (1995)\n",
      "\n",
      "movie['series title'] Screen Two\n",
      "\n",
      "movie['canonical series title'] Screen Two\n",
      "\n",
      "movie['episode title'] Persuasion\n",
      "\n",
      "movie['canonical episode title'] Persuasion\n",
      "\n",
      "movie['smart canonical series title'] Screen Two\n",
      "\n",
      "movie['smart canonical episode title'] Persuasion\n",
      "\n",
      "movie['full-size cover url'] https://m.media-amazon.com/images/M/MV5BMTc5NzAwNDAyN15BMl5BanBnXkFtZTYwMjYzMDc5.jpg\n",
      "\n"
     ]
    }
   ],
   "source": [
    "for item in x:\n",
    "    print( f\"movie['{item}']\", movie[item])\n",
    "    print()"
   ]
  },
  {
   "cell_type": "code",
   "execution_count": 9,
   "id": "oriented-industry",
   "metadata": {},
   "outputs": [],
   "source": [
    "import pandas as pd\n",
    "import numpy as np\n",
    "df = pd.DataFrame(columns=y)"
   ]
  },
  {
   "cell_type": "code",
   "execution_count": 10,
   "id": "respected-multiple",
   "metadata": {},
   "outputs": [],
   "source": [
    "df['title'] = movie['title']     \n",
    "df['original_title'] = movie['localized title']        # movie['akas']\n",
    "df['year'] = movie['year']\n",
    "df['date_published'] = movie['original air date']\n",
    "df['genre'] = movie['genres'] # list\n",
    "df['duration'] = movie['runtimes'][0]\n",
    "df['country'] = movie['countries'][0]   #list\n",
    "df['language'] = movie['languages']   # movie['language codes'][0]\n",
    "df['director'] = movie['director'][0]['name']\n",
    "df['writer'] = movie['writer'][0]['name']\n",
    "df['production_company'] = np.NaN\n",
    "df['actors'] = np.NaN\n",
    "df['description'] = movie['plot outline']\n",
    "df['avg_vote'] = movie['rating']\n",
    "df['votes'] = movie['votes']\n",
    "df['budget'] = movie['box office']['Budget']\n",
    "df['usa_gross_income'] = np.NaN\n",
    "df['worlwide_gross_income'] = np.NaN\n",
    "df['metascore'] = np.NaN\n",
    "df['reviews_from_users'] = np.NaN\n",
    "df['reviews_from_critics'] = np.NaN\n"
   ]
  },
  {
   "cell_type": "code",
   "execution_count": 11,
   "id": "proof-hamburg",
   "metadata": {},
   "outputs": [
    {
     "data": {
      "text/plain": [
       "movieId                                                                NaN\n",
       "genres                                                                 NaN\n",
       "imdbId                                                                 NaN\n",
       "imdb_title_id                                                          NaN\n",
       "title                                                                  NaN\n",
       "original_title                                                         NaN\n",
       "year                                                                   NaN\n",
       "date_published                                                         NaN\n",
       "genre                                                                Drama\n",
       "duration                                                               107\n",
       "country                                                     United Kingdom\n",
       "language                                                           English\n",
       "director                                                     Roger Michell\n",
       "writer                                                         Jane Austen\n",
       "production_company                                                     NaN\n",
       "actors                                                                 NaN\n",
       "description              Eight years ago, Anne Elliot rejected Frederic...\n",
       "avg_vote                                                               7.7\n",
       "votes                                                                10069\n",
       "budget                                            GBP1,000,000 (estimated)\n",
       "usa_gross_income                                                       NaN\n",
       "worlwide_gross_income                                                  NaN\n",
       "metascore                                                              NaN\n",
       "reviews_from_users                                                     NaN\n",
       "reviews_from_critics                                                   NaN\n",
       "Name: 0, dtype: object"
      ]
     },
     "execution_count": 11,
     "metadata": {},
     "output_type": "execute_result"
    }
   ],
   "source": [
    "df.loc[0]"
   ]
  },
  {
   "cell_type": "code",
   "execution_count": null,
   "id": "excess-digit",
   "metadata": {},
   "outputs": [],
   "source": []
  },
  {
   "cell_type": "code",
   "execution_count": 12,
   "id": "million-extreme",
   "metadata": {},
   "outputs": [
    {
     "name": "stdout",
     "output_type": "stream",
     "text": [
      "['airing', 'akas', 'alternate versions', 'awards', 'connections', 'crazy credits', 'critic reviews', 'episodes', 'external reviews', 'external sites', 'faqs', 'full credits', 'goofs', 'keywords', 'list', 'locations', 'main', 'misc sites', 'news', 'official sites', 'parents guide', 'photo sites', 'plot', 'quotes', 'recommendations', 'release dates', 'release info', 'reviews', 'sound clips', 'soundtrack', 'synopsis', 'taglines', 'technical', 'trivia', 'tv schedule', 'video clips', 'vote details']\n"
     ]
    }
   ],
   "source": [
    "# show all information sets that can be fetched for a movie\n",
    "print(ia.get_movie_infoset())"
   ]
  },
  {
   "cell_type": "code",
   "execution_count": null,
   "id": "pediatric-burlington",
   "metadata": {},
   "outputs": [],
   "source": []
  },
  {
   "cell_type": "code",
   "execution_count": null,
   "id": "instrumental-possible",
   "metadata": {},
   "outputs": [],
   "source": []
  }
 ],
 "metadata": {
  "kernelspec": {
   "display_name": ".FDM2021",
   "language": "python",
   "name": ".fdm2021"
  },
  "language_info": {
   "codemirror_mode": {
    "name": "ipython",
    "version": 3
   },
   "file_extension": ".py",
   "mimetype": "text/x-python",
   "name": "python",
   "nbconvert_exporter": "python",
   "pygments_lexer": "ipython3",
   "version": "3.9.2"
  }
 },
 "nbformat": 4,
 "nbformat_minor": 5
}
