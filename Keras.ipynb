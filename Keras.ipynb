{
 "cells": [
  {
   "cell_type": "markdown",
   "metadata": {},
   "source": [
    "from google.colab import drive\n",
    "drive.mount('/content/drive')"
   ]
  },
  {
   "cell_type": "code",
   "execution_count": 272,
   "metadata": {},
   "outputs": [],
   "source": [
    "import pandas as pd\n",
    "import numpy as np \n",
    "import matplotlib.pyplot as plt\n",
    "import sklearn\n",
    "\n",
    "from sklearn.model_selection import train_test_split\n",
    "from sklearn.metrics import mean_squared_error\n",
    "from math import sqrt\n",
    "\n",
    "import tensorflow.keras\n",
    "from tensorflow.keras.models import Sequential\n",
    "from tensorflow.keras.layers import Dense\n",
    "from tensorflow.keras.utils import to_categorical\n",
    "\n",
    "from sklearn.metrics import mean_squared_error,mean_absolute_error\n"
   ]
  },
  {
   "cell_type": "code",
   "execution_count": 222,
   "metadata": {},
   "outputs": [],
   "source": [
    "Dataset_path = \"./DataSets/\"\n",
    "Movies_metadata = pd.read_csv(Dataset_path+\"MoviesInfo.csv\")\n",
    "ratings = pd.read_csv(Dataset_path+\"ml-latest/ratings.csv\")"
   ]
  },
  {
   "cell_type": "code",
   "execution_count": 223,
   "metadata": {},
   "outputs": [
    {
     "name": "stdout",
     "output_type": "stream",
     "text": [
      "<class 'pandas.core.frame.DataFrame'>\n",
      "RangeIndex: 41896 entries, 0 to 41895\n",
      "Data columns (total 26 columns):\n",
      " #   Column                 Non-Null Count  Dtype  \n",
      "---  ------                 --------------  -----  \n",
      " 0   movieId                41896 non-null  int64  \n",
      " 1   genres                 41896 non-null  object \n",
      " 2   imdb_title_id          41896 non-null  object \n",
      " 3   title                  41896 non-null  object \n",
      " 4   original_title         41896 non-null  object \n",
      " 5   year                   41896 non-null  int64  \n",
      " 6   date_published         41896 non-null  object \n",
      " 7   genre                  41896 non-null  object \n",
      " 8   duration               41896 non-null  int64  \n",
      " 9   country                41890 non-null  object \n",
      " 10  language               41648 non-null  object \n",
      " 11  director               41886 non-null  object \n",
      " 12  writer                 41621 non-null  object \n",
      " 13  production_company     40944 non-null  object \n",
      " 14  actors                 41877 non-null  object \n",
      " 15  description            41589 non-null  object \n",
      " 16  avg_vote               41896 non-null  float64\n",
      " 17  votes                  41896 non-null  int64  \n",
      " 18  budget                 15453 non-null  object \n",
      " 19  usa_gross_income       13291 non-null  object \n",
      " 20  worlwide_gross_income  19887 non-null  object \n",
      " 21  metascore              11596 non-null  float64\n",
      " 22  reviews_from_users     40728 non-null  float64\n",
      " 23  reviews_from_critics   40120 non-null  float64\n",
      " 24  mean_vote              41896 non-null  float64\n",
      " 25  total_votes            41896 non-null  int64  \n",
      "dtypes: float64(5), int64(5), object(16)\n",
      "memory usage: 8.3+ MB\n"
     ]
    }
   ],
   "source": [
    "Movies_metadata.info()"
   ]
  },
  {
   "cell_type": "code",
   "execution_count": 171,
   "metadata": {},
   "outputs": [
    {
     "name": "stdout",
     "output_type": "stream",
     "text": [
      "<class 'pandas.core.frame.DataFrame'>\n",
      "RangeIndex: 41896 entries, 0 to 41895\n",
      "Data columns (total 16 columns):\n",
      " #   Column                 Non-Null Count  Dtype \n",
      "---  ------                 --------------  ----- \n",
      " 0   genres                 41896 non-null  object\n",
      " 1   imdb_title_id          41896 non-null  object\n",
      " 2   title                  41896 non-null  object\n",
      " 3   original_title         41896 non-null  object\n",
      " 4   date_published         41896 non-null  object\n",
      " 5   genre                  41896 non-null  object\n",
      " 6   country                41890 non-null  object\n",
      " 7   language               41648 non-null  object\n",
      " 8   director               41886 non-null  object\n",
      " 9   writer                 41621 non-null  object\n",
      " 10  production_company     40944 non-null  object\n",
      " 11  actors                 41877 non-null  object\n",
      " 12  description            41589 non-null  object\n",
      " 13  budget                 15453 non-null  object\n",
      " 14  usa_gross_income       13291 non-null  object\n",
      " 15  worlwide_gross_income  19887 non-null  object\n",
      "dtypes: object(16)\n",
      "memory usage: 5.1+ MB\n"
     ]
    }
   ],
   "source": [
    "obj_Movies_metadata = Movies_metadata.select_dtypes(include=['object']).copy()\n",
    "obj_Movies_metadata.info()"
   ]
  },
  {
   "cell_type": "code",
   "execution_count": 172,
   "metadata": {},
   "outputs": [],
   "source": [
    "myobj = ['country','language','director','production_company']\n",
    "\n",
    "for i in myobj:\n",
    "    obj_Movies_metadata[i] = obj_Movies_metadata[i].astype('category')\n",
    "    Movies_metadata[i] = obj_Movies_metadata[i].cat.codes\n"
   ]
  },
  {
   "cell_type": "code",
   "execution_count": 173,
   "metadata": {},
   "outputs": [
    {
     "name": "stdout",
     "output_type": "stream",
     "text": [
      "<class 'pandas.core.frame.DataFrame'>\n",
      "RangeIndex: 41896 entries, 0 to 41895\n",
      "Data columns (total 26 columns):\n",
      " #   Column                 Non-Null Count  Dtype  \n",
      "---  ------                 --------------  -----  \n",
      " 0   movieId                41896 non-null  int64  \n",
      " 1   genres                 41896 non-null  object \n",
      " 2   imdb_title_id          41896 non-null  object \n",
      " 3   title                  41896 non-null  object \n",
      " 4   original_title         41896 non-null  object \n",
      " 5   year                   41896 non-null  int64  \n",
      " 6   date_published         41896 non-null  object \n",
      " 7   genre                  41896 non-null  object \n",
      " 8   duration               41896 non-null  int64  \n",
      " 9   country                41896 non-null  int16  \n",
      " 10  language               41896 non-null  int16  \n",
      " 11  director               41896 non-null  int16  \n",
      " 12  writer                 41896 non-null  object \n",
      " 13  production_company     41896 non-null  int16  \n",
      " 14  actors                 41896 non-null  object \n",
      " 15  description            41896 non-null  object \n",
      " 16  avg_vote               41896 non-null  float64\n",
      " 17  votes                  41896 non-null  int64  \n",
      " 18  budget                 41896 non-null  object \n",
      " 19  usa_gross_income       41896 non-null  object \n",
      " 20  worlwide_gross_income  41896 non-null  object \n",
      " 21  metascore              41896 non-null  float64\n",
      " 22  reviews_from_users     41896 non-null  float64\n",
      " 23  reviews_from_critics   41896 non-null  float64\n",
      " 24  mean_vote              41896 non-null  float64\n",
      " 25  total_votes            41896 non-null  int64  \n",
      "dtypes: float64(5), int16(4), int64(5), object(12)\n",
      "memory usage: 7.4+ MB\n"
     ]
    }
   ],
   "source": [
    "Movies_metadata = Movies_metadata.fillna(100000)\n",
    "Movies_metadata.info()"
   ]
  },
  {
   "cell_type": "code",
   "execution_count": 174,
   "metadata": {},
   "outputs": [],
   "source": [
    "data =  Movies_metadata[['year','duration','metascore','reviews_from_users','reviews_from_critics'\n",
    "                              ,'country','language','director','production_company','mean_vote']]"
   ]
  },
  {
   "cell_type": "code",
   "execution_count": 175,
   "metadata": {},
   "outputs": [
    {
     "name": "stdout",
     "output_type": "stream",
     "text": [
      "<class 'pandas.core.frame.DataFrame'>\n",
      "Int64Index: 38725 entries, 0 to 41894\n",
      "Data columns (total 10 columns):\n",
      " #   Column                Non-Null Count  Dtype  \n",
      "---  ------                --------------  -----  \n",
      " 0   year                  38725 non-null  float64\n",
      " 1   duration              38725 non-null  float64\n",
      " 2   metascore             38725 non-null  float64\n",
      " 3   reviews_from_users    38725 non-null  float64\n",
      " 4   reviews_from_critics  38725 non-null  float64\n",
      " 5   country               38725 non-null  float64\n",
      " 6   language              38725 non-null  float64\n",
      " 7   director              38725 non-null  float64\n",
      " 8   production_company    38725 non-null  float64\n",
      " 9   mean_vote             38725 non-null  float64\n",
      "dtypes: float64(10)\n",
      "memory usage: 3.2 MB\n"
     ]
    }
   ],
   "source": [
    "from sklearn.preprocessing import StandardScaler\n",
    "scaler = StandardScaler()\n",
    "scaled = scaler.fit_transform(data.drop(['mean_vote'],axis=1))\n",
    "data_norm = pd.DataFrame(scaled,columns=(data.drop(['mean_vote'],axis=1).columns))\n",
    "data_norm= data_norm.join(data['mean_vote'])\n",
    "\n",
    "\n",
    "from scipy import stats\n",
    "z_scores = stats.zscore(data_norm.drop(['mean_vote'],axis=1))\n",
    "abs_z_scores = np.abs(z_scores)\n",
    "filtered_entries = (abs_z_scores < 3).all(axis=1)\n",
    "newdata = data_norm[filtered_entries]\n",
    "\n",
    "newdata.info()"
   ]
  },
  {
   "cell_type": "markdown",
   "metadata": {},
   "source": [
    "### Without Classing of target"
   ]
  },
  {
   "cell_type": "code",
   "execution_count": 176,
   "metadata": {},
   "outputs": [],
   "source": [
    "target = newdata['mean_vote'] \n",
    "predictors = newdata.drop(['mean_vote'],axis=1)"
   ]
  },
  {
   "cell_type": "code",
   "execution_count": 177,
   "metadata": {},
   "outputs": [],
   "source": [
    "X_train, X_test, y_train, y_test = train_test_split(predictors, target, test_size=0.30, random_state=40)\n"
   ]
  },
  {
   "cell_type": "code",
   "execution_count": 257,
   "metadata": {},
   "outputs": [],
   "source": [
    "model = Sequential()\n",
    "model.add(Dense(900, activation='relu', input_dim=9))\n",
    "model.add(Dense(300, activation='tanh'))\n",
    "model.add(Dense(150, activation='relu'))\n",
    "model.add(Dense(30, activation='relu'))\n",
    "model.add(Dense(1, activation='linear'))\n",
    "\n",
    "# Compile the model\n",
    "model.compile(optimizer='adam', loss='mean_absolute_error', metrics=['mean_squared_error'])"
   ]
  },
  {
   "cell_type": "code",
   "execution_count": 258,
   "metadata": {},
   "outputs": [
    {
     "name": "stdout",
     "output_type": "stream",
     "text": [
      "Epoch 1/20\n",
      "2711/2711 [==============================] - 18s 6ms/step - loss: 0.7478 - mean_squared_error: 0.9986\n",
      "Epoch 2/20\n",
      "2711/2711 [==============================] - 17s 6ms/step - loss: 0.7033 - mean_squared_error: 0.8495\n",
      "Epoch 3/20\n",
      "2711/2711 [==============================] - 17s 6ms/step - loss: 0.6946 - mean_squared_error: 0.8325\n",
      "Epoch 4/20\n",
      "2711/2711 [==============================] - 17s 6ms/step - loss: 0.6855 - mean_squared_error: 0.8163\n",
      "Epoch 5/20\n",
      "2711/2711 [==============================] - 17s 6ms/step - loss: 0.6802 - mean_squared_error: 0.8071\n",
      "Epoch 6/20\n",
      "2711/2711 [==============================] - 17s 6ms/step - loss: 0.6780 - mean_squared_error: 0.8044\n",
      "Epoch 7/20\n",
      "2711/2711 [==============================] - 17s 6ms/step - loss: 0.6780 - mean_squared_error: 0.8043\n",
      "Epoch 8/20\n",
      "2711/2711 [==============================] - 17s 6ms/step - loss: 0.6716 - mean_squared_error: 0.7920\n",
      "Epoch 9/20\n",
      "2711/2711 [==============================] - 17s 6ms/step - loss: 0.6720 - mean_squared_error: 0.7918\n",
      "Epoch 10/20\n",
      "2711/2711 [==============================] - 17s 6ms/step - loss: 0.6703 - mean_squared_error: 0.7883\n",
      "Epoch 11/20\n",
      "2711/2711 [==============================] - 17s 6ms/step - loss: 0.6672 - mean_squared_error: 0.7809\n",
      "Epoch 12/20\n",
      "2711/2711 [==============================] - 17s 6ms/step - loss: 0.6669 - mean_squared_error: 0.7804\n",
      "Epoch 13/20\n",
      "2711/2711 [==============================] - 17s 6ms/step - loss: 0.6638 - mean_squared_error: 0.7754\n",
      "Epoch 14/20\n",
      "2711/2711 [==============================] - 17s 6ms/step - loss: 0.6620 - mean_squared_error: 0.7732\n",
      "Epoch 15/20\n",
      "2711/2711 [==============================] - 17s 6ms/step - loss: 0.6601 - mean_squared_error: 0.7690\n",
      "Epoch 16/20\n",
      "2711/2711 [==============================] - 17s 6ms/step - loss: 0.6589 - mean_squared_error: 0.7666\n",
      "Epoch 17/20\n",
      "2711/2711 [==============================] - 17s 6ms/step - loss: 0.6561 - mean_squared_error: 0.7624\n",
      "Epoch 18/20\n",
      "2711/2711 [==============================] - 17s 6ms/step - loss: 0.6559 - mean_squared_error: 0.7604\n",
      "Epoch 19/20\n",
      "2711/2711 [==============================] - 17s 6ms/step - loss: 0.6554 - mean_squared_error: 0.7606\n",
      "Epoch 20/20\n",
      "2711/2711 [==============================] - 17s 6ms/step - loss: 0.6535 - mean_squared_error: 0.7577\n"
     ]
    },
    {
     "data": {
      "text/plain": [
       "<tensorflow.python.keras.callbacks.History at 0x2019da1bac0>"
      ]
     },
     "execution_count": 258,
     "metadata": {},
     "output_type": "execute_result"
    }
   ],
   "source": [
    "model.fit(X_train, y_train, epochs=20, batch_size=10)"
   ]
  },
  {
   "cell_type": "code",
   "execution_count": null,
   "metadata": {},
   "outputs": [],
   "source": [
    "y_pred= model.predict(X_test)"
   ]
  },
  {
   "cell_type": "code",
   "execution_count": 259,
   "metadata": {},
   "outputs": [
    {
     "name": "stdout",
     "output_type": "stream",
     "text": [
      "Accuracy on test data: 0.7781487703323364% \n",
      " Error on test data: 0.22185122966766357\n"
     ]
    }
   ],
   "source": [
    "scores = model.evaluate(X_test, y_test, verbose=0)\n",
    "print('Accuracy on test data: {}% \\n Error on test data: {}'.format(scores[1], 1 - scores[1]))    "
   ]
  },
  {
   "cell_type": "code",
   "execution_count": 260,
   "metadata": {},
   "outputs": [
    {
     "name": "stdout",
     "output_type": "stream",
     "text": [
      "MSE: 0.7781488182432842\n",
      "MAE: 0.6611473182902152\n",
      "RMSE: 0.882127438777008\n"
     ]
    }
   ],
   "source": [
    "print('MSE:',mean_squared_error(y_test, y_pred))\n",
    "print('MAE:',mean_absolute_error(y_test, y_pred))\n",
    "print('RMSE:',np.sqrt(mean_squared_error(y_test, y_pred)))"
   ]
  },
  {
   "cell_type": "markdown",
   "metadata": {},
   "source": [
    "### With Classing mean_vote"
   ]
  },
  {
   "cell_type": "code",
   "execution_count": 266,
   "metadata": {},
   "outputs": [
    {
     "name": "stderr",
     "output_type": "stream",
     "text": [
      "<ipython-input-266-31771ccae61c>:1: SettingWithCopyWarning: \n",
      "A value is trying to be set on a copy of a slice from a DataFrame.\n",
      "Try using .loc[row_indexer,col_indexer] = value instead\n",
      "\n",
      "See the caveats in the documentation: https://pandas.pydata.org/pandas-docs/stable/user_guide/indexing.html#returning-a-view-versus-a-copy\n",
      "  newdata['mean_vote_class'] = 0\n",
      "<ipython-input-266-31771ccae61c>:2: SettingWithCopyWarning: \n",
      "A value is trying to be set on a copy of a slice from a DataFrame\n",
      "\n",
      "See the caveats in the documentation: https://pandas.pydata.org/pandas-docs/stable/user_guide/indexing.html#returning-a-view-versus-a-copy\n",
      "  newdata['mean_vote_class'][newdata['mean_vote']>3.5] = 1\n",
      "C:\\Users\\PJ\\anaconda3\\lib\\site-packages\\pandas\\core\\generic.py:8765: SettingWithCopyWarning: \n",
      "A value is trying to be set on a copy of a slice from a DataFrame\n",
      "\n",
      "See the caveats in the documentation: https://pandas.pydata.org/pandas-docs/stable/user_guide/indexing.html#returning-a-view-versus-a-copy\n",
      "  self._update_inplace(new_data)\n",
      "<ipython-input-266-31771ccae61c>:3: SettingWithCopyWarning: \n",
      "A value is trying to be set on a copy of a slice from a DataFrame\n",
      "\n",
      "See the caveats in the documentation: https://pandas.pydata.org/pandas-docs/stable/user_guide/indexing.html#returning-a-view-versus-a-copy\n",
      "  newdata['mean_vote_class'][newdata['mean_vote']<=3.5] = 0\n"
     ]
    }
   ],
   "source": [
    "newdata['mean_vote_class'] = 0\n",
    "newdata['mean_vote_class'][newdata['mean_vote']>3.5] = 1\n",
    "newdata['mean_vote_class'][newdata['mean_vote']<=3.5] = 0\n"
   ]
  },
  {
   "cell_type": "code",
   "execution_count": 267,
   "metadata": {},
   "outputs": [],
   "source": [
    "target = newdata['mean_vote_class'] \n",
    "predictors = newdata.drop(['mean_vote','mean_vote_class'],axis=1)\n",
    "\n",
    "X_train, X_test, y_train, y_test = train_test_split(predictors, target, test_size=0.30, random_state=40)\n"
   ]
  },
  {
   "cell_type": "code",
   "execution_count": 275,
   "metadata": {},
   "outputs": [],
   "source": [
    "model = Sequential()\n",
    "model.add(Dense(900, activation='relu', input_dim=9))\n",
    "model.add(Dense(300, activation='tanh'))\n",
    "model.add(Dense(150, activation='relu'))\n",
    "model.add(Dense(30, activation='relu'))\n",
    "model.add(Dense(1, activation='linear'))\n",
    "\n",
    "# Compile the model\n",
    "model.compile(optimizer='adam', loss='mean_absolute_error', metrics=['mean_squared_error'])"
   ]
  },
  {
   "cell_type": "code",
   "execution_count": 276,
   "metadata": {},
   "outputs": [
    {
     "name": "stdout",
     "output_type": "stream",
     "text": [
      "Epoch 1/20\n",
      "2711/2711 [==============================] - 18s 6ms/step - loss: 0.0148 - mean_squared_error: 0.0148\n",
      "Epoch 2/20\n",
      "2711/2711 [==============================] - 17s 6ms/step - loss: 0.0148 - mean_squared_error: 0.0148\n",
      "Epoch 3/20\n",
      "2711/2711 [==============================] - 17s 6ms/step - loss: 0.0148 - mean_squared_error: 0.0148\n",
      "Epoch 4/20\n",
      "2711/2711 [==============================] - 17s 6ms/step - loss: 0.0148 - mean_squared_error: 0.0148\n",
      "Epoch 5/20\n",
      "2711/2711 [==============================] - 17s 6ms/step - loss: 0.0148 - mean_squared_error: 0.0148\n",
      "Epoch 6/20\n",
      "2711/2711 [==============================] - 17s 6ms/step - loss: 0.0148 - mean_squared_error: 0.0148\n",
      "Epoch 7/20\n",
      "2711/2711 [==============================] - 17s 6ms/step - loss: 0.0148 - mean_squared_error: 0.0148\n",
      "Epoch 8/20\n",
      "2711/2711 [==============================] - 17s 6ms/step - loss: 0.0148 - mean_squared_error: 0.0148\n",
      "Epoch 9/20\n",
      "2711/2711 [==============================] - 17s 6ms/step - loss: 0.0148 - mean_squared_error: 0.0148\n",
      "Epoch 10/20\n",
      "2711/2711 [==============================] - 17s 6ms/step - loss: 0.0148 - mean_squared_error: 0.0148\n",
      "Epoch 11/20\n",
      "2711/2711 [==============================] - 17s 6ms/step - loss: 0.0148 - mean_squared_error: 0.0148\n",
      "Epoch 12/20\n",
      "2711/2711 [==============================] - 17s 6ms/step - loss: 0.0148 - mean_squared_error: 0.0148\n",
      "Epoch 13/20\n",
      "2711/2711 [==============================] - 17s 6ms/step - loss: 0.0148 - mean_squared_error: 0.0148\n",
      "Epoch 14/20\n",
      "2711/2711 [==============================] - 17s 6ms/step - loss: 0.0148 - mean_squared_error: 0.0148\n",
      "Epoch 15/20\n",
      "2711/2711 [==============================] - 17s 6ms/step - loss: 0.0148 - mean_squared_error: 0.0148\n",
      "Epoch 16/20\n",
      "2711/2711 [==============================] - 17s 6ms/step - loss: 0.0148 - mean_squared_error: 0.0148\n",
      "Epoch 17/20\n",
      "2711/2711 [==============================] - 17s 6ms/step - loss: 0.0148 - mean_squared_error: 0.0148\n",
      "Epoch 18/20\n",
      "2711/2711 [==============================] - 17s 6ms/step - loss: 0.0148 - mean_squared_error: 0.0148\n",
      "Epoch 19/20\n",
      "2711/2711 [==============================] - 17s 6ms/step - loss: 0.0148 - mean_squared_error: 0.0148\n",
      "Epoch 20/20\n",
      "2711/2711 [==============================] - 17s 6ms/step - loss: 0.0148 - mean_squared_error: 0.0148\n"
     ]
    },
    {
     "data": {
      "text/plain": [
       "<tensorflow.python.keras.callbacks.History at 0x202178a0e20>"
      ]
     },
     "execution_count": 276,
     "metadata": {},
     "output_type": "execute_result"
    }
   ],
   "source": [
    "model.fit(X_train, y_train, epochs=20, batch_size=10)"
   ]
  },
  {
   "cell_type": "code",
   "execution_count": 277,
   "metadata": {},
   "outputs": [],
   "source": [
    "y_pred= model.predict(X_test)"
   ]
  },
  {
   "cell_type": "code",
   "execution_count": 278,
   "metadata": {},
   "outputs": [
    {
     "name": "stdout",
     "output_type": "stream",
     "text": [
      "Accuracy on test data: 0.015062833204865456% \n",
      " Error on test data: 0.9849371667951345\n"
     ]
    }
   ],
   "source": [
    "scores = model.evaluate(X_test, y_test, verbose=0)\n",
    "print('Accuracy on test data: {}% \\n Error on test data: {}'.format(scores[1], 1 - scores[1])) "
   ]
  },
  {
   "cell_type": "code",
   "execution_count": 279,
   "metadata": {},
   "outputs": [
    {
     "name": "stdout",
     "output_type": "stream",
     "text": [
      "MSE: 0.015062833534171113\n",
      "MAE: 0.015062833534171113\n",
      "RMSE: 0.12273073589843382\n"
     ]
    }
   ],
   "source": [
    "print('MSE:',mean_squared_error(y_test, y_pred))\n",
    "print('MAE:',mean_absolute_error(y_test, y_pred))\n",
    "print('RMSE:',np.sqrt(mean_squared_error(y_test, y_pred)))"
   ]
  },
  {
   "cell_type": "code",
   "execution_count": null,
   "metadata": {},
   "outputs": [],
   "source": []
  }
 ],
 "metadata": {
  "kernelspec": {
   "display_name": "Python 3",
   "language": "python",
   "name": "python3"
  },
  "language_info": {
   "codemirror_mode": {
    "name": "ipython",
    "version": 3
   },
   "file_extension": ".py",
   "mimetype": "text/x-python",
   "name": "python",
   "nbconvert_exporter": "python",
   "pygments_lexer": "ipython3",
   "version": "3.8.3"
  }
 },
 "nbformat": 4,
 "nbformat_minor": 4
}
