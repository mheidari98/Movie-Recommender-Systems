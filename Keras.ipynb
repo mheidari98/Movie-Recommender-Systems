{
 "cells": [
  {
   "cell_type": "markdown",
   "metadata": {},
   "source": [
    "from google.colab import drive\n",
    "drive.mount('/content/drive')"
   ]
  },
  {
   "cell_type": "code",
   "execution_count": 376,
   "metadata": {},
   "outputs": [],
   "source": [
    "import pandas as pd\n",
    "import numpy as np \n",
    "import matplotlib.pyplot as plt\n",
    "import sklearn\n",
    "\n",
    "from sklearn.model_selection import train_test_split\n",
    "from sklearn.metrics import mean_squared_error\n",
    "from math import sqrt\n",
    "\n",
    "import tensorflow.keras\n",
    "from tensorflow.keras.models import Sequential\n",
    "from tensorflow.keras.layers import Dense\n",
    "from tensorflow.keras.utils import to_categorical\n",
    "\n",
    "from sklearn.metrics import mean_squared_error,mean_absolute_error\n"
   ]
  },
  {
   "cell_type": "code",
   "execution_count": 377,
   "metadata": {},
   "outputs": [],
   "source": [
    "Dataset_path = \"./DataSets/\"\n",
    "Movies_metadata = pd.read_csv(Dataset_path+\"MoviesInfo.csv\")\n",
    "ratings = pd.read_csv(Dataset_path+\"ml-latest/ratings.csv\")"
   ]
  },
  {
   "cell_type": "code",
   "execution_count": 378,
   "metadata": {},
   "outputs": [
    {
     "name": "stdout",
     "output_type": "stream",
     "text": [
      "<class 'pandas.core.frame.DataFrame'>\n",
      "RangeIndex: 41896 entries, 0 to 41895\n",
      "Data columns (total 26 columns):\n",
      " #   Column                 Non-Null Count  Dtype  \n",
      "---  ------                 --------------  -----  \n",
      " 0   movieId                41896 non-null  int64  \n",
      " 1   genres                 41896 non-null  object \n",
      " 2   imdb_title_id          41896 non-null  object \n",
      " 3   title                  41896 non-null  object \n",
      " 4   original_title         41896 non-null  object \n",
      " 5   year                   41896 non-null  int64  \n",
      " 6   date_published         41896 non-null  object \n",
      " 7   genre                  41896 non-null  object \n",
      " 8   duration               41896 non-null  int64  \n",
      " 9   country                41890 non-null  object \n",
      " 10  language               41648 non-null  object \n",
      " 11  director               41886 non-null  object \n",
      " 12  writer                 41621 non-null  object \n",
      " 13  production_company     40944 non-null  object \n",
      " 14  actors                 41877 non-null  object \n",
      " 15  description            41589 non-null  object \n",
      " 16  avg_vote               41896 non-null  float64\n",
      " 17  votes                  41896 non-null  int64  \n",
      " 18  budget                 15453 non-null  object \n",
      " 19  usa_gross_income       13291 non-null  object \n",
      " 20  worlwide_gross_income  19887 non-null  object \n",
      " 21  metascore              11596 non-null  float64\n",
      " 22  reviews_from_users     40728 non-null  float64\n",
      " 23  reviews_from_critics   40120 non-null  float64\n",
      " 24  mean_vote              41896 non-null  float64\n",
      " 25  total_votes            41896 non-null  int64  \n",
      "dtypes: float64(5), int64(5), object(16)\n",
      "memory usage: 8.3+ MB\n"
     ]
    }
   ],
   "source": [
    "Movies_metadata.info()"
   ]
  },
  {
   "cell_type": "code",
   "execution_count": 379,
   "metadata": {},
   "outputs": [
    {
     "data": {
      "text/plain": [
       "count    41896.000000\n",
       "mean         6.379342\n",
       "std          1.036597\n",
       "min          1.300000\n",
       "25%          5.800000\n",
       "50%          6.500000\n",
       "75%          7.100000\n",
       "max          9.400000\n",
       "Name: mean_vote, dtype: float64"
      ]
     },
     "execution_count": 379,
     "metadata": {},
     "output_type": "execute_result"
    }
   ],
   "source": [
    "Movies_metadata['mean_vote'].describe()"
   ]
  },
  {
   "cell_type": "code",
   "execution_count": 380,
   "metadata": {},
   "outputs": [
    {
     "name": "stdout",
     "output_type": "stream",
     "text": [
      "<class 'pandas.core.frame.DataFrame'>\n",
      "RangeIndex: 41896 entries, 0 to 41895\n",
      "Data columns (total 16 columns):\n",
      " #   Column                 Non-Null Count  Dtype \n",
      "---  ------                 --------------  ----- \n",
      " 0   genres                 41896 non-null  object\n",
      " 1   imdb_title_id          41896 non-null  object\n",
      " 2   title                  41896 non-null  object\n",
      " 3   original_title         41896 non-null  object\n",
      " 4   date_published         41896 non-null  object\n",
      " 5   genre                  41896 non-null  object\n",
      " 6   country                41890 non-null  object\n",
      " 7   language               41648 non-null  object\n",
      " 8   director               41886 non-null  object\n",
      " 9   writer                 41621 non-null  object\n",
      " 10  production_company     40944 non-null  object\n",
      " 11  actors                 41877 non-null  object\n",
      " 12  description            41589 non-null  object\n",
      " 13  budget                 15453 non-null  object\n",
      " 14  usa_gross_income       13291 non-null  object\n",
      " 15  worlwide_gross_income  19887 non-null  object\n",
      "dtypes: object(16)\n",
      "memory usage: 5.1+ MB\n"
     ]
    }
   ],
   "source": [
    "obj_Movies_metadata = Movies_metadata.select_dtypes(include=['object']).copy()\n",
    "obj_Movies_metadata.info()"
   ]
  },
  {
   "cell_type": "code",
   "execution_count": 381,
   "metadata": {},
   "outputs": [],
   "source": [
    "myobj = ['country','language','director','production_company']\n",
    "\n",
    "for i in myobj:\n",
    "    obj_Movies_metadata[i] = obj_Movies_metadata[i].astype('category')\n",
    "    Movies_metadata[i] = obj_Movies_metadata[i].cat.codes\n"
   ]
  },
  {
   "cell_type": "code",
   "execution_count": 382,
   "metadata": {},
   "outputs": [
    {
     "name": "stdout",
     "output_type": "stream",
     "text": [
      "<class 'pandas.core.frame.DataFrame'>\n",
      "RangeIndex: 41896 entries, 0 to 41895\n",
      "Data columns (total 26 columns):\n",
      " #   Column                 Non-Null Count  Dtype  \n",
      "---  ------                 --------------  -----  \n",
      " 0   movieId                41896 non-null  int64  \n",
      " 1   genres                 41896 non-null  object \n",
      " 2   imdb_title_id          41896 non-null  object \n",
      " 3   title                  41896 non-null  object \n",
      " 4   original_title         41896 non-null  object \n",
      " 5   year                   41896 non-null  int64  \n",
      " 6   date_published         41896 non-null  object \n",
      " 7   genre                  41896 non-null  object \n",
      " 8   duration               41896 non-null  int64  \n",
      " 9   country                41896 non-null  int16  \n",
      " 10  language               41896 non-null  int16  \n",
      " 11  director               41896 non-null  int16  \n",
      " 12  writer                 41896 non-null  object \n",
      " 13  production_company     41896 non-null  int16  \n",
      " 14  actors                 41896 non-null  object \n",
      " 15  description            41896 non-null  object \n",
      " 16  avg_vote               41896 non-null  float64\n",
      " 17  votes                  41896 non-null  int64  \n",
      " 18  budget                 41896 non-null  object \n",
      " 19  usa_gross_income       41896 non-null  object \n",
      " 20  worlwide_gross_income  41896 non-null  object \n",
      " 21  metascore              41896 non-null  float64\n",
      " 22  reviews_from_users     41896 non-null  float64\n",
      " 23  reviews_from_critics   41896 non-null  float64\n",
      " 24  mean_vote              41896 non-null  float64\n",
      " 25  total_votes            41896 non-null  int64  \n",
      "dtypes: float64(5), int16(4), int64(5), object(12)\n",
      "memory usage: 7.4+ MB\n"
     ]
    }
   ],
   "source": [
    "Movies_metadata = Movies_metadata.fillna(100000)\n",
    "Movies_metadata.info()"
   ]
  },
  {
   "cell_type": "code",
   "execution_count": 383,
   "metadata": {},
   "outputs": [],
   "source": [
    "data =  Movies_metadata[['movieId','year','duration','metascore','reviews_from_users','reviews_from_critics'\n",
    "                              ,'country','language','director','production_company','mean_vote']]"
   ]
  },
  {
   "cell_type": "code",
   "execution_count": 384,
   "metadata": {},
   "outputs": [
    {
     "name": "stdout",
     "output_type": "stream",
     "text": [
      "<class 'pandas.core.frame.DataFrame'>\n",
      "Int64Index: 38725 entries, 0 to 41894\n",
      "Data columns (total 11 columns):\n",
      " #   Column                Non-Null Count  Dtype  \n",
      "---  ------                --------------  -----  \n",
      " 0   year                  38725 non-null  float64\n",
      " 1   duration              38725 non-null  float64\n",
      " 2   metascore             38725 non-null  float64\n",
      " 3   reviews_from_users    38725 non-null  float64\n",
      " 4   reviews_from_critics  38725 non-null  float64\n",
      " 5   country               38725 non-null  float64\n",
      " 6   language              38725 non-null  float64\n",
      " 7   director              38725 non-null  float64\n",
      " 8   production_company    38725 non-null  float64\n",
      " 9   mean_vote             38725 non-null  float64\n",
      " 10  movieId               38725 non-null  int64  \n",
      "dtypes: float64(10), int64(1)\n",
      "memory usage: 3.5 MB\n"
     ]
    }
   ],
   "source": [
    "from sklearn.preprocessing import StandardScaler\n",
    "\n",
    "scaler = StandardScaler()\n",
    "scaled = scaler.fit_transform(data.drop(['movieId','mean_vote'],axis=1))\n",
    "data_norm = pd.DataFrame(scaled,columns=(data.drop(['movieId','mean_vote'],axis=1).columns))\n",
    "data_norm= data_norm.join(data['mean_vote'])\n",
    "data_norm= data_norm.join(data['movieId'])\n",
    "\n",
    "\n",
    "from scipy import stats\n",
    "z_scores = stats.zscore(data_norm.drop(['movieId','mean_vote'],axis=1))\n",
    "abs_z_scores = np.abs(z_scores)\n",
    "filtered_entries = (abs_z_scores < 3).all(axis=1)\n",
    "newdata = data_norm[filtered_entries]\n",
    "\n",
    "newdata.info()"
   ]
  },
  {
   "cell_type": "markdown",
   "metadata": {},
   "source": [
    "### Without Classing of mean_vote"
   ]
  },
  {
   "cell_type": "code",
   "execution_count": 385,
   "metadata": {},
   "outputs": [],
   "source": [
    "target = newdata['mean_vote'] \n",
    "predictors = newdata.drop(['mean_vote','movieId'],axis=1)"
   ]
  },
  {
   "cell_type": "code",
   "execution_count": 386,
   "metadata": {},
   "outputs": [],
   "source": [
    "X_train, X_test, y_train, y_test = train_test_split(predictors, target, test_size=0.30, random_state=40)"
   ]
  },
  {
   "cell_type": "code",
   "execution_count": 389,
   "metadata": {},
   "outputs": [],
   "source": [
    "model01 = Sequential()\n",
    "model01.add(Dense(900, activation='relu', input_dim=9))\n",
    "model01.add(Dense(600, activation='relu'))\n",
    "model01.add(Dense(300, activation='relu'))\n",
    "model01.add(Dense(150, activation='relu'))\n",
    "model01.add(Dense(30, activation='relu'))\n",
    "model01.add(Dense(1, activation='linear'))\n",
    "\n",
    "# Compile the model\n",
    "model01.compile(optimizer='adam', loss='mean_absolute_error', metrics=['mean_squared_error'])"
   ]
  },
  {
   "cell_type": "code",
   "execution_count": 390,
   "metadata": {
    "scrolled": true
   },
   "outputs": [
    {
     "name": "stdout",
     "output_type": "stream",
     "text": [
      "Epoch 1/20\n",
      "2711/2711 [==============================] - 28s 10ms/step - loss: 0.8012 - mean_squared_error: 1.0992\n",
      "Epoch 2/20\n",
      "2711/2711 [==============================] - 28s 10ms/step - loss: 0.7125 - mean_squared_error: 0.87050s - l\n",
      "Epoch 3/20\n",
      "2711/2711 [==============================] - 28s 10ms/step - loss: 0.6931 - mean_squared_error: 0.8322\n",
      "Epoch 4/20\n",
      "2711/2711 [==============================] - 29s 11ms/step - loss: 0.6868 - mean_squared_error: 0.8193\n",
      "Epoch 5/20\n",
      "2711/2711 [==============================] - 29s 11ms/step - loss: 0.6839 - mean_squared_error: 0.8139\n",
      "Epoch 6/20\n",
      "2711/2711 [==============================] - 28s 10ms/step - loss: 0.6813 - mean_squared_error: 0.8074\n",
      "Epoch 7/20\n",
      "2711/2711 [==============================] - 28s 10ms/step - loss: 0.6784 - mean_squared_error: 0.8022\n",
      "Epoch 8/20\n",
      "2711/2711 [==============================] - 27s 10ms/step - loss: 0.6746 - mean_squared_error: 0.7989\n",
      "Epoch 9/20\n",
      "2711/2711 [==============================] - 27s 10ms/step - loss: 0.6719 - mean_squared_error: 0.7880\n",
      "Epoch 10/20\n",
      "2711/2711 [==============================] - 28s 10ms/step - loss: 0.6708 - mean_squared_error: 0.78640s - loss: 0.6700 - mean_squ\n",
      "Epoch 11/20\n",
      "2711/2711 [==============================] - 27s 10ms/step - loss: 0.6683 - mean_squared_error: 0.7854\n",
      "Epoch 12/20\n",
      "2711/2711 [==============================] - 28s 10ms/step - loss: 0.6649 - mean_squared_error: 0.7775\n",
      "Epoch 13/20\n",
      "2711/2711 [==============================] - 27s 10ms/step - loss: 0.6641 - mean_squared_error: 0.7763\n",
      "Epoch 14/20\n",
      "2711/2711 [==============================] - 28s 10ms/step - loss: 0.6620 - mean_squared_error: 0.77250s - loss: 0.6\n",
      "Epoch 15/20\n",
      "2711/2711 [==============================] - 28s 10ms/step - loss: 0.6616 - mean_squared_error: 0.7726\n",
      "Epoch 16/20\n",
      "2711/2711 [==============================] - 27s 10ms/step - loss: 0.6605 - mean_squared_error: 0.7684\n",
      "Epoch 17/20\n",
      "2711/2711 [==============================] - 27s 10ms/step - loss: 0.6588 - mean_squared_error: 0.7681\n",
      "Epoch 18/20\n",
      "2711/2711 [==============================] - 27s 10ms/step - loss: 0.6576 - mean_squared_error: 0.7650\n",
      "Epoch 19/20\n",
      "2711/2711 [==============================] - 27s 10ms/step - loss: 0.6552 - mean_squared_error: 0.7598\n",
      "Epoch 20/20\n",
      "2711/2711 [==============================] - 26s 10ms/step - loss: 0.6571 - mean_squared_error: 0.7633\n"
     ]
    },
    {
     "data": {
      "text/plain": [
       "<tensorflow.python.keras.callbacks.History at 0x18f8cf55580>"
      ]
     },
     "execution_count": 390,
     "metadata": {},
     "output_type": "execute_result"
    }
   ],
   "source": [
    "model01.fit(X_train, y_train, epochs=20, batch_size=10)"
   ]
  },
  {
   "cell_type": "code",
   "execution_count": 391,
   "metadata": {},
   "outputs": [],
   "source": [
    "y_pred= model01.predict(X_test)"
   ]
  },
  {
   "cell_type": "code",
   "execution_count": 392,
   "metadata": {},
   "outputs": [
    {
     "name": "stdout",
     "output_type": "stream",
     "text": [
      "Accuracy on test data: 0.7407345771789551% \n",
      " Error on test data: 0.2592654228210449\n"
     ]
    }
   ],
   "source": [
    "scores = model01.evaluate(X_test, y_test, verbose=0)\n",
    "print('Accuracy on test data: {}% \\n Error on test data: {}'.format(scores[1], 1 - scores[1]))    "
   ]
  },
  {
   "cell_type": "code",
   "execution_count": 393,
   "metadata": {},
   "outputs": [
    {
     "name": "stdout",
     "output_type": "stream",
     "text": [
      "MSE: 0.7407347214871505\n",
      "MAE: 0.6559091103550981\n",
      "RMSE: 0.8606594689464298\n"
     ]
    }
   ],
   "source": [
    "print('MSE:',mean_squared_error(y_test, y_pred))\n",
    "print('MAE:',mean_absolute_error(y_test, y_pred))\n",
    "print('RMSE:',np.sqrt(mean_squared_error(y_test, y_pred)))"
   ]
  },
  {
   "cell_type": "markdown",
   "metadata": {},
   "source": [
    "### With Classing mean_vote"
   ]
  },
  {
   "cell_type": "code",
   "execution_count": 463,
   "metadata": {},
   "outputs": [
    {
     "name": "stderr",
     "output_type": "stream",
     "text": [
      "<ipython-input-463-51378285559d>:1: SettingWithCopyWarning: \n",
      "A value is trying to be set on a copy of a slice from a DataFrame.\n",
      "Try using .loc[row_indexer,col_indexer] = value instead\n",
      "\n",
      "See the caveats in the documentation: https://pandas.pydata.org/pandas-docs/stable/user_guide/indexing.html#returning-a-view-versus-a-copy\n",
      "  newdata['mean_vote_class'] = 0\n",
      "<ipython-input-463-51378285559d>:2: SettingWithCopyWarning: \n",
      "A value is trying to be set on a copy of a slice from a DataFrame\n",
      "\n",
      "See the caveats in the documentation: https://pandas.pydata.org/pandas-docs/stable/user_guide/indexing.html#returning-a-view-versus-a-copy\n",
      "  newdata['mean_vote_class'][newdata['mean_vote']>=7] = 1\n",
      "C:\\Users\\PJ\\anaconda3\\lib\\site-packages\\pandas\\core\\generic.py:8765: SettingWithCopyWarning: \n",
      "A value is trying to be set on a copy of a slice from a DataFrame\n",
      "\n",
      "See the caveats in the documentation: https://pandas.pydata.org/pandas-docs/stable/user_guide/indexing.html#returning-a-view-versus-a-copy\n",
      "  self._update_inplace(new_data)\n",
      "<ipython-input-463-51378285559d>:3: SettingWithCopyWarning: \n",
      "A value is trying to be set on a copy of a slice from a DataFrame\n",
      "\n",
      "See the caveats in the documentation: https://pandas.pydata.org/pandas-docs/stable/user_guide/indexing.html#returning-a-view-versus-a-copy\n",
      "  newdata['mean_vote_class'][newdata['mean_vote']<7] = 0\n"
     ]
    }
   ],
   "source": [
    "newdata['mean_vote_class'] = 0\n",
    "newdata['mean_vote_class'][newdata['mean_vote']>=7] = 1\n",
    "newdata['mean_vote_class'][newdata['mean_vote']<7] = 0"
   ]
  },
  {
   "cell_type": "code",
   "execution_count": 464,
   "metadata": {},
   "outputs": [],
   "source": [
    "target = newdata['mean_vote_class'] \n",
    "predictors = newdata.drop(['mean_vote','mean_vote_class','movieId'],axis=1)\n",
    "\n",
    "X_train, X_test, y_train, y_test = train_test_split(predictors, target, test_size=0.30, random_state=40)\n"
   ]
  },
  {
   "cell_type": "code",
   "execution_count": 473,
   "metadata": {},
   "outputs": [],
   "source": [
    "model02 = Sequential()\n",
    "model02.add(Dense(900, activation='relu', input_dim=9))\n",
    "model02.add(Dense(600, activation='relu'))\n",
    "model02.add(Dense(300, activation='relu'))\n",
    "model02.add(Dense(150, activation='relu'))\n",
    "model02.add(Dense(30, activation='relu'))\n",
    "model02.add(Dense(1, activation='softmax'))\n",
    "\n",
    "# Compile the model\n",
    "model02.compile(optimizer='adam', loss='mean_absolute_error', metrics=['mean_squared_error'])"
   ]
  },
  {
   "cell_type": "code",
   "execution_count": 475,
   "metadata": {},
   "outputs": [
    {
     "name": "stdout",
     "output_type": "stream",
     "text": [
      "Epoch 1/20\n",
      "2711/2711 [==============================] - 27s 10ms/step - loss: 0.6896 - mean_squared_error: 0.6896\n",
      "Epoch 2/20\n",
      "2711/2711 [==============================] - 28s 10ms/step - loss: 0.6896 - mean_squared_error: 0.6896\n",
      "Epoch 3/20\n",
      "2711/2711 [==============================] - 27s 10ms/step - loss: 0.6896 - mean_squared_error: 0.6896\n",
      "Epoch 4/20\n",
      "2711/2711 [==============================] - 27s 10ms/step - loss: 0.6896 - mean_squared_error: 0.6896\n",
      "Epoch 5/20\n",
      "2711/2711 [==============================] - 27s 10ms/step - loss: 0.6896 - mean_squared_error: 0.6896\n",
      "Epoch 6/20\n",
      "2711/2711 [==============================] - 27s 10ms/step - loss: 0.6896 - mean_squared_error: 0.6896\n",
      "Epoch 7/20\n",
      "2711/2711 [==============================] - 28s 10ms/step - loss: 0.6896 - mean_squared_error: 0.6896\n",
      "Epoch 8/20\n",
      "2711/2711 [==============================] - 27s 10ms/step - loss: 0.6896 - mean_squared_error: 0.6896\n",
      "Epoch 9/20\n",
      "2711/2711 [==============================] - 27s 10ms/step - loss: 0.6896 - mean_squared_error: 0.6896\n",
      "Epoch 10/20\n",
      "2711/2711 [==============================] - 27s 10ms/step - loss: 0.6896 - mean_squared_error: 0.6896\n",
      "Epoch 11/20\n",
      "2711/2711 [==============================] - 27s 10ms/step - loss: 0.6896 - mean_squared_error: 0.68962s - loss: -\n",
      "Epoch 12/20\n",
      "2711/2711 [==============================] - 28s 10ms/step - loss: 0.6896 - mean_squared_error: 0.6896\n",
      "Epoch 13/20\n",
      "2711/2711 [==============================] - 27s 10ms/step - loss: 0.6896 - mean_squared_error: 0.6896\n",
      "Epoch 14/20\n",
      "2711/2711 [==============================] - 27s 10ms/step - loss: 0.6896 - mean_squared_error: 0.6896\n",
      "Epoch 15/20\n",
      "2711/2711 [==============================] - 27s 10ms/step - loss: 0.6896 - mean_squared_error: 0.6896\n",
      "Epoch 16/20\n",
      "2711/2711 [==============================] - 27s 10ms/step - loss: 0.6896 - mean_squared_error: 0.6896\n",
      "Epoch 17/20\n",
      "2711/2711 [==============================] - 27s 10ms/step - loss: 0.6896 - mean_squared_error: 0.6896\n",
      "Epoch 18/20\n",
      "2711/2711 [==============================] - 27s 10ms/step - loss: 0.6896 - mean_squared_error: 0.6896\n",
      "Epoch 19/20\n",
      "2711/2711 [==============================] - 26s 10ms/step - loss: 0.6896 - mean_squared_error: 0.6896\n",
      "Epoch 20/20\n",
      "2711/2711 [==============================] - 26s 9ms/step - loss: 0.6896 - mean_squared_error: 0.6896\n"
     ]
    },
    {
     "data": {
      "text/plain": [
       "<tensorflow.python.keras.callbacks.History at 0x18f988af7c0>"
      ]
     },
     "execution_count": 475,
     "metadata": {},
     "output_type": "execute_result"
    }
   ],
   "source": [
    "model02.fit(X_train, y_train, epochs=20, batch_size=10)"
   ]
  },
  {
   "cell_type": "code",
   "execution_count": 476,
   "metadata": {},
   "outputs": [],
   "source": [
    "y_pred = model02.predict(X_test)"
   ]
  },
  {
   "cell_type": "code",
   "execution_count": 477,
   "metadata": {},
   "outputs": [
    {
     "name": "stdout",
     "output_type": "stream",
     "text": [
      "Accuracy on test data: 0.6955586075782776% \n",
      " Error on test data: 0.3044413924217224\n"
     ]
    }
   ],
   "source": [
    "scores = model02.evaluate(X_test, y_test, verbose=0)\n",
    "print('Accuracy on test data: {}% \\n Error on test data: {}'.format(scores[1], 1 - scores[1])) "
   ]
  },
  {
   "cell_type": "code",
   "execution_count": 478,
   "metadata": {},
   "outputs": [
    {
     "name": "stdout",
     "output_type": "stream",
     "text": [
      "MSE: 0.6955586159407815\n",
      "MAE: 0.6955586159407815\n",
      "RMSE: 0.8340015683083465\n"
     ]
    }
   ],
   "source": [
    "print('MSE:',mean_squared_error(y_test, y_pred))\n",
    "print('MAE:',mean_absolute_error(y_test, y_pred))\n",
    "print('RMSE:',np.sqrt(mean_squared_error(y_test, y_pred)))"
   ]
  },
  {
   "cell_type": "code",
   "execution_count": null,
   "metadata": {},
   "outputs": [],
   "source": []
  },
  {
   "cell_type": "markdown",
   "metadata": {},
   "source": [
    "### Generate Recommendation"
   ]
  },
  {
   "cell_type": "code",
   "execution_count": 426,
   "metadata": {},
   "outputs": [],
   "source": [
    "import difflib\n",
    "import random\n",
    "\n",
    "def get_Movie_info(Movie_id):\n",
    "    \n",
    "    \"\"\"\n",
    "    Returns some basic information about a Movie given the Movie id and the metadata dataframe.\n",
    "    \"\"\"\n",
    "    \n",
    "    Movie_info = Movies_metadata[Movies_metadata['movieId'] == int(Movie_id)][['movieId', 'genres', \n",
    "                                                            'title', 'original_title', 'year', 'duration','mean_vote']]\n",
    "    return Movie_info\n",
    "\n",
    "\n",
    "def generate_recommendation(model,movieid):\n",
    "    frames = pd.DataFrame()\n",
    "    \n",
    "    for i in movieid:\n",
    "        mask = newdata[newdata.movieId.isin([i])]\n",
    "        mask = mask.drop(['mean_vote','mean_vote_class','movieId'],axis=1)\n",
    "        rating = model.predict(mask)\n",
    "        tmp = get_Movie_info(i)\n",
    "        tmp['rating'] = rating\n",
    "        frames = frames.append(tmp, ignore_index=True)\n",
    "\n",
    "    return frames\n",
    "#.sort_values('rating', ascending=False)"
   ]
  },
  {
   "cell_type": "code",
   "execution_count": 432,
   "metadata": {},
   "outputs": [
    {
     "data": {
      "text/html": [
       "<div>\n",
       "<style scoped>\n",
       "    .dataframe tbody tr th:only-of-type {\n",
       "        vertical-align: middle;\n",
       "    }\n",
       "\n",
       "    .dataframe tbody tr th {\n",
       "        vertical-align: top;\n",
       "    }\n",
       "\n",
       "    .dataframe thead th {\n",
       "        text-align: right;\n",
       "    }\n",
       "</style>\n",
       "<table border=\"1\" class=\"dataframe\">\n",
       "  <thead>\n",
       "    <tr style=\"text-align: right;\">\n",
       "      <th></th>\n",
       "      <th>movieId</th>\n",
       "      <th>genres</th>\n",
       "      <th>title</th>\n",
       "      <th>original_title</th>\n",
       "      <th>year</th>\n",
       "      <th>duration</th>\n",
       "      <th>mean_vote</th>\n",
       "      <th>rating</th>\n",
       "    </tr>\n",
       "  </thead>\n",
       "  <tbody>\n",
       "    <tr>\n",
       "      <th>0</th>\n",
       "      <td>7</td>\n",
       "      <td>Comedy|Romance</td>\n",
       "      <td>Sabrina</td>\n",
       "      <td>Sabrina</td>\n",
       "      <td>1995</td>\n",
       "      <td>127</td>\n",
       "      <td>6.5</td>\n",
       "      <td>6.997986</td>\n",
       "    </tr>\n",
       "    <tr>\n",
       "      <th>1</th>\n",
       "      <td>8</td>\n",
       "      <td>Adventure|Children</td>\n",
       "      <td>Le avventure di Tom Sawyer e Huck Finn</td>\n",
       "      <td>Tom and Huck</td>\n",
       "      <td>1995</td>\n",
       "      <td>97</td>\n",
       "      <td>5.9</td>\n",
       "      <td>5.683178</td>\n",
       "    </tr>\n",
       "    <tr>\n",
       "      <th>2</th>\n",
       "      <td>34</td>\n",
       "      <td>Children|Drama</td>\n",
       "      <td>Babe, maialino coraggioso</td>\n",
       "      <td>Babe</td>\n",
       "      <td>1995</td>\n",
       "      <td>91</td>\n",
       "      <td>7.0</td>\n",
       "      <td>6.752762</td>\n",
       "    </tr>\n",
       "    <tr>\n",
       "      <th>3</th>\n",
       "      <td>54</td>\n",
       "      <td>Children|Comedy</td>\n",
       "      <td>Una squadra di classe</td>\n",
       "      <td>The Big Green</td>\n",
       "      <td>1995</td>\n",
       "      <td>100</td>\n",
       "      <td>5.8</td>\n",
       "      <td>5.818998</td>\n",
       "    </tr>\n",
       "    <tr>\n",
       "      <th>4</th>\n",
       "      <td>45</td>\n",
       "      <td>Comedy|Drama|Thriller</td>\n",
       "      <td>Da morire</td>\n",
       "      <td>To Die For</td>\n",
       "      <td>1995</td>\n",
       "      <td>106</td>\n",
       "      <td>6.9</td>\n",
       "      <td>6.514626</td>\n",
       "    </tr>\n",
       "    <tr>\n",
       "      <th>5</th>\n",
       "      <td>200</td>\n",
       "      <td>Thriller</td>\n",
       "      <td>Legame mortale</td>\n",
       "      <td>The Tie That Binds</td>\n",
       "      <td>1995</td>\n",
       "      <td>99</td>\n",
       "      <td>5.2</td>\n",
       "      <td>5.914268</td>\n",
       "    </tr>\n",
       "    <tr>\n",
       "      <th>6</th>\n",
       "      <td>3948</td>\n",
       "      <td>Comedy</td>\n",
       "      <td>Ti presento i miei</td>\n",
       "      <td>Meet the Parents</td>\n",
       "      <td>2000</td>\n",
       "      <td>108</td>\n",
       "      <td>7.0</td>\n",
       "      <td>6.798370</td>\n",
       "    </tr>\n",
       "    <tr>\n",
       "      <th>7</th>\n",
       "      <td>193882</td>\n",
       "      <td>Adventure|Drama|Horror|Sci-Fi</td>\n",
       "      <td>Flora</td>\n",
       "      <td>Flora</td>\n",
       "      <td>2017</td>\n",
       "      <td>105</td>\n",
       "      <td>4.9</td>\n",
       "      <td>5.920873</td>\n",
       "    </tr>\n",
       "  </tbody>\n",
       "</table>\n",
       "</div>"
      ],
      "text/plain": [
       "   movieId                         genres  \\\n",
       "0        7                 Comedy|Romance   \n",
       "1        8             Adventure|Children   \n",
       "2       34                 Children|Drama   \n",
       "3       54                Children|Comedy   \n",
       "4       45          Comedy|Drama|Thriller   \n",
       "5      200                       Thriller   \n",
       "6     3948                         Comedy   \n",
       "7   193882  Adventure|Drama|Horror|Sci-Fi   \n",
       "\n",
       "                                    title      original_title  year  duration  \\\n",
       "0                                 Sabrina             Sabrina  1995       127   \n",
       "1  Le avventure di Tom Sawyer e Huck Finn        Tom and Huck  1995        97   \n",
       "2               Babe, maialino coraggioso                Babe  1995        91   \n",
       "3                   Una squadra di classe       The Big Green  1995       100   \n",
       "4                               Da morire          To Die For  1995       106   \n",
       "5                          Legame mortale  The Tie That Binds  1995        99   \n",
       "6                      Ti presento i miei    Meet the Parents  2000       108   \n",
       "7                                   Flora               Flora  2017       105   \n",
       "\n",
       "   mean_vote    rating  \n",
       "0        6.5  6.997986  \n",
       "1        5.9  5.683178  \n",
       "2        7.0  6.752762  \n",
       "3        5.8  5.818998  \n",
       "4        6.9  6.514626  \n",
       "5        5.2  5.914268  \n",
       "6        7.0  6.798370  \n",
       "7        4.9  5.920873  "
      ]
     },
     "execution_count": 432,
     "metadata": {},
     "output_type": "execute_result"
    }
   ],
   "source": [
    "generate_recommendation(model01,[7,8,34,54,45,200,3948,193882])"
   ]
  },
  {
   "cell_type": "code",
   "execution_count": 479,
   "metadata": {},
   "outputs": [
    {
     "data": {
      "text/html": [
       "<div>\n",
       "<style scoped>\n",
       "    .dataframe tbody tr th:only-of-type {\n",
       "        vertical-align: middle;\n",
       "    }\n",
       "\n",
       "    .dataframe tbody tr th {\n",
       "        vertical-align: top;\n",
       "    }\n",
       "\n",
       "    .dataframe thead th {\n",
       "        text-align: right;\n",
       "    }\n",
       "</style>\n",
       "<table border=\"1\" class=\"dataframe\">\n",
       "  <thead>\n",
       "    <tr style=\"text-align: right;\">\n",
       "      <th></th>\n",
       "      <th>movieId</th>\n",
       "      <th>genres</th>\n",
       "      <th>title</th>\n",
       "      <th>original_title</th>\n",
       "      <th>year</th>\n",
       "      <th>duration</th>\n",
       "      <th>mean_vote</th>\n",
       "      <th>rating</th>\n",
       "    </tr>\n",
       "  </thead>\n",
       "  <tbody>\n",
       "    <tr>\n",
       "      <th>0</th>\n",
       "      <td>7</td>\n",
       "      <td>Comedy|Romance</td>\n",
       "      <td>Sabrina</td>\n",
       "      <td>Sabrina</td>\n",
       "      <td>1995</td>\n",
       "      <td>127</td>\n",
       "      <td>6.5</td>\n",
       "      <td>1.0</td>\n",
       "    </tr>\n",
       "    <tr>\n",
       "      <th>1</th>\n",
       "      <td>8</td>\n",
       "      <td>Adventure|Children</td>\n",
       "      <td>Le avventure di Tom Sawyer e Huck Finn</td>\n",
       "      <td>Tom and Huck</td>\n",
       "      <td>1995</td>\n",
       "      <td>97</td>\n",
       "      <td>5.9</td>\n",
       "      <td>1.0</td>\n",
       "    </tr>\n",
       "    <tr>\n",
       "      <th>2</th>\n",
       "      <td>34</td>\n",
       "      <td>Children|Drama</td>\n",
       "      <td>Babe, maialino coraggioso</td>\n",
       "      <td>Babe</td>\n",
       "      <td>1995</td>\n",
       "      <td>91</td>\n",
       "      <td>7.0</td>\n",
       "      <td>1.0</td>\n",
       "    </tr>\n",
       "    <tr>\n",
       "      <th>3</th>\n",
       "      <td>54</td>\n",
       "      <td>Children|Comedy</td>\n",
       "      <td>Una squadra di classe</td>\n",
       "      <td>The Big Green</td>\n",
       "      <td>1995</td>\n",
       "      <td>100</td>\n",
       "      <td>5.8</td>\n",
       "      <td>1.0</td>\n",
       "    </tr>\n",
       "    <tr>\n",
       "      <th>4</th>\n",
       "      <td>45</td>\n",
       "      <td>Comedy|Drama|Thriller</td>\n",
       "      <td>Da morire</td>\n",
       "      <td>To Die For</td>\n",
       "      <td>1995</td>\n",
       "      <td>106</td>\n",
       "      <td>6.9</td>\n",
       "      <td>1.0</td>\n",
       "    </tr>\n",
       "    <tr>\n",
       "      <th>5</th>\n",
       "      <td>200</td>\n",
       "      <td>Thriller</td>\n",
       "      <td>Legame mortale</td>\n",
       "      <td>The Tie That Binds</td>\n",
       "      <td>1995</td>\n",
       "      <td>99</td>\n",
       "      <td>5.2</td>\n",
       "      <td>1.0</td>\n",
       "    </tr>\n",
       "    <tr>\n",
       "      <th>6</th>\n",
       "      <td>3948</td>\n",
       "      <td>Comedy</td>\n",
       "      <td>Ti presento i miei</td>\n",
       "      <td>Meet the Parents</td>\n",
       "      <td>2000</td>\n",
       "      <td>108</td>\n",
       "      <td>7.0</td>\n",
       "      <td>1.0</td>\n",
       "    </tr>\n",
       "    <tr>\n",
       "      <th>7</th>\n",
       "      <td>193882</td>\n",
       "      <td>Adventure|Drama|Horror|Sci-Fi</td>\n",
       "      <td>Flora</td>\n",
       "      <td>Flora</td>\n",
       "      <td>2017</td>\n",
       "      <td>105</td>\n",
       "      <td>4.9</td>\n",
       "      <td>1.0</td>\n",
       "    </tr>\n",
       "  </tbody>\n",
       "</table>\n",
       "</div>"
      ],
      "text/plain": [
       "   movieId                         genres  \\\n",
       "0        7                 Comedy|Romance   \n",
       "1        8             Adventure|Children   \n",
       "2       34                 Children|Drama   \n",
       "3       54                Children|Comedy   \n",
       "4       45          Comedy|Drama|Thriller   \n",
       "5      200                       Thriller   \n",
       "6     3948                         Comedy   \n",
       "7   193882  Adventure|Drama|Horror|Sci-Fi   \n",
       "\n",
       "                                    title      original_title  year  duration  \\\n",
       "0                                 Sabrina             Sabrina  1995       127   \n",
       "1  Le avventure di Tom Sawyer e Huck Finn        Tom and Huck  1995        97   \n",
       "2               Babe, maialino coraggioso                Babe  1995        91   \n",
       "3                   Una squadra di classe       The Big Green  1995       100   \n",
       "4                               Da morire          To Die For  1995       106   \n",
       "5                          Legame mortale  The Tie That Binds  1995        99   \n",
       "6                      Ti presento i miei    Meet the Parents  2000       108   \n",
       "7                                   Flora               Flora  2017       105   \n",
       "\n",
       "   mean_vote  rating  \n",
       "0        6.5     1.0  \n",
       "1        5.9     1.0  \n",
       "2        7.0     1.0  \n",
       "3        5.8     1.0  \n",
       "4        6.9     1.0  \n",
       "5        5.2     1.0  \n",
       "6        7.0     1.0  \n",
       "7        4.9     1.0  "
      ]
     },
     "execution_count": 479,
     "metadata": {},
     "output_type": "execute_result"
    }
   ],
   "source": [
    "generate_recommendation(model02,[7,8,34,54,45,200,3948,193882])"
   ]
  },
  {
   "cell_type": "code",
   "execution_count": 487,
   "metadata": {},
   "outputs": [
    {
     "data": {
      "text/html": [
       "<div>\n",
       "<style scoped>\n",
       "    .dataframe tbody tr th:only-of-type {\n",
       "        vertical-align: middle;\n",
       "    }\n",
       "\n",
       "    .dataframe tbody tr th {\n",
       "        vertical-align: top;\n",
       "    }\n",
       "\n",
       "    .dataframe thead th {\n",
       "        text-align: right;\n",
       "    }\n",
       "</style>\n",
       "<table border=\"1\" class=\"dataframe\">\n",
       "  <thead>\n",
       "    <tr style=\"text-align: right;\">\n",
       "      <th></th>\n",
       "      <th>year</th>\n",
       "      <th>duration</th>\n",
       "      <th>metascore</th>\n",
       "      <th>reviews_from_users</th>\n",
       "      <th>reviews_from_critics</th>\n",
       "      <th>country</th>\n",
       "      <th>language</th>\n",
       "      <th>director</th>\n",
       "      <th>production_company</th>\n",
       "      <th>mean_vote</th>\n",
       "      <th>movieId</th>\n",
       "      <th>mean_vote_class</th>\n",
       "    </tr>\n",
       "  </thead>\n",
       "  <tbody>\n",
       "    <tr>\n",
       "      <th>2</th>\n",
       "      <td>0.194197</td>\n",
       "      <td>0.014297</td>\n",
       "      <td>-1.616696</td>\n",
       "      <td>-0.169801</td>\n",
       "      <td>-0.211095</td>\n",
       "      <td>0.801757</td>\n",
       "      <td>-0.170536</td>\n",
       "      <td>-0.482289</td>\n",
       "      <td>0.211221</td>\n",
       "      <td>6.8</td>\n",
       "      <td>3</td>\n",
       "      <td>0</td>\n",
       "    </tr>\n",
       "    <tr>\n",
       "      <th>3</th>\n",
       "      <td>0.194197</td>\n",
       "      <td>1.101678</td>\n",
       "      <td>0.618633</td>\n",
       "      <td>-0.170530</td>\n",
       "      <td>-0.211095</td>\n",
       "      <td>0.801757</td>\n",
       "      <td>-0.776948</td>\n",
       "      <td>-0.767275</td>\n",
       "      <td>1.382431</td>\n",
       "      <td>6.2</td>\n",
       "      <td>4</td>\n",
       "      <td>0</td>\n",
       "    </tr>\n",
       "    <tr>\n",
       "      <th>4</th>\n",
       "      <td>0.194197</td>\n",
       "      <td>0.250684</td>\n",
       "      <td>-1.616629</td>\n",
       "      <td>-0.169497</td>\n",
       "      <td>-0.210648</td>\n",
       "      <td>0.801757</td>\n",
       "      <td>-0.776948</td>\n",
       "      <td>-1.247549</td>\n",
       "      <td>1.017691</td>\n",
       "      <td>6.2</td>\n",
       "      <td>5</td>\n",
       "      <td>0</td>\n",
       "    </tr>\n",
       "    <tr>\n",
       "      <th>6</th>\n",
       "      <td>0.194197</td>\n",
       "      <td>1.243510</td>\n",
       "      <td>-1.616472</td>\n",
       "      <td>-0.165424</td>\n",
       "      <td>-0.210201</td>\n",
       "      <td>-1.009939</td>\n",
       "      <td>-0.581186</td>\n",
       "      <td>1.353129</td>\n",
       "      <td>-0.811264</td>\n",
       "      <td>6.5</td>\n",
       "      <td>7</td>\n",
       "      <td>0</td>\n",
       "    </tr>\n",
       "    <tr>\n",
       "      <th>7</th>\n",
       "      <td>0.194197</td>\n",
       "      <td>-0.174812</td>\n",
       "      <td>0.618633</td>\n",
       "      <td>-0.172171</td>\n",
       "      <td>-0.211840</td>\n",
       "      <td>0.801757</td>\n",
       "      <td>-0.776948</td>\n",
       "      <td>0.785771</td>\n",
       "      <td>1.466493</td>\n",
       "      <td>5.9</td>\n",
       "      <td>8</td>\n",
       "      <td>0</td>\n",
       "    </tr>\n",
       "    <tr>\n",
       "      <th>...</th>\n",
       "      <td>...</td>\n",
       "      <td>...</td>\n",
       "      <td>...</td>\n",
       "      <td>...</td>\n",
       "      <td>...</td>\n",
       "      <td>...</td>\n",
       "      <td>...</td>\n",
       "      <td>...</td>\n",
       "      <td>...</td>\n",
       "      <td>...</td>\n",
       "      <td>...</td>\n",
       "      <td>...</td>\n",
       "    </tr>\n",
       "    <tr>\n",
       "      <th>41887</th>\n",
       "      <td>-0.938584</td>\n",
       "      <td>-0.883973</td>\n",
       "      <td>0.618633</td>\n",
       "      <td>-0.173630</td>\n",
       "      <td>-0.211939</td>\n",
       "      <td>0.801757</td>\n",
       "      <td>-0.776948</td>\n",
       "      <td>-0.069591</td>\n",
       "      <td>1.373944</td>\n",
       "      <td>6.9</td>\n",
       "      <td>193855</td>\n",
       "      <td>0</td>\n",
       "    </tr>\n",
       "    <tr>\n",
       "      <th>41889</th>\n",
       "      <td>1.084240</td>\n",
       "      <td>-0.127535</td>\n",
       "      <td>0.618633</td>\n",
       "      <td>-0.172475</td>\n",
       "      <td>-0.212237</td>\n",
       "      <td>0.419483</td>\n",
       "      <td>-1.114469</td>\n",
       "      <td>-1.112799</td>\n",
       "      <td>-1.223289</td>\n",
       "      <td>6.3</td>\n",
       "      <td>193859</td>\n",
       "      <td>0</td>\n",
       "    </tr>\n",
       "    <tr>\n",
       "      <th>41892</th>\n",
       "      <td>-1.747714</td>\n",
       "      <td>-1.498579</td>\n",
       "      <td>0.618633</td>\n",
       "      <td>-0.173387</td>\n",
       "      <td>-0.212485</td>\n",
       "      <td>0.801757</td>\n",
       "      <td>-0.776948</td>\n",
       "      <td>-1.737879</td>\n",
       "      <td>-0.839554</td>\n",
       "      <td>6.7</td>\n",
       "      <td>193874</td>\n",
       "      <td>0</td>\n",
       "    </tr>\n",
       "    <tr>\n",
       "      <th>41893</th>\n",
       "      <td>0.841501</td>\n",
       "      <td>0.061575</td>\n",
       "      <td>0.618633</td>\n",
       "      <td>-0.173691</td>\n",
       "      <td>-0.212287</td>\n",
       "      <td>-1.577486</td>\n",
       "      <td>0.538258</td>\n",
       "      <td>0.830621</td>\n",
       "      <td>-1.214398</td>\n",
       "      <td>5.4</td>\n",
       "      <td>193878</td>\n",
       "      <td>0</td>\n",
       "    </tr>\n",
       "    <tr>\n",
       "      <th>41894</th>\n",
       "      <td>1.084240</td>\n",
       "      <td>0.203407</td>\n",
       "      <td>0.618633</td>\n",
       "      <td>-0.172718</td>\n",
       "      <td>-0.211393</td>\n",
       "      <td>-2.068813</td>\n",
       "      <td>-0.776948</td>\n",
       "      <td>1.148390</td>\n",
       "      <td>-0.576254</td>\n",
       "      <td>4.9</td>\n",
       "      <td>193882</td>\n",
       "      <td>0</td>\n",
       "    </tr>\n",
       "  </tbody>\n",
       "</table>\n",
       "<p>26773 rows × 12 columns</p>\n",
       "</div>"
      ],
      "text/plain": [
       "           year  duration  metascore  reviews_from_users  \\\n",
       "2      0.194197  0.014297  -1.616696           -0.169801   \n",
       "3      0.194197  1.101678   0.618633           -0.170530   \n",
       "4      0.194197  0.250684  -1.616629           -0.169497   \n",
       "6      0.194197  1.243510  -1.616472           -0.165424   \n",
       "7      0.194197 -0.174812   0.618633           -0.172171   \n",
       "...         ...       ...        ...                 ...   \n",
       "41887 -0.938584 -0.883973   0.618633           -0.173630   \n",
       "41889  1.084240 -0.127535   0.618633           -0.172475   \n",
       "41892 -1.747714 -1.498579   0.618633           -0.173387   \n",
       "41893  0.841501  0.061575   0.618633           -0.173691   \n",
       "41894  1.084240  0.203407   0.618633           -0.172718   \n",
       "\n",
       "       reviews_from_critics   country  language  director  production_company  \\\n",
       "2                 -0.211095  0.801757 -0.170536 -0.482289            0.211221   \n",
       "3                 -0.211095  0.801757 -0.776948 -0.767275            1.382431   \n",
       "4                 -0.210648  0.801757 -0.776948 -1.247549            1.017691   \n",
       "6                 -0.210201 -1.009939 -0.581186  1.353129           -0.811264   \n",
       "7                 -0.211840  0.801757 -0.776948  0.785771            1.466493   \n",
       "...                     ...       ...       ...       ...                 ...   \n",
       "41887             -0.211939  0.801757 -0.776948 -0.069591            1.373944   \n",
       "41889             -0.212237  0.419483 -1.114469 -1.112799           -1.223289   \n",
       "41892             -0.212485  0.801757 -0.776948 -1.737879           -0.839554   \n",
       "41893             -0.212287 -1.577486  0.538258  0.830621           -1.214398   \n",
       "41894             -0.211393 -2.068813 -0.776948  1.148390           -0.576254   \n",
       "\n",
       "       mean_vote  movieId  mean_vote_class  \n",
       "2            6.8        3                0  \n",
       "3            6.2        4                0  \n",
       "4            6.2        5                0  \n",
       "6            6.5        7                0  \n",
       "7            5.9        8                0  \n",
       "...          ...      ...              ...  \n",
       "41887        6.9   193855                0  \n",
       "41889        6.3   193859                0  \n",
       "41892        6.7   193874                0  \n",
       "41893        5.4   193878                0  \n",
       "41894        4.9   193882                0  \n",
       "\n",
       "[26773 rows x 12 columns]"
      ]
     },
     "execution_count": 487,
     "metadata": {},
     "output_type": "execute_result"
    }
   ],
   "source": [
    "newdata[newdata['mean_vote_class']==0]"
   ]
  },
  {
   "cell_type": "code",
   "execution_count": 488,
   "metadata": {},
   "outputs": [
    {
     "data": {
      "text/plain": [
       "11618.0"
      ]
     },
     "execution_count": 488,
     "metadata": {},
     "output_type": "execute_result"
    }
   ],
   "source": [
    "y_pred.sum()"
   ]
  },
  {
   "cell_type": "code",
   "execution_count": null,
   "metadata": {},
   "outputs": [],
   "source": []
  },
  {
   "cell_type": "code",
   "execution_count": null,
   "metadata": {},
   "outputs": [],
   "source": []
  }
 ],
 "metadata": {
  "kernelspec": {
   "display_name": "Python 3",
   "language": "python",
   "name": "python3"
  }
 },
 "nbformat": 4,
 "nbformat_minor": 4
}
