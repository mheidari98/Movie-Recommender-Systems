{
 "cells": [
  {
   "cell_type": "markdown",
   "metadata": {},
   "source": [
    "from google.colab import drive\n",
    "drive.mount('/content/drive')"
   ]
  },
  {
   "cell_type": "code",
   "execution_count": 163,
   "metadata": {},
   "outputs": [],
   "source": [
    "try:\n",
    "  import google.colab\n",
    "  IN_COLAB = True\n",
    "except:\n",
    "  IN_COLAB = False\n",
    "\n",
    "if IN_COLAB :\n",
    "    from google.colab import drive\n",
    "    drive.mount('/content/drive')\n",
    "    \n",
    "if IN_COLAB :\n",
    "  Dataset_path = \"/content/drive/MyDrive/Colab Notebooks/DataSets/\"\n",
    "else :\n",
    "  Dataset_path = \"./DataSets/\"\n",
    "\n",
    "ml_path = Dataset_path + \"ml-latest/\""
   ]
  },
  {
   "cell_type": "code",
   "execution_count": 172,
   "metadata": {},
   "outputs": [],
   "source": [
    "import pandas as pd\n",
    "import numpy as np \n",
    "import matplotlib.pyplot as plt\n",
    "import sklearn\n",
    "\n",
    "from sklearn.model_selection import train_test_split\n",
    "from sklearn.metrics import mean_squared_error\n",
    "from math import sqrt\n",
    "import seaborn as sns\n",
    "\n",
    "import tensorflow.keras\n",
    "from tensorflow.keras.models import Sequential\n",
    "from tensorflow.keras.layers import Dense\n",
    "from tensorflow.keras.utils import to_categorical\n",
    "\n",
    "from sklearn.metrics import mean_squared_error,mean_absolute_error\n"
   ]
  },
  {
   "cell_type": "code",
   "execution_count": 222,
   "metadata": {},
   "outputs": [],
   "source": [
    "Movies_metadata = pd.read_csv(Dataset_path+\"MoviesInfo.csv\")\n",
    "ratings = pd.read_csv(ml_path+\"ratings.csv\")"
   ]
  },
  {
   "cell_type": "code",
   "execution_count": 223,
   "metadata": {},
   "outputs": [
    {
     "name": "stdout",
     "output_type": "stream",
     "text": [
      "<class 'pandas.core.frame.DataFrame'>\n",
      "RangeIndex: 41896 entries, 0 to 41895\n",
      "Data columns (total 26 columns):\n",
      " #   Column                 Non-Null Count  Dtype  \n",
      "---  ------                 --------------  -----  \n",
      " 0   movieId                41896 non-null  int64  \n",
      " 1   genres                 41896 non-null  object \n",
      " 2   imdb_title_id          41896 non-null  object \n",
      " 3   title                  41896 non-null  object \n",
      " 4   original_title         41896 non-null  object \n",
      " 5   year                   41896 non-null  int64  \n",
      " 6   date_published         41896 non-null  object \n",
      " 7   genre                  41896 non-null  object \n",
      " 8   duration               41896 non-null  int64  \n",
      " 9   country                41890 non-null  object \n",
      " 10  language               41648 non-null  object \n",
      " 11  director               41886 non-null  object \n",
      " 12  writer                 41621 non-null  object \n",
      " 13  production_company     40944 non-null  object \n",
      " 14  actors                 41877 non-null  object \n",
      " 15  description            41589 non-null  object \n",
      " 16  avg_vote               41896 non-null  float64\n",
      " 17  votes                  41896 non-null  int64  \n",
      " 18  budget                 15453 non-null  object \n",
      " 19  usa_gross_income       13291 non-null  object \n",
      " 20  worlwide_gross_income  19887 non-null  object \n",
      " 21  metascore              11596 non-null  float64\n",
      " 22  reviews_from_users     40728 non-null  float64\n",
      " 23  reviews_from_critics   40120 non-null  float64\n",
      " 24  mean_vote              41896 non-null  float64\n",
      " 25  total_votes            41896 non-null  int64  \n",
      "dtypes: float64(5), int64(5), object(16)\n",
      "memory usage: 8.3+ MB\n"
     ]
    }
   ],
   "source": [
    "Movies_metadata.info()"
   ]
  },
  {
   "cell_type": "code",
   "execution_count": 224,
   "metadata": {},
   "outputs": [
    {
     "data": {
      "text/plain": [
       "count    41896.000000\n",
       "mean         6.379342\n",
       "std          1.036597\n",
       "min          1.300000\n",
       "25%          5.800000\n",
       "50%          6.500000\n",
       "75%          7.100000\n",
       "max          9.400000\n",
       "Name: mean_vote, dtype: float64"
      ]
     },
     "execution_count": 224,
     "metadata": {},
     "output_type": "execute_result"
    }
   ],
   "source": [
    "Movies_metadata['mean_vote'].describe()"
   ]
  },
  {
   "cell_type": "code",
   "execution_count": 225,
   "metadata": {},
   "outputs": [
    {
     "name": "stdout",
     "output_type": "stream",
     "text": [
      "English :  28413\n",
      "French :  4639\n",
      "Italian :  2891\n",
      "German :  2352\n",
      "Spanish :  2943\n",
      "Russian :  1718\n",
      "Mandarin :  910\n",
      "Dutch :  410\n",
      "Cantonese :  643\n",
      "Latin :  322\n",
      "Algonquin :  5\n",
      "Hungarian :  211\n",
      "Hebrew :  317\n",
      "Korean :  636\n",
      "American Sign Language :  60\n",
      "Persian :  199\n",
      "Danish :  284\n",
      "Scottish Gaelic :  22\n",
      "Hawaiian :  17\n",
      "Japanese :  1967\n",
      "Hindi :  898\n",
      "Punjabi :  39\n",
      "Urdu :  79\n",
      "Sicilian :  10\n",
      "Arabic :  483\n",
      "Yiddish :  86\n",
      "Serbo-Croatian :  70\n",
      "Croatian :  43\n",
      "Mongolian :  11\n",
      "Romanian :  164\n",
      "Malay :  19\n",
      "Indonesian :  58\n",
      "Finnish :  402\n",
      "Luxembourgish :  7\n",
      "French Sign Language :  7\n",
      "Sioux :  13\n",
      "Macedonian :  12\n",
      "Albanian :  38\n",
      "Swedish :  558\n",
      "Cornish :  1\n",
      "Vietnamese :  88\n",
      "Swahili :  38\n",
      "Navajo :  10\n",
      "Maori :  18\n",
      "Polish :  450\n",
      "Norwegian :  214\n",
      "Egyptian (Ancient) :  6\n",
      "Klingon :  12\n",
      "Filipino :  72\n",
      "British Sign Language :  3\n",
      "Xhosa :  21\n",
      "Zulu :  26\n",
      "Esperanto :  13\n",
      "Irish :  42\n",
      "Apache languages :  7\n",
      "Welsh :  17\n",
      "Chinese :  120\n",
      "Neapolitan :  13\n",
      "Pawnee :  2\n",
      "Greek :  281\n",
      "Catalan :  59\n",
      "Czech :  205\n",
      "Icelandic :  72\n",
      "Afrikaans :  49\n",
      "Serbian :  126\n",
      "Bengali :  51\n",
      "Flemish :  47\n",
      "Cree :  4\n",
      "Wolof :  17\n",
      "More :  4\n",
      "Tagalog :  83\n",
      "Portuguese :  515\n",
      "Thai :  170\n",
      "Latvian :  20\n",
      "Bulgarian :  47\n",
      "Inuktitut :  17\n",
      "Turkish :  332\n",
      "Nepali :  4\n",
      "Khmer :  16\n",
      "North American Indian :  9\n",
      "Aboriginal :  22\n",
      "Ukrainian :  100\n",
      "Slovak :  34\n",
      "Georgian :  47\n",
      "Chechen :  9\n",
      "Bosnian :  27\n",
      "Tibetan :  15\n",
      "Mende :  2\n",
      "Syriac :  4\n",
      "Assyrian Neo-Aramaic :  5\n",
      "Min Nan :  49\n",
      "German Sign Language :  2\n",
      "Polynesian :  7\n",
      "Kurdish :  32\n",
      "Scots :  8\n",
      "Sinhalese :  3\n",
      "Sindarin :  5\n",
      "Ungwatsi :  4\n",
      "nolang :  248\n",
      "None :  62\n",
      "Assamese :  2\n",
      "Tok Pisin :  1\n",
      "Washoe :  1\n",
      "Guarani :  10\n",
      "Norse :  4\n",
      "Old :  4\n",
      "Aramaic :  6\n",
      "Romany :  23\n",
      "Quechua :  17\n",
      "Crow :  2\n",
      "Ancient (to 1453) :  8\n",
      "Tamil :  260\n",
      "Papiamento :  2\n",
      "Basque :  18\n",
      "Azerbaijani :  11\n",
      "Maltese :  3\n",
      "Gallegan :  7\n",
      "Lao :  5\n",
      "Dari :  18\n",
      "Pushto :  19\n",
      "Shanghainese :  19\n",
      "Scanian :  4\n",
      "Hokkien :  21\n",
      "Lingala :  9\n",
      "Bambara :  7\n",
      "Spanish Sign Language :  3\n",
      "Brazilian Sign Language :  4\n",
      "Mohawk :  5\n",
      "Hausa :  2\n",
      "Somali :  9\n",
      "Yoruba :  7\n",
      "Eastern Frisian :  1\n",
      "Ryukyuan :  2\n",
      "Armenian :  27\n",
      "Occitan :  5\n",
      "Old English :  3\n",
      "Berber languages :  3\n",
      "Tonga :  2\n",
      "Hakka :  9\n",
      "Malinka :  1\n",
      "Swiss German :  39\n",
      "Belarusian :  3\n",
      "Amharic :  9\n",
      "Quenya :  1\n",
      "Tajik :  4\n",
      "Uzbek :  4\n",
      "Arapaho :  1\n",
      "Cheyenne :  3\n",
      "Mapudungun :  3\n",
      "Burmese :  7\n",
      "Tatar :  3\n",
      "Maya :  7\n",
      "Saami :  12\n",
      "Ewe :  1\n",
      "Nahuatl :  5\n",
      "Tzotzil :  2\n",
      "Kuna :  1\n",
      "Athapascan languages :  2\n",
      "Korean Sign Language :  4\n",
      "Corsican :  4\n",
      "Kinyarwanda :  3\n",
      "Sanskrit :  9\n",
      "Rajasthani :  7\n",
      "Dzongkha :  1\n",
      "Estonian :  53\n",
      "Japanese Sign Language :  4\n",
      "Shanxi :  1\n",
      "Kirundi :  1\n",
      "Kazakh :  12\n",
      "Central American Indian languages :  1\n",
      "Low German :  2\n",
      "Hmong :  2\n",
      "Frisian :  3\n",
      "Awadhi :  2\n",
      "Malayalam :  136\n",
      "Slovenian :  24\n",
      "Nyanja :  2\n",
      "Southern Sotho :  5\n",
      "Sardinian :  4\n",
      "Gujarati :  12\n",
      "Dyula :  3\n",
      "Kabuverdianu :  2\n",
      "Kru :  1\n",
      "Bhojpuri :  2\n",
      "Sign Languages :  9\n",
      "Tupi :  5\n",
      "Hopi :  1\n",
      "Lithuanian :  27\n",
      "Indian Sign Language :  3\n",
      "Uighur :  1\n",
      "Ladakhi :  1\n",
      "Tarahumara :  1\n",
      "Aymara :  3\n",
      "Kabyle :  1\n",
      "Marathi :  50\n",
      "Acholi :  1\n",
      "Tulu :  2\n",
      "Hassanya :  1\n",
      "Nama :  2\n",
      "Haitian :  2\n",
      "Telugu :  135\n",
      "Bable :  1\n",
      "Greenlandic :  4\n",
      "Middle English :  1\n",
      "Ladino :  4\n",
      "Mari :  1\n",
      "Peul :  1\n",
      "Tamashek :  2\n",
      "Ukrainian Sign Language :  1\n",
      "Abkhazian :  1\n",
      "Kannada :  9\n",
      "Samoan :  3\n",
      "Akan :  2\n",
      "Australian Sign Language :  1\n",
      "Ibo :  2\n",
      "Songhay :  1\n",
      "Kirghiz :  4\n",
      "Haryanvi :  3\n",
      "Gumatj :  2\n",
      "Micmac :  1\n",
      "Konkani :  2\n",
      "Khanty :  1\n",
      "Nenets :  1\n",
      "Turkmen :  1\n",
      "Kriolu :  2\n",
      "Aragonese :  1\n",
      "Crimean Tatar :  1\n",
      "Montagnais :  1\n",
      "Faroese :  3\n",
      "Sindhi :  1\n",
      "Shona :  1\n",
      "Tswana :  1\n",
      "Tigrigna :  1\n",
      "Visayan :  2\n",
      "Mirandese :  1\n",
      "Russian Sign Language :  2\n",
      "Purepecha :  1\n",
      "Sranan :  1\n",
      "Dinka :  1\n",
      "Kashmiri :  1\n",
      "Ojibwa :  2\n",
      "Teochew :  1\n",
      "Bemba :  1\n",
      "Breton :  1\n",
      "Wayuu :  1\n",
      "Mixtec :  1\n"
     ]
    }
   ],
   "source": [
    "Movies_metadata['language'] = Movies_metadata['language'].fillna('nolang')\n",
    "freq = {}\n",
    "\n",
    "for item in Movies_metadata['language']:\n",
    "    for subitem in item.split(', '):\n",
    "        if (subitem in freq):\n",
    "            freq[subitem] += 1\n",
    "        else:\n",
    "            freq[subitem] = 1\n",
    "    \n",
    "for key, value in freq.items():\n",
    "    print (\"% s : % d\"%(key, value))"
   ]
  },
  {
   "cell_type": "code",
   "execution_count": 226,
   "metadata": {},
   "outputs": [
    {
     "name": "stdout",
     "output_type": "stream",
     "text": [
      "<class 'pandas.core.frame.DataFrame'>\n",
      "RangeIndex: 41896 entries, 0 to 41895\n",
      "Data columns (total 33 columns):\n",
      " #   Column                 Non-Null Count  Dtype  \n",
      "---  ------                 --------------  -----  \n",
      " 0   movieId                41896 non-null  int64  \n",
      " 1   genres                 41896 non-null  object \n",
      " 2   imdb_title_id          41896 non-null  object \n",
      " 3   title                  41896 non-null  object \n",
      " 4   original_title         41896 non-null  object \n",
      " 5   year                   41896 non-null  int64  \n",
      " 6   date_published         41896 non-null  object \n",
      " 7   genre                  41896 non-null  object \n",
      " 8   duration               41896 non-null  int64  \n",
      " 9   country                41890 non-null  object \n",
      " 10  language               41896 non-null  object \n",
      " 11  director               41886 non-null  object \n",
      " 12  writer                 41621 non-null  object \n",
      " 13  production_company     40944 non-null  object \n",
      " 14  actors                 41877 non-null  object \n",
      " 15  description            41589 non-null  object \n",
      " 16  avg_vote               41896 non-null  float64\n",
      " 17  votes                  41896 non-null  int64  \n",
      " 18  budget                 15453 non-null  object \n",
      " 19  usa_gross_income       13291 non-null  object \n",
      " 20  worlwide_gross_income  19887 non-null  object \n",
      " 21  metascore              11596 non-null  float64\n",
      " 22  reviews_from_users     40728 non-null  float64\n",
      " 23  reviews_from_critics   40120 non-null  float64\n",
      " 24  mean_vote              41896 non-null  float64\n",
      " 25  total_votes            41896 non-null  int64  \n",
      " 26  English                41896 non-null  int64  \n",
      " 27  French                 41896 non-null  int64  \n",
      " 28  Italian                41896 non-null  int64  \n",
      " 29  German                 41896 non-null  int64  \n",
      " 30  Spanish                41896 non-null  int64  \n",
      " 31  Russian                41896 non-null  int64  \n",
      " 32  Other                  41896 non-null  int64  \n",
      "dtypes: float64(5), int64(12), object(16)\n",
      "memory usage: 10.5+ MB\n"
     ]
    }
   ],
   "source": [
    "mylang = ['English' , 'French' , 'Italian','German','Spanish','Russian', 'Other']\n",
    "mylangs = ['English' , 'French' , 'Italian','German','Spanish','Russian']\n",
    "for i in mylang:\n",
    "    Movies_metadata[i] = 0\n",
    "    \n",
    "for index, row in Movies_metadata.iterrows():\n",
    "#     print( index, row['imdb_title_id'], row['genres'])\n",
    "    for subitem in row['language'].split(', '):\n",
    "        if subitem in mylangs:\n",
    "            Movies_metadata.loc[index, subitem] = 1\n",
    "        else:\n",
    "            Movies_metadata.loc[index, \"Other\"] = 1\n",
    "        \n",
    "Movies_metadata.info() "
   ]
  },
  {
   "cell_type": "code",
   "execution_count": 227,
   "metadata": {},
   "outputs": [],
   "source": [
    "#obj_Movies_metadata = Movies_metadata.select_dtypes(include=['object']).copy()\n",
    "#myobj = ['country','language','production_company']\n",
    "\n",
    "#for i in myobj:\n",
    " #   obj_Movies_metadata[i] = obj_Movies_metadata[i].astype('category')\n",
    "  #  Movies_metadata[i] = obj_Movies_metadata[i].cat.codes\n"
   ]
  },
  {
   "cell_type": "code",
   "execution_count": 228,
   "metadata": {},
   "outputs": [
    {
     "name": "stdout",
     "output_type": "stream",
     "text": [
      "<class 'pandas.core.frame.DataFrame'>\n",
      "RangeIndex: 41896 entries, 0 to 41895\n",
      "Data columns (total 33 columns):\n",
      " #   Column                 Non-Null Count  Dtype  \n",
      "---  ------                 --------------  -----  \n",
      " 0   movieId                41896 non-null  int64  \n",
      " 1   genres                 41896 non-null  object \n",
      " 2   imdb_title_id          41896 non-null  object \n",
      " 3   title                  41896 non-null  object \n",
      " 4   original_title         41896 non-null  object \n",
      " 5   year                   41896 non-null  int64  \n",
      " 6   date_published         41896 non-null  object \n",
      " 7   genre                  41896 non-null  object \n",
      " 8   duration               41896 non-null  int64  \n",
      " 9   country                41896 non-null  object \n",
      " 10  language               41896 non-null  object \n",
      " 11  director               41896 non-null  object \n",
      " 12  writer                 41896 non-null  object \n",
      " 13  production_company     41896 non-null  object \n",
      " 14  actors                 41896 non-null  object \n",
      " 15  description            41896 non-null  object \n",
      " 16  avg_vote               41896 non-null  float64\n",
      " 17  votes                  41896 non-null  int64  \n",
      " 18  budget                 41896 non-null  object \n",
      " 19  usa_gross_income       41896 non-null  object \n",
      " 20  worlwide_gross_income  41896 non-null  object \n",
      " 21  metascore              41896 non-null  float64\n",
      " 22  reviews_from_users     41896 non-null  float64\n",
      " 23  reviews_from_critics   41896 non-null  float64\n",
      " 24  mean_vote              41896 non-null  float64\n",
      " 25  total_votes            41896 non-null  int64  \n",
      " 26  English                41896 non-null  int64  \n",
      " 27  French                 41896 non-null  int64  \n",
      " 28  Italian                41896 non-null  int64  \n",
      " 29  German                 41896 non-null  int64  \n",
      " 30  Spanish                41896 non-null  int64  \n",
      " 31  Russian                41896 non-null  int64  \n",
      " 32  Other                  41896 non-null  int64  \n",
      "dtypes: float64(5), int64(12), object(16)\n",
      "memory usage: 10.5+ MB\n"
     ]
    }
   ],
   "source": [
    "Movies_metadata = Movies_metadata.fillna(100000)\n",
    "Movies_metadata.info()"
   ]
  },
  {
   "cell_type": "code",
   "execution_count": 229,
   "metadata": {},
   "outputs": [],
   "source": [
    "data =  Movies_metadata[['movieId','year','duration','metascore','reviews_from_users','reviews_from_critics',\n",
    "                         'English' , 'French' , 'Italian','German','Spanish','Russian', 'Other','mean_vote'] ]"
   ]
  },
  {
   "cell_type": "code",
   "execution_count": 230,
   "metadata": {},
   "outputs": [],
   "source": [
    "pd.options.mode.chained_assignment = None\n",
    "all_genres = []\n",
    "\n",
    "for item in Movies_metadata['genres']:\n",
    "    for subitem in item.split('|'):\n",
    "        if (subitem not in all_genres):\n",
    "            all_genres.append( subitem )\n",
    "\n",
    "            \n",
    "for i in all_genres:\n",
    "    data[i] = 0\n",
    "\n",
    "for index, row in Movies_metadata.iterrows():\n",
    "#     print( index, row['imdb_title_id'], row['genres'])\n",
    "    for subitem in row['genres'].split('|'):\n",
    "        data.loc[index, subitem] = 1"
   ]
  },
  {
   "cell_type": "code",
   "execution_count": 231,
   "metadata": {},
   "outputs": [
    {
     "name": "stdout",
     "output_type": "stream",
     "text": [
      "<class 'pandas.core.frame.DataFrame'>\n",
      "Int64Index: 20121 entries, 3 to 41893\n",
      "Data columns (total 34 columns):\n",
      " #   Column                Non-Null Count  Dtype  \n",
      "---  ------                --------------  -----  \n",
      " 0   year                  20121 non-null  float64\n",
      " 1   duration              20121 non-null  float64\n",
      " 2   metascore             20121 non-null  float64\n",
      " 3   reviews_from_users    20121 non-null  float64\n",
      " 4   reviews_from_critics  20121 non-null  float64\n",
      " 5   English               20121 non-null  float64\n",
      " 6   French                20121 non-null  float64\n",
      " 7   Italian               20121 non-null  float64\n",
      " 8   German                20121 non-null  float64\n",
      " 9   Spanish               20121 non-null  float64\n",
      " 10  Russian               20121 non-null  float64\n",
      " 11  Other                 20121 non-null  float64\n",
      " 12  Adventure             20121 non-null  float64\n",
      " 13  Animation             20121 non-null  float64\n",
      " 14  Children              20121 non-null  float64\n",
      " 15  Comedy                20121 non-null  float64\n",
      " 16  Fantasy               20121 non-null  float64\n",
      " 17  Romance               20121 non-null  float64\n",
      " 18  Drama                 20121 non-null  float64\n",
      " 19  Action                20121 non-null  float64\n",
      " 20  Crime                 20121 non-null  float64\n",
      " 21  Thriller              20121 non-null  float64\n",
      " 22  Horror                20121 non-null  float64\n",
      " 23  Mystery               20121 non-null  float64\n",
      " 24  Sci-Fi                20121 non-null  float64\n",
      " 25  IMAX                  20121 non-null  float64\n",
      " 26  Documentary           20121 non-null  float64\n",
      " 27  War                   20121 non-null  float64\n",
      " 28  Musical               20121 non-null  float64\n",
      " 29  Western               20121 non-null  float64\n",
      " 30  Film-Noir             20121 non-null  float64\n",
      " 31  (no genres listed)    20121 non-null  float64\n",
      " 32  mean_vote             20121 non-null  float64\n",
      " 33  movieId               20121 non-null  int64  \n",
      "dtypes: float64(33), int64(1)\n",
      "memory usage: 5.4 MB\n"
     ]
    }
   ],
   "source": [
    "from sklearn.preprocessing import StandardScaler\n",
    "\n",
    "scaler = StandardScaler()\n",
    "scaled = scaler.fit_transform(data.drop(['movieId','mean_vote'],axis=1))\n",
    "data_norm = pd.DataFrame(scaled,columns=(data.drop(['movieId','mean_vote'],axis=1).columns))\n",
    "data_norm= data_norm.join(data['mean_vote'])\n",
    "data_norm= data_norm.join(data['movieId'])\n",
    "\n",
    "\n",
    "from scipy import stats\n",
    "z_scores = stats.zscore(data_norm.drop(['movieId','mean_vote'],axis=1))\n",
    "abs_z_scores = np.abs(z_scores)\n",
    "filtered_entries = (abs_z_scores < 3).all(axis=1)\n",
    "newdata = data_norm[filtered_entries]\n",
    "\n",
    "newdata.info()"
   ]
  },
  {
   "cell_type": "code",
   "execution_count": 232,
   "metadata": {},
   "outputs": [],
   "source": [
    "pd.options.mode.chained_assignment = None\n",
    "\n",
    "newdata['mean_vote_class'] = 0\n",
    "newdata['mean_vote_class'][newdata['mean_vote']>=6.5] = 1\n",
    "newdata['mean_vote_class'][newdata['mean_vote']<6.5] = 0"
   ]
  },
  {
   "cell_type": "code",
   "execution_count": 233,
   "metadata": {},
   "outputs": [
    {
     "data": {
      "image/png": "[encoded data removed]",
      "text/plain": [
       "<Figure size 432x288 with 1 Axes>"
      ]
     },
     "metadata": {
      "needs_background": "light"
     },
     "output_type": "display_data"
    }
   ],
   "source": [
    "plt.hist(newdata['mean_vote_class'])\n",
    "plt.show()"
   ]
  },
  {
   "cell_type": "code",
   "execution_count": 234,
   "metadata": {},
   "outputs": [
    {
     "data": {
      "text/plain": [
       "array([0.15229251, 0.14314207, 0.11157316, 0.10623405])"
      ]
     },
     "execution_count": 234,
     "metadata": {},
     "output_type": "execute_result"
    }
   ],
   "source": [
    "#from sklearn.decomposition import PCA\n",
    "#pca01 = PCA(n_components = 4)\n",
    "#principlecomp_train = pca01.fit_transform(newdata.drop(['movieId','mean_vote','mean_vote_class'],axis=1))\n",
    "#pca01.explained_variance_ratio_"
   ]
  },
  {
   "cell_type": "code",
   "execution_count": null,
   "metadata": {},
   "outputs": [],
   "source": []
  },
  {
   "cell_type": "markdown",
   "metadata": {},
   "source": [
    "### Without Classing of mean_vote"
   ]
  },
  {
   "cell_type": "code",
   "execution_count": 235,
   "metadata": {},
   "outputs": [],
   "source": [
    "target = newdata['mean_vote'] \n",
    "predictors = newdata.drop(['mean_vote','movieId','mean_vote_class'],axis=1)"
   ]
  },
  {
   "cell_type": "code",
   "execution_count": 236,
   "metadata": {},
   "outputs": [],
   "source": [
    "X_train, X_test, y_train, y_test = train_test_split(predictors, target, test_size=0.30, random_state=40)"
   ]
  },
  {
   "cell_type": "code",
   "execution_count": 248,
   "metadata": {},
   "outputs": [],
   "source": [
    "model01 = Sequential()\n",
    "model01.add(Dense(900, activation='relu', input_dim=32))\n",
    "model01.add(Dense(600, activation='relu'))\n",
    "model01.add(Dense(300, activation='relu'))\n",
    "model01.add(Dense(150, activation='relu'))\n",
    "model01.add(Dense(30, activation='relu'))\n",
    "model01.add(Dense(1, activation='linear'))\n",
    "\n",
    "# Compile the model\n",
    "model01.compile(optimizer='adam', loss='mean_absolute_error', metrics=['mean_squared_error'])"
   ]
  },
  {
   "cell_type": "code",
   "execution_count": 249,
   "metadata": {
    "scrolled": true
   },
   "outputs": [
    {
     "name": "stdout",
     "output_type": "stream",
     "text": [
      "Epoch 1/20\n",
      "1409/1409 [==============================] - 17s 10ms/step - loss: 0.7644 - mean_squared_error: 1.0654\n",
      "Epoch 2/20\n",
      "1409/1409 [==============================] - 14s 10ms/step - loss: 0.6844 - mean_squared_error: 0.7760\n",
      "Epoch 3/20\n",
      "1409/1409 [==============================] - 14s 10ms/step - loss: 0.6553 - mean_squared_error: 0.7236\n",
      "Epoch 4/20\n",
      "1409/1409 [==============================] - 14s 10ms/step - loss: 0.6504 - mean_squared_error: 0.7162\n",
      "Epoch 5/20\n",
      "1409/1409 [==============================] - 14s 10ms/step - loss: 0.6457 - mean_squared_error: 0.7038\n",
      "Epoch 6/20\n",
      "1409/1409 [==============================] - 14s 10ms/step - loss: 0.6335 - mean_squared_error: 0.6813\n",
      "Epoch 7/20\n",
      "1409/1409 [==============================] - 14s 10ms/step - loss: 0.6306 - mean_squared_error: 0.6782\n",
      "Epoch 8/20\n",
      "1409/1409 [==============================] - 14s 10ms/step - loss: 0.6234 - mean_squared_error: 0.6638\n",
      "Epoch 9/20\n",
      "1409/1409 [==============================] - 14s 10ms/step - loss: 0.6231 - mean_squared_error: 0.6658\n",
      "Epoch 10/20\n",
      "1409/1409 [==============================] - 14s 10ms/step - loss: 0.6208 - mean_squared_error: 0.6601\n",
      "Epoch 11/20\n",
      "1409/1409 [==============================] - 14s 10ms/step - loss: 0.6176 - mean_squared_error: 0.6543\n",
      "Epoch 12/20\n",
      "1409/1409 [==============================] - 14s 10ms/step - loss: 0.6146 - mean_squared_error: 0.6545\n",
      "Epoch 13/20\n",
      "1409/1409 [==============================] - 14s 10ms/step - loss: 0.6141 - mean_squared_error: 0.6489\n",
      "Epoch 14/20\n",
      "1409/1409 [==============================] - 15s 11ms/step - loss: 0.6110 - mean_squared_error: 0.6423\n",
      "Epoch 15/20\n",
      "1409/1409 [==============================] - 15s 11ms/step - loss: 0.6094 - mean_squared_error: 0.6411\n",
      "Epoch 16/20\n",
      "1409/1409 [==============================] - 15s 10ms/step - loss: 0.6061 - mean_squared_error: 0.6385\n",
      "Epoch 17/20\n",
      "1409/1409 [==============================] - 15s 11ms/step - loss: 0.6030 - mean_squared_error: 0.6323\n",
      "Epoch 18/20\n",
      "1409/1409 [==============================] - 15s 10ms/step - loss: 0.6043 - mean_squared_error: 0.6336\n",
      "Epoch 19/20\n",
      "1409/1409 [==============================] - 15s 10ms/step - loss: 0.6033 - mean_squared_error: 0.6297\n",
      "Epoch 20/20\n",
      "1409/1409 [==============================] - 14s 10ms/step - loss: 0.6029 - mean_squared_error: 0.6286\n"
     ]
    },
    {
     "data": {
      "text/plain": [
       "<tensorflow.python.keras.callbacks.History at 0x27a8a864a90>"
      ]
     },
     "execution_count": 249,
     "metadata": {},
     "output_type": "execute_result"
    }
   ],
   "source": [
    "model01.fit(X_train, y_train, epochs=20, batch_size=10)"
   ]
  },
  {
   "cell_type": "code",
   "execution_count": 250,
   "metadata": {},
   "outputs": [],
   "source": [
    "y_pred= model01.predict(X_test)"
   ]
  },
  {
   "cell_type": "code",
   "execution_count": 251,
   "metadata": {},
   "outputs": [
    {
     "name": "stdout",
     "output_type": "stream",
     "text": [
      "Accuracy on test data: 0.6186407804489136% \n",
      " Error on test data: 0.3813592195510864\n"
     ]
    }
   ],
   "source": [
    "scores = model01.evaluate(X_test, y_test, verbose=0)\n",
    "print('Accuracy on test data: {}% \\n Error on test data: {}'.format(scores[1], 1 - scores[1]))    "
   ]
  },
  {
   "cell_type": "code",
   "execution_count": 252,
   "metadata": {},
   "outputs": [
    {
     "name": "stdout",
     "output_type": "stream",
     "text": [
      "MSE: 0.6186408990693504\n",
      "MAE: 0.6070167821429514\n",
      "RMSE: 0.7865372839664693\n"
     ]
    }
   ],
   "source": [
    "print('MSE:',mean_squared_error(y_test, y_pred))\n",
    "print('MAE:',mean_absolute_error(y_test, y_pred))\n",
    "print('RMSE:',np.sqrt(mean_squared_error(y_test, y_pred)))"
   ]
  },
  {
   "cell_type": "code",
   "execution_count": null,
   "metadata": {},
   "outputs": [],
   "source": []
  },
  {
   "cell_type": "markdown",
   "metadata": {},
   "source": [
    "### With Classing mean_vote"
   ]
  },
  {
   "cell_type": "code",
   "execution_count": 253,
   "metadata": {},
   "outputs": [],
   "source": [
    "target = newdata['mean_vote_class'] \n",
    "predictors = newdata.drop(['mean_vote','mean_vote_class','movieId'],axis=1)\n",
    "\n",
    "X_train, X_test, y_train, y_test = train_test_split(predictors, target, test_size=0.30, random_state=40)\n"
   ]
  },
  {
   "cell_type": "code",
   "execution_count": 254,
   "metadata": {},
   "outputs": [],
   "source": [
    "model02 = Sequential()\n",
    "model02.add(Dense(300, activation='relu', input_dim=32))\n",
    "model02.add(Dense(150, activation='relu'))\n",
    "model02.add(Dense(30, activation='relu'))\n",
    "model02.add(Dense(1, activation='sigmoid'))\n",
    "\n",
    "# Compile the model\n",
    "model02.compile(optimizer='adam', loss='mean_absolute_error', metrics=['mean_squared_error'])"
   ]
  },
  {
   "cell_type": "code",
   "execution_count": 255,
   "metadata": {},
   "outputs": [
    {
     "name": "stdout",
     "output_type": "stream",
     "text": [
      "Epoch 1/20\n",
      "1409/1409 [==============================] - 5s 3ms/step - loss: 0.2971 - mean_squared_error: 0.2728\n",
      "Epoch 2/20\n",
      "1409/1409 [==============================] - 4s 3ms/step - loss: 0.2881 - mean_squared_error: 0.2800\n",
      "Epoch 3/20\n",
      "1409/1409 [==============================] - 4s 2ms/step - loss: 0.2836 - mean_squared_error: 0.2762\n",
      "Epoch 4/20\n",
      "1409/1409 [==============================] - 4s 3ms/step - loss: 0.2857 - mean_squared_error: 0.2820\n",
      "Epoch 5/20\n",
      "1409/1409 [==============================] - 3s 2ms/step - loss: 0.2824 - mean_squared_error: 0.2795\n",
      "Epoch 6/20\n",
      "1409/1409 [==============================] - 4s 2ms/step - loss: 0.2892 - mean_squared_error: 0.2871\n",
      "Epoch 7/20\n",
      "1409/1409 [==============================] - 4s 2ms/step - loss: 0.2889 - mean_squared_error: 0.2869\n",
      "Epoch 8/20\n",
      "1409/1409 [==============================] - 4s 3ms/step - loss: 0.2850 - mean_squared_error: 0.2833\n",
      "Epoch 9/20\n",
      "1409/1409 [==============================] - 4s 2ms/step - loss: 0.2858 - mean_squared_error: 0.2844\n",
      "Epoch 10/20\n",
      "1409/1409 [==============================] - 4s 3ms/step - loss: 0.2862 - mean_squared_error: 0.2851\n",
      "Epoch 11/20\n",
      "1409/1409 [==============================] - 4s 2ms/step - loss: 0.2906 - mean_squared_error: 0.2895\n",
      "Epoch 12/20\n",
      "1409/1409 [==============================] - 4s 3ms/step - loss: 0.2915 - mean_squared_error: 0.2906\n",
      "Epoch 13/20\n",
      "1409/1409 [==============================] - 4s 3ms/step - loss: 0.2995 - mean_squared_error: 0.2987\n",
      "Epoch 14/20\n",
      "1409/1409 [==============================] - 4s 3ms/step - loss: 0.3019 - mean_squared_error: 0.3012\n",
      "Epoch 15/20\n",
      "1409/1409 [==============================] - 4s 3ms/step - loss: 0.2941 - mean_squared_error: 0.2935\n",
      "Epoch 16/20\n",
      "1409/1409 [==============================] - 4s 3ms/step - loss: 0.2896 - mean_squared_error: 0.2890\n",
      "Epoch 17/20\n",
      "1409/1409 [==============================] - 4s 3ms/step - loss: 0.2876 - mean_squared_error: 0.2871\n",
      "Epoch 18/20\n",
      "1409/1409 [==============================] - 4s 3ms/step - loss: 0.2944 - mean_squared_error: 0.2939\n",
      "Epoch 19/20\n",
      "1409/1409 [==============================] - 4s 3ms/step - loss: 0.2959 - mean_squared_error: 0.2955\n",
      "Epoch 20/20\n",
      "1409/1409 [==============================] - 3s 2ms/step - loss: 0.2848 - mean_squared_error: 0.2844\n"
     ]
    },
    {
     "data": {
      "text/plain": [
       "<tensorflow.python.keras.callbacks.History at 0x27a83ff5280>"
      ]
     },
     "execution_count": 255,
     "metadata": {},
     "output_type": "execute_result"
    }
   ],
   "source": [
    "model02.fit(X_train, y_train, epochs=20, batch_size=10)"
   ]
  },
  {
   "cell_type": "code",
   "execution_count": 256,
   "metadata": {},
   "outputs": [],
   "source": [
    "y_pred = model02.predict(X_test)"
   ]
  },
  {
   "cell_type": "code",
   "execution_count": 257,
   "metadata": {},
   "outputs": [
    {
     "name": "stdout",
     "output_type": "stream",
     "text": [
      "Accuracy on test data: 0.2705593407154083% \n",
      " Error on test data: 0.7294406592845917\n"
     ]
    }
   ],
   "source": [
    "scores = model02.evaluate(X_test, y_test, verbose=0)\n",
    "print('Accuracy on test data: {}% \\n Error on test data: {}'.format(scores[1], 1 - scores[1])) "
   ]
  },
  {
   "cell_type": "code",
   "execution_count": 258,
   "metadata": {},
   "outputs": [
    {
     "name": "stdout",
     "output_type": "stream",
     "text": [
      "MSE: 0.2705592993331496\n",
      "MAE: 0.2708082310366579\n",
      "RMSE: 0.5201531498829451\n"
     ]
    }
   ],
   "source": [
    "print('MSE:',mean_squared_error(y_test, y_pred))\n",
    "print('MAE:',mean_absolute_error(y_test, y_pred))\n",
    "print('RMSE:',np.sqrt(mean_squared_error(y_test, y_pred)))"
   ]
  },
  {
   "cell_type": "code",
   "execution_count": null,
   "metadata": {},
   "outputs": [],
   "source": []
  },
  {
   "cell_type": "markdown",
   "metadata": {},
   "source": [
    "### Generate Recommendation"
   ]
  },
  {
   "cell_type": "code",
   "execution_count": 261,
   "metadata": {},
   "outputs": [],
   "source": [
    "import difflib\n",
    "import random\n",
    "\n",
    "def get_Movie_info(Movie_id):\n",
    "    \n",
    "    \"\"\"\n",
    "    Returns some basic information about a Movie given the Movie id and the metadata dataframe.\n",
    "    \"\"\"\n",
    "    \n",
    "    Movie_info = Movies_metadata[Movies_metadata['movieId'] == int(Movie_id)][['movieId', 'genres', \n",
    "                                                            'title', 'original_title', 'year', 'duration','mean_vote']]\n",
    "    return Movie_info\n",
    "\n",
    "\n",
    "def generate_recommendation(model,movieid):\n",
    "    frames = pd.DataFrame()\n",
    "    \n",
    "    for i in movieid:\n",
    "        mask = newdata[newdata.movieId.isin([i])]\n",
    "        mask = mask.drop(['mean_vote','mean_vote_class','movieId'],axis=1)\n",
    "        rating = model.predict(mask)\n",
    "        tmp = get_Movie_info(i)\n",
    "        tmp['pred_mean'] = rating\n",
    "        frames = frames.append(tmp, ignore_index=True)\n",
    "\n",
    "    return frames\n",
    "#.sort_values('rating', ascending=False)"
   ]
  },
  {
   "cell_type": "code",
   "execution_count": 264,
   "metadata": {},
   "outputs": [
    {
     "data": {
      "text/html": [
       "<div>\n",
       "<style scoped>\n",
       "    .dataframe tbody tr th:only-of-type {\n",
       "        vertical-align: middle;\n",
       "    }\n",
       "\n",
       "    .dataframe tbody tr th {\n",
       "        vertical-align: top;\n",
       "    }\n",
       "\n",
       "    .dataframe thead th {\n",
       "        text-align: right;\n",
       "    }\n",
       "</style>\n",
       "<table border=\"1\" class=\"dataframe\">\n",
       "  <thead>\n",
       "    <tr style=\"text-align: right;\">\n",
       "      <th></th>\n",
       "      <th>movieId</th>\n",
       "      <th>genres</th>\n",
       "      <th>title</th>\n",
       "      <th>original_title</th>\n",
       "      <th>year</th>\n",
       "      <th>duration</th>\n",
       "      <th>mean_vote</th>\n",
       "      <th>pred_mean</th>\n",
       "    </tr>\n",
       "  </thead>\n",
       "  <tbody>\n",
       "    <tr>\n",
       "      <th>0</th>\n",
       "      <td>4</td>\n",
       "      <td>Comedy|Drama|Romance</td>\n",
       "      <td>Donne</td>\n",
       "      <td>Waiting to Exhale</td>\n",
       "      <td>1995</td>\n",
       "      <td>124</td>\n",
       "      <td>6.2</td>\n",
       "      <td>6.501406</td>\n",
       "    </tr>\n",
       "    <tr>\n",
       "      <th>1</th>\n",
       "      <td>7</td>\n",
       "      <td>Comedy|Romance</td>\n",
       "      <td>Sabrina</td>\n",
       "      <td>Sabrina</td>\n",
       "      <td>1995</td>\n",
       "      <td>127</td>\n",
       "      <td>6.5</td>\n",
       "      <td>6.683612</td>\n",
       "    </tr>\n",
       "    <tr>\n",
       "      <th>2</th>\n",
       "      <td>9</td>\n",
       "      <td>Action</td>\n",
       "      <td>A rischio della vita</td>\n",
       "      <td>Sudden Death</td>\n",
       "      <td>1995</td>\n",
       "      <td>111</td>\n",
       "      <td>5.9</td>\n",
       "      <td>5.290041</td>\n",
       "    </tr>\n",
       "    <tr>\n",
       "      <th>3</th>\n",
       "      <td>193843</td>\n",
       "      <td>Action|Drama|Thriller</td>\n",
       "      <td>Raazi</td>\n",
       "      <td>Raazi</td>\n",
       "      <td>2018</td>\n",
       "      <td>138</td>\n",
       "      <td>7.8</td>\n",
       "      <td>6.663864</td>\n",
       "    </tr>\n",
       "    <tr>\n",
       "      <th>4</th>\n",
       "      <td>193878</td>\n",
       "      <td>Comedy</td>\n",
       "      <td>Les tribulations d'une caissière</td>\n",
       "      <td>Les tribulations d'une caissière</td>\n",
       "      <td>2011</td>\n",
       "      <td>102</td>\n",
       "      <td>5.4</td>\n",
       "      <td>5.900451</td>\n",
       "    </tr>\n",
       "  </tbody>\n",
       "</table>\n",
       "</div>"
      ],
      "text/plain": [
       "   movieId                 genres                             title  \\\n",
       "0        4   Comedy|Drama|Romance                             Donne   \n",
       "1        7         Comedy|Romance                           Sabrina   \n",
       "2        9                 Action              A rischio della vita   \n",
       "3   193843  Action|Drama|Thriller                             Raazi   \n",
       "4   193878                 Comedy  Les tribulations d'une caissière   \n",
       "\n",
       "                     original_title  year  duration  mean_vote  pred_mean  \n",
       "0                 Waiting to Exhale  1995       124        6.2   6.501406  \n",
       "1                           Sabrina  1995       127        6.5   6.683612  \n",
       "2                      Sudden Death  1995       111        5.9   5.290041  \n",
       "3                             Raazi  2018       138        7.8   6.663864  \n",
       "4  Les tribulations d'une caissière  2011       102        5.4   5.900451  "
      ]
     },
     "execution_count": 264,
     "metadata": {},
     "output_type": "execute_result"
    }
   ],
   "source": [
    "generate_recommendation(model01,[4,7,9,193843,193878])"
   ]
  },
  {
   "cell_type": "code",
   "execution_count": 265,
   "metadata": {},
   "outputs": [
    {
     "data": {
      "text/html": [
       "<div>\n",
       "<style scoped>\n",
       "    .dataframe tbody tr th:only-of-type {\n",
       "        vertical-align: middle;\n",
       "    }\n",
       "\n",
       "    .dataframe tbody tr th {\n",
       "        vertical-align: top;\n",
       "    }\n",
       "\n",
       "    .dataframe thead th {\n",
       "        text-align: right;\n",
       "    }\n",
       "</style>\n",
       "<table border=\"1\" class=\"dataframe\">\n",
       "  <thead>\n",
       "    <tr style=\"text-align: right;\">\n",
       "      <th></th>\n",
       "      <th>movieId</th>\n",
       "      <th>genres</th>\n",
       "      <th>title</th>\n",
       "      <th>original_title</th>\n",
       "      <th>year</th>\n",
       "      <th>duration</th>\n",
       "      <th>mean_vote</th>\n",
       "      <th>pred_mean</th>\n",
       "    </tr>\n",
       "  </thead>\n",
       "  <tbody>\n",
       "    <tr>\n",
       "      <th>0</th>\n",
       "      <td>4</td>\n",
       "      <td>Comedy|Drama|Romance</td>\n",
       "      <td>Donne</td>\n",
       "      <td>Waiting to Exhale</td>\n",
       "      <td>1995</td>\n",
       "      <td>124</td>\n",
       "      <td>6.2</td>\n",
       "      <td>1.0</td>\n",
       "    </tr>\n",
       "    <tr>\n",
       "      <th>1</th>\n",
       "      <td>7</td>\n",
       "      <td>Comedy|Romance</td>\n",
       "      <td>Sabrina</td>\n",
       "      <td>Sabrina</td>\n",
       "      <td>1995</td>\n",
       "      <td>127</td>\n",
       "      <td>6.5</td>\n",
       "      <td>1.0</td>\n",
       "    </tr>\n",
       "    <tr>\n",
       "      <th>2</th>\n",
       "      <td>9</td>\n",
       "      <td>Action</td>\n",
       "      <td>A rischio della vita</td>\n",
       "      <td>Sudden Death</td>\n",
       "      <td>1995</td>\n",
       "      <td>111</td>\n",
       "      <td>5.9</td>\n",
       "      <td>0.0</td>\n",
       "    </tr>\n",
       "    <tr>\n",
       "      <th>3</th>\n",
       "      <td>193843</td>\n",
       "      <td>Action|Drama|Thriller</td>\n",
       "      <td>Raazi</td>\n",
       "      <td>Raazi</td>\n",
       "      <td>2018</td>\n",
       "      <td>138</td>\n",
       "      <td>7.8</td>\n",
       "      <td>1.0</td>\n",
       "    </tr>\n",
       "    <tr>\n",
       "      <th>4</th>\n",
       "      <td>193878</td>\n",
       "      <td>Comedy</td>\n",
       "      <td>Les tribulations d'une caissière</td>\n",
       "      <td>Les tribulations d'une caissière</td>\n",
       "      <td>2011</td>\n",
       "      <td>102</td>\n",
       "      <td>5.4</td>\n",
       "      <td>0.0</td>\n",
       "    </tr>\n",
       "  </tbody>\n",
       "</table>\n",
       "</div>"
      ],
      "text/plain": [
       "   movieId                 genres                             title  \\\n",
       "0        4   Comedy|Drama|Romance                             Donne   \n",
       "1        7         Comedy|Romance                           Sabrina   \n",
       "2        9                 Action              A rischio della vita   \n",
       "3   193843  Action|Drama|Thriller                             Raazi   \n",
       "4   193878                 Comedy  Les tribulations d'une caissière   \n",
       "\n",
       "                     original_title  year  duration  mean_vote  pred_mean  \n",
       "0                 Waiting to Exhale  1995       124        6.2        1.0  \n",
       "1                           Sabrina  1995       127        6.5        1.0  \n",
       "2                      Sudden Death  1995       111        5.9        0.0  \n",
       "3                             Raazi  2018       138        7.8        1.0  \n",
       "4  Les tribulations d'une caissière  2011       102        5.4        0.0  "
      ]
     },
     "execution_count": 265,
     "metadata": {},
     "output_type": "execute_result"
    }
   ],
   "source": [
    "generate_recommendation(model02,[4,7,9,193843,193878])"
   ]
  },
  {
   "cell_type": "code",
   "execution_count": null,
   "metadata": {},
   "outputs": [],
   "source": []
  },
  {
   "cell_type": "code",
   "execution_count": null,
   "metadata": {},
   "outputs": [],
   "source": []
  },
  {
   "cell_type": "code",
   "execution_count": null,
   "metadata": {},
   "outputs": [],
   "source": []
  }
 ],
 "metadata": {
  "kernelspec": {
   "display_name": "Python 3",
   "language": "python",
   "name": "python3"
  },
  "language_info": {
   "codemirror_mode": {
    "name": "ipython",
    "version": 3
   },
   "file_extension": ".py",
   "mimetype": "text/x-python",
   "name": "python",
   "nbconvert_exporter": "python",
   "pygments_lexer": "ipython3",
   "version": "3.8.3"
  }
 },
 "nbformat": 4,
 "nbformat_minor": 4
}
