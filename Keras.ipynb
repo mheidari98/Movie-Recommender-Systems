{
 "cells": [
  {
   "cell_type": "markdown",
   "metadata": {},
   "source": [
    "from google.colab import drive\n",
    "drive.mount('/content/drive')"
   ]
  },
  {
   "cell_type": "code",
   "execution_count": 1,
   "metadata": {},
   "outputs": [],
   "source": [
    "import pandas as pd\n",
    "import numpy as np \n",
    "import matplotlib.pyplot as plt\n",
    "import sklearn\n",
    "\n",
    "from sklearn.model_selection import train_test_split\n",
    "from sklearn.metrics import mean_squared_error\n",
    "from math import sqrt\n",
    "\n",
    "import tensorflow.keras\n",
    "from tensorflow.keras.models import Sequential\n",
    "from tensorflow.keras.layers import Dense\n",
    "from tensorflow.keras.utils import to_categorical\n",
    "\n",
    "from sklearn.metrics import mean_squared_error,mean_absolute_error\n"
   ]
  },
  {
   "cell_type": "code",
   "execution_count": 2,
   "metadata": {},
   "outputs": [],
   "source": [
    "Dataset_path = \"./DataSets/\"\n",
    "Movies_metadata = pd.read_csv(Dataset_path+\"MoviesInfo.csv\")\n",
    "ratings = pd.read_csv(Dataset_path+\"ml-latest/ratings.csv\")"
   ]
  },
  {
   "cell_type": "code",
   "execution_count": 3,
   "metadata": {},
   "outputs": [
    {
     "name": "stdout",
     "output_type": "stream",
     "text": [
      "<class 'pandas.core.frame.DataFrame'>\n",
      "RangeIndex: 41896 entries, 0 to 41895\n",
      "Data columns (total 26 columns):\n",
      " #   Column                 Non-Null Count  Dtype  \n",
      "---  ------                 --------------  -----  \n",
      " 0   movieId                41896 non-null  int64  \n",
      " 1   genres                 41896 non-null  object \n",
      " 2   imdb_title_id          41896 non-null  object \n",
      " 3   title                  41896 non-null  object \n",
      " 4   original_title         41896 non-null  object \n",
      " 5   year                   41896 non-null  int64  \n",
      " 6   date_published         41896 non-null  object \n",
      " 7   genre                  41896 non-null  object \n",
      " 8   duration               41896 non-null  int64  \n",
      " 9   country                41890 non-null  object \n",
      " 10  language               41648 non-null  object \n",
      " 11  director               41886 non-null  object \n",
      " 12  writer                 41621 non-null  object \n",
      " 13  production_company     40944 non-null  object \n",
      " 14  actors                 41877 non-null  object \n",
      " 15  description            41589 non-null  object \n",
      " 16  avg_vote               41896 non-null  float64\n",
      " 17  votes                  41896 non-null  int64  \n",
      " 18  budget                 15453 non-null  object \n",
      " 19  usa_gross_income       13291 non-null  object \n",
      " 20  worlwide_gross_income  19887 non-null  object \n",
      " 21  metascore              11596 non-null  float64\n",
      " 22  reviews_from_users     40728 non-null  float64\n",
      " 23  reviews_from_critics   40120 non-null  float64\n",
      " 24  mean_vote              41896 non-null  float64\n",
      " 25  total_votes            41896 non-null  int64  \n",
      "dtypes: float64(5), int64(5), object(16)\n",
      "memory usage: 8.3+ MB\n"
     ]
    }
   ],
   "source": [
    "Movies_metadata.info()"
   ]
  },
  {
   "cell_type": "code",
   "execution_count": 4,
   "metadata": {},
   "outputs": [
    {
     "data": {
      "text/plain": [
       "count    41896.000000\n",
       "mean         6.379342\n",
       "std          1.036597\n",
       "min          1.300000\n",
       "25%          5.800000\n",
       "50%          6.500000\n",
       "75%          7.100000\n",
       "max          9.400000\n",
       "Name: mean_vote, dtype: float64"
      ]
     },
     "execution_count": 4,
     "metadata": {},
     "output_type": "execute_result"
    }
   ],
   "source": [
    "Movies_metadata['mean_vote'].describe()"
   ]
  },
  {
   "cell_type": "code",
   "execution_count": 5,
   "metadata": {},
   "outputs": [
    {
     "name": "stdout",
     "output_type": "stream",
     "text": [
      "<class 'pandas.core.frame.DataFrame'>\n",
      "RangeIndex: 41896 entries, 0 to 41895\n",
      "Data columns (total 16 columns):\n",
      " #   Column                 Non-Null Count  Dtype \n",
      "---  ------                 --------------  ----- \n",
      " 0   genres                 41896 non-null  object\n",
      " 1   imdb_title_id          41896 non-null  object\n",
      " 2   title                  41896 non-null  object\n",
      " 3   original_title         41896 non-null  object\n",
      " 4   date_published         41896 non-null  object\n",
      " 5   genre                  41896 non-null  object\n",
      " 6   country                41890 non-null  object\n",
      " 7   language               41648 non-null  object\n",
      " 8   director               41886 non-null  object\n",
      " 9   writer                 41621 non-null  object\n",
      " 10  production_company     40944 non-null  object\n",
      " 11  actors                 41877 non-null  object\n",
      " 12  description            41589 non-null  object\n",
      " 13  budget                 15453 non-null  object\n",
      " 14  usa_gross_income       13291 non-null  object\n",
      " 15  worlwide_gross_income  19887 non-null  object\n",
      "dtypes: object(16)\n",
      "memory usage: 5.1+ MB\n"
     ]
    }
   ],
   "source": [
    "obj_Movies_metadata = Movies_metadata.select_dtypes(include=['object']).copy()\n",
    "obj_Movies_metadata.info()"
   ]
  },
  {
   "cell_type": "code",
   "execution_count": 6,
   "metadata": {},
   "outputs": [],
   "source": [
    "myobj = ['country','language','director','production_company']\n",
    "\n",
    "for i in myobj:\n",
    "    obj_Movies_metadata[i] = obj_Movies_metadata[i].astype('category')\n",
    "    Movies_metadata[i] = obj_Movies_metadata[i].cat.codes\n"
   ]
  },
  {
   "cell_type": "code",
   "execution_count": 7,
   "metadata": {},
   "outputs": [
    {
     "name": "stdout",
     "output_type": "stream",
     "text": [
      "<class 'pandas.core.frame.DataFrame'>\n",
      "RangeIndex: 41896 entries, 0 to 41895\n",
      "Data columns (total 26 columns):\n",
      " #   Column                 Non-Null Count  Dtype  \n",
      "---  ------                 --------------  -----  \n",
      " 0   movieId                41896 non-null  int64  \n",
      " 1   genres                 41896 non-null  object \n",
      " 2   imdb_title_id          41896 non-null  object \n",
      " 3   title                  41896 non-null  object \n",
      " 4   original_title         41896 non-null  object \n",
      " 5   year                   41896 non-null  int64  \n",
      " 6   date_published         41896 non-null  object \n",
      " 7   genre                  41896 non-null  object \n",
      " 8   duration               41896 non-null  int64  \n",
      " 9   country                41896 non-null  int16  \n",
      " 10  language               41896 non-null  int16  \n",
      " 11  director               41896 non-null  int16  \n",
      " 12  writer                 41896 non-null  object \n",
      " 13  production_company     41896 non-null  int16  \n",
      " 14  actors                 41896 non-null  object \n",
      " 15  description            41896 non-null  object \n",
      " 16  avg_vote               41896 non-null  float64\n",
      " 17  votes                  41896 non-null  int64  \n",
      " 18  budget                 41896 non-null  object \n",
      " 19  usa_gross_income       41896 non-null  object \n",
      " 20  worlwide_gross_income  41896 non-null  object \n",
      " 21  metascore              41896 non-null  float64\n",
      " 22  reviews_from_users     41896 non-null  float64\n",
      " 23  reviews_from_critics   41896 non-null  float64\n",
      " 24  mean_vote              41896 non-null  float64\n",
      " 25  total_votes            41896 non-null  int64  \n",
      "dtypes: float64(5), int16(4), int64(5), object(12)\n",
      "memory usage: 7.4+ MB\n"
     ]
    }
   ],
   "source": [
    "Movies_metadata = Movies_metadata.fillna(100000)\n",
    "Movies_metadata.info()"
   ]
  },
  {
   "cell_type": "code",
   "execution_count": 8,
   "metadata": {},
   "outputs": [],
   "source": [
    "data =  Movies_metadata[['movieId','year','duration','metascore','reviews_from_users','reviews_from_critics'\n",
    "                              ,'country','language','director','production_company','mean_vote']]"
   ]
  },
  {
   "cell_type": "code",
   "execution_count": 9,
   "metadata": {},
   "outputs": [
    {
     "name": "stdout",
     "output_type": "stream",
     "text": [
      "<class 'pandas.core.frame.DataFrame'>\n",
      "Int64Index: 38725 entries, 0 to 41894\n",
      "Data columns (total 11 columns):\n",
      " #   Column                Non-Null Count  Dtype  \n",
      "---  ------                --------------  -----  \n",
      " 0   year                  38725 non-null  float64\n",
      " 1   duration              38725 non-null  float64\n",
      " 2   metascore             38725 non-null  float64\n",
      " 3   reviews_from_users    38725 non-null  float64\n",
      " 4   reviews_from_critics  38725 non-null  float64\n",
      " 5   country               38725 non-null  float64\n",
      " 6   language              38725 non-null  float64\n",
      " 7   director              38725 non-null  float64\n",
      " 8   production_company    38725 non-null  float64\n",
      " 9   mean_vote             38725 non-null  float64\n",
      " 10  movieId               38725 non-null  int64  \n",
      "dtypes: float64(10), int64(1)\n",
      "memory usage: 3.5 MB\n"
     ]
    }
   ],
   "source": [
    "from sklearn.preprocessing import StandardScaler\n",
    "\n",
    "scaler = StandardScaler()\n",
    "scaled = scaler.fit_transform(data.drop(['movieId','mean_vote'],axis=1))\n",
    "data_norm = pd.DataFrame(scaled,columns=(data.drop(['movieId','mean_vote'],axis=1).columns))\n",
    "data_norm= data_norm.join(data['mean_vote'])\n",
    "data_norm= data_norm.join(data['movieId'])\n",
    "\n",
    "\n",
    "from scipy import stats\n",
    "z_scores = stats.zscore(data_norm.drop(['movieId','mean_vote'],axis=1))\n",
    "abs_z_scores = np.abs(z_scores)\n",
    "filtered_entries = (abs_z_scores < 3).all(axis=1)\n",
    "newdata = data_norm[filtered_entries]\n",
    "\n",
    "newdata.info()"
   ]
  },
  {
   "cell_type": "code",
   "execution_count": 10,
   "metadata": {},
   "outputs": [],
   "source": [
    "pd.options.mode.chained_assignment = None\n",
    "\n",
    "newdata['mean_vote_class'] = 0\n",
    "newdata['mean_vote_class'][newdata['mean_vote']>=6.5] = 1\n",
    "newdata['mean_vote_class'][newdata['mean_vote']<6.5] = 0"
   ]
  },
  {
   "cell_type": "code",
   "execution_count": 11,
   "metadata": {},
   "outputs": [
    {
     "data": {
      "image/png": "[encoded data removed]",
      "text/plain": [
       "<Figure size 432x288 with 1 Axes>"
      ]
     },
     "metadata": {
      "needs_background": "light"
     },
     "output_type": "display_data"
    }
   ],
   "source": [
    "plt.hist(newdata['mean_vote_class'])\n",
    "plt.show()"
   ]
  },
  {
   "cell_type": "code",
   "execution_count": 13,
   "metadata": {},
   "outputs": [
    {
     "data": {
      "text/plain": [
       "array([0.25157006, 0.20754751, 0.15368731, 0.14134908])"
      ]
     },
     "execution_count": 13,
     "metadata": {},
     "output_type": "execute_result"
    }
   ],
   "source": [
    "#from sklearn.decomposition import PCA\n",
    "#pca01 = PCA(n_components = 4)\n",
    "#principlecomp_train = pca01.fit_transform(newdata.drop(['movieId','mean_vote','mean_vote_class'],axis=1))\n",
    "#pca01.explained_variance_ratio_"
   ]
  },
  {
   "cell_type": "code",
   "execution_count": null,
   "metadata": {},
   "outputs": [],
   "source": []
  },
  {
   "cell_type": "markdown",
   "metadata": {},
   "source": [
    "### Without Classing of mean_vote"
   ]
  },
  {
   "cell_type": "code",
   "execution_count": 150,
   "metadata": {},
   "outputs": [],
   "source": [
    "target = newdata['mean_vote'] \n",
    "predictors = newdata.drop(['mean_vote','movieId','mean_vote_class'],axis=1)"
   ]
  },
  {
   "cell_type": "code",
   "execution_count": 151,
   "metadata": {},
   "outputs": [],
   "source": [
    "X_train, X_test, y_train, y_test = train_test_split(predictors, target, test_size=0.30, random_state=40)"
   ]
  },
  {
   "cell_type": "code",
   "execution_count": 164,
   "metadata": {},
   "outputs": [],
   "source": [
    "model01 = Sequential()\n",
    "model01.add(Dense(900, activation='relu', input_dim=9))\n",
    "model01.add(Dense(600, activation='relu'))\n",
    "model01.add(Dense(300, activation='relu'))\n",
    "model01.add(Dense(150, activation='relu'))\n",
    "model01.add(Dense(30, activation='relu'))\n",
    "model01.add(Dense(1, activation='linear'))\n",
    "\n",
    "# Compile the model\n",
    "model01.compile(optimizer='adam', loss='mean_absolute_error', metrics=['mean_squared_error'])"
   ]
  },
  {
   "cell_type": "code",
   "execution_count": 165,
   "metadata": {
    "scrolled": true
   },
   "outputs": [
    {
     "name": "stdout",
     "output_type": "stream",
     "text": [
      "Epoch 1/20\n",
      "2711/2711 [==============================] - 18s 6ms/step - loss: 0.8146 - mean_squared_error: 1.1509\n",
      "Epoch 2/20\n",
      "2711/2711 [==============================] - 17s 6ms/step - loss: 0.7281 - mean_squared_error: 0.9020\n",
      "Epoch 3/20\n",
      "2711/2711 [==============================] - 17s 6ms/step - loss: 0.7150 - mean_squared_error: 0.8751\n",
      "Epoch 4/20\n",
      "2711/2711 [==============================] - 18s 7ms/step - loss: 0.7054 - mean_squared_error: 0.8538\n",
      "Epoch 5/20\n",
      "2711/2711 [==============================] - 17s 6ms/step - loss: 0.6961 - mean_squared_error: 0.8365\n",
      "Epoch 6/20\n",
      "2711/2711 [==============================] - 17s 6ms/step - loss: 0.6894 - mean_squared_error: 0.8225\n",
      "Epoch 7/20\n",
      "2711/2711 [==============================] - 18s 7ms/step - loss: 0.6847 - mean_squared_error: 0.8114\n",
      "Epoch 8/20\n",
      "2711/2711 [==============================] - 18s 7ms/step - loss: 0.6807 - mean_squared_error: 0.8056\n",
      "Epoch 9/20\n",
      "2711/2711 [==============================] - 17s 6ms/step - loss: 0.6758 - mean_squared_error: 0.7975\n",
      "Epoch 10/20\n",
      "2711/2711 [==============================] - 17s 6ms/step - loss: 0.6746 - mean_squared_error: 0.7955\n",
      "Epoch 11/20\n",
      "2711/2711 [==============================] - 18s 7ms/step - loss: 0.6713 - mean_squared_error: 0.7874\n",
      "Epoch 12/20\n",
      "2711/2711 [==============================] - 18s 7ms/step - loss: 0.6685 - mean_squared_error: 0.7848\n",
      "Epoch 13/20\n",
      "2711/2711 [==============================] - 18s 7ms/step - loss: 0.6664 - mean_squared_error: 0.7813\n",
      "Epoch 14/20\n",
      "2711/2711 [==============================] - 18s 7ms/step - loss: 0.6641 - mean_squared_error: 0.7767\n",
      "Epoch 15/20\n",
      "2711/2711 [==============================] - 19s 7ms/step - loss: 0.6627 - mean_squared_error: 0.7747\n",
      "Epoch 16/20\n",
      "2711/2711 [==============================] - 18s 7ms/step - loss: 0.6612 - mean_squared_error: 0.7702\n",
      "Epoch 17/20\n",
      "2711/2711 [==============================] - 18s 7ms/step - loss: 0.6593 - mean_squared_error: 0.7661\n",
      "Epoch 18/20\n",
      "2711/2711 [==============================] - 18s 7ms/step - loss: 0.6581 - mean_squared_error: 0.7628\n",
      "Epoch 19/20\n",
      "2711/2711 [==============================] - 19s 7ms/step - loss: 0.6565 - mean_squared_error: 0.7615\n",
      "Epoch 20/20\n",
      "2711/2711 [==============================] - 18s 7ms/step - loss: 0.6559 - mean_squared_error: 0.7607\n"
     ]
    },
    {
     "data": {
      "text/plain": [
       "<tensorflow.python.keras.callbacks.History at 0x2511c58c490>"
      ]
     },
     "execution_count": 165,
     "metadata": {},
     "output_type": "execute_result"
    }
   ],
   "source": [
    "model01.fit(X_train, y_train, epochs=20, batch_size=10)"
   ]
  },
  {
   "cell_type": "code",
   "execution_count": 166,
   "metadata": {},
   "outputs": [],
   "source": [
    "y_pred= model01.predict(X_test)"
   ]
  },
  {
   "cell_type": "code",
   "execution_count": 167,
   "metadata": {},
   "outputs": [
    {
     "name": "stdout",
     "output_type": "stream",
     "text": [
      "Accuracy on test data: 0.7530362010002136% \n",
      " Error on test data: 0.24696379899978638\n"
     ]
    }
   ],
   "source": [
    "scores = model01.evaluate(X_test, y_test, verbose=0)\n",
    "print('Accuracy on test data: {}% \\n Error on test data: {}'.format(scores[1], 1 - scores[1]))    "
   ]
  },
  {
   "cell_type": "code",
   "execution_count": 168,
   "metadata": {},
   "outputs": [
    {
     "name": "stdout",
     "output_type": "stream",
     "text": [
      "MSE: 0.7530361842282577\n",
      "MAE: 0.6566717493326821\n",
      "RMSE: 0.8677765750631079\n"
     ]
    }
   ],
   "source": [
    "print('MSE:',mean_squared_error(y_test, y_pred))\n",
    "print('MAE:',mean_absolute_error(y_test, y_pred))\n",
    "print('RMSE:',np.sqrt(mean_squared_error(y_test, y_pred)))"
   ]
  },
  {
   "cell_type": "code",
   "execution_count": null,
   "metadata": {},
   "outputs": [],
   "source": []
  },
  {
   "cell_type": "markdown",
   "metadata": {},
   "source": [
    "### With Classing mean_vote"
   ]
  },
  {
   "cell_type": "code",
   "execution_count": 60,
   "metadata": {},
   "outputs": [],
   "source": [
    "target = newdata['mean_vote_class'] \n",
    "predictors = newdata.drop(['mean_vote','mean_vote_class','movieId'],axis=1)\n",
    "\n",
    "X_train, X_test, y_train, y_test = train_test_split(predictors, target, test_size=0.30, random_state=40)\n"
   ]
  },
  {
   "cell_type": "code",
   "execution_count": 96,
   "metadata": {},
   "outputs": [],
   "source": [
    "model02 = Sequential()\n",
    "model02.add(Dense(300, activation='relu', input_dim=9))\n",
    "model02.add(Dense(150, activation='relu'))\n",
    "model02.add(Dense(30, activation='relu'))\n",
    "model02.add(Dense(1, activation='sigmoid'))\n",
    "\n",
    "# Compile the model\n",
    "model02.compile(optimizer='adam', loss='mean_absolute_error', metrics=['mean_squared_error'])"
   ]
  },
  {
   "cell_type": "code",
   "execution_count": 97,
   "metadata": {},
   "outputs": [
    {
     "name": "stdout",
     "output_type": "stream",
     "text": [
      "Epoch 1/20\n",
      "2711/2711 [==============================] - 3s 1ms/step - loss: 0.3353 - mean_squared_error: 0.3154\n",
      "Epoch 2/20\n",
      "2711/2711 [==============================] - 3s 1ms/step - loss: 0.3256 - mean_squared_error: 0.3211\n",
      "Epoch 3/20\n",
      "2711/2711 [==============================] - 4s 1ms/step - loss: 0.3231 - mean_squared_error: 0.3203\n",
      "Epoch 4/20\n",
      "2711/2711 [==============================] - 4s 1ms/step - loss: 0.3225 - mean_squared_error: 0.3202\n",
      "Epoch 5/20\n",
      "2711/2711 [==============================] - 3s 1ms/step - loss: 0.3230 - mean_squared_error: 0.3216\n",
      "Epoch 6/20\n",
      "2711/2711 [==============================] - 3s 1ms/step - loss: 0.3339 - mean_squared_error: 0.3327\n",
      "Epoch 7/20\n",
      "2711/2711 [==============================] - 3s 1ms/step - loss: 0.3266 - mean_squared_error: 0.3255\n",
      "Epoch 8/20\n",
      "2711/2711 [==============================] - 3s 1ms/step - loss: 0.3204 - mean_squared_error: 0.3194\n",
      "Epoch 9/20\n",
      "2711/2711 [==============================] - 3s 1ms/step - loss: 0.3232 - mean_squared_error: 0.3225\n",
      "Epoch 10/20\n",
      "2711/2711 [==============================] - 3s 1ms/step - loss: 0.3228 - mean_squared_error: 0.3220\n",
      "Epoch 11/20\n",
      "2711/2711 [==============================] - 3s 1ms/step - loss: 0.3212 - mean_squared_error: 0.3206\n",
      "Epoch 12/20\n",
      "2711/2711 [==============================] - 3s 1ms/step - loss: 0.3276 - mean_squared_error: 0.3272\n",
      "Epoch 13/20\n",
      "2711/2711 [==============================] - 3s 1ms/step - loss: 0.3327 - mean_squared_error: 0.3323\n",
      "Epoch 14/20\n",
      "2711/2711 [==============================] - 4s 1ms/step - loss: 0.3328 - mean_squared_error: 0.3325\n",
      "Epoch 15/20\n",
      "2711/2711 [==============================] - 3s 1ms/step - loss: 0.3275 - mean_squared_error: 0.3271\n",
      "Epoch 16/20\n",
      "2711/2711 [==============================] - 3s 1ms/step - loss: 0.3294 - mean_squared_error: 0.3291\n",
      "Epoch 17/20\n",
      "2711/2711 [==============================] - 3s 1ms/step - loss: 0.3197 - mean_squared_error: 0.3195\n",
      "Epoch 18/20\n",
      "2711/2711 [==============================] - 3s 1ms/step - loss: 0.3278 - mean_squared_error: 0.3276\n",
      "Epoch 19/20\n",
      "2711/2711 [==============================] - 3s 1ms/step - loss: 0.3311 - mean_squared_error: 0.3309\n",
      "Epoch 20/20\n",
      "2711/2711 [==============================] - 3s 1ms/step - loss: 0.3212 - mean_squared_error: 0.3210\n"
     ]
    },
    {
     "data": {
      "text/plain": [
       "<tensorflow.python.keras.callbacks.History at 0x2515f864b80>"
      ]
     },
     "execution_count": 97,
     "metadata": {},
     "output_type": "execute_result"
    }
   ],
   "source": [
    "model02.fit(X_train, y_train, epochs=20, batch_size=10)"
   ]
  },
  {
   "cell_type": "code",
   "execution_count": 98,
   "metadata": {},
   "outputs": [],
   "source": [
    "y_pred = model02.predict(X_test)"
   ]
  },
  {
   "cell_type": "code",
   "execution_count": 99,
   "metadata": {},
   "outputs": [
    {
     "name": "stdout",
     "output_type": "stream",
     "text": [
      "Accuracy on test data: 0.3232150077819824% \n",
      " Error on test data: 0.6767849922180176\n"
     ]
    }
   ],
   "source": [
    "scores = model02.evaluate(X_test, y_test, verbose=0)\n",
    "print('Accuracy on test data: {}% \\n Error on test data: {}'.format(scores[1], 1 - scores[1])) "
   ]
  },
  {
   "cell_type": "code",
   "execution_count": 100,
   "metadata": {},
   "outputs": [
    {
     "name": "stdout",
     "output_type": "stream",
     "text": [
      "MSE: 0.323215002587628\n",
      "MAE: 0.3234071243378173\n",
      "RMSE: 0.5685200107187327\n"
     ]
    }
   ],
   "source": [
    "print('MSE:',mean_squared_error(y_test, y_pred))\n",
    "print('MAE:',mean_absolute_error(y_test, y_pred))\n",
    "print('RMSE:',np.sqrt(mean_squared_error(y_test, y_pred)))"
   ]
  },
  {
   "cell_type": "code",
   "execution_count": null,
   "metadata": {},
   "outputs": [],
   "source": []
  },
  {
   "cell_type": "markdown",
   "metadata": {},
   "source": [
    "### Generate Recommendation"
   ]
  },
  {
   "cell_type": "code",
   "execution_count": 177,
   "metadata": {},
   "outputs": [],
   "source": [
    "import difflib\n",
    "import random\n",
    "\n",
    "def get_Movie_info(Movie_id):\n",
    "    \n",
    "    \"\"\"\n",
    "    Returns some basic information about a Movie given the Movie id and the metadata dataframe.\n",
    "    \"\"\"\n",
    "    \n",
    "    Movie_info = Movies_metadata[Movies_metadata['movieId'] == int(Movie_id)][['movieId', 'genres', \n",
    "                                                            'title', 'original_title', 'year', 'duration','mean_vote']]\n",
    "    return Movie_info\n",
    "\n",
    "\n",
    "def generate_recommendation(model,movieid):\n",
    "    frames = pd.DataFrame()\n",
    "    \n",
    "    for i in movieid:\n",
    "        mask = newdata[newdata.movieId.isin([i])]\n",
    "        mask = mask.drop(['mean_vote','mean_vote_class','movieId'],axis=1)\n",
    "        rating = model.predict(mask)\n",
    "        tmp = get_Movie_info(i)\n",
    "        tmp['pred_mean'] = rating\n",
    "        frames = frames.append(tmp, ignore_index=True)\n",
    "\n",
    "    return frames\n",
    "#.sort_values('rating', ascending=False)"
   ]
  },
  {
   "cell_type": "code",
   "execution_count": 178,
   "metadata": {},
   "outputs": [
    {
     "data": {
      "text/html": [
       "<div>\n",
       "<style scoped>\n",
       "    .dataframe tbody tr th:only-of-type {\n",
       "        vertical-align: middle;\n",
       "    }\n",
       "\n",
       "    .dataframe tbody tr th {\n",
       "        vertical-align: top;\n",
       "    }\n",
       "\n",
       "    .dataframe thead th {\n",
       "        text-align: right;\n",
       "    }\n",
       "</style>\n",
       "<table border=\"1\" class=\"dataframe\">\n",
       "  <thead>\n",
       "    <tr style=\"text-align: right;\">\n",
       "      <th></th>\n",
       "      <th>movieId</th>\n",
       "      <th>genres</th>\n",
       "      <th>title</th>\n",
       "      <th>original_title</th>\n",
       "      <th>year</th>\n",
       "      <th>duration</th>\n",
       "      <th>mean_vote</th>\n",
       "      <th>pred_mean</th>\n",
       "    </tr>\n",
       "  </thead>\n",
       "  <tbody>\n",
       "    <tr>\n",
       "      <th>0</th>\n",
       "      <td>7</td>\n",
       "      <td>Comedy|Romance</td>\n",
       "      <td>Sabrina</td>\n",
       "      <td>Sabrina</td>\n",
       "      <td>1995</td>\n",
       "      <td>127</td>\n",
       "      <td>6.5</td>\n",
       "      <td>7.167579</td>\n",
       "    </tr>\n",
       "    <tr>\n",
       "      <th>1</th>\n",
       "      <td>8</td>\n",
       "      <td>Adventure|Children</td>\n",
       "      <td>Le avventure di Tom Sawyer e Huck Finn</td>\n",
       "      <td>Tom and Huck</td>\n",
       "      <td>1995</td>\n",
       "      <td>97</td>\n",
       "      <td>5.9</td>\n",
       "      <td>5.781286</td>\n",
       "    </tr>\n",
       "    <tr>\n",
       "      <th>2</th>\n",
       "      <td>34</td>\n",
       "      <td>Children|Drama</td>\n",
       "      <td>Babe, maialino coraggioso</td>\n",
       "      <td>Babe</td>\n",
       "      <td>1995</td>\n",
       "      <td>91</td>\n",
       "      <td>7.0</td>\n",
       "      <td>6.740228</td>\n",
       "    </tr>\n",
       "    <tr>\n",
       "      <th>3</th>\n",
       "      <td>54</td>\n",
       "      <td>Children|Comedy</td>\n",
       "      <td>Una squadra di classe</td>\n",
       "      <td>The Big Green</td>\n",
       "      <td>1995</td>\n",
       "      <td>100</td>\n",
       "      <td>5.8</td>\n",
       "      <td>5.813876</td>\n",
       "    </tr>\n",
       "    <tr>\n",
       "      <th>4</th>\n",
       "      <td>45</td>\n",
       "      <td>Comedy|Drama|Thriller</td>\n",
       "      <td>Da morire</td>\n",
       "      <td>To Die For</td>\n",
       "      <td>1995</td>\n",
       "      <td>106</td>\n",
       "      <td>6.9</td>\n",
       "      <td>6.531688</td>\n",
       "    </tr>\n",
       "    <tr>\n",
       "      <th>5</th>\n",
       "      <td>200</td>\n",
       "      <td>Thriller</td>\n",
       "      <td>Legame mortale</td>\n",
       "      <td>The Tie That Binds</td>\n",
       "      <td>1995</td>\n",
       "      <td>99</td>\n",
       "      <td>5.2</td>\n",
       "      <td>5.866673</td>\n",
       "    </tr>\n",
       "    <tr>\n",
       "      <th>6</th>\n",
       "      <td>3948</td>\n",
       "      <td>Comedy</td>\n",
       "      <td>Ti presento i miei</td>\n",
       "      <td>Meet the Parents</td>\n",
       "      <td>2000</td>\n",
       "      <td>108</td>\n",
       "      <td>7.0</td>\n",
       "      <td>6.777590</td>\n",
       "    </tr>\n",
       "    <tr>\n",
       "      <th>7</th>\n",
       "      <td>193882</td>\n",
       "      <td>Adventure|Drama|Horror|Sci-Fi</td>\n",
       "      <td>Flora</td>\n",
       "      <td>Flora</td>\n",
       "      <td>2017</td>\n",
       "      <td>105</td>\n",
       "      <td>4.9</td>\n",
       "      <td>6.147355</td>\n",
       "    </tr>\n",
       "  </tbody>\n",
       "</table>\n",
       "</div>"
      ],
      "text/plain": [
       "   movieId                         genres  \\\n",
       "0        7                 Comedy|Romance   \n",
       "1        8             Adventure|Children   \n",
       "2       34                 Children|Drama   \n",
       "3       54                Children|Comedy   \n",
       "4       45          Comedy|Drama|Thriller   \n",
       "5      200                       Thriller   \n",
       "6     3948                         Comedy   \n",
       "7   193882  Adventure|Drama|Horror|Sci-Fi   \n",
       "\n",
       "                                    title      original_title  year  duration  \\\n",
       "0                                 Sabrina             Sabrina  1995       127   \n",
       "1  Le avventure di Tom Sawyer e Huck Finn        Tom and Huck  1995        97   \n",
       "2               Babe, maialino coraggioso                Babe  1995        91   \n",
       "3                   Una squadra di classe       The Big Green  1995       100   \n",
       "4                               Da morire          To Die For  1995       106   \n",
       "5                          Legame mortale  The Tie That Binds  1995        99   \n",
       "6                      Ti presento i miei    Meet the Parents  2000       108   \n",
       "7                                   Flora               Flora  2017       105   \n",
       "\n",
       "   mean_vote  pred_mean  \n",
       "0        6.5   7.167579  \n",
       "1        5.9   5.781286  \n",
       "2        7.0   6.740228  \n",
       "3        5.8   5.813876  \n",
       "4        6.9   6.531688  \n",
       "5        5.2   5.866673  \n",
       "6        7.0   6.777590  \n",
       "7        4.9   6.147355  "
      ]
     },
     "execution_count": 178,
     "metadata": {},
     "output_type": "execute_result"
    }
   ],
   "source": [
    "generate_recommendation(model01,[7,8,34,54,45,200,3948,193882])"
   ]
  },
  {
   "cell_type": "code",
   "execution_count": 179,
   "metadata": {},
   "outputs": [
    {
     "data": {
      "text/html": [
       "<div>\n",
       "<style scoped>\n",
       "    .dataframe tbody tr th:only-of-type {\n",
       "        vertical-align: middle;\n",
       "    }\n",
       "\n",
       "    .dataframe tbody tr th {\n",
       "        vertical-align: top;\n",
       "    }\n",
       "\n",
       "    .dataframe thead th {\n",
       "        text-align: right;\n",
       "    }\n",
       "</style>\n",
       "<table border=\"1\" class=\"dataframe\">\n",
       "  <thead>\n",
       "    <tr style=\"text-align: right;\">\n",
       "      <th></th>\n",
       "      <th>movieId</th>\n",
       "      <th>genres</th>\n",
       "      <th>title</th>\n",
       "      <th>original_title</th>\n",
       "      <th>year</th>\n",
       "      <th>duration</th>\n",
       "      <th>mean_vote</th>\n",
       "      <th>pred_mean</th>\n",
       "    </tr>\n",
       "  </thead>\n",
       "  <tbody>\n",
       "    <tr>\n",
       "      <th>0</th>\n",
       "      <td>7</td>\n",
       "      <td>Comedy|Romance</td>\n",
       "      <td>Sabrina</td>\n",
       "      <td>Sabrina</td>\n",
       "      <td>1995</td>\n",
       "      <td>127</td>\n",
       "      <td>6.5</td>\n",
       "      <td>1.0</td>\n",
       "    </tr>\n",
       "    <tr>\n",
       "      <th>1</th>\n",
       "      <td>8</td>\n",
       "      <td>Adventure|Children</td>\n",
       "      <td>Le avventure di Tom Sawyer e Huck Finn</td>\n",
       "      <td>Tom and Huck</td>\n",
       "      <td>1995</td>\n",
       "      <td>97</td>\n",
       "      <td>5.9</td>\n",
       "      <td>0.0</td>\n",
       "    </tr>\n",
       "    <tr>\n",
       "      <th>2</th>\n",
       "      <td>34</td>\n",
       "      <td>Children|Drama</td>\n",
       "      <td>Babe, maialino coraggioso</td>\n",
       "      <td>Babe</td>\n",
       "      <td>1995</td>\n",
       "      <td>91</td>\n",
       "      <td>7.0</td>\n",
       "      <td>1.0</td>\n",
       "    </tr>\n",
       "    <tr>\n",
       "      <th>3</th>\n",
       "      <td>54</td>\n",
       "      <td>Children|Comedy</td>\n",
       "      <td>Una squadra di classe</td>\n",
       "      <td>The Big Green</td>\n",
       "      <td>1995</td>\n",
       "      <td>100</td>\n",
       "      <td>5.8</td>\n",
       "      <td>0.0</td>\n",
       "    </tr>\n",
       "    <tr>\n",
       "      <th>4</th>\n",
       "      <td>45</td>\n",
       "      <td>Comedy|Drama|Thriller</td>\n",
       "      <td>Da morire</td>\n",
       "      <td>To Die For</td>\n",
       "      <td>1995</td>\n",
       "      <td>106</td>\n",
       "      <td>6.9</td>\n",
       "      <td>1.0</td>\n",
       "    </tr>\n",
       "    <tr>\n",
       "      <th>5</th>\n",
       "      <td>200</td>\n",
       "      <td>Thriller</td>\n",
       "      <td>Legame mortale</td>\n",
       "      <td>The Tie That Binds</td>\n",
       "      <td>1995</td>\n",
       "      <td>99</td>\n",
       "      <td>5.2</td>\n",
       "      <td>0.0</td>\n",
       "    </tr>\n",
       "    <tr>\n",
       "      <th>6</th>\n",
       "      <td>3948</td>\n",
       "      <td>Comedy</td>\n",
       "      <td>Ti presento i miei</td>\n",
       "      <td>Meet the Parents</td>\n",
       "      <td>2000</td>\n",
       "      <td>108</td>\n",
       "      <td>7.0</td>\n",
       "      <td>1.0</td>\n",
       "    </tr>\n",
       "    <tr>\n",
       "      <th>7</th>\n",
       "      <td>193882</td>\n",
       "      <td>Adventure|Drama|Horror|Sci-Fi</td>\n",
       "      <td>Flora</td>\n",
       "      <td>Flora</td>\n",
       "      <td>2017</td>\n",
       "      <td>105</td>\n",
       "      <td>4.9</td>\n",
       "      <td>0.0</td>\n",
       "    </tr>\n",
       "  </tbody>\n",
       "</table>\n",
       "</div>"
      ],
      "text/plain": [
       "   movieId                         genres  \\\n",
       "0        7                 Comedy|Romance   \n",
       "1        8             Adventure|Children   \n",
       "2       34                 Children|Drama   \n",
       "3       54                Children|Comedy   \n",
       "4       45          Comedy|Drama|Thriller   \n",
       "5      200                       Thriller   \n",
       "6     3948                         Comedy   \n",
       "7   193882  Adventure|Drama|Horror|Sci-Fi   \n",
       "\n",
       "                                    title      original_title  year  duration  \\\n",
       "0                                 Sabrina             Sabrina  1995       127   \n",
       "1  Le avventure di Tom Sawyer e Huck Finn        Tom and Huck  1995        97   \n",
       "2               Babe, maialino coraggioso                Babe  1995        91   \n",
       "3                   Una squadra di classe       The Big Green  1995       100   \n",
       "4                               Da morire          To Die For  1995       106   \n",
       "5                          Legame mortale  The Tie That Binds  1995        99   \n",
       "6                      Ti presento i miei    Meet the Parents  2000       108   \n",
       "7                                   Flora               Flora  2017       105   \n",
       "\n",
       "   mean_vote  pred_mean  \n",
       "0        6.5        1.0  \n",
       "1        5.9        0.0  \n",
       "2        7.0        1.0  \n",
       "3        5.8        0.0  \n",
       "4        6.9        1.0  \n",
       "5        5.2        0.0  \n",
       "6        7.0        1.0  \n",
       "7        4.9        0.0  "
      ]
     },
     "execution_count": 179,
     "metadata": {},
     "output_type": "execute_result"
    }
   ],
   "source": [
    "generate_recommendation(model02,[7,8,34,54,45,200,3948,193882])"
   ]
  },
  {
   "cell_type": "code",
   "execution_count": null,
   "metadata": {},
   "outputs": [],
   "source": []
  },
  {
   "cell_type": "code",
   "execution_count": null,
   "metadata": {},
   "outputs": [],
   "source": []
  }
 ],
 "metadata": {
  "kernelspec": {
   "display_name": "Python 3",
   "language": "python",
   "name": "python3"
  },
  "language_info": {
   "codemirror_mode": {
    "name": "ipython",
    "version": 3
   },
   "file_extension": ".py",
   "mimetype": "text/x-python",
   "name": "python",
   "nbconvert_exporter": "python",
   "pygments_lexer": "ipython3",
   "version": "3.8.3"
  }
 },
 "nbformat": 4,
 "nbformat_minor": 4
}
