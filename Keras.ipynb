{
 "cells": [
  {
   "cell_type": "markdown",
   "metadata": {},
   "source": [
    "from google.colab import drive\n",
    "drive.mount('/content/drive')"
   ]
  },
  {
   "cell_type": "code",
   "execution_count": 31,
   "metadata": {},
   "outputs": [],
   "source": [
    "import pandas as pd\n",
    "import numpy as np \n",
    "import matplotlib.pyplot as plt\n",
    "import sklearn\n",
    "\n",
    "from sklearn.model_selection import train_test_split\n",
    "from sklearn.metrics import mean_squared_error\n",
    "from math import sqrt\n",
    "\n",
    "import tensorflow.keras\n",
    "from tensorflow.keras.models import Sequential\n",
    "from tensorflow.keras.layers import Dense\n",
    "from tensorflow.keras.utils import to_categorical\n",
    "\n",
    "from sklearn.metrics import mean_squared_error,mean_absolute_error\n"
   ]
  },
  {
   "cell_type": "code",
   "execution_count": 32,
   "metadata": {},
   "outputs": [],
   "source": [
    "Dataset_path = \"./DataSets/\"\n",
    "Movies_metadata = pd.read_csv(Dataset_path+\"MoviesInfo.csv\")\n",
    "ratings = pd.read_csv(Dataset_path+\"ml-latest/ratings.csv\")"
   ]
  },
  {
   "cell_type": "code",
   "execution_count": 33,
   "metadata": {},
   "outputs": [
    {
     "name": "stdout",
     "output_type": "stream",
     "text": [
      "<class 'pandas.core.frame.DataFrame'>\n",
      "RangeIndex: 41896 entries, 0 to 41895\n",
      "Data columns (total 26 columns):\n",
      " #   Column                 Non-Null Count  Dtype  \n",
      "---  ------                 --------------  -----  \n",
      " 0   movieId                41896 non-null  int64  \n",
      " 1   genres                 41896 non-null  object \n",
      " 2   imdb_title_id          41896 non-null  object \n",
      " 3   title                  41896 non-null  object \n",
      " 4   original_title         41896 non-null  object \n",
      " 5   year                   41896 non-null  int64  \n",
      " 6   date_published         41896 non-null  object \n",
      " 7   genre                  41896 non-null  object \n",
      " 8   duration               41896 non-null  int64  \n",
      " 9   country                41890 non-null  object \n",
      " 10  language               41648 non-null  object \n",
      " 11  director               41886 non-null  object \n",
      " 12  writer                 41621 non-null  object \n",
      " 13  production_company     40944 non-null  object \n",
      " 14  actors                 41877 non-null  object \n",
      " 15  description            41589 non-null  object \n",
      " 16  avg_vote               41896 non-null  float64\n",
      " 17  votes                  41896 non-null  int64  \n",
      " 18  budget                 15453 non-null  object \n",
      " 19  usa_gross_income       13291 non-null  object \n",
      " 20  worlwide_gross_income  19887 non-null  object \n",
      " 21  metascore              11596 non-null  float64\n",
      " 22  reviews_from_users     40728 non-null  float64\n",
      " 23  reviews_from_critics   40120 non-null  float64\n",
      " 24  mean_vote              41896 non-null  float64\n",
      " 25  total_votes            41896 non-null  int64  \n",
      "dtypes: float64(5), int64(5), object(16)\n",
      "memory usage: 8.3+ MB\n"
     ]
    }
   ],
   "source": [
    "Movies_metadata.info()"
   ]
  },
  {
   "cell_type": "code",
   "execution_count": 34,
   "metadata": {},
   "outputs": [
    {
     "name": "stdout",
     "output_type": "stream",
     "text": [
      "<class 'pandas.core.frame.DataFrame'>\n",
      "RangeIndex: 41896 entries, 0 to 41895\n",
      "Data columns (total 16 columns):\n",
      " #   Column                 Non-Null Count  Dtype \n",
      "---  ------                 --------------  ----- \n",
      " 0   genres                 41896 non-null  object\n",
      " 1   imdb_title_id          41896 non-null  object\n",
      " 2   title                  41896 non-null  object\n",
      " 3   original_title         41896 non-null  object\n",
      " 4   date_published         41896 non-null  object\n",
      " 5   genre                  41896 non-null  object\n",
      " 6   country                41890 non-null  object\n",
      " 7   language               41648 non-null  object\n",
      " 8   director               41886 non-null  object\n",
      " 9   writer                 41621 non-null  object\n",
      " 10  production_company     40944 non-null  object\n",
      " 11  actors                 41877 non-null  object\n",
      " 12  description            41589 non-null  object\n",
      " 13  budget                 15453 non-null  object\n",
      " 14  usa_gross_income       13291 non-null  object\n",
      " 15  worlwide_gross_income  19887 non-null  object\n",
      "dtypes: object(16)\n",
      "memory usage: 5.1+ MB\n"
     ]
    }
   ],
   "source": [
    "obj_Movies_metadata = Movies_metadata.select_dtypes(include=['object']).copy()\n",
    "obj_Movies_metadata.info()"
   ]
  },
  {
   "cell_type": "code",
   "execution_count": 35,
   "metadata": {},
   "outputs": [],
   "source": [
    "myobj = ['country','language','director','production_company']\n",
    "\n",
    "for i in myobj:\n",
    "    obj_Movies_metadata[i] = obj_Movies_metadata[i].astype('category')\n",
    "    Movies_metadata[i] = obj_Movies_metadata[i].cat.codes\n"
   ]
  },
  {
   "cell_type": "code",
   "execution_count": 36,
   "metadata": {},
   "outputs": [
    {
     "name": "stdout",
     "output_type": "stream",
     "text": [
      "<class 'pandas.core.frame.DataFrame'>\n",
      "RangeIndex: 41896 entries, 0 to 41895\n",
      "Data columns (total 26 columns):\n",
      " #   Column                 Non-Null Count  Dtype  \n",
      "---  ------                 --------------  -----  \n",
      " 0   movieId                41896 non-null  int64  \n",
      " 1   genres                 41896 non-null  object \n",
      " 2   imdb_title_id          41896 non-null  object \n",
      " 3   title                  41896 non-null  object \n",
      " 4   original_title         41896 non-null  object \n",
      " 5   year                   41896 non-null  int64  \n",
      " 6   date_published         41896 non-null  object \n",
      " 7   genre                  41896 non-null  object \n",
      " 8   duration               41896 non-null  int64  \n",
      " 9   country                41896 non-null  int16  \n",
      " 10  language               41896 non-null  int16  \n",
      " 11  director               41896 non-null  int16  \n",
      " 12  writer                 41896 non-null  object \n",
      " 13  production_company     41896 non-null  int16  \n",
      " 14  actors                 41896 non-null  object \n",
      " 15  description            41896 non-null  object \n",
      " 16  avg_vote               41896 non-null  float64\n",
      " 17  votes                  41896 non-null  int64  \n",
      " 18  budget                 41896 non-null  object \n",
      " 19  usa_gross_income       41896 non-null  object \n",
      " 20  worlwide_gross_income  41896 non-null  object \n",
      " 21  metascore              41896 non-null  float64\n",
      " 22  reviews_from_users     41896 non-null  float64\n",
      " 23  reviews_from_critics   41896 non-null  float64\n",
      " 24  mean_vote              41896 non-null  float64\n",
      " 25  total_votes            41896 non-null  int64  \n",
      "dtypes: float64(5), int16(4), int64(5), object(12)\n",
      "memory usage: 7.4+ MB\n"
     ]
    }
   ],
   "source": [
    "Movies_metadata = Movies_metadata.fillna(100000)\n",
    "Movies_metadata.info()"
   ]
  },
  {
   "cell_type": "code",
   "execution_count": 77,
   "metadata": {},
   "outputs": [],
   "source": [
    "data =  Movies_metadata[['movieId','year','duration','metascore','reviews_from_users','reviews_from_critics'\n",
    "                              ,'country','language','director','production_company','mean_vote']]"
   ]
  },
  {
   "cell_type": "code",
   "execution_count": 81,
   "metadata": {},
   "outputs": [
    {
     "name": "stdout",
     "output_type": "stream",
     "text": [
      "<class 'pandas.core.frame.DataFrame'>\n",
      "Int64Index: 38725 entries, 0 to 41894\n",
      "Data columns (total 11 columns):\n",
      " #   Column                Non-Null Count  Dtype  \n",
      "---  ------                --------------  -----  \n",
      " 0   year                  38725 non-null  float64\n",
      " 1   duration              38725 non-null  float64\n",
      " 2   metascore             38725 non-null  float64\n",
      " 3   reviews_from_users    38725 non-null  float64\n",
      " 4   reviews_from_critics  38725 non-null  float64\n",
      " 5   country               38725 non-null  float64\n",
      " 6   language              38725 non-null  float64\n",
      " 7   director              38725 non-null  float64\n",
      " 8   production_company    38725 non-null  float64\n",
      " 9   mean_vote             38725 non-null  float64\n",
      " 10  movieId               38725 non-null  int64  \n",
      "dtypes: float64(10), int64(1)\n",
      "memory usage: 3.5 MB\n"
     ]
    }
   ],
   "source": [
    "from sklearn.preprocessing import StandardScaler\n",
    "scaler = StandardScaler()\n",
    "scaled = scaler.fit_transform(data.drop(['movieId','mean_vote'],axis=1))\n",
    "data_norm = pd.DataFrame(scaled,columns=(data.drop(['movieId','mean_vote'],axis=1).columns))\n",
    "data_norm= data_norm.join(data['mean_vote'])\n",
    "data_norm= data_norm.join(data['movieId'])\n",
    "\n",
    "\n",
    "from scipy import stats\n",
    "z_scores = stats.zscore(data_norm.drop(['movieId','mean_vote'],axis=1))\n",
    "abs_z_scores = np.abs(z_scores)\n",
    "filtered_entries = (abs_z_scores < 3).all(axis=1)\n",
    "newdata = data_norm[filtered_entries]\n",
    "\n",
    "newdata.info()"
   ]
  },
  {
   "cell_type": "markdown",
   "metadata": {},
   "source": [
    "### Without Classing of target"
   ]
  },
  {
   "cell_type": "code",
   "execution_count": 82,
   "metadata": {},
   "outputs": [],
   "source": [
    "target = newdata['mean_vote'] \n",
    "predictors = newdata.drop(['mean_vote','movieId'],axis=1)"
   ]
  },
  {
   "cell_type": "code",
   "execution_count": 83,
   "metadata": {},
   "outputs": [],
   "source": [
    "X_train, X_test, y_train, y_test = train_test_split(predictors, target, test_size=0.30, random_state=40)\n"
   ]
  },
  {
   "cell_type": "code",
   "execution_count": 84,
   "metadata": {},
   "outputs": [],
   "source": [
    "model01 = Sequential()\n",
    "model01.add(Dense(900, activation='relu', input_dim=9))\n",
    "model01.add(Dense(300, activation='tanh'))\n",
    "model01.add(Dense(150, activation='relu'))\n",
    "model01.add(Dense(30, activation='relu'))\n",
    "model01.add(Dense(1, activation='linear'))\n",
    "\n",
    "# Compile the model\n",
    "model01.compile(optimizer='adam', loss='mean_absolute_error', metrics=['mean_squared_error'])"
   ]
  },
  {
   "cell_type": "code",
   "execution_count": 42,
   "metadata": {},
   "outputs": [
    {
     "name": "stdout",
     "output_type": "stream",
     "text": [
      "Epoch 1/20\n",
      "2711/2711 [==============================] - 9s 3ms/step - loss: 0.7445 - mean_squared_error: 1.0156\n",
      "Epoch 2/20\n",
      "2711/2711 [==============================] - 9s 3ms/step - loss: 0.7025 - mean_squared_error: 0.8500\n",
      "Epoch 3/20\n",
      "2711/2711 [==============================] - 8s 3ms/step - loss: 0.6913 - mean_squared_error: 0.8259\n",
      "Epoch 4/20\n",
      "2711/2711 [==============================] - 8s 3ms/step - loss: 0.6868 - mean_squared_error: 0.8204\n",
      "Epoch 5/20\n",
      "2711/2711 [==============================] - 14s 5ms/step - loss: 0.6807 - mean_squared_error: 0.8067\n",
      "Epoch 6/20\n",
      "2711/2711 [==============================] - 17s 6ms/step - loss: 0.6755 - mean_squared_error: 0.7997\n",
      "Epoch 7/20\n",
      "2711/2711 [==============================] - 17s 6ms/step - loss: 0.6748 - mean_squared_error: 0.7977\n",
      "Epoch 8/20\n",
      "2711/2711 [==============================] - 17s 6ms/step - loss: 0.6704 - mean_squared_error: 0.7860\n",
      "Epoch 9/20\n",
      "2711/2711 [==============================] - 17s 6ms/step - loss: 0.6678 - mean_squared_error: 0.7839\n",
      "Epoch 10/20\n",
      "2711/2711 [==============================] - 17s 6ms/step - loss: 0.6678 - mean_squared_error: 0.7839\n",
      "Epoch 11/20\n",
      "2711/2711 [==============================] - 17s 6ms/step - loss: 0.6645 - mean_squared_error: 0.7761\n",
      "Epoch 12/20\n",
      "2711/2711 [==============================] - 16s 6ms/step - loss: 0.6631 - mean_squared_error: 0.7764\n",
      "Epoch 13/20\n",
      "2711/2711 [==============================] - 17s 6ms/step - loss: 0.6637 - mean_squared_error: 0.7756\n",
      "Epoch 14/20\n",
      "2711/2711 [==============================] - 17s 6ms/step - loss: 0.6610 - mean_squared_error: 0.7745\n",
      "Epoch 15/20\n",
      "2711/2711 [==============================] - 17s 6ms/step - loss: 0.6599 - mean_squared_error: 0.7686\n",
      "Epoch 16/20\n",
      "2711/2711 [==============================] - 17s 6ms/step - loss: 0.6588 - mean_squared_error: 0.7680\n",
      "Epoch 17/20\n",
      "2711/2711 [==============================] - 17s 6ms/step - loss: 0.6576 - mean_squared_error: 0.7661\n",
      "Epoch 18/20\n",
      "2711/2711 [==============================] - 17s 6ms/step - loss: 0.6569 - mean_squared_error: 0.7652\n",
      "Epoch 19/20\n",
      "2711/2711 [==============================] - 17s 6ms/step - loss: 0.6551 - mean_squared_error: 0.7609\n",
      "Epoch 20/20\n",
      "2711/2711 [==============================] - 17s 6ms/step - loss: 0.6547 - mean_squared_error: 0.7598\n"
     ]
    },
    {
     "data": {
      "text/plain": [
       "<tensorflow.python.keras.callbacks.History at 0x20fc659e760>"
      ]
     },
     "execution_count": 42,
     "metadata": {},
     "output_type": "execute_result"
    }
   ],
   "source": [
    "model01.fit(X_train, y_train, epochs=20, batch_size=10)"
   ]
  },
  {
   "cell_type": "code",
   "execution_count": 43,
   "metadata": {},
   "outputs": [],
   "source": [
    "y_pred= model01.predict(X_test)"
   ]
  },
  {
   "cell_type": "code",
   "execution_count": 44,
   "metadata": {},
   "outputs": [
    {
     "name": "stdout",
     "output_type": "stream",
     "text": [
      "Accuracy on test data: 0.7804288864135742% \n",
      " Error on test data: 0.21957111358642578\n"
     ]
    }
   ],
   "source": [
    "scores = model01.evaluate(X_test, y_test, verbose=0)\n",
    "print('Accuracy on test data: {}% \\n Error on test data: {}'.format(scores[1], 1 - scores[1]))    "
   ]
  },
  {
   "cell_type": "code",
   "execution_count": 45,
   "metadata": {},
   "outputs": [
    {
     "name": "stdout",
     "output_type": "stream",
     "text": [
      "MSE: 0.780428922065367\n",
      "MAE: 0.6621373496956086\n",
      "RMSE: 0.8834188825610232\n"
     ]
    }
   ],
   "source": [
    "print('MSE:',mean_squared_error(y_test, y_pred))\n",
    "print('MAE:',mean_absolute_error(y_test, y_pred))\n",
    "print('RMSE:',np.sqrt(mean_squared_error(y_test, y_pred)))"
   ]
  },
  {
   "cell_type": "markdown",
   "metadata": {},
   "source": [
    "### With Classing mean_vote"
   ]
  },
  {
   "cell_type": "code",
   "execution_count": 85,
   "metadata": {},
   "outputs": [
    {
     "name": "stderr",
     "output_type": "stream",
     "text": [
      "<ipython-input-85-31771ccae61c>:1: SettingWithCopyWarning: \n",
      "A value is trying to be set on a copy of a slice from a DataFrame.\n",
      "Try using .loc[row_indexer,col_indexer] = value instead\n",
      "\n",
      "See the caveats in the documentation: https://pandas.pydata.org/pandas-docs/stable/user_guide/indexing.html#returning-a-view-versus-a-copy\n",
      "  newdata['mean_vote_class'] = 0\n",
      "<ipython-input-85-31771ccae61c>:2: SettingWithCopyWarning: \n",
      "A value is trying to be set on a copy of a slice from a DataFrame\n",
      "\n",
      "See the caveats in the documentation: https://pandas.pydata.org/pandas-docs/stable/user_guide/indexing.html#returning-a-view-versus-a-copy\n",
      "  newdata['mean_vote_class'][newdata['mean_vote']>3.5] = 1\n",
      "C:\\Users\\PJ\\anaconda3\\lib\\site-packages\\pandas\\core\\generic.py:8765: SettingWithCopyWarning: \n",
      "A value is trying to be set on a copy of a slice from a DataFrame\n",
      "\n",
      "See the caveats in the documentation: https://pandas.pydata.org/pandas-docs/stable/user_guide/indexing.html#returning-a-view-versus-a-copy\n",
      "  self._update_inplace(new_data)\n",
      "<ipython-input-85-31771ccae61c>:3: SettingWithCopyWarning: \n",
      "A value is trying to be set on a copy of a slice from a DataFrame\n",
      "\n",
      "See the caveats in the documentation: https://pandas.pydata.org/pandas-docs/stable/user_guide/indexing.html#returning-a-view-versus-a-copy\n",
      "  newdata['mean_vote_class'][newdata['mean_vote']<=3.5] = 0\n"
     ]
    }
   ],
   "source": [
    "newdata['mean_vote_class'] = 0\n",
    "newdata['mean_vote_class'][newdata['mean_vote']>3.5] = 1\n",
    "newdata['mean_vote_class'][newdata['mean_vote']<=3.5] = 0"
   ]
  },
  {
   "cell_type": "code",
   "execution_count": 86,
   "metadata": {},
   "outputs": [],
   "source": [
    "target = newdata['mean_vote_class'] \n",
    "predictors = newdata.drop(['mean_vote','mean_vote_class','movieId'],axis=1)\n",
    "\n",
    "X_train, X_test, y_train, y_test = train_test_split(predictors, target, test_size=0.30, random_state=40)\n"
   ]
  },
  {
   "cell_type": "code",
   "execution_count": 87,
   "metadata": {},
   "outputs": [],
   "source": [
    "model02 = Sequential()\n",
    "model02.add(Dense(900, activation='relu', input_dim=9))\n",
    "model02.add(Dense(300, activation='tanh'))\n",
    "model02.add(Dense(150, activation='relu'))\n",
    "model02.add(Dense(30, activation='relu'))\n",
    "model02.add(Dense(1, activation='linear'))\n",
    "\n",
    "# Compile the model\n",
    "model02.compile(optimizer='adam', loss='mean_absolute_error', metrics=['mean_squared_error'])"
   ]
  },
  {
   "cell_type": "code",
   "execution_count": 49,
   "metadata": {},
   "outputs": [
    {
     "name": "stdout",
     "output_type": "stream",
     "text": [
      "Epoch 1/20\n",
      "2711/2711 [==============================] - 18s 6ms/step - loss: 0.0379 - mean_squared_error: 0.0174\n",
      "Epoch 2/20\n",
      "2711/2711 [==============================] - 17s 6ms/step - loss: 0.0205 - mean_squared_error: 0.0149 0s - loss: 0.0206 - mean_squared_error\n",
      "Epoch 3/20\n",
      "2711/2711 [==============================] - 17s 6ms/step - loss: 0.0193 - mean_squared_error: 0.0149\n",
      "Epoch 4/20\n",
      "2711/2711 [==============================] - 17s 6ms/step - loss: 0.0189 - mean_squared_error: 0.0148\n",
      "Epoch 5/20\n",
      "2711/2711 [==============================] - 17s 6ms/step - loss: 0.0184 - mean_squared_error: 0.0148\n",
      "Epoch 6/20\n",
      "2711/2711 [==============================] - 17s 6ms/step - loss: 0.0181 - mean_squared_error: 0.0148\n",
      "Epoch 7/20\n",
      "2711/2711 [==============================] - 17s 6ms/step - loss: 0.0176 - mean_squared_error: 0.0148\n",
      "Epoch 8/20\n",
      "2711/2711 [==============================] - 17s 6ms/step - loss: 0.0173 - mean_squared_error: 0.0148\n",
      "Epoch 9/20\n",
      "2711/2711 [==============================] - 17s 6ms/step - loss: 0.0172 - mean_squared_error: 0.0148\n",
      "Epoch 10/20\n",
      "2711/2711 [==============================] - 17s 6ms/step - loss: 0.0173 - mean_squared_error: 0.0148\n",
      "Epoch 11/20\n",
      "2711/2711 [==============================] - 17s 6ms/step - loss: 0.0171 - mean_squared_error: 0.0148\n",
      "Epoch 12/20\n",
      "2711/2711 [==============================] - 17s 6ms/step - loss: 0.0171 - mean_squared_error: 0.0148\n",
      "Epoch 13/20\n",
      "2711/2711 [==============================] - 17s 6ms/step - loss: 0.0169 - mean_squared_error: 0.0148\n",
      "Epoch 14/20\n",
      "2711/2711 [==============================] - 17s 6ms/step - loss: 0.0169 - mean_squared_error: 0.0148\n",
      "Epoch 15/20\n",
      "2711/2711 [==============================] - 17s 6ms/step - loss: 0.0168 - mean_squared_error: 0.0148\n",
      "Epoch 16/20\n",
      "2711/2711 [==============================] - 17s 6ms/step - loss: 0.0168 - mean_squared_error: 0.0148\n",
      "Epoch 17/20\n",
      "2711/2711 [==============================] - 17s 6ms/step - loss: 0.0169 - mean_squared_error: 0.0148\n",
      "Epoch 18/20\n",
      "2711/2711 [==============================] - 17s 6ms/step - loss: 0.0168 - mean_squared_error: 0.0148\n",
      "Epoch 19/20\n",
      "2711/2711 [==============================] - 17s 6ms/step - loss: 0.0167 - mean_squared_error: 0.0148\n",
      "Epoch 20/20\n",
      "2711/2711 [==============================] - 17s 6ms/step - loss: 0.0171 - mean_squared_error: 0.0148\n"
     ]
    },
    {
     "data": {
      "text/plain": [
       "<tensorflow.python.keras.callbacks.History at 0x20fc562edc0>"
      ]
     },
     "execution_count": 49,
     "metadata": {},
     "output_type": "execute_result"
    }
   ],
   "source": [
    "model02.fit(X_train, y_train, epochs=20, batch_size=10)"
   ]
  },
  {
   "cell_type": "code",
   "execution_count": 50,
   "metadata": {},
   "outputs": [],
   "source": [
    "y_pred= model02.predict(X_test)"
   ]
  },
  {
   "cell_type": "code",
   "execution_count": 51,
   "metadata": {},
   "outputs": [
    {
     "name": "stdout",
     "output_type": "stream",
     "text": [
      "Accuracy on test data: 0.015060998499393463% \n",
      " Error on test data: 0.9849390015006065\n"
     ]
    }
   ],
   "source": [
    "scores = model02.evaluate(X_test, y_test, verbose=0)\n",
    "print('Accuracy on test data: {}% \\n Error on test data: {}'.format(scores[1], 1 - scores[1])) "
   ]
  },
  {
   "cell_type": "code",
   "execution_count": 52,
   "metadata": {},
   "outputs": [
    {
     "name": "stdout",
     "output_type": "stream",
     "text": [
      "MSE: 0.015061011789444134\n",
      "MAE: 0.01529279788342005\n",
      "RMSE: 0.12272331396048647\n"
     ]
    }
   ],
   "source": [
    "print('MSE:',mean_squared_error(y_test, y_pred))\n",
    "print('MAE:',mean_absolute_error(y_test, y_pred))\n",
    "print('RMSE:',np.sqrt(mean_squared_error(y_test, y_pred)))"
   ]
  },
  {
   "cell_type": "code",
   "execution_count": null,
   "metadata": {},
   "outputs": [],
   "source": []
  },
  {
   "cell_type": "code",
   "execution_count": 123,
   "metadata": {},
   "outputs": [],
   "source": [
    "import difflib\n",
    "import random\n",
    "\n",
    "def generate_recommendation(model,data ,thresh=4):\n",
    "    \n",
    "    \"\"\"\n",
    "    Generates a Movie recommendation for a user based on a rating threshold. Only\n",
    "    Movies with a predicted rating at or above the threshold will be recommended\n",
    "    \"\"\"\n",
    "    \n",
    "    Movies_ID = data.movieId.unique().tolist()\n",
    "    random.shuffle(Movies_ID)\n",
    "\n",
    "    for Movie_ID in Movies_ID:\n",
    "        mask = data[data.movieId.isin([Movie_ID])]\n",
    "        mask.drop(['movieId'],axis=1)\n",
    "        rating = model.predict(mask)\n",
    "        if rating >= thresh:\n",
    "            return Movie_ID ,title, rating"
   ]
  },
  {
   "cell_type": "code",
   "execution_count": 125,
   "metadata": {},
   "outputs": [
    {
     "ename": "ValueError",
     "evalue": "in user code:\n\n    C:\\Users\\PJ\\anaconda3\\lib\\site-packages\\tensorflow\\python\\keras\\engine\\training.py:1569 predict_function  *\n        return step_function(self, iterator)\n    C:\\Users\\PJ\\anaconda3\\lib\\site-packages\\tensorflow\\python\\keras\\engine\\training.py:1559 step_function  **\n        outputs = model.distribute_strategy.run(run_step, args=(data,))\n    C:\\Users\\PJ\\anaconda3\\lib\\site-packages\\tensorflow\\python\\distribute\\distribute_lib.py:1285 run\n        return self._extended.call_for_each_replica(fn, args=args, kwargs=kwargs)\n    C:\\Users\\PJ\\anaconda3\\lib\\site-packages\\tensorflow\\python\\distribute\\distribute_lib.py:2833 call_for_each_replica\n        return self._call_for_each_replica(fn, args, kwargs)\n    C:\\Users\\PJ\\anaconda3\\lib\\site-packages\\tensorflow\\python\\distribute\\distribute_lib.py:3608 _call_for_each_replica\n        return fn(*args, **kwargs)\n    C:\\Users\\PJ\\anaconda3\\lib\\site-packages\\tensorflow\\python\\keras\\engine\\training.py:1552 run_step  **\n        outputs = model.predict_step(data)\n    C:\\Users\\PJ\\anaconda3\\lib\\site-packages\\tensorflow\\python\\keras\\engine\\training.py:1525 predict_step\n        return self(x, training=False)\n    C:\\Users\\PJ\\anaconda3\\lib\\site-packages\\tensorflow\\python\\keras\\engine\\base_layer.py:1013 __call__\n        input_spec.assert_input_compatibility(self.input_spec, inputs, self.name)\n    C:\\Users\\PJ\\anaconda3\\lib\\site-packages\\tensorflow\\python\\keras\\engine\\input_spec.py:251 assert_input_compatibility\n        raise ValueError(\n\n    ValueError: Input 0 of layer sequential_5 is incompatible with the layer: expected axis -1 of input shape to have value 9 but received input with shape (None, 10)\n",
     "output_type": "error",
     "traceback": [
      "\u001b[1;31m---------------------------------------------------------------------------\u001b[0m",
      "\u001b[1;31mValueError\u001b[0m                                Traceback (most recent call last)",
      "\u001b[1;32m<ipython-input-125-48267ea0a1a7>\u001b[0m in \u001b[0;36m<module>\u001b[1;34m\u001b[0m\n\u001b[1;32m----> 1\u001b[1;33m \u001b[0mgenerate_recommendation\u001b[0m\u001b[1;33m(\u001b[0m\u001b[0mmodel01\u001b[0m\u001b[1;33m,\u001b[0m\u001b[0mnewdata\u001b[0m\u001b[1;33m.\u001b[0m\u001b[0mdrop\u001b[0m\u001b[1;33m(\u001b[0m\u001b[1;33m[\u001b[0m\u001b[1;34m'mean_vote'\u001b[0m\u001b[1;33m,\u001b[0m\u001b[1;34m'mean_vote_class'\u001b[0m\u001b[1;33m]\u001b[0m\u001b[1;33m,\u001b[0m\u001b[0maxis\u001b[0m\u001b[1;33m=\u001b[0m\u001b[1;36m1\u001b[0m\u001b[1;33m)\u001b[0m\u001b[1;33m)\u001b[0m\u001b[1;33m\u001b[0m\u001b[1;33m\u001b[0m\u001b[0m\n\u001b[0m",
      "\u001b[1;32m<ipython-input-123-1c8249b1b0ef>\u001b[0m in \u001b[0;36mgenerate_recommendation\u001b[1;34m(model, data, thresh)\u001b[0m\n\u001b[0;32m     15\u001b[0m     \u001b[0mmask\u001b[0m \u001b[1;33m=\u001b[0m \u001b[0mdata\u001b[0m\u001b[1;33m[\u001b[0m\u001b[0mdata\u001b[0m\u001b[1;33m.\u001b[0m\u001b[0mmovieId\u001b[0m\u001b[1;33m.\u001b[0m\u001b[0misin\u001b[0m\u001b[1;33m(\u001b[0m\u001b[1;33m[\u001b[0m\u001b[1;36m2\u001b[0m\u001b[1;33m]\u001b[0m\u001b[1;33m)\u001b[0m\u001b[1;33m]\u001b[0m\u001b[1;33m\u001b[0m\u001b[1;33m\u001b[0m\u001b[0m\n\u001b[0;32m     16\u001b[0m    \u001b[1;31m# mask.drop(['movieId'],axis=1)\u001b[0m\u001b[1;33m\u001b[0m\u001b[1;33m\u001b[0m\u001b[1;33m\u001b[0m\u001b[0m\n\u001b[1;32m---> 17\u001b[1;33m     \u001b[0mrating\u001b[0m \u001b[1;33m=\u001b[0m \u001b[0mmodel\u001b[0m\u001b[1;33m.\u001b[0m\u001b[0mpredict\u001b[0m\u001b[1;33m(\u001b[0m\u001b[0mmask\u001b[0m\u001b[1;33m)\u001b[0m\u001b[1;33m\u001b[0m\u001b[1;33m\u001b[0m\u001b[0m\n\u001b[0m\u001b[0;32m     18\u001b[0m     \u001b[1;32mif\u001b[0m \u001b[0mrating\u001b[0m \u001b[1;33m>=\u001b[0m \u001b[0mthresh\u001b[0m\u001b[1;33m:\u001b[0m\u001b[1;33m\u001b[0m\u001b[1;33m\u001b[0m\u001b[0m\n\u001b[0;32m     19\u001b[0m         \u001b[1;32mreturn\u001b[0m \u001b[0mMovie_ID\u001b[0m \u001b[1;33m,\u001b[0m\u001b[0mtitle\u001b[0m\u001b[1;33m,\u001b[0m \u001b[0mrating\u001b[0m\u001b[1;33m\u001b[0m\u001b[1;33m\u001b[0m\u001b[0m\n",
      "\u001b[1;32m~\\anaconda3\\lib\\site-packages\\tensorflow\\python\\keras\\engine\\training.py\u001b[0m in \u001b[0;36mpredict\u001b[1;34m(self, x, batch_size, verbose, steps, callbacks, max_queue_size, workers, use_multiprocessing)\u001b[0m\n\u001b[0;32m   1725\u001b[0m           \u001b[1;32mfor\u001b[0m \u001b[0mstep\u001b[0m \u001b[1;32min\u001b[0m \u001b[0mdata_handler\u001b[0m\u001b[1;33m.\u001b[0m\u001b[0msteps\u001b[0m\u001b[1;33m(\u001b[0m\u001b[1;33m)\u001b[0m\u001b[1;33m:\u001b[0m\u001b[1;33m\u001b[0m\u001b[1;33m\u001b[0m\u001b[0m\n\u001b[0;32m   1726\u001b[0m             \u001b[0mcallbacks\u001b[0m\u001b[1;33m.\u001b[0m\u001b[0mon_predict_batch_begin\u001b[0m\u001b[1;33m(\u001b[0m\u001b[0mstep\u001b[0m\u001b[1;33m)\u001b[0m\u001b[1;33m\u001b[0m\u001b[1;33m\u001b[0m\u001b[0m\n\u001b[1;32m-> 1727\u001b[1;33m             \u001b[0mtmp_batch_outputs\u001b[0m \u001b[1;33m=\u001b[0m \u001b[0mself\u001b[0m\u001b[1;33m.\u001b[0m\u001b[0mpredict_function\u001b[0m\u001b[1;33m(\u001b[0m\u001b[0miterator\u001b[0m\u001b[1;33m)\u001b[0m\u001b[1;33m\u001b[0m\u001b[1;33m\u001b[0m\u001b[0m\n\u001b[0m\u001b[0;32m   1728\u001b[0m             \u001b[1;32mif\u001b[0m \u001b[0mdata_handler\u001b[0m\u001b[1;33m.\u001b[0m\u001b[0mshould_sync\u001b[0m\u001b[1;33m:\u001b[0m\u001b[1;33m\u001b[0m\u001b[1;33m\u001b[0m\u001b[0m\n\u001b[0;32m   1729\u001b[0m               \u001b[0mcontext\u001b[0m\u001b[1;33m.\u001b[0m\u001b[0masync_wait\u001b[0m\u001b[1;33m(\u001b[0m\u001b[1;33m)\u001b[0m\u001b[1;33m\u001b[0m\u001b[1;33m\u001b[0m\u001b[0m\n",
      "\u001b[1;32m~\\anaconda3\\lib\\site-packages\\tensorflow\\python\\eager\\def_function.py\u001b[0m in \u001b[0;36m__call__\u001b[1;34m(self, *args, **kwds)\u001b[0m\n\u001b[0;32m    887\u001b[0m \u001b[1;33m\u001b[0m\u001b[0m\n\u001b[0;32m    888\u001b[0m       \u001b[1;32mwith\u001b[0m \u001b[0mOptionalXlaContext\u001b[0m\u001b[1;33m(\u001b[0m\u001b[0mself\u001b[0m\u001b[1;33m.\u001b[0m\u001b[0m_jit_compile\u001b[0m\u001b[1;33m)\u001b[0m\u001b[1;33m:\u001b[0m\u001b[1;33m\u001b[0m\u001b[1;33m\u001b[0m\u001b[0m\n\u001b[1;32m--> 889\u001b[1;33m         \u001b[0mresult\u001b[0m \u001b[1;33m=\u001b[0m \u001b[0mself\u001b[0m\u001b[1;33m.\u001b[0m\u001b[0m_call\u001b[0m\u001b[1;33m(\u001b[0m\u001b[1;33m*\u001b[0m\u001b[0margs\u001b[0m\u001b[1;33m,\u001b[0m \u001b[1;33m**\u001b[0m\u001b[0mkwds\u001b[0m\u001b[1;33m)\u001b[0m\u001b[1;33m\u001b[0m\u001b[1;33m\u001b[0m\u001b[0m\n\u001b[0m\u001b[0;32m    890\u001b[0m \u001b[1;33m\u001b[0m\u001b[0m\n\u001b[0;32m    891\u001b[0m       \u001b[0mnew_tracing_count\u001b[0m \u001b[1;33m=\u001b[0m \u001b[0mself\u001b[0m\u001b[1;33m.\u001b[0m\u001b[0mexperimental_get_tracing_count\u001b[0m\u001b[1;33m(\u001b[0m\u001b[1;33m)\u001b[0m\u001b[1;33m\u001b[0m\u001b[1;33m\u001b[0m\u001b[0m\n",
      "\u001b[1;32m~\\anaconda3\\lib\\site-packages\\tensorflow\\python\\eager\\def_function.py\u001b[0m in \u001b[0;36m_call\u001b[1;34m(self, *args, **kwds)\u001b[0m\n\u001b[0;32m    931\u001b[0m       \u001b[1;31m# This is the first call of __call__, so we have to initialize.\u001b[0m\u001b[1;33m\u001b[0m\u001b[1;33m\u001b[0m\u001b[1;33m\u001b[0m\u001b[0m\n\u001b[0;32m    932\u001b[0m       \u001b[0minitializers\u001b[0m \u001b[1;33m=\u001b[0m \u001b[1;33m[\u001b[0m\u001b[1;33m]\u001b[0m\u001b[1;33m\u001b[0m\u001b[1;33m\u001b[0m\u001b[0m\n\u001b[1;32m--> 933\u001b[1;33m       \u001b[0mself\u001b[0m\u001b[1;33m.\u001b[0m\u001b[0m_initialize\u001b[0m\u001b[1;33m(\u001b[0m\u001b[0margs\u001b[0m\u001b[1;33m,\u001b[0m \u001b[0mkwds\u001b[0m\u001b[1;33m,\u001b[0m \u001b[0madd_initializers_to\u001b[0m\u001b[1;33m=\u001b[0m\u001b[0minitializers\u001b[0m\u001b[1;33m)\u001b[0m\u001b[1;33m\u001b[0m\u001b[1;33m\u001b[0m\u001b[0m\n\u001b[0m\u001b[0;32m    934\u001b[0m     \u001b[1;32mfinally\u001b[0m\u001b[1;33m:\u001b[0m\u001b[1;33m\u001b[0m\u001b[1;33m\u001b[0m\u001b[0m\n\u001b[0;32m    935\u001b[0m       \u001b[1;31m# At this point we know that the initialization is complete (or less\u001b[0m\u001b[1;33m\u001b[0m\u001b[1;33m\u001b[0m\u001b[1;33m\u001b[0m\u001b[0m\n",
      "\u001b[1;32m~\\anaconda3\\lib\\site-packages\\tensorflow\\python\\eager\\def_function.py\u001b[0m in \u001b[0;36m_initialize\u001b[1;34m(self, args, kwds, add_initializers_to)\u001b[0m\n\u001b[0;32m    761\u001b[0m     \u001b[0mself\u001b[0m\u001b[1;33m.\u001b[0m\u001b[0m_graph_deleter\u001b[0m \u001b[1;33m=\u001b[0m \u001b[0mFunctionDeleter\u001b[0m\u001b[1;33m(\u001b[0m\u001b[0mself\u001b[0m\u001b[1;33m.\u001b[0m\u001b[0m_lifted_initializer_graph\u001b[0m\u001b[1;33m)\u001b[0m\u001b[1;33m\u001b[0m\u001b[1;33m\u001b[0m\u001b[0m\n\u001b[0;32m    762\u001b[0m     self._concrete_stateful_fn = (\n\u001b[1;32m--> 763\u001b[1;33m         self._stateful_fn._get_concrete_function_internal_garbage_collected(  # pylint: disable=protected-access\n\u001b[0m\u001b[0;32m    764\u001b[0m             *args, **kwds))\n\u001b[0;32m    765\u001b[0m \u001b[1;33m\u001b[0m\u001b[0m\n",
      "\u001b[1;32m~\\anaconda3\\lib\\site-packages\\tensorflow\\python\\eager\\function.py\u001b[0m in \u001b[0;36m_get_concrete_function_internal_garbage_collected\u001b[1;34m(self, *args, **kwargs)\u001b[0m\n\u001b[0;32m   3048\u001b[0m       \u001b[0margs\u001b[0m\u001b[1;33m,\u001b[0m \u001b[0mkwargs\u001b[0m \u001b[1;33m=\u001b[0m \u001b[1;32mNone\u001b[0m\u001b[1;33m,\u001b[0m \u001b[1;32mNone\u001b[0m\u001b[1;33m\u001b[0m\u001b[1;33m\u001b[0m\u001b[0m\n\u001b[0;32m   3049\u001b[0m     \u001b[1;32mwith\u001b[0m \u001b[0mself\u001b[0m\u001b[1;33m.\u001b[0m\u001b[0m_lock\u001b[0m\u001b[1;33m:\u001b[0m\u001b[1;33m\u001b[0m\u001b[1;33m\u001b[0m\u001b[0m\n\u001b[1;32m-> 3050\u001b[1;33m       \u001b[0mgraph_function\u001b[0m\u001b[1;33m,\u001b[0m \u001b[0m_\u001b[0m \u001b[1;33m=\u001b[0m \u001b[0mself\u001b[0m\u001b[1;33m.\u001b[0m\u001b[0m_maybe_define_function\u001b[0m\u001b[1;33m(\u001b[0m\u001b[0margs\u001b[0m\u001b[1;33m,\u001b[0m \u001b[0mkwargs\u001b[0m\u001b[1;33m)\u001b[0m\u001b[1;33m\u001b[0m\u001b[1;33m\u001b[0m\u001b[0m\n\u001b[0m\u001b[0;32m   3051\u001b[0m     \u001b[1;32mreturn\u001b[0m \u001b[0mgraph_function\u001b[0m\u001b[1;33m\u001b[0m\u001b[1;33m\u001b[0m\u001b[0m\n\u001b[0;32m   3052\u001b[0m \u001b[1;33m\u001b[0m\u001b[0m\n",
      "\u001b[1;32m~\\anaconda3\\lib\\site-packages\\tensorflow\\python\\eager\\function.py\u001b[0m in \u001b[0;36m_maybe_define_function\u001b[1;34m(self, args, kwargs)\u001b[0m\n\u001b[0;32m   3442\u001b[0m \u001b[1;33m\u001b[0m\u001b[0m\n\u001b[0;32m   3443\u001b[0m           \u001b[0mself\u001b[0m\u001b[1;33m.\u001b[0m\u001b[0m_function_cache\u001b[0m\u001b[1;33m.\u001b[0m\u001b[0mmissed\u001b[0m\u001b[1;33m.\u001b[0m\u001b[0madd\u001b[0m\u001b[1;33m(\u001b[0m\u001b[0mcall_context_key\u001b[0m\u001b[1;33m)\u001b[0m\u001b[1;33m\u001b[0m\u001b[1;33m\u001b[0m\u001b[0m\n\u001b[1;32m-> 3444\u001b[1;33m           \u001b[0mgraph_function\u001b[0m \u001b[1;33m=\u001b[0m \u001b[0mself\u001b[0m\u001b[1;33m.\u001b[0m\u001b[0m_create_graph_function\u001b[0m\u001b[1;33m(\u001b[0m\u001b[0margs\u001b[0m\u001b[1;33m,\u001b[0m \u001b[0mkwargs\u001b[0m\u001b[1;33m)\u001b[0m\u001b[1;33m\u001b[0m\u001b[1;33m\u001b[0m\u001b[0m\n\u001b[0m\u001b[0;32m   3445\u001b[0m           \u001b[0mself\u001b[0m\u001b[1;33m.\u001b[0m\u001b[0m_function_cache\u001b[0m\u001b[1;33m.\u001b[0m\u001b[0mprimary\u001b[0m\u001b[1;33m[\u001b[0m\u001b[0mcache_key\u001b[0m\u001b[1;33m]\u001b[0m \u001b[1;33m=\u001b[0m \u001b[0mgraph_function\u001b[0m\u001b[1;33m\u001b[0m\u001b[1;33m\u001b[0m\u001b[0m\n\u001b[0;32m   3446\u001b[0m \u001b[1;33m\u001b[0m\u001b[0m\n",
      "\u001b[1;32m~\\anaconda3\\lib\\site-packages\\tensorflow\\python\\eager\\function.py\u001b[0m in \u001b[0;36m_create_graph_function\u001b[1;34m(self, args, kwargs, override_flat_arg_shapes)\u001b[0m\n\u001b[0;32m   3277\u001b[0m     \u001b[0marg_names\u001b[0m \u001b[1;33m=\u001b[0m \u001b[0mbase_arg_names\u001b[0m \u001b[1;33m+\u001b[0m \u001b[0mmissing_arg_names\u001b[0m\u001b[1;33m\u001b[0m\u001b[1;33m\u001b[0m\u001b[0m\n\u001b[0;32m   3278\u001b[0m     graph_function = ConcreteFunction(\n\u001b[1;32m-> 3279\u001b[1;33m         func_graph_module.func_graph_from_py_func(\n\u001b[0m\u001b[0;32m   3280\u001b[0m             \u001b[0mself\u001b[0m\u001b[1;33m.\u001b[0m\u001b[0m_name\u001b[0m\u001b[1;33m,\u001b[0m\u001b[1;33m\u001b[0m\u001b[1;33m\u001b[0m\u001b[0m\n\u001b[0;32m   3281\u001b[0m             \u001b[0mself\u001b[0m\u001b[1;33m.\u001b[0m\u001b[0m_python_function\u001b[0m\u001b[1;33m,\u001b[0m\u001b[1;33m\u001b[0m\u001b[1;33m\u001b[0m\u001b[0m\n",
      "\u001b[1;32m~\\anaconda3\\lib\\site-packages\\tensorflow\\python\\framework\\func_graph.py\u001b[0m in \u001b[0;36mfunc_graph_from_py_func\u001b[1;34m(name, python_func, args, kwargs, signature, func_graph, autograph, autograph_options, add_control_dependencies, arg_names, op_return_value, collections, capture_by_value, override_flat_arg_shapes)\u001b[0m\n\u001b[0;32m    997\u001b[0m         \u001b[0m_\u001b[0m\u001b[1;33m,\u001b[0m \u001b[0moriginal_func\u001b[0m \u001b[1;33m=\u001b[0m \u001b[0mtf_decorator\u001b[0m\u001b[1;33m.\u001b[0m\u001b[0munwrap\u001b[0m\u001b[1;33m(\u001b[0m\u001b[0mpython_func\u001b[0m\u001b[1;33m)\u001b[0m\u001b[1;33m\u001b[0m\u001b[1;33m\u001b[0m\u001b[0m\n\u001b[0;32m    998\u001b[0m \u001b[1;33m\u001b[0m\u001b[0m\n\u001b[1;32m--> 999\u001b[1;33m       \u001b[0mfunc_outputs\u001b[0m \u001b[1;33m=\u001b[0m \u001b[0mpython_func\u001b[0m\u001b[1;33m(\u001b[0m\u001b[1;33m*\u001b[0m\u001b[0mfunc_args\u001b[0m\u001b[1;33m,\u001b[0m \u001b[1;33m**\u001b[0m\u001b[0mfunc_kwargs\u001b[0m\u001b[1;33m)\u001b[0m\u001b[1;33m\u001b[0m\u001b[1;33m\u001b[0m\u001b[0m\n\u001b[0m\u001b[0;32m   1000\u001b[0m \u001b[1;33m\u001b[0m\u001b[0m\n\u001b[0;32m   1001\u001b[0m       \u001b[1;31m# invariant: `func_outputs` contains only Tensors, CompositeTensors,\u001b[0m\u001b[1;33m\u001b[0m\u001b[1;33m\u001b[0m\u001b[1;33m\u001b[0m\u001b[0m\n",
      "\u001b[1;32m~\\anaconda3\\lib\\site-packages\\tensorflow\\python\\eager\\def_function.py\u001b[0m in \u001b[0;36mwrapped_fn\u001b[1;34m(*args, **kwds)\u001b[0m\n\u001b[0;32m    670\u001b[0m         \u001b[1;31m# the function a weak reference to itself to avoid a reference cycle.\u001b[0m\u001b[1;33m\u001b[0m\u001b[1;33m\u001b[0m\u001b[1;33m\u001b[0m\u001b[0m\n\u001b[0;32m    671\u001b[0m         \u001b[1;32mwith\u001b[0m \u001b[0mOptionalXlaContext\u001b[0m\u001b[1;33m(\u001b[0m\u001b[0mcompile_with_xla\u001b[0m\u001b[1;33m)\u001b[0m\u001b[1;33m:\u001b[0m\u001b[1;33m\u001b[0m\u001b[1;33m\u001b[0m\u001b[0m\n\u001b[1;32m--> 672\u001b[1;33m           \u001b[0mout\u001b[0m \u001b[1;33m=\u001b[0m \u001b[0mweak_wrapped_fn\u001b[0m\u001b[1;33m(\u001b[0m\u001b[1;33m)\u001b[0m\u001b[1;33m.\u001b[0m\u001b[0m__wrapped__\u001b[0m\u001b[1;33m(\u001b[0m\u001b[1;33m*\u001b[0m\u001b[0margs\u001b[0m\u001b[1;33m,\u001b[0m \u001b[1;33m**\u001b[0m\u001b[0mkwds\u001b[0m\u001b[1;33m)\u001b[0m\u001b[1;33m\u001b[0m\u001b[1;33m\u001b[0m\u001b[0m\n\u001b[0m\u001b[0;32m    673\u001b[0m         \u001b[1;32mreturn\u001b[0m \u001b[0mout\u001b[0m\u001b[1;33m\u001b[0m\u001b[1;33m\u001b[0m\u001b[0m\n\u001b[0;32m    674\u001b[0m \u001b[1;33m\u001b[0m\u001b[0m\n",
      "\u001b[1;32m~\\anaconda3\\lib\\site-packages\\tensorflow\\python\\framework\\func_graph.py\u001b[0m in \u001b[0;36mwrapper\u001b[1;34m(*args, **kwargs)\u001b[0m\n\u001b[0;32m    984\u001b[0m           \u001b[1;32mexcept\u001b[0m \u001b[0mException\u001b[0m \u001b[1;32mas\u001b[0m \u001b[0me\u001b[0m\u001b[1;33m:\u001b[0m  \u001b[1;31m# pylint:disable=broad-except\u001b[0m\u001b[1;33m\u001b[0m\u001b[1;33m\u001b[0m\u001b[0m\n\u001b[0;32m    985\u001b[0m             \u001b[1;32mif\u001b[0m \u001b[0mhasattr\u001b[0m\u001b[1;33m(\u001b[0m\u001b[0me\u001b[0m\u001b[1;33m,\u001b[0m \u001b[1;34m\"ag_error_metadata\"\u001b[0m\u001b[1;33m)\u001b[0m\u001b[1;33m:\u001b[0m\u001b[1;33m\u001b[0m\u001b[1;33m\u001b[0m\u001b[0m\n\u001b[1;32m--> 986\u001b[1;33m               \u001b[1;32mraise\u001b[0m \u001b[0me\u001b[0m\u001b[1;33m.\u001b[0m\u001b[0mag_error_metadata\u001b[0m\u001b[1;33m.\u001b[0m\u001b[0mto_exception\u001b[0m\u001b[1;33m(\u001b[0m\u001b[0me\u001b[0m\u001b[1;33m)\u001b[0m\u001b[1;33m\u001b[0m\u001b[1;33m\u001b[0m\u001b[0m\n\u001b[0m\u001b[0;32m    987\u001b[0m             \u001b[1;32melse\u001b[0m\u001b[1;33m:\u001b[0m\u001b[1;33m\u001b[0m\u001b[1;33m\u001b[0m\u001b[0m\n\u001b[0;32m    988\u001b[0m               \u001b[1;32mraise\u001b[0m\u001b[1;33m\u001b[0m\u001b[1;33m\u001b[0m\u001b[0m\n",
      "\u001b[1;31mValueError\u001b[0m: in user code:\n\n    C:\\Users\\PJ\\anaconda3\\lib\\site-packages\\tensorflow\\python\\keras\\engine\\training.py:1569 predict_function  *\n        return step_function(self, iterator)\n    C:\\Users\\PJ\\anaconda3\\lib\\site-packages\\tensorflow\\python\\keras\\engine\\training.py:1559 step_function  **\n        outputs = model.distribute_strategy.run(run_step, args=(data,))\n    C:\\Users\\PJ\\anaconda3\\lib\\site-packages\\tensorflow\\python\\distribute\\distribute_lib.py:1285 run\n        return self._extended.call_for_each_replica(fn, args=args, kwargs=kwargs)\n    C:\\Users\\PJ\\anaconda3\\lib\\site-packages\\tensorflow\\python\\distribute\\distribute_lib.py:2833 call_for_each_replica\n        return self._call_for_each_replica(fn, args, kwargs)\n    C:\\Users\\PJ\\anaconda3\\lib\\site-packages\\tensorflow\\python\\distribute\\distribute_lib.py:3608 _call_for_each_replica\n        return fn(*args, **kwargs)\n    C:\\Users\\PJ\\anaconda3\\lib\\site-packages\\tensorflow\\python\\keras\\engine\\training.py:1552 run_step  **\n        outputs = model.predict_step(data)\n    C:\\Users\\PJ\\anaconda3\\lib\\site-packages\\tensorflow\\python\\keras\\engine\\training.py:1525 predict_step\n        return self(x, training=False)\n    C:\\Users\\PJ\\anaconda3\\lib\\site-packages\\tensorflow\\python\\keras\\engine\\base_layer.py:1013 __call__\n        input_spec.assert_input_compatibility(self.input_spec, inputs, self.name)\n    C:\\Users\\PJ\\anaconda3\\lib\\site-packages\\tensorflow\\python\\keras\\engine\\input_spec.py:251 assert_input_compatibility\n        raise ValueError(\n\n    ValueError: Input 0 of layer sequential_5 is incompatible with the layer: expected axis -1 of input shape to have value 9 but received input with shape (None, 10)\n"
     ]
    }
   ],
   "source": [
    "generate_recommendation(model01,newdata.drop(['mean_vote','mean_vote_class'],axis=1))"
   ]
  },
  {
   "cell_type": "code",
   "execution_count": null,
   "metadata": {},
   "outputs": [],
   "source": []
  }
 ],
 "metadata": {
  "kernelspec": {
   "display_name": "Python 3",
   "language": "python",
   "name": "python3"
  },
  "language_info": {
   "codemirror_mode": {
    "name": "ipython",
    "version": 3
   },
   "file_extension": ".py",
   "mimetype": "text/x-python",
   "name": "python",
   "nbconvert_exporter": "python",
   "pygments_lexer": "ipython3",
   "version": "3.8.3"
  }
 },
 "nbformat": 4,
 "nbformat_minor": 4
}
