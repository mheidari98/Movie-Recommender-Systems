{
 "cells": [
  {
   "cell_type": "markdown",
   "metadata": {},
   "source": [
    "from google.colab import drive\n",
    "drive.mount('/content/drive')"
   ]
  },
  {
   "cell_type": "code",
   "execution_count": 31,
   "metadata": {},
   "outputs": [],
   "source": [
    "try:\n",
    "  import google.colab\n",
    "  IN_COLAB = True\n",
    "except:\n",
    "  IN_COLAB = False\n",
    "\n",
    "if IN_COLAB :\n",
    "    from google.colab import drive\n",
    "    drive.mount('/content/drive')\n",
    "    \n",
    "if IN_COLAB :\n",
    "  Dataset_path = \"/content/drive/MyDrive/Colab Notebooks/DataSets/\"\n",
    "else :\n",
    "  Dataset_path = \"./DataSets/\"\n",
    "\n",
    "ml_path = Dataset_path + \"ml-latest/\""
   ]
  },
  {
   "cell_type": "code",
   "execution_count": 32,
   "metadata": {},
   "outputs": [],
   "source": [
    "import pandas as pd\n",
    "import numpy as np \n",
    "import matplotlib.pyplot as plt\n",
    "import sklearn\n",
    "\n",
    "from sklearn.model_selection import train_test_split\n",
    "from sklearn.metrics import mean_squared_error\n",
    "from math import sqrt\n",
    "import seaborn as sns\n",
    "\n",
    "import tensorflow.keras\n",
    "from tensorflow.keras.models import Sequential\n",
    "from tensorflow.keras.layers import Dense\n",
    "from tensorflow.keras.utils import to_categorical\n",
    "\n",
    "from sklearn.metrics import mean_squared_error,mean_absolute_error\n"
   ]
  },
  {
   "cell_type": "code",
   "execution_count": 41,
   "metadata": {},
   "outputs": [],
   "source": [
    "ratings = pd.read_csv(ml_path+\"ratings.csv\")\n",
    "Movies_metadata = pd.read_csv(Dataset_path+\"Movies_metadata.csv\")"
   ]
  },
  {
   "cell_type": "code",
   "execution_count": 46,
   "metadata": {},
   "outputs": [
    {
     "data": {
      "text/plain": [
       "Index(['movieId', 'genres', 'imdb_title_id', 'title', 'original_title', 'year',\n",
       "       'date_published', 'genre', 'duration', 'country', 'language',\n",
       "       'director', 'writer', 'production_company', 'actors', 'description',\n",
       "       'avg_vote', 'votes', 'budget', 'usa_gross_income',\n",
       "       'worlwide_gross_income', 'metascore', 'reviews_from_users',\n",
       "       'reviews_from_critics', 'mean_vote', 'total_votes', 'EU', 'AS', 'NA',\n",
       "       'AF', 'AN', 'SA', 'OC', 'idk', 'English', 'French', 'Italian', 'German',\n",
       "       'Spanish', 'Russian', 'Other', 'Adventure', 'Animation', 'Children',\n",
       "       'Comedy', 'Fantasy', 'Romance', 'Drama', 'Action', 'Crime', 'Thriller',\n",
       "       'Horror', 'Mystery', 'Sci-Fi', 'IMAX', 'Documentary', 'War', 'Musical',\n",
       "       'Western', 'Film-Noir', '(no genres listed)'],\n",
       "      dtype='object')"
      ]
     },
     "execution_count": 46,
     "metadata": {},
     "output_type": "execute_result"
    }
   ],
   "source": [
    "Movies_metadata.columns"
   ]
  },
  {
   "cell_type": "code",
   "execution_count": 43,
   "metadata": {},
   "outputs": [
    {
     "data": {
      "text/plain": [
       "count    41896.000000\n",
       "mean         6.379342\n",
       "std          1.036597\n",
       "min          1.300000\n",
       "25%          5.800000\n",
       "50%          6.500000\n",
       "75%          7.100000\n",
       "max          9.400000\n",
       "Name: mean_vote, dtype: float64"
      ]
     },
     "execution_count": 43,
     "metadata": {},
     "output_type": "execute_result"
    }
   ],
   "source": [
    "Movies_metadata['mean_vote'].describe()"
   ]
  },
  {
   "cell_type": "code",
   "execution_count": 44,
   "metadata": {},
   "outputs": [],
   "source": [
    "Movies_metadata = Movies_metadata.fillna(100000)\n"
   ]
  },
  {
   "cell_type": "code",
   "execution_count": 60,
   "metadata": {},
   "outputs": [],
   "source": [
    "data =  Movies_metadata[['movieId','year','duration','metascore','reviews_from_users','reviews_from_critics','mean_vote',\n",
    "                         'EU', 'AS', 'NA','AF', 'AN', 'SA', 'OC', 'idk', 'English', 'French', 'Italian', 'German',\n",
    "                         'Spanish', 'Russian', 'Other', 'Adventure', 'Animation', 'Children',\n",
    "                         'Comedy', 'Fantasy', 'Romance', 'Drama', 'Action', 'Crime', 'Thriller',\n",
    "                         'Horror', 'Mystery', 'Sci-Fi', 'IMAX', 'Documentary', 'War', 'Musical',\n",
    "                         'Western', 'Film-Noir', '(no genres listed)'] ]"
   ]
  },
  {
   "cell_type": "code",
   "execution_count": 63,
   "metadata": {},
   "outputs": [
    {
     "name": "stdout",
     "output_type": "stream",
     "text": [
      "<class 'pandas.core.frame.DataFrame'>\n",
      "RangeIndex: 41896 entries, 0 to 41895\n",
      "Data columns (total 42 columns):\n",
      " #   Column                Non-Null Count  Dtype  \n",
      "---  ------                --------------  -----  \n",
      " 0   year                  41896 non-null  float64\n",
      " 1   duration              41896 non-null  float64\n",
      " 2   metascore             41896 non-null  float64\n",
      " 3   reviews_from_users    41896 non-null  float64\n",
      " 4   reviews_from_critics  41896 non-null  float64\n",
      " 5   EU                    41896 non-null  float64\n",
      " 6   AS                    41896 non-null  float64\n",
      " 7   NA                    41896 non-null  float64\n",
      " 8   AF                    41896 non-null  float64\n",
      " 9   AN                    41896 non-null  float64\n",
      " 10  SA                    41896 non-null  float64\n",
      " 11  OC                    41896 non-null  float64\n",
      " 12  idk                   41896 non-null  float64\n",
      " 13  English               41896 non-null  float64\n",
      " 14  French                41896 non-null  float64\n",
      " 15  Italian               41896 non-null  float64\n",
      " 16  German                41896 non-null  float64\n",
      " 17  Spanish               41896 non-null  float64\n",
      " 18  Russian               41896 non-null  float64\n",
      " 19  Other                 41896 non-null  float64\n",
      " 20  Adventure             41896 non-null  float64\n",
      " 21  Animation             41896 non-null  float64\n",
      " 22  Children              41896 non-null  float64\n",
      " 23  Comedy                41896 non-null  float64\n",
      " 24  Fantasy               41896 non-null  float64\n",
      " 25  Romance               41896 non-null  float64\n",
      " 26  Drama                 41896 non-null  float64\n",
      " 27  Action                41896 non-null  float64\n",
      " 28  Crime                 41896 non-null  float64\n",
      " 29  Thriller              41896 non-null  float64\n",
      " 30  Horror                41896 non-null  float64\n",
      " 31  Mystery               41896 non-null  float64\n",
      " 32  Sci-Fi                41896 non-null  float64\n",
      " 33  IMAX                  41896 non-null  float64\n",
      " 34  Documentary           41896 non-null  float64\n",
      " 35  War                   41896 non-null  float64\n",
      " 36  Musical               41896 non-null  float64\n",
      " 37  Western               41896 non-null  float64\n",
      " 38  Film-Noir             41896 non-null  float64\n",
      " 39  (no genres listed)    41896 non-null  float64\n",
      " 40  mean_vote             41896 non-null  float64\n",
      " 41  movieId               41896 non-null  int64  \n",
      "dtypes: float64(41), int64(1)\n",
      "memory usage: 13.4 MB\n"
     ]
    }
   ],
   "source": [
    "from sklearn.preprocessing import StandardScaler\n",
    "\n",
    "scaler = StandardScaler()\n",
    "scaled = scaler.fit_transform(data.drop(['movieId','mean_vote'],axis=1))\n",
    "data_norm = pd.DataFrame(scaled,columns=(data.drop(['movieId','mean_vote'],axis=1).columns))\n",
    "data_norm= data_norm.join(data['mean_vote'])\n",
    "data_norm= data_norm.join(data['movieId'])\n",
    "\n",
    "\n",
    "#from scipy import stats\n",
    "#z_scores = stats.zscore(data_norm.drop(['movieId','mean_vote'],axis=1))\n",
    "#abs_z_scores = np.abs(z_scores)\n",
    "#filtered_entries = (abs_z_scores < 3).all(axis=1)\n",
    "#newdata = data_norm[filtered_entries]\n",
    "newdata = data_norm\n",
    "newdata.info()"
   ]
  },
  {
   "cell_type": "code",
   "execution_count": 232,
   "metadata": {},
   "outputs": [],
   "source": [
    "pd.options.mode.chained_assignment = None\n",
    "\n",
    "newdata['mean_vote_class'] = 0\n",
    "newdata['mean_vote_class'][newdata['mean_vote']>=6.5] = 1\n",
    "newdata['mean_vote_class'][newdata['mean_vote']<6.5] = 0"
   ]
  },
  {
   "cell_type": "code",
   "execution_count": 233,
   "metadata": {},
   "outputs": [
    {
     "data": {
      "image/png": "[encoded data removed]",
      "text/plain": [
       "<Figure size 432x288 with 1 Axes>"
      ]
     },
     "metadata": {
      "needs_background": "light"
     },
     "output_type": "display_data"
    }
   ],
   "source": [
    "plt.hist(newdata['mean_vote_class'])\n",
    "plt.show()"
   ]
  },
  {
   "cell_type": "code",
   "execution_count": 234,
   "metadata": {},
   "outputs": [
    {
     "data": {
      "text/plain": [
       "array([0.15229251, 0.14314207, 0.11157316, 0.10623405])"
      ]
     },
     "execution_count": 234,
     "metadata": {},
     "output_type": "execute_result"
    }
   ],
   "source": [
    "#from sklearn.decomposition import PCA\n",
    "#pca01 = PCA(n_components = 4)\n",
    "#principlecomp_train = pca01.fit_transform(newdata.drop(['movieId','mean_vote','mean_vote_class'],axis=1))\n",
    "#pca01.explained_variance_ratio_"
   ]
  },
  {
   "cell_type": "code",
   "execution_count": null,
   "metadata": {},
   "outputs": [],
   "source": []
  },
  {
   "cell_type": "markdown",
   "metadata": {},
   "source": [
    "### Without Classing of mean_vote"
   ]
  },
  {
   "cell_type": "code",
   "execution_count": 235,
   "metadata": {},
   "outputs": [],
   "source": [
    "target = newdata['mean_vote'] \n",
    "predictors = newdata.drop(['mean_vote','movieId','mean_vote_class'],axis=1)"
   ]
  },
  {
   "cell_type": "code",
   "execution_count": 236,
   "metadata": {},
   "outputs": [],
   "source": [
    "X_train, X_test, y_train, y_test = train_test_split(predictors, target, test_size=0.30, random_state=40)"
   ]
  },
  {
   "cell_type": "code",
   "execution_count": 248,
   "metadata": {},
   "outputs": [],
   "source": [
    "model01 = Sequential()\n",
    "model01.add(Dense(900, activation='relu', input_dim=40))\n",
    "model01.add(Dense(600, activation='relu'))\n",
    "model01.add(Dense(300, activation='relu'))\n",
    "model01.add(Dense(150, activation='relu'))\n",
    "model01.add(Dense(30, activation='relu'))\n",
    "model01.add(Dense(1, activation='linear'))\n",
    "\n",
    "# Compile the model\n",
    "model01.compile(optimizer='adam', loss='mean_absolute_error', metrics=['mean_squared_error'])"
   ]
  },
  {
   "cell_type": "code",
   "execution_count": 249,
   "metadata": {
    "scrolled": true
   },
   "outputs": [
    {
     "name": "stdout",
     "output_type": "stream",
     "text": [
      "Epoch 1/20\n",
      "1409/1409 [==============================] - 17s 10ms/step - loss: 0.7644 - mean_squared_error: 1.0654\n",
      "Epoch 2/20\n",
      "1409/1409 [==============================] - 14s 10ms/step - loss: 0.6844 - mean_squared_error: 0.7760\n",
      "Epoch 3/20\n",
      "1409/1409 [==============================] - 14s 10ms/step - loss: 0.6553 - mean_squared_error: 0.7236\n",
      "Epoch 4/20\n",
      "1409/1409 [==============================] - 14s 10ms/step - loss: 0.6504 - mean_squared_error: 0.7162\n",
      "Epoch 5/20\n",
      "1409/1409 [==============================] - 14s 10ms/step - loss: 0.6457 - mean_squared_error: 0.7038\n",
      "Epoch 6/20\n",
      "1409/1409 [==============================] - 14s 10ms/step - loss: 0.6335 - mean_squared_error: 0.6813\n",
      "Epoch 7/20\n",
      "1409/1409 [==============================] - 14s 10ms/step - loss: 0.6306 - mean_squared_error: 0.6782\n",
      "Epoch 8/20\n",
      "1409/1409 [==============================] - 14s 10ms/step - loss: 0.6234 - mean_squared_error: 0.6638\n",
      "Epoch 9/20\n",
      "1409/1409 [==============================] - 14s 10ms/step - loss: 0.6231 - mean_squared_error: 0.6658\n",
      "Epoch 10/20\n",
      "1409/1409 [==============================] - 14s 10ms/step - loss: 0.6208 - mean_squared_error: 0.6601\n",
      "Epoch 11/20\n",
      "1409/1409 [==============================] - 14s 10ms/step - loss: 0.6176 - mean_squared_error: 0.6543\n",
      "Epoch 12/20\n",
      "1409/1409 [==============================] - 14s 10ms/step - loss: 0.6146 - mean_squared_error: 0.6545\n",
      "Epoch 13/20\n",
      "1409/1409 [==============================] - 14s 10ms/step - loss: 0.6141 - mean_squared_error: 0.6489\n",
      "Epoch 14/20\n",
      "1409/1409 [==============================] - 15s 11ms/step - loss: 0.6110 - mean_squared_error: 0.6423\n",
      "Epoch 15/20\n",
      "1409/1409 [==============================] - 15s 11ms/step - loss: 0.6094 - mean_squared_error: 0.6411\n",
      "Epoch 16/20\n",
      "1409/1409 [==============================] - 15s 10ms/step - loss: 0.6061 - mean_squared_error: 0.6385\n",
      "Epoch 17/20\n",
      "1409/1409 [==============================] - 15s 11ms/step - loss: 0.6030 - mean_squared_error: 0.6323\n",
      "Epoch 18/20\n",
      "1409/1409 [==============================] - 15s 10ms/step - loss: 0.6043 - mean_squared_error: 0.6336\n",
      "Epoch 19/20\n",
      "1409/1409 [==============================] - 15s 10ms/step - loss: 0.6033 - mean_squared_error: 0.6297\n",
      "Epoch 20/20\n",
      "1409/1409 [==============================] - 14s 10ms/step - loss: 0.6029 - mean_squared_error: 0.6286\n"
     ]
    },
    {
     "data": {
      "text/plain": [
       "<tensorflow.python.keras.callbacks.History at 0x27a8a864a90>"
      ]
     },
     "execution_count": 249,
     "metadata": {},
     "output_type": "execute_result"
    }
   ],
   "source": [
    "model01.fit(X_train, y_train, epochs=20, batch_size=10)"
   ]
  },
  {
   "cell_type": "code",
   "execution_count": 250,
   "metadata": {},
   "outputs": [],
   "source": [
    "y_pred= model01.predict(X_test)"
   ]
  },
  {
   "cell_type": "code",
   "execution_count": 251,
   "metadata": {},
   "outputs": [
    {
     "name": "stdout",
     "output_type": "stream",
     "text": [
      "Accuracy on test data: 0.6186407804489136% \n",
      " Error on test data: 0.3813592195510864\n"
     ]
    }
   ],
   "source": [
    "scores = model01.evaluate(X_test, y_test, verbose=0)\n",
    "print('Accuracy on test data: {}% \\n Error on test data: {}'.format(scores[1], 1 - scores[1]))    "
   ]
  },
  {
   "cell_type": "code",
   "execution_count": 252,
   "metadata": {},
   "outputs": [
    {
     "name": "stdout",
     "output_type": "stream",
     "text": [
      "MSE: 0.6186408990693504\n",
      "MAE: 0.6070167821429514\n",
      "RMSE: 0.7865372839664693\n"
     ]
    }
   ],
   "source": [
    "print('MSE:',mean_squared_error(y_test, y_pred))\n",
    "print('MAE:',mean_absolute_error(y_test, y_pred))\n",
    "print('RMSE:',np.sqrt(mean_squared_error(y_test, y_pred)))"
   ]
  },
  {
   "cell_type": "code",
   "execution_count": null,
   "metadata": {},
   "outputs": [],
   "source": []
  },
  {
   "cell_type": "markdown",
   "metadata": {},
   "source": [
    "### With Classing mean_vote"
   ]
  },
  {
   "cell_type": "code",
   "execution_count": 253,
   "metadata": {},
   "outputs": [],
   "source": [
    "target = newdata['mean_vote_class'] \n",
    "predictors = newdata.drop(['mean_vote','mean_vote_class','movieId'],axis=1)\n",
    "\n",
    "X_train, X_test, y_train, y_test = train_test_split(predictors, target, test_size=0.30, random_state=40)\n"
   ]
  },
  {
   "cell_type": "code",
   "execution_count": 254,
   "metadata": {},
   "outputs": [],
   "source": [
    "model02 = Sequential()\n",
    "model02.add(Dense(300, activation='relu', input_dim=40))\n",
    "model02.add(Dense(150, activation='relu'))\n",
    "model02.add(Dense(30, activation='relu'))\n",
    "model02.add(Dense(1, activation='sigmoid'))\n",
    "\n",
    "# Compile the model\n",
    "model02.compile(optimizer='adam', loss='mean_absolute_error', metrics=['mean_squared_error'])"
   ]
  },
  {
   "cell_type": "code",
   "execution_count": 255,
   "metadata": {},
   "outputs": [
    {
     "name": "stdout",
     "output_type": "stream",
     "text": [
      "Epoch 1/20\n",
      "1409/1409 [==============================] - 5s 3ms/step - loss: 0.2971 - mean_squared_error: 0.2728\n",
      "Epoch 2/20\n",
      "1409/1409 [==============================] - 4s 3ms/step - loss: 0.2881 - mean_squared_error: 0.2800\n",
      "Epoch 3/20\n",
      "1409/1409 [==============================] - 4s 2ms/step - loss: 0.2836 - mean_squared_error: 0.2762\n",
      "Epoch 4/20\n",
      "1409/1409 [==============================] - 4s 3ms/step - loss: 0.2857 - mean_squared_error: 0.2820\n",
      "Epoch 5/20\n",
      "1409/1409 [==============================] - 3s 2ms/step - loss: 0.2824 - mean_squared_error: 0.2795\n",
      "Epoch 6/20\n",
      "1409/1409 [==============================] - 4s 2ms/step - loss: 0.2892 - mean_squared_error: 0.2871\n",
      "Epoch 7/20\n",
      "1409/1409 [==============================] - 4s 2ms/step - loss: 0.2889 - mean_squared_error: 0.2869\n",
      "Epoch 8/20\n",
      "1409/1409 [==============================] - 4s 3ms/step - loss: 0.2850 - mean_squared_error: 0.2833\n",
      "Epoch 9/20\n",
      "1409/1409 [==============================] - 4s 2ms/step - loss: 0.2858 - mean_squared_error: 0.2844\n",
      "Epoch 10/20\n",
      "1409/1409 [==============================] - 4s 3ms/step - loss: 0.2862 - mean_squared_error: 0.2851\n",
      "Epoch 11/20\n",
      "1409/1409 [==============================] - 4s 2ms/step - loss: 0.2906 - mean_squared_error: 0.2895\n",
      "Epoch 12/20\n",
      "1409/1409 [==============================] - 4s 3ms/step - loss: 0.2915 - mean_squared_error: 0.2906\n",
      "Epoch 13/20\n",
      "1409/1409 [==============================] - 4s 3ms/step - loss: 0.2995 - mean_squared_error: 0.2987\n",
      "Epoch 14/20\n",
      "1409/1409 [==============================] - 4s 3ms/step - loss: 0.3019 - mean_squared_error: 0.3012\n",
      "Epoch 15/20\n",
      "1409/1409 [==============================] - 4s 3ms/step - loss: 0.2941 - mean_squared_error: 0.2935\n",
      "Epoch 16/20\n",
      "1409/1409 [==============================] - 4s 3ms/step - loss: 0.2896 - mean_squared_error: 0.2890\n",
      "Epoch 17/20\n",
      "1409/1409 [==============================] - 4s 3ms/step - loss: 0.2876 - mean_squared_error: 0.2871\n",
      "Epoch 18/20\n",
      "1409/1409 [==============================] - 4s 3ms/step - loss: 0.2944 - mean_squared_error: 0.2939\n",
      "Epoch 19/20\n",
      "1409/1409 [==============================] - 4s 3ms/step - loss: 0.2959 - mean_squared_error: 0.2955\n",
      "Epoch 20/20\n",
      "1409/1409 [==============================] - 3s 2ms/step - loss: 0.2848 - mean_squared_error: 0.2844\n"
     ]
    },
    {
     "data": {
      "text/plain": [
       "<tensorflow.python.keras.callbacks.History at 0x27a83ff5280>"
      ]
     },
     "execution_count": 255,
     "metadata": {},
     "output_type": "execute_result"
    }
   ],
   "source": [
    "model02.fit(X_train, y_train, epochs=20, batch_size=10)"
   ]
  },
  {
   "cell_type": "code",
   "execution_count": 256,
   "metadata": {},
   "outputs": [],
   "source": [
    "y_pred = model02.predict(X_test)"
   ]
  },
  {
   "cell_type": "code",
   "execution_count": 257,
   "metadata": {},
   "outputs": [
    {
     "name": "stdout",
     "output_type": "stream",
     "text": [
      "Accuracy on test data: 0.2705593407154083% \n",
      " Error on test data: 0.7294406592845917\n"
     ]
    }
   ],
   "source": [
    "scores = model02.evaluate(X_test, y_test, verbose=0)\n",
    "print('Accuracy on test data: {}% \\n Error on test data: {}'.format(scores[1], 1 - scores[1])) "
   ]
  },
  {
   "cell_type": "code",
   "execution_count": 258,
   "metadata": {},
   "outputs": [
    {
     "name": "stdout",
     "output_type": "stream",
     "text": [
      "MSE: 0.2705592993331496\n",
      "MAE: 0.2708082310366579\n",
      "RMSE: 0.5201531498829451\n"
     ]
    }
   ],
   "source": [
    "print('MSE:',mean_squared_error(y_test, y_pred))\n",
    "print('MAE:',mean_absolute_error(y_test, y_pred))\n",
    "print('RMSE:',np.sqrt(mean_squared_error(y_test, y_pred)))"
   ]
  },
  {
   "cell_type": "code",
   "execution_count": null,
   "metadata": {},
   "outputs": [],
   "source": []
  },
  {
   "cell_type": "markdown",
   "metadata": {},
   "source": [
    "### Generate Recommendation"
   ]
  },
  {
   "cell_type": "code",
   "execution_count": 261,
   "metadata": {},
   "outputs": [],
   "source": [
    "import difflib\n",
    "import random\n",
    "\n",
    "def get_Movie_info(Movie_id):\n",
    "    \n",
    "    \"\"\"\n",
    "    Returns some basic information about a Movie given the Movie id and the metadata dataframe.\n",
    "    \"\"\"\n",
    "    \n",
    "    Movie_info = Movies_metadata[Movies_metadata['movieId'] == int(Movie_id)][['movieId', 'genres', \n",
    "                                                            'title', 'original_title', 'year', 'duration','mean_vote']]\n",
    "    return Movie_info\n",
    "\n",
    "\n",
    "def generate_recommendation(model,movieid):\n",
    "    frames = pd.DataFrame()\n",
    "    \n",
    "    for i in movieid:\n",
    "        mask = newdata[newdata.movieId.isin([i])]\n",
    "        mask = mask.drop(['mean_vote','mean_vote_class','movieId'],axis=1)\n",
    "        rating = model.predict(mask)\n",
    "        tmp = get_Movie_info(i)\n",
    "        tmp['pred_mean'] = rating\n",
    "        frames = frames.append(tmp, ignore_index=True)\n",
    "\n",
    "    return frames\n",
    "#.sort_values('rating', ascending=False)"
   ]
  },
  {
   "cell_type": "code",
   "execution_count": 264,
   "metadata": {},
   "outputs": [
    {
     "data": {
      "text/html": [
       "<div>\n",
       "<style scoped>\n",
       "    .dataframe tbody tr th:only-of-type {\n",
       "        vertical-align: middle;\n",
       "    }\n",
       "\n",
       "    .dataframe tbody tr th {\n",
       "        vertical-align: top;\n",
       "    }\n",
       "\n",
       "    .dataframe thead th {\n",
       "        text-align: right;\n",
       "    }\n",
       "</style>\n",
       "<table border=\"1\" class=\"dataframe\">\n",
       "  <thead>\n",
       "    <tr style=\"text-align: right;\">\n",
       "      <th></th>\n",
       "      <th>movieId</th>\n",
       "      <th>genres</th>\n",
       "      <th>title</th>\n",
       "      <th>original_title</th>\n",
       "      <th>year</th>\n",
       "      <th>duration</th>\n",
       "      <th>mean_vote</th>\n",
       "      <th>pred_mean</th>\n",
       "    </tr>\n",
       "  </thead>\n",
       "  <tbody>\n",
       "    <tr>\n",
       "      <th>0</th>\n",
       "      <td>4</td>\n",
       "      <td>Comedy|Drama|Romance</td>\n",
       "      <td>Donne</td>\n",
       "      <td>Waiting to Exhale</td>\n",
       "      <td>1995</td>\n",
       "      <td>124</td>\n",
       "      <td>6.2</td>\n",
       "      <td>6.501406</td>\n",
       "    </tr>\n",
       "    <tr>\n",
       "      <th>1</th>\n",
       "      <td>7</td>\n",
       "      <td>Comedy|Romance</td>\n",
       "      <td>Sabrina</td>\n",
       "      <td>Sabrina</td>\n",
       "      <td>1995</td>\n",
       "      <td>127</td>\n",
       "      <td>6.5</td>\n",
       "      <td>6.683612</td>\n",
       "    </tr>\n",
       "    <tr>\n",
       "      <th>2</th>\n",
       "      <td>9</td>\n",
       "      <td>Action</td>\n",
       "      <td>A rischio della vita</td>\n",
       "      <td>Sudden Death</td>\n",
       "      <td>1995</td>\n",
       "      <td>111</td>\n",
       "      <td>5.9</td>\n",
       "      <td>5.290041</td>\n",
       "    </tr>\n",
       "    <tr>\n",
       "      <th>3</th>\n",
       "      <td>193843</td>\n",
       "      <td>Action|Drama|Thriller</td>\n",
       "      <td>Raazi</td>\n",
       "      <td>Raazi</td>\n",
       "      <td>2018</td>\n",
       "      <td>138</td>\n",
       "      <td>7.8</td>\n",
       "      <td>6.663864</td>\n",
       "    </tr>\n",
       "    <tr>\n",
       "      <th>4</th>\n",
       "      <td>193878</td>\n",
       "      <td>Comedy</td>\n",
       "      <td>Les tribulations d'une caissière</td>\n",
       "      <td>Les tribulations d'une caissière</td>\n",
       "      <td>2011</td>\n",
       "      <td>102</td>\n",
       "      <td>5.4</td>\n",
       "      <td>5.900451</td>\n",
       "    </tr>\n",
       "  </tbody>\n",
       "</table>\n",
       "</div>"
      ],
      "text/plain": [
       "   movieId                 genres                             title  \\\n",
       "0        4   Comedy|Drama|Romance                             Donne   \n",
       "1        7         Comedy|Romance                           Sabrina   \n",
       "2        9                 Action              A rischio della vita   \n",
       "3   193843  Action|Drama|Thriller                             Raazi   \n",
       "4   193878                 Comedy  Les tribulations d'une caissière   \n",
       "\n",
       "                     original_title  year  duration  mean_vote  pred_mean  \n",
       "0                 Waiting to Exhale  1995       124        6.2   6.501406  \n",
       "1                           Sabrina  1995       127        6.5   6.683612  \n",
       "2                      Sudden Death  1995       111        5.9   5.290041  \n",
       "3                             Raazi  2018       138        7.8   6.663864  \n",
       "4  Les tribulations d'une caissière  2011       102        5.4   5.900451  "
      ]
     },
     "execution_count": 264,
     "metadata": {},
     "output_type": "execute_result"
    }
   ],
   "source": [
    "generate_recommendation(model01,[4,7,9,193843,193878])"
   ]
  },
  {
   "cell_type": "code",
   "execution_count": 265,
   "metadata": {},
   "outputs": [
    {
     "data": {
      "text/html": [
       "<div>\n",
       "<style scoped>\n",
       "    .dataframe tbody tr th:only-of-type {\n",
       "        vertical-align: middle;\n",
       "    }\n",
       "\n",
       "    .dataframe tbody tr th {\n",
       "        vertical-align: top;\n",
       "    }\n",
       "\n",
       "    .dataframe thead th {\n",
       "        text-align: right;\n",
       "    }\n",
       "</style>\n",
       "<table border=\"1\" class=\"dataframe\">\n",
       "  <thead>\n",
       "    <tr style=\"text-align: right;\">\n",
       "      <th></th>\n",
       "      <th>movieId</th>\n",
       "      <th>genres</th>\n",
       "      <th>title</th>\n",
       "      <th>original_title</th>\n",
       "      <th>year</th>\n",
       "      <th>duration</th>\n",
       "      <th>mean_vote</th>\n",
       "      <th>pred_mean</th>\n",
       "    </tr>\n",
       "  </thead>\n",
       "  <tbody>\n",
       "    <tr>\n",
       "      <th>0</th>\n",
       "      <td>4</td>\n",
       "      <td>Comedy|Drama|Romance</td>\n",
       "      <td>Donne</td>\n",
       "      <td>Waiting to Exhale</td>\n",
       "      <td>1995</td>\n",
       "      <td>124</td>\n",
       "      <td>6.2</td>\n",
       "      <td>1.0</td>\n",
       "    </tr>\n",
       "    <tr>\n",
       "      <th>1</th>\n",
       "      <td>7</td>\n",
       "      <td>Comedy|Romance</td>\n",
       "      <td>Sabrina</td>\n",
       "      <td>Sabrina</td>\n",
       "      <td>1995</td>\n",
       "      <td>127</td>\n",
       "      <td>6.5</td>\n",
       "      <td>1.0</td>\n",
       "    </tr>\n",
       "    <tr>\n",
       "      <th>2</th>\n",
       "      <td>9</td>\n",
       "      <td>Action</td>\n",
       "      <td>A rischio della vita</td>\n",
       "      <td>Sudden Death</td>\n",
       "      <td>1995</td>\n",
       "      <td>111</td>\n",
       "      <td>5.9</td>\n",
       "      <td>0.0</td>\n",
       "    </tr>\n",
       "    <tr>\n",
       "      <th>3</th>\n",
       "      <td>193843</td>\n",
       "      <td>Action|Drama|Thriller</td>\n",
       "      <td>Raazi</td>\n",
       "      <td>Raazi</td>\n",
       "      <td>2018</td>\n",
       "      <td>138</td>\n",
       "      <td>7.8</td>\n",
       "      <td>1.0</td>\n",
       "    </tr>\n",
       "    <tr>\n",
       "      <th>4</th>\n",
       "      <td>193878</td>\n",
       "      <td>Comedy</td>\n",
       "      <td>Les tribulations d'une caissière</td>\n",
       "      <td>Les tribulations d'une caissière</td>\n",
       "      <td>2011</td>\n",
       "      <td>102</td>\n",
       "      <td>5.4</td>\n",
       "      <td>0.0</td>\n",
       "    </tr>\n",
       "  </tbody>\n",
       "</table>\n",
       "</div>"
      ],
      "text/plain": [
       "   movieId                 genres                             title  \\\n",
       "0        4   Comedy|Drama|Romance                             Donne   \n",
       "1        7         Comedy|Romance                           Sabrina   \n",
       "2        9                 Action              A rischio della vita   \n",
       "3   193843  Action|Drama|Thriller                             Raazi   \n",
       "4   193878                 Comedy  Les tribulations d'une caissière   \n",
       "\n",
       "                     original_title  year  duration  mean_vote  pred_mean  \n",
       "0                 Waiting to Exhale  1995       124        6.2        1.0  \n",
       "1                           Sabrina  1995       127        6.5        1.0  \n",
       "2                      Sudden Death  1995       111        5.9        0.0  \n",
       "3                             Raazi  2018       138        7.8        1.0  \n",
       "4  Les tribulations d'une caissière  2011       102        5.4        0.0  "
      ]
     },
     "execution_count": 265,
     "metadata": {},
     "output_type": "execute_result"
    }
   ],
   "source": [
    "generate_recommendation(model02,[4,7,9,193843,193878])"
   ]
  },
  {
   "cell_type": "code",
   "execution_count": null,
   "metadata": {},
   "outputs": [],
   "source": []
  },
  {
   "cell_type": "code",
   "execution_count": null,
   "metadata": {},
   "outputs": [],
   "source": []
  },
  {
   "cell_type": "code",
   "execution_count": null,
   "metadata": {},
   "outputs": [],
   "source": []
  }
 ],
 "metadata": {
  "kernelspec": {
   "display_name": "Python 3",
   "language": "python",
   "name": "python3"
  },
  "language_info": {
   "codemirror_mode": {
    "name": "ipython",
    "version": 3
   },
   "file_extension": ".py",
   "mimetype": "text/x-python",
   "name": "python",
   "nbconvert_exporter": "python",
   "pygments_lexer": "ipython3",
   "version": "3.8.3"
  }
 },
 "nbformat": 4,
 "nbformat_minor": 4
}
