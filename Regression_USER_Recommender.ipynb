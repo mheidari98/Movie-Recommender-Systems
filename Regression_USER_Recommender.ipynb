{
 "cells": [
  {
   "cell_type": "code",
   "execution_count": 17,
   "metadata": {},
   "outputs": [],
   "source": [
    "import pandas as pd\n",
    "import numpy as np \n",
    "import matplotlib.pyplot as plt\n",
    "import sklearn\n",
    "import difflib\n",
    "import random\n",
    "\n",
    "from sklearn.model_selection import train_test_split\n",
    "from sklearn.metrics import mean_squared_error\n",
    "from math import sqrt\n",
    "\n",
    "from sklearn.metrics import mean_squared_error,mean_absolute_error\n",
    "from sklearn.linear_model import PoissonRegressor\n",
    "from sklearn.linear_model import LinearRegression"
   ]
  },
  {
   "cell_type": "code",
   "execution_count": 2,
   "metadata": {},
   "outputs": [],
   "source": [
    "Dataset_path = \"./DataSets/\"\n",
    "Movies_metadata = pd.read_csv(Dataset_path+\"MoviesInfo.csv\")\n",
    "ratings = pd.read_csv(Dataset_path+\"ml-latest/ratings.csv\")"
   ]
  },
  {
   "cell_type": "markdown",
   "metadata": {},
   "source": [
    "### just keep rating year between 1995, 2001"
   ]
  },
  {
   "cell_type": "code",
   "execution_count": 3,
   "metadata": {},
   "outputs": [],
   "source": [
    "from datetime import datetime\n",
    "\n",
    "# strftime('%Y-%m-%d %H:%M:%S')\n",
    "ratings['year_rated'] = ratings['timestamp'].apply(lambda x: int( datetime.fromtimestamp( x ).strftime('%Y') ) )\n",
    "\n",
    "ratings = ratings[ ratings['year_rated'].between(1995, 2001)].copy()\n",
    "\n",
    "ratings.reset_index(drop=True, inplace=True)"
   ]
  },
  {
   "cell_type": "code",
   "execution_count": 4,
   "metadata": {},
   "outputs": [
    {
     "name": "stdout",
     "output_type": "stream",
     "text": [
      "number of Ratings : 7329482\n",
      "number of movies : 4937\n",
      "number of users : 103827\n",
      "range of rating : ( 1.0, 5.0)  \n"
     ]
    }
   ],
   "source": [
    "print( f\"number of Ratings : { ratings.shape[0] }\")\n",
    "print( f\"number of movies : { ratings.groupby('movieId').count().shape[0] }\")\n",
    "print( f\"number of users : { ratings.groupby('userId').count().shape[0] }\")\n",
    "print( f\"range of rating : ( { np.min( ratings.groupby('rating').count().index )}, {np.max( ratings.groupby('rating').count().index )})  \")"
   ]
  },
  {
   "cell_type": "code",
   "execution_count": 5,
   "metadata": {},
   "outputs": [],
   "source": [
    "MyCol = ['movieId','year','duration','metascore','reviews_from_users','reviews_from_critics'\n",
    "         ,'country','language','director','production_company','mean_vote']\n",
    "FinalDataset = pd.merge(ratings, Movies_metadata[ MyCol ], how='inner')"
   ]
  },
  {
   "cell_type": "code",
   "execution_count": 6,
   "metadata": {},
   "outputs": [
    {
     "name": "stdout",
     "output_type": "stream",
     "text": [
      "<class 'pandas.core.frame.DataFrame'>\n",
      "Int64Index: 7206877 entries, 0 to 7206876\n",
      "Data columns (total 15 columns):\n",
      " #   Column                Dtype  \n",
      "---  ------                -----  \n",
      " 0   userId                int64  \n",
      " 1   movieId               int64  \n",
      " 2   rating                float64\n",
      " 3   timestamp             int64  \n",
      " 4   year_rated            int64  \n",
      " 5   year                  int64  \n",
      " 6   duration              int64  \n",
      " 7   metascore             float64\n",
      " 8   reviews_from_users    float64\n",
      " 9   reviews_from_critics  float64\n",
      " 10  country               object \n",
      " 11  language              object \n",
      " 12  director              object \n",
      " 13  production_company    object \n",
      " 14  mean_vote             float64\n",
      "dtypes: float64(5), int64(6), object(4)\n",
      "memory usage: 879.7+ MB\n"
     ]
    }
   ],
   "source": [
    "FinalDataset.info()"
   ]
  },
  {
   "cell_type": "code",
   "execution_count": 7,
   "metadata": {},
   "outputs": [
    {
     "name": "stdout",
     "output_type": "stream",
     "text": [
      "<class 'pandas.core.frame.DataFrame'>\n",
      "Int64Index: 7206877 entries, 0 to 7206876\n",
      "Data columns (total 15 columns):\n",
      " #   Column                Dtype  \n",
      "---  ------                -----  \n",
      " 0   userId                int64  \n",
      " 1   movieId               int64  \n",
      " 2   rating                float64\n",
      " 3   timestamp             int64  \n",
      " 4   year_rated            int64  \n",
      " 5   year                  int64  \n",
      " 6   duration              int64  \n",
      " 7   metascore             float64\n",
      " 8   reviews_from_users    float64\n",
      " 9   reviews_from_critics  float64\n",
      " 10  country               int16  \n",
      " 11  language              int16  \n",
      " 12  director              int16  \n",
      " 13  production_company    int16  \n",
      " 14  mean_vote             float64\n",
      "dtypes: float64(5), int16(4), int64(6)\n",
      "memory usage: 714.8 MB\n"
     ]
    }
   ],
   "source": [
    "myobj = ['country','language','director','production_company']\n",
    "obj_FinalDataset= FinalDataset.select_dtypes(include=['object']).copy()\n",
    "\n",
    "for i in myobj:\n",
    "    obj_FinalDataset[i] = obj_FinalDataset[i].astype('category')\n",
    "    FinalDataset[i] = obj_FinalDataset[i].cat.codes\n",
    "    \n",
    "FinalDataset = FinalDataset.fillna(100000)\n",
    "FinalDataset.info()"
   ]
  },
  {
   "cell_type": "code",
   "execution_count": 8,
   "metadata": {},
   "outputs": [],
   "source": [
    "data =  FinalDataset[['userId' ,'movieId','year','duration','metascore','reviews_from_users','reviews_from_critics'\n",
    "                              ,'country','language','director','production_company','mean_vote','rating']]"
   ]
  },
  {
   "cell_type": "code",
   "execution_count": 9,
   "metadata": {},
   "outputs": [
    {
     "name": "stdout",
     "output_type": "stream",
     "text": [
      "<class 'pandas.core.frame.DataFrame'>\n",
      "Int64Index: 6529017 entries, 0 to 7206874\n",
      "Data columns (total 13 columns):\n",
      " #   Column                Dtype  \n",
      "---  ------                -----  \n",
      " 0   year                  float64\n",
      " 1   duration              float64\n",
      " 2   metascore             float64\n",
      " 3   reviews_from_users    float64\n",
      " 4   reviews_from_critics  float64\n",
      " 5   country               float64\n",
      " 6   language              float64\n",
      " 7   director              float64\n",
      " 8   production_company    float64\n",
      " 9   mean_vote             float64\n",
      " 10  userId                int64  \n",
      " 11  movieId               int64  \n",
      " 12  rating                float64\n",
      "dtypes: float64(11), int64(2)\n",
      "memory usage: 697.4 MB\n"
     ]
    }
   ],
   "source": [
    "from sklearn.preprocessing import StandardScaler\n",
    "\n",
    "scaler = StandardScaler()\n",
    "scaled = scaler.fit_transform(data.drop(['movieId','userId','rating'],axis=1))\n",
    "data_norm = pd.DataFrame(scaled,columns=(data.drop(['movieId','userId','rating'],axis=1).columns))\n",
    "data_norm= data_norm.join(data['userId'])\n",
    "data_norm= data_norm.join(data['movieId'])\n",
    "data_norm= data_norm.join(data['rating'])\n",
    "\n",
    "                               \n",
    "from scipy import stats\n",
    "z_scores = stats.zscore(data_norm.drop(['movieId','userId'],axis=1))\n",
    "abs_z_scores = np.abs(z_scores)\n",
    "filtered_entries = (abs_z_scores < 3).all(axis=1)\n",
    "newdata = data_norm[filtered_entries]\n",
    "\n",
    "newdata.info()"
   ]
  },
  {
   "cell_type": "code",
   "execution_count": null,
   "metadata": {},
   "outputs": [],
   "source": []
  },
  {
   "cell_type": "markdown",
   "metadata": {},
   "source": [
    "# Regression"
   ]
  },
  {
   "cell_type": "code",
   "execution_count": 11,
   "metadata": {},
   "outputs": [],
   "source": [
    "predictors = newdata.drop(['movieId','userId','rating'],axis=1)\n",
    "target = newdata['rating']\n",
    "X_train, X_test, Y_train, Y_test = train_test_split(predictors,target, test_size = 0.3)"
   ]
  },
  {
   "cell_type": "code",
   "execution_count": null,
   "metadata": {},
   "outputs": [],
   "source": []
  },
  {
   "cell_type": "markdown",
   "metadata": {},
   "source": [
    "### Poisson Regression"
   ]
  },
  {
   "cell_type": "code",
   "execution_count": 18,
   "metadata": {},
   "outputs": [],
   "source": [
    "model01 = PoissonRegressor().fit(X_train, Y_train)"
   ]
  },
  {
   "cell_type": "code",
   "execution_count": 19,
   "metadata": {},
   "outputs": [],
   "source": [
    "y_pred01 = model01.predict(X_test)"
   ]
  },
  {
   "cell_type": "code",
   "execution_count": 20,
   "metadata": {},
   "outputs": [
    {
     "name": "stdout",
     "output_type": "stream",
     "text": [
      "MSE: 0.9992985404102491\n",
      "MAE: 0.8039737149558099\n",
      "RMSE: 0.9996492086778487\n"
     ]
    }
   ],
   "source": [
    "print('MSE:',mean_squared_error(Y_test, y_pred01))\n",
    "print('MAE:',mean_absolute_error(Y_test, y_pred01))\n",
    "print('RMSE:',np.sqrt(mean_squared_error(Y_test, y_pred01)))"
   ]
  },
  {
   "cell_type": "code",
   "execution_count": null,
   "metadata": {},
   "outputs": [],
   "source": []
  },
  {
   "cell_type": "markdown",
   "metadata": {},
   "source": [
    "### Linear Regression"
   ]
  },
  {
   "cell_type": "code",
   "execution_count": 21,
   "metadata": {},
   "outputs": [],
   "source": [
    "model02 = LinearRegression().fit(X_train, Y_train)"
   ]
  },
  {
   "cell_type": "code",
   "execution_count": 22,
   "metadata": {},
   "outputs": [],
   "source": [
    "y_pred02 = model02.predict(X_test)"
   ]
  },
  {
   "cell_type": "code",
   "execution_count": 23,
   "metadata": {},
   "outputs": [
    {
     "name": "stdout",
     "output_type": "stream",
     "text": [
      "MSE: 0.9895843165844799\n",
      "MAE: 0.7954320952504925\n",
      "RMSE: 0.9947785263989567\n"
     ]
    }
   ],
   "source": [
    "print('MSE:',mean_squared_error(Y_test, y_pred02))\n",
    "print('MAE:',mean_absolute_error(Y_test, y_pred02))\n",
    "print('RMSE:',np.sqrt(mean_squared_error(Y_test, y_pred02)))"
   ]
  },
  {
   "cell_type": "code",
   "execution_count": null,
   "metadata": {},
   "outputs": [],
   "source": []
  },
  {
   "cell_type": "code",
   "execution_count": null,
   "metadata": {},
   "outputs": [],
   "source": []
  }
 ],
 "metadata": {
  "kernelspec": {
   "display_name": "Python 3",
   "language": "python",
   "name": "python3"
  },
  "language_info": {
   "codemirror_mode": {
    "name": "ipython",
    "version": 3
   },
   "file_extension": ".py",
   "mimetype": "text/x-python",
   "name": "python",
   "nbconvert_exporter": "python",
   "pygments_lexer": "ipython3",
   "version": "3.8.3"
  }
 },
 "nbformat": 4,
 "nbformat_minor": 4
}
